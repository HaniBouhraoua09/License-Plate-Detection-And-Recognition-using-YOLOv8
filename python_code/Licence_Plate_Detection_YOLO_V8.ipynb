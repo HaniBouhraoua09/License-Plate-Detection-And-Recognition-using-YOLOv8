





<!DOCTYPE html>
<html
  lang="en"
  
  data-color-mode="auto" data-light-theme="light" data-dark-theme="dark"
  data-a11y-animated-images="system" data-a11y-link-underlines="true"
  >




  <head>
    <meta charset="utf-8">
  <link rel="dns-prefetch" href="https://github.githubassets.com">
  <link rel="dns-prefetch" href="https://avatars.githubusercontent.com">
  <link rel="dns-prefetch" href="https://github-cloud.s3.amazonaws.com">
  <link rel="dns-prefetch" href="https://user-images.githubusercontent.com/">
  <link rel="preconnect" href="https://github.githubassets.com" crossorigin>
  <link rel="preconnect" href="https://avatars.githubusercontent.com">

  


  <link crossorigin="anonymous" media="all" rel="stylesheet" href="https://github.githubassets.com/assets/light-f552bab6ce72.css" /><link crossorigin="anonymous" media="all" rel="stylesheet" href="https://github.githubassets.com/assets/dark-4589f64a2275.css" /><link data-color-theme="dark_dimmed" crossorigin="anonymous" media="all" rel="stylesheet" data-href="https://github.githubassets.com/assets/dark_dimmed-a7246d2d6733.css" /><link data-color-theme="dark_high_contrast" crossorigin="anonymous" media="all" rel="stylesheet" data-href="https://github.githubassets.com/assets/dark_high_contrast-f2ef05cef2f1.css" /><link data-color-theme="dark_colorblind" crossorigin="anonymous" media="all" rel="stylesheet" data-href="https://github.githubassets.com/assets/dark_colorblind-daa1fe317131.css" /><link data-color-theme="light_colorblind" crossorigin="anonymous" media="all" rel="stylesheet" data-href="https://github.githubassets.com/assets/light_colorblind-1ab6fcc64845.css" /><link data-color-theme="light_high_contrast" crossorigin="anonymous" media="all" rel="stylesheet" data-href="https://github.githubassets.com/assets/light_high_contrast-46de871e876c.css" /><link data-color-theme="light_tritanopia" crossorigin="anonymous" media="all" rel="stylesheet" data-href="https://github.githubassets.com/assets/light_tritanopia-c9754fef2a31.css" /><link data-color-theme="dark_tritanopia" crossorigin="anonymous" media="all" rel="stylesheet" data-href="https://github.githubassets.com/assets/dark_tritanopia-dba748981a29.css" />
    <link crossorigin="anonymous" media="all" rel="stylesheet" href="https://github.githubassets.com/assets/primer-primitives-4cbeaa0795ef.css" />
    <link crossorigin="anonymous" media="all" rel="stylesheet" href="https://github.githubassets.com/assets/primer-fa3434a1ba0a.css" />
    <link crossorigin="anonymous" media="all" rel="stylesheet" href="https://github.githubassets.com/assets/global-31defe89cafd.css" />
    <link crossorigin="anonymous" media="all" rel="stylesheet" href="https://github.githubassets.com/assets/github-151c896d0930.css" />
  <link crossorigin="anonymous" media="all" rel="stylesheet" href="https://github.githubassets.com/assets/repository-2e900f0ac288.css" />
<link crossorigin="anonymous" media="all" rel="stylesheet" href="https://github.githubassets.com/assets/code-33498bbbf39d.css" />

  


  <script type="application/json" id="client-env">{"locale":"en","featureFlags":["code_vulnerability_scanning","copilot_chat_static_thread_suggestions","copilot_chat_in_mobile_ga","copilot_conversational_ux_history_refs","copilot_followup_to_agent","copilot_smell_icebreaker_ux","copilot_implicit_context","copilot_stop_response","copilot_updated_function_buttons","failbot_handle_non_errors","geojson_azure_maps","image_metric_tracking","marketing_forms_api_integration_contact_request","marketing_pages_search_explore_provider","turbo_experiment_risky","sample_network_conn_type","no_character_key_shortcuts_in_inputs","react_start_transition_for_navigations","custom_inp","remove_child_patch","kb_source_repos"]}</script>
<script crossorigin="anonymous" defer="defer" type="application/javascript" src="https://github.githubassets.com/assets/wp-runtime-3b3986294e2a.js"></script>
<script crossorigin="anonymous" defer="defer" type="application/javascript" src="https://github.githubassets.com/assets/vendors-node_modules_dompurify_dist_purify_js-810e4b1b9abd.js"></script>
<script crossorigin="anonymous" defer="defer" type="application/javascript" src="https://github.githubassets.com/assets/vendors-node_modules_oddbird_popover-polyfill_dist_popover_js-4ac41d0a76fd.js"></script>
<script crossorigin="anonymous" defer="defer" type="application/javascript" src="https://github.githubassets.com/assets/vendors-node_modules_smoothscroll-polyfill_dist_smoothscroll_js-node_modules_stacktrace-parse-a448e4-f17a27f30529.js"></script>
<script crossorigin="anonymous" defer="defer" type="application/javascript" src="https://github.githubassets.com/assets/environment-2168885ea2b8.js"></script>
<script crossorigin="anonymous" defer="defer" type="application/javascript" src="https://github.githubassets.com/assets/vendors-node_modules_primer_behaviors_dist_esm_focus-zone_js-c7679f99a1f3.js"></script>
<script crossorigin="anonymous" defer="defer" type="application/javascript" src="https://github.githubassets.com/assets/vendors-node_modules_github_selector-observer_dist_index_esm_js-9f960d9b217c.js"></script>
<script crossorigin="anonymous" defer="defer" type="application/javascript" src="https://github.githubassets.com/assets/vendors-node_modules_github_relative-time-element_dist_index_js-c76945c5961a.js"></script>
<script crossorigin="anonymous" defer="defer" type="application/javascript" src="https://github.githubassets.com/assets/vendors-node_modules_github_combobox-nav_dist_index_js-node_modules_github_markdown-toolbar-e-820fc0-1176135e4d90.js"></script>
<script crossorigin="anonymous" defer="defer" type="application/javascript" src="https://github.githubassets.com/assets/vendors-node_modules_github_auto-complete-element_dist_index_js-node_modules_github_catalyst_-392fe4-1327b94f3269.js"></script>
<script crossorigin="anonymous" defer="defer" type="application/javascript" src="https://github.githubassets.com/assets/vendors-node_modules_github_text-expander-element_dist_index_js-b2135edb5ced.js"></script>
<script crossorigin="anonymous" defer="defer" type="application/javascript" src="https://github.githubassets.com/assets/vendors-node_modules_github_filter-input-element_dist_index_js-node_modules_github_remote-inp-b7d8f4-6e6f83bcc978.js"></script>
<script crossorigin="anonymous" defer="defer" type="application/javascript" src="https://github.githubassets.com/assets/vendors-node_modules_delegated-events_dist_index_js-node_modules_stacktrace-parser_dist_stack-8585c6-b62c48e55af5.js"></script>
<script crossorigin="anonymous" defer="defer" type="application/javascript" src="https://github.githubassets.com/assets/vendors-node_modules_github_file-attachment-element_dist_index_js-node_modules_primer_view-co-3959a9-8b35cf73f178.js"></script>
<script crossorigin="anonymous" defer="defer" type="application/javascript" src="https://github.githubassets.com/assets/app_assets_modules_github_onfocus_ts-ui_packages_trusted-types-policies_policy_ts-ui_packages-6fe316-ae5060590d17.js"></script>
<script crossorigin="anonymous" defer="defer" type="application/javascript" src="https://github.githubassets.com/assets/github-elements-524aae40a1ff.js"></script>
<script crossorigin="anonymous" defer="defer" type="application/javascript" src="https://github.githubassets.com/assets/element-registry-56143ee4a401.js"></script>
<script crossorigin="anonymous" defer="defer" type="application/javascript" src="https://github.githubassets.com/assets/vendors-node_modules_braintree_browser-detection_dist_browser-detection_js-node_modules_githu-fd5530-141bf1a3abfb.js"></script>
<script crossorigin="anonymous" defer="defer" type="application/javascript" src="https://github.githubassets.com/assets/vendors-node_modules_lit-html_lit-html_js-cc7cb714ead5.js"></script>
<script crossorigin="anonymous" defer="defer" type="application/javascript" src="https://github.githubassets.com/assets/vendors-node_modules_morphdom_dist_morphdom-esm_js-node_modules_github_memoize_dist_esm_index_js-8d7117d67c36.js"></script>
<script crossorigin="anonymous" defer="defer" type="application/javascript" src="https://github.githubassets.com/assets/vendors-node_modules_github_turbo_dist_turbo_es2017-esm_js-1cea0f5eff45.js"></script>
<script crossorigin="anonymous" defer="defer" type="application/javascript" src="https://github.githubassets.com/assets/vendors-node_modules_github_remote-form_dist_index_js-node_modules_delegated-events_dist_inde-893f9f-880ac2bbb719.js"></script>
<script crossorigin="anonymous" defer="defer" type="application/javascript" src="https://github.githubassets.com/assets/vendors-node_modules_scroll-anchoring_dist_scroll-anchoring_esm_js-node_modules_github_hotkey-1a1d91-1bb71f3f93c2.js"></script>
<script crossorigin="anonymous" defer="defer" type="application/javascript" src="https://github.githubassets.com/assets/vendors-node_modules_color-convert_index_js-94fdbf91204e.js"></script>
<script crossorigin="anonymous" defer="defer" type="application/javascript" src="https://github.githubassets.com/assets/vendors-node_modules_primer_behaviors_dist_esm_dimensions_js-node_modules_github_jtml_lib_index_js-b1947a1d4855.js"></script>
<script crossorigin="anonymous" defer="defer" type="application/javascript" src="https://github.githubassets.com/assets/vendors-node_modules_github_session-resume_dist_index_js-node_modules_primer_behaviors_dist_e-da6ec6-77ce2f267f4e.js"></script>
<script crossorigin="anonymous" defer="defer" type="application/javascript" src="https://github.githubassets.com/assets/vendors-node_modules_github_quote-selection_dist_index_js-node_modules_github_textarea-autosi-9e0349-704599a61056.js"></script>
<script crossorigin="anonymous" defer="defer" type="application/javascript" src="https://github.githubassets.com/assets/app_assets_modules_github_updatable-content_ts-4d91e80fb877.js"></script>
<script crossorigin="anonymous" defer="defer" type="application/javascript" src="https://github.githubassets.com/assets/app_assets_modules_github_behaviors_task-list_ts-app_assets_modules_github_onfocus_ts-app_ass-421cec-d3af2356fb47.js"></script>
<script crossorigin="anonymous" defer="defer" type="application/javascript" src="https://github.githubassets.com/assets/app_assets_modules_github_sticky-scroll-into-view_ts-3dc342dedcb0.js"></script>
<script crossorigin="anonymous" defer="defer" type="application/javascript" src="https://github.githubassets.com/assets/app_assets_modules_github_behaviors_ajax-error_ts-app_assets_modules_github_behaviors_include-467754-25aa4f5b0d26.js"></script>
<script crossorigin="anonymous" defer="defer" type="application/javascript" src="https://github.githubassets.com/assets/app_assets_modules_github_behaviors_commenting_edit_ts-app_assets_modules_github_behaviors_ht-83c235-5276a3faf037.js"></script>
<script crossorigin="anonymous" defer="defer" type="application/javascript" src="https://github.githubassets.com/assets/behaviors-b75fc2506ff4.js"></script>
<script crossorigin="anonymous" defer="defer" type="application/javascript" src="https://github.githubassets.com/assets/vendors-node_modules_delegated-events_dist_index_js-node_modules_github_catalyst_lib_index_js-06ff531-2ea61fcc9a71.js"></script>
<script crossorigin="anonymous" defer="defer" type="application/javascript" src="https://github.githubassets.com/assets/notifications-global-0409f6303340.js"></script>
<script crossorigin="anonymous" defer="defer" type="application/javascript" src="https://github.githubassets.com/assets/app_assets_modules_github_repositories_get-repo-element_ts-e21ae6671295.js"></script>
<script crossorigin="anonymous" defer="defer" type="application/javascript" src="https://github.githubassets.com/assets/code-menu-67595c3a6d0c.js"></script>
  
  <script crossorigin="anonymous" defer="defer" type="application/javascript" src="https://github.githubassets.com/assets/react-lib-dc88c1a68b28.js"></script>
<script crossorigin="anonymous" defer="defer" type="application/javascript" src="https://github.githubassets.com/assets/vendors-node_modules_primer_octicons-react_dist_index_esm_js-node_modules_primer_react_lib-es-541a38-c63b7a3484dd.js"></script>
<script crossorigin="anonymous" defer="defer" type="application/javascript" src="https://github.githubassets.com/assets/vendors-node_modules_primer_react_lib-esm_Box_Box_js-8f8c5e2a2cbf.js"></script>
<script crossorigin="anonymous" defer="defer" type="application/javascript" src="https://github.githubassets.com/assets/vendors-node_modules_primer_react_lib-esm_FeatureFlags_FeatureFlags_js-node_modules_github_ca-9009bd-47065f21e9ac.js"></script>
<script crossorigin="anonymous" defer="defer" type="application/javascript" src="https://github.githubassets.com/assets/vendors-node_modules_primer_react_lib-esm_Button_Button_js-97ed51d4f278.js"></script>
<script crossorigin="anonymous" defer="defer" type="application/javascript" src="https://github.githubassets.com/assets/vendors-node_modules_primer_react_lib-esm_TooltipV2_Tooltip_js-334106258bdb.js"></script>
<script crossorigin="anonymous" defer="defer" type="application/javascript" src="https://github.githubassets.com/assets/vendors-node_modules_primer_react_node_modules_primer_octicons-react_dist_index_esm_mjs-dc98a76c65d6.js"></script>
<script crossorigin="anonymous" defer="defer" type="application/javascript" src="https://github.githubassets.com/assets/vendors-node_modules_primer_react_lib-esm_ActionList_index_js-9e50e37cd494.js"></script>
<script crossorigin="anonymous" defer="defer" type="application/javascript" src="https://github.githubassets.com/assets/vendors-node_modules_primer_react_lib-esm_TextInput_TextInput_js-15046fb40abc.js"></script>
<script crossorigin="anonymous" defer="defer" type="application/javascript" src="https://github.githubassets.com/assets/vendors-node_modules_primer_react_lib-esm_AnchoredOverlay_AnchoredOverlay_js-4c761b535add.js"></script>
<script crossorigin="anonymous" defer="defer" type="application/javascript" src="https://github.githubassets.com/assets/vendors-node_modules_primer_react_lib-esm_FormControl_FormControl_js-a8d16e422c06.js"></script>
<script crossorigin="anonymous" defer="defer" type="application/javascript" src="https://github.githubassets.com/assets/vendors-node_modules_primer_react_lib-esm_ActionMenu_ActionMenu_js-3936ca1bc46c.js"></script>
<script crossorigin="anonymous" defer="defer" type="application/javascript" src="https://github.githubassets.com/assets/vendors-node_modules_react-router-dom_dist_index_js-2b1dbeadb6d4.js"></script>
<script crossorigin="anonymous" defer="defer" type="application/javascript" src="https://github.githubassets.com/assets/vendors-node_modules_primer_react_lib-esm_Heading_Heading_js-node_modules_primer_react_lib-es-23722c-943439eaf532.js"></script>
<script crossorigin="anonymous" defer="defer" type="application/javascript" src="https://github.githubassets.com/assets/vendors-node_modules_primer_react_lib-esm_ConfirmationDialog_ConfirmationDialog_js-089af6806f0e.js"></script>
<script crossorigin="anonymous" defer="defer" type="application/javascript" src="https://github.githubassets.com/assets/vendors-node_modules_primer_react_lib-esm_PageLayout_PageLayout_js-node_modules_github_hydro--f8521d-0253212e1803.js"></script>
<script crossorigin="anonymous" defer="defer" type="application/javascript" src="https://github.githubassets.com/assets/vendors-node_modules_primer_react_lib-esm_AvatarStack_AvatarStack_js-node_modules_primer_reac-6dc608-960f8b6d9f42.js"></script>
<script crossorigin="anonymous" defer="defer" type="application/javascript" src="https://github.githubassets.com/assets/vendors-node_modules_primer_react_lib-esm_Avatar_Avatar_js-node_modules_primer_react_lib-esm_-7f6456-8e9c4a2e858f.js"></script>
<script crossorigin="anonymous" defer="defer" type="application/javascript" src="https://github.githubassets.com/assets/ui_packages_react-core_create-browser-history_ts-ui_packages_safe-storage_safe-storage_ts-ui_-682c2c-44ed51a2083d.js"></script>
<script crossorigin="anonymous" defer="defer" type="application/javascript" src="https://github.githubassets.com/assets/ui_packages_react-core_register-app_ts-cdec9cf45205.js"></script>
<script crossorigin="anonymous" defer="defer" type="application/javascript" src="https://github.githubassets.com/assets/ui_packages_paths_index_ts-84b61a7b1079.js"></script>
<script crossorigin="anonymous" defer="defer" type="application/javascript" src="https://github.githubassets.com/assets/ui_packages_ref-selector_RefSelector_tsx-e5f899e1c55d.js"></script>
<script crossorigin="anonymous" defer="defer" type="application/javascript" src="https://github.githubassets.com/assets/ui_packages_commit-attribution_index_ts-ui_packages_commit-checks-status_index_ts-ui_packages-59a8e3-7facab980ffb.js"></script>
<script crossorigin="anonymous" defer="defer" type="application/javascript" src="https://github.githubassets.com/assets/app_assets_modules_react-shared_hooks_use-canonical-object_ts-ui_packages_code-view-shared_ho-e725dc-935487bb4506.js"></script>
<script crossorigin="anonymous" defer="defer" type="application/javascript" src="https://github.githubassets.com/assets/node_modules_github_mini-throttle_dist_index_js-app_assets_modules_github_blob-anchor_ts-app_-55c012-0a425c5f01b6.js"></script>
<script crossorigin="anonymous" defer="defer" type="application/javascript" src="https://github.githubassets.com/assets/react-code-view-ee602ae15e38.js"></script>
<link crossorigin="anonymous" media="all" rel="stylesheet" href="https://github.githubassets.com/assets/react-code-view.f2d60f636eb02c2001df.module.css" />


  <title>Licence-Plate-Detection-using-YOLO-V8/Licence_Plate_Detection_YOLO_V8.ipynb at main · Arijit1080/Licence-Plate-Detection-using-YOLO-V8 · GitHub</title>



  <meta name="route-pattern" content="/:user_id/:repository/blob/*name(/*path)" data-turbo-transient>
  <meta name="route-controller" content="blob" data-turbo-transient>
  <meta name="route-action" content="show" data-turbo-transient>

    
  <meta name="current-catalog-service-hash" content="82c569b93da5c18ed649ebd4c2c79437db4611a6a1373e805a3cb001c64130b7">


  <meta name="request-id" content="FBA6:8073B:509BA3B:51C7701:6655D968" data-pjax-transient="true"/><meta name="html-safe-nonce" content="e0bfb6ae6bc58bd9a3ba20434531996bf3bafbc9424405036a1d3626d8521d0f" data-pjax-transient="true"/><meta name="visitor-payload" content="eyJyZWZlcnJlciI6Imh0dHBzOi8vZ2l0aHViLmNvbS9BcmlqaXQxMDgwL0xpY2VuY2UtUGxhdGUtRGV0ZWN0aW9uLXVzaW5nLVlPTE8tVjgiLCJyZXF1ZXN0X2lkIjoiRkJBNjo4MDczQjo1MDlCQTNCOjUxQzc3MDE6NjY1NUQ5NjgiLCJ2aXNpdG9yX2lkIjoiODY2MjUwMzIxMTU1MTk0OTAyMSIsInJlZ2lvbl9lZGdlIjoiZnJhIiwicmVnaW9uX3JlbmRlciI6ImZyYSJ9" data-pjax-transient="true"/><meta name="visitor-hmac" content="83d7785cdec084934dcbef98905303646ed0d37b8285b20daaea388f4961a93e" data-pjax-transient="true"/>


    <meta name="hovercard-subject-tag" content="repository:686261721" data-turbo-transient>


  <meta name="github-keyboard-shortcuts" content="repository,source-code,file-tree,copilot" data-turbo-transient="true" />
  

  <meta name="selected-link" value="repo_source" data-turbo-transient>
  <link rel="assets" href="https://github.githubassets.com/">

    <meta name="google-site-verification" content="Apib7-x98H0j5cPqHWwSMm6dNU4GmODRoqxLiDzdx9I">

<meta name="octolytics-url" content="https://collector.github.com/github/collect" />

  <meta name="analytics-location" content="/&lt;user-name&gt;/&lt;repo-name&gt;/blob/show" data-turbo-transient="true" />

  




    <meta name="user-login" content="">

  

    <meta name="viewport" content="width=device-width">

    

      <meta name="description" content="This repository provides a comprehensive toolkit for training a License Plate Detection model using YOLOv8 - Licence-Plate-Detection-using-YOLO-V8/Licence_Plate_Detection_YOLO_V8.ipynb at main · Arijit1080/Licence-Plate-Detection-using-YOLO-V8">

      <link rel="search" type="application/opensearchdescription+xml" href="/opensearch.xml" title="GitHub">

    <link rel="fluid-icon" href="https://github.com/fluidicon.png" title="GitHub">
    <meta property="fb:app_id" content="1401488693436528">
    <meta name="apple-itunes-app" content="app-id=1477376905, app-argument=https://github.com/Arijit1080/Licence-Plate-Detection-using-YOLO-V8/blob/main/Licence_Plate_Detection_YOLO_V8.ipynb" />

      <meta name="twitter:image:src" content="https://opengraph.githubassets.com/8b804002ba80df6dfe1a6f0371edde5d55c847189db3938be8abce55684e180d/Arijit1080/Licence-Plate-Detection-using-YOLO-V8" /><meta name="twitter:site" content="@github" /><meta name="twitter:card" content="summary_large_image" /><meta name="twitter:title" content="Licence-Plate-Detection-using-YOLO-V8/Licence_Plate_Detection_YOLO_V8.ipynb at main · Arijit1080/Licence-Plate-Detection-using-YOLO-V8" /><meta name="twitter:description" content="This repository provides a comprehensive toolkit for training a License Plate Detection model using YOLOv8 - Arijit1080/Licence-Plate-Detection-using-YOLO-V8" />
  <meta property="og:image" content="https://opengraph.githubassets.com/8b804002ba80df6dfe1a6f0371edde5d55c847189db3938be8abce55684e180d/Arijit1080/Licence-Plate-Detection-using-YOLO-V8" /><meta property="og:image:alt" content="This repository provides a comprehensive toolkit for training a License Plate Detection model using YOLOv8 - Arijit1080/Licence-Plate-Detection-using-YOLO-V8" /><meta property="og:image:width" content="1200" /><meta property="og:image:height" content="600" /><meta property="og:site_name" content="GitHub" /><meta property="og:type" content="object" /><meta property="og:title" content="Licence-Plate-Detection-using-YOLO-V8/Licence_Plate_Detection_YOLO_V8.ipynb at main · Arijit1080/Licence-Plate-Detection-using-YOLO-V8" /><meta property="og:url" content="https://github.com/Arijit1080/Licence-Plate-Detection-using-YOLO-V8/blob/main/Licence_Plate_Detection_YOLO_V8.ipynb" /><meta property="og:description" content="This repository provides a comprehensive toolkit for training a License Plate Detection model using YOLOv8 - Arijit1080/Licence-Plate-Detection-using-YOLO-V8" />
  




      <meta name="hostname" content="github.com">



        <meta name="expected-hostname" content="github.com">


  <meta http-equiv="x-pjax-version" content="f077450301c5d4628ab40b8540f25e4fcd179809459615ee088f8134722bad59" data-turbo-track="reload">
  <meta http-equiv="x-pjax-csp-version" content="38c639a245e1dd04786881fae1060fbd72d3ed419b2f0d38d6082dc9d67876c3" data-turbo-track="reload">
  <meta http-equiv="x-pjax-css-version" content="8297669360f26c55eaf368df3078812f654eff1244bb59f8c32594aa15b30b3d" data-turbo-track="reload">
  <meta http-equiv="x-pjax-js-version" content="e1d33a3d305363bded2ae017e2aadd06443679fefb7d7b92094fb9cb4baac76e" data-turbo-track="reload">

  <meta name="turbo-cache-control" content="no-preview" data-turbo-transient="">

      <meta name="turbo-cache-control" content="no-cache" data-turbo-transient>
    <meta data-hydrostats="publish">
  <meta name="go-import" content="github.com/Arijit1080/Licence-Plate-Detection-using-YOLO-V8 git https://github.com/Arijit1080/Licence-Plate-Detection-using-YOLO-V8.git">

  <meta name="octolytics-dimension-user_id" content="15311477" /><meta name="octolytics-dimension-user_login" content="Arijit1080" /><meta name="octolytics-dimension-repository_id" content="686261721" /><meta name="octolytics-dimension-repository_nwo" content="Arijit1080/Licence-Plate-Detection-using-YOLO-V8" /><meta name="octolytics-dimension-repository_public" content="true" /><meta name="octolytics-dimension-repository_is_fork" content="false" /><meta name="octolytics-dimension-repository_network_root_id" content="686261721" /><meta name="octolytics-dimension-repository_network_root_nwo" content="Arijit1080/Licence-Plate-Detection-using-YOLO-V8" />



    

    <meta name="turbo-body-classes" content="logged-out env-production page-responsive">


  <meta name="browser-stats-url" content="https://api.github.com/_private/browser/stats">

  <meta name="browser-errors-url" content="https://api.github.com/_private/browser/errors">

  <link rel="mask-icon" href="https://github.githubassets.com/assets/pinned-octocat-093da3e6fa40.svg" color="#000000">
  <link rel="alternate icon" class="js-site-favicon" type="image/png" href="https://github.githubassets.com/favicons/favicon.png">
  <link rel="icon" class="js-site-favicon" type="image/svg+xml" href="https://github.githubassets.com/favicons/favicon.svg">

<meta name="theme-color" content="#1e2327">
<meta name="color-scheme" content="light dark" />


  <link rel="manifest" href="/manifest.json" crossOrigin="use-credentials">

  </head>

  <body class="logged-out env-production page-responsive" style="word-wrap: break-word;">
    <div data-turbo-body class="logged-out env-production page-responsive" style="word-wrap: break-word;">
      


    <div class="position-relative js-header-wrapper ">
      <a href="#start-of-content" data-skip-target-assigned="false" class="px-2 py-4 color-bg-accent-emphasis color-fg-on-emphasis show-on-focus js-skip-to-content">Skip to content</a>

      <span data-view-component="true" class="progress-pjax-loader Progress position-fixed width-full">
    <span style="width: 0%;" data-view-component="true" class="Progress-item progress-pjax-loader-bar left-0 top-0 color-bg-accent-emphasis"></span>
</span>      
      
      







<script crossorigin="anonymous" defer="defer" type="application/javascript" src="https://github.githubassets.com/assets/vendors-node_modules_primer_react_lib-esm_Button_IconButton_js-node_modules_primer_react_lib--1cd808-6070bc6b2c67.js"></script>

<script crossorigin="anonymous" defer="defer" type="application/javascript" src="https://github.githubassets.com/assets/keyboard-shortcuts-dialog-52a107eb77ae.js"></script>

<react-partial
  partial-name="keyboard-shortcuts-dialog"
  data-ssr="false"
>
  
  <script type="application/json" data-target="react-partial.embeddedData">{"props":{"docsUrl":"https://docs.github.com/get-started/accessibility/keyboard-shortcuts"}}</script>
  <div data-target="react-partial.reactRoot"></div>
</react-partial>




      

        

            
<script crossorigin="anonymous" defer="defer" type="application/javascript" src="https://github.githubassets.com/assets/vendors-node_modules_github_remote-form_dist_index_js-node_modules_delegated-events_dist_inde-94fd67-8743f7dc256e.js"></script>
<script crossorigin="anonymous" defer="defer" type="application/javascript" src="https://github.githubassets.com/assets/sessions-458fee042571.js"></script>
<header class="Header-old header-logged-out js-details-container Details position-relative f4 py-3" role="banner" data-color-mode=light data-light-theme=light data-dark-theme=dark>
  <h2 class="sr-only">Navigation Menu</h2>

  <button type="button" class="Header-backdrop d-lg-none border-0 position-fixed top-0 left-0 width-full height-full js-details-target" aria-label="Toggle navigation">
    <span class="d-none">Toggle navigation</span>
  </button>

  <div class=" d-flex flex-column flex-lg-row flex-items-center p-responsive height-full position-relative z-1">
    <div class="d-flex flex-justify-between flex-items-center width-full width-lg-auto">
      <a class="mr-lg-3 color-fg-inherit flex-order-2" href="https://github.com/" aria-label="Homepage" data-ga-click="(Logged out) Header, go to homepage, icon:logo-wordmark">
        <svg height="32" aria-hidden="true" viewBox="0 0 16 16" version="1.1" width="32" data-view-component="true" class="octicon octicon-mark-github">
    <path d="M8 0c4.42 0 8 3.58 8 8a8.013 8.013 0 0 1-5.45 7.59c-.4.08-.55-.17-.55-.38 0-.27.01-1.13.01-2.2 0-.75-.25-1.23-.54-1.48 1.78-.2 3.65-.88 3.65-3.95 0-.88-.31-1.59-.82-2.15.08-.2.36-1.02-.08-2.12 0 0-.67-.22-2.2.82-.64-.18-1.32-.27-2-.27-.68 0-1.36.09-2 .27-1.53-1.03-2.2-.82-2.2-.82-.44 1.1-.16 1.92-.08 2.12-.51.56-.82 1.28-.82 2.15 0 3.06 1.86 3.75 3.64 3.95-.23.2-.44.55-.51 1.07-.46.21-1.61.55-2.33-.66-.15-.24-.6-.83-1.23-.82-.67.01-.27.38.01.53.34.19.73.9.82 1.13.16.45.68 1.31 2.69.94 0 .67.01 1.3.01 1.49 0 .21-.15.45-.55.38A7.995 7.995 0 0 1 0 8c0-4.42 3.58-8 8-8Z"></path>
</svg>
      </a>

      <div class="flex-1">
        <a href="/login?return_to=https%3A%2F%2Fgithub.com%2FArijit1080%2FLicence-Plate-Detection-using-YOLO-V8%2Fblob%2Fmain%2FLicence_Plate_Detection_YOLO_V8.ipynb"
          class="d-inline-block d-lg-none flex-order-1 f5 no-underline border color-border-default rounded-2 px-2 py-1 color-fg-inherit"
          data-hydro-click="{&quot;event_type&quot;:&quot;authentication.click&quot;,&quot;payload&quot;:{&quot;location_in_page&quot;:&quot;site header menu&quot;,&quot;repository_id&quot;:null,&quot;auth_type&quot;:&quot;SIGN_UP&quot;,&quot;originating_url&quot;:&quot;https://github.com/Arijit1080/Licence-Plate-Detection-using-YOLO-V8/blob/main/Licence_Plate_Detection_YOLO_V8.ipynb&quot;,&quot;user_id&quot;:null}}" data-hydro-click-hmac="37d05d167d268ff2b5c111fc5c92d356ea0d63d819ba17b97225aa6c0a84fdd9"
          data-ga-click="(Logged out) Header, clicked Sign in, text:sign-in">
          Sign in
        </a>
      </div>

      <div class="flex-1 flex-order-2 text-right">
        <button aria-label="Toggle navigation" aria-expanded="false" type="button" data-view-component="true" class="js-details-target Button--link Button--medium Button d-lg-none color-fg-inherit p-1">  <span class="Button-content">
    <span class="Button-label"><div class="HeaderMenu-toggle-bar rounded my-1"></div>
            <div class="HeaderMenu-toggle-bar rounded my-1"></div>
            <div class="HeaderMenu-toggle-bar rounded my-1"></div></span>
  </span>
</button>
      </div>
    </div>


    <div class="HeaderMenu--logged-out p-responsive height-fit position-lg-relative d-lg-flex flex-column flex-auto pt-7 pb-4 top-0">
      <div class="header-menu-wrapper d-flex flex-column flex-self-end flex-lg-row flex-justify-between flex-auto p-3 p-lg-0 rounded rounded-lg-0 mt-3 mt-lg-0">
          <nav class="mt-0 px-3 px-lg-0 mb-3 mb-lg-0" aria-label="Global">
            <ul class="d-lg-flex list-style-none">
                <li class="HeaderMenu-item position-relative flex-wrap flex-justify-between flex-items-center d-block d-lg-flex flex-lg-nowrap flex-lg-items-center js-details-container js-header-menu-item">
      <button type="button" class="HeaderMenu-link border-0 width-full width-lg-auto px-0 px-lg-2 py-3 py-lg-2 no-wrap d-flex flex-items-center flex-justify-between js-details-target" aria-expanded="false">
        Product
        <svg opacity="0.5" aria-hidden="true" height="16" viewBox="0 0 16 16" version="1.1" width="16" data-view-component="true" class="octicon octicon-chevron-down HeaderMenu-icon ml-1">
    <path d="M12.78 5.22a.749.749 0 0 1 0 1.06l-4.25 4.25a.749.749 0 0 1-1.06 0L3.22 6.28a.749.749 0 1 1 1.06-1.06L8 8.939l3.72-3.719a.749.749 0 0 1 1.06 0Z"></path>
</svg>
      </button>
      <div class="HeaderMenu-dropdown dropdown-menu rounded m-0 p-0 py-2 py-lg-4 position-relative position-lg-absolute left-0 left-lg-n3 d-lg-flex dropdown-menu-wide">
          <div class="px-lg-4 border-lg-right mb-4 mb-lg-0 pr-lg-7">
            <ul class="list-style-none f5" >
                <li>
  <a class="HeaderMenu-dropdown-link lh-condensed d-block no-underline position-relative py-2 Link--secondary d-flex flex-items-center pb-lg-3" data-analytics-event="{&quot;category&quot;:&quot;Header dropdown (logged out), Product&quot;,&quot;action&quot;:&quot;click to go to Actions&quot;,&quot;label&quot;:&quot;ref_cta:Actions;&quot;}" href="https://github.com/features/actions">
      <svg aria-hidden="true" height="24" viewBox="0 0 24 24" version="1.1" width="24" data-view-component="true" class="octicon octicon-workflow color-fg-subtle mr-3">
    <path d="M1 3a2 2 0 0 1 2-2h6.5a2 2 0 0 1 2 2v6.5a2 2 0 0 1-2 2H7v4.063C7 16.355 7.644 17 8.438 17H12.5v-2.5a2 2 0 0 1 2-2H21a2 2 0 0 1 2 2V21a2 2 0 0 1-2 2h-6.5a2 2 0 0 1-2-2v-2.5H8.437A2.939 2.939 0 0 1 5.5 15.562V11.5H3a2 2 0 0 1-2-2Zm2-.5a.5.5 0 0 0-.5.5v6.5a.5.5 0 0 0 .5.5h6.5a.5.5 0 0 0 .5-.5V3a.5.5 0 0 0-.5-.5ZM14.5 14a.5.5 0 0 0-.5.5V21a.5.5 0 0 0 .5.5H21a.5.5 0 0 0 .5-.5v-6.5a.5.5 0 0 0-.5-.5Z"></path>
</svg>
      <div>
        <div class="color-fg-default h4">Actions</div>
        Automate any workflow
      </div>

    
</a></li>

                <li>
  <a class="HeaderMenu-dropdown-link lh-condensed d-block no-underline position-relative py-2 Link--secondary d-flex flex-items-center pb-lg-3" data-analytics-event="{&quot;category&quot;:&quot;Header dropdown (logged out), Product&quot;,&quot;action&quot;:&quot;click to go to Packages&quot;,&quot;label&quot;:&quot;ref_cta:Packages;&quot;}" href="https://github.com/features/packages">
      <svg aria-hidden="true" height="24" viewBox="0 0 24 24" version="1.1" width="24" data-view-component="true" class="octicon octicon-package color-fg-subtle mr-3">
    <path d="M12.876.64V.639l8.25 4.763c.541.313.875.89.875 1.515v9.525a1.75 1.75 0 0 1-.875 1.516l-8.25 4.762a1.748 1.748 0 0 1-1.75 0l-8.25-4.763a1.75 1.75 0 0 1-.875-1.515V6.917c0-.625.334-1.202.875-1.515L11.126.64a1.748 1.748 0 0 1 1.75 0Zm-1 1.298L4.251 6.34l7.75 4.474 7.75-4.474-7.625-4.402a.248.248 0 0 0-.25 0Zm.875 19.123 7.625-4.402a.25.25 0 0 0 .125-.216V7.639l-7.75 4.474ZM3.501 7.64v8.803c0 .09.048.172.125.216l7.625 4.402v-8.947Z"></path>
</svg>
      <div>
        <div class="color-fg-default h4">Packages</div>
        Host and manage packages
      </div>

    
</a></li>

                <li>
  <a class="HeaderMenu-dropdown-link lh-condensed d-block no-underline position-relative py-2 Link--secondary d-flex flex-items-center pb-lg-3" data-analytics-event="{&quot;category&quot;:&quot;Header dropdown (logged out), Product&quot;,&quot;action&quot;:&quot;click to go to Security&quot;,&quot;label&quot;:&quot;ref_cta:Security;&quot;}" href="https://github.com/features/security">
      <svg aria-hidden="true" height="24" viewBox="0 0 24 24" version="1.1" width="24" data-view-component="true" class="octicon octicon-shield-check color-fg-subtle mr-3">
    <path d="M16.53 9.78a.75.75 0 0 0-1.06-1.06L11 13.19l-1.97-1.97a.75.75 0 0 0-1.06 1.06l2.5 2.5a.75.75 0 0 0 1.06 0l5-5Z"></path><path d="m12.54.637 8.25 2.675A1.75 1.75 0 0 1 22 4.976V10c0 6.19-3.771 10.704-9.401 12.83a1.704 1.704 0 0 1-1.198 0C5.77 20.705 2 16.19 2 10V4.976c0-.758.489-1.43 1.21-1.664L11.46.637a1.748 1.748 0 0 1 1.08 0Zm-.617 1.426-8.25 2.676a.249.249 0 0 0-.173.237V10c0 5.46 3.28 9.483 8.43 11.426a.199.199 0 0 0 .14 0C17.22 19.483 20.5 15.461 20.5 10V4.976a.25.25 0 0 0-.173-.237l-8.25-2.676a.253.253 0 0 0-.154 0Z"></path>
</svg>
      <div>
        <div class="color-fg-default h4">Security</div>
        Find and fix vulnerabilities
      </div>

    
</a></li>

                <li>
  <a class="HeaderMenu-dropdown-link lh-condensed d-block no-underline position-relative py-2 Link--secondary d-flex flex-items-center pb-lg-3" data-analytics-event="{&quot;category&quot;:&quot;Header dropdown (logged out), Product&quot;,&quot;action&quot;:&quot;click to go to Codespaces&quot;,&quot;label&quot;:&quot;ref_cta:Codespaces;&quot;}" href="https://github.com/features/codespaces">
      <svg aria-hidden="true" height="24" viewBox="0 0 24 24" version="1.1" width="24" data-view-component="true" class="octicon octicon-codespaces color-fg-subtle mr-3">
    <path d="M3.5 3.75C3.5 2.784 4.284 2 5.25 2h13.5c.966 0 1.75.784 1.75 1.75v7.5A1.75 1.75 0 0 1 18.75 13H5.25a1.75 1.75 0 0 1-1.75-1.75Zm-2 12c0-.966.784-1.75 1.75-1.75h17.5c.966 0 1.75.784 1.75 1.75v4a1.75 1.75 0 0 1-1.75 1.75H3.25a1.75 1.75 0 0 1-1.75-1.75ZM5.25 3.5a.25.25 0 0 0-.25.25v7.5c0 .138.112.25.25.25h13.5a.25.25 0 0 0 .25-.25v-7.5a.25.25 0 0 0-.25-.25Zm-2 12a.25.25 0 0 0-.25.25v4c0 .138.112.25.25.25h17.5a.25.25 0 0 0 .25-.25v-4a.25.25 0 0 0-.25-.25Z"></path><path d="M10 17.75a.75.75 0 0 1 .75-.75h6.5a.75.75 0 0 1 0 1.5h-6.5a.75.75 0 0 1-.75-.75Zm-4 0a.75.75 0 0 1 .75-.75h.5a.75.75 0 0 1 0 1.5h-.5a.75.75 0 0 1-.75-.75Z"></path>
</svg>
      <div>
        <div class="color-fg-default h4">Codespaces</div>
        Instant dev environments
      </div>

    
</a></li>

                <li>
  <a class="HeaderMenu-dropdown-link lh-condensed d-block no-underline position-relative py-2 Link--secondary d-flex flex-items-center pb-lg-3" data-analytics-event="{&quot;category&quot;:&quot;Header dropdown (logged out), Product&quot;,&quot;action&quot;:&quot;click to go to Copilot&quot;,&quot;label&quot;:&quot;ref_cta:Copilot;&quot;}" href="https://github.com/features/copilot">
      <svg aria-hidden="true" height="24" viewBox="0 0 24 24" version="1.1" width="24" data-view-component="true" class="octicon octicon-copilot color-fg-subtle mr-3">
    <path d="M23.922 16.992c-.861 1.495-5.859 5.023-11.922 5.023-6.063 0-11.061-3.528-11.922-5.023A.641.641 0 0 1 0 16.736v-2.869a.841.841 0 0 1 .053-.22c.372-.935 1.347-2.292 2.605-2.656.167-.429.414-1.055.644-1.517a10.195 10.195 0 0 1-.052-1.086c0-1.331.282-2.499 1.132-3.368.397-.406.89-.717 1.474-.952 1.399-1.136 3.392-2.093 6.122-2.093 2.731 0 4.767.957 6.166 2.093.584.235 1.077.546 1.474.952.85.869 1.132 2.037 1.132 3.368 0 .368-.014.733-.052 1.086.23.462.477 1.088.644 1.517 1.258.364 2.233 1.721 2.605 2.656a.832.832 0 0 1 .053.22v2.869a.641.641 0 0 1-.078.256ZM12.172 11h-.344a4.323 4.323 0 0 1-.355.508C10.703 12.455 9.555 13 7.965 13c-1.725 0-2.989-.359-3.782-1.259a2.005 2.005 0 0 1-.085-.104L4 11.741v6.585c1.435.779 4.514 2.179 8 2.179 3.486 0 6.565-1.4 8-2.179v-6.585l-.098-.104s-.033.045-.085.104c-.793.9-2.057 1.259-3.782 1.259-1.59 0-2.738-.545-3.508-1.492a4.323 4.323 0 0 1-.355-.508h-.016.016Zm.641-2.935c.136 1.057.403 1.913.878 2.497.442.544 1.134.938 2.344.938 1.573 0 2.292-.337 2.657-.751.384-.435.558-1.15.558-2.361 0-1.14-.243-1.847-.705-2.319-.477-.488-1.319-.862-2.824-1.025-1.487-.161-2.192.138-2.533.529-.269.307-.437.808-.438 1.578v.021c0 .265.021.562.063.893Zm-1.626 0c.042-.331.063-.628.063-.894v-.02c-.001-.77-.169-1.271-.438-1.578-.341-.391-1.046-.69-2.533-.529-1.505.163-2.347.537-2.824 1.025-.462.472-.705 1.179-.705 2.319 0 1.211.175 1.926.558 2.361.365.414 1.084.751 2.657.751 1.21 0 1.902-.394 2.344-.938.475-.584.742-1.44.878-2.497Z"></path><path d="M14.5 14.25a1 1 0 0 1 1 1v2a1 1 0 0 1-2 0v-2a1 1 0 0 1 1-1Zm-5 0a1 1 0 0 1 1 1v2a1 1 0 0 1-2 0v-2a1 1 0 0 1 1-1Z"></path>
</svg>
      <div>
        <div class="color-fg-default h4">Copilot</div>
        Write better code with AI
      </div>

    
</a></li>

                <li>
  <a class="HeaderMenu-dropdown-link lh-condensed d-block no-underline position-relative py-2 Link--secondary d-flex flex-items-center pb-lg-3" data-analytics-event="{&quot;category&quot;:&quot;Header dropdown (logged out), Product&quot;,&quot;action&quot;:&quot;click to go to Code review&quot;,&quot;label&quot;:&quot;ref_cta:Code review;&quot;}" href="https://github.com/features/code-review">
      <svg aria-hidden="true" height="24" viewBox="0 0 24 24" version="1.1" width="24" data-view-component="true" class="octicon octicon-code-review color-fg-subtle mr-3">
    <path d="M10.3 6.74a.75.75 0 0 1-.04 1.06l-2.908 2.7 2.908 2.7a.75.75 0 1 1-1.02 1.1l-3.5-3.25a.75.75 0 0 1 0-1.1l3.5-3.25a.75.75 0 0 1 1.06.04Zm3.44 1.06a.75.75 0 1 1 1.02-1.1l3.5 3.25a.75.75 0 0 1 0 1.1l-3.5 3.25a.75.75 0 1 1-1.02-1.1l2.908-2.7-2.908-2.7Z"></path><path d="M1.5 4.25c0-.966.784-1.75 1.75-1.75h17.5c.966 0 1.75.784 1.75 1.75v12.5a1.75 1.75 0 0 1-1.75 1.75h-9.69l-3.573 3.573A1.458 1.458 0 0 1 5 21.043V18.5H3.25a1.75 1.75 0 0 1-1.75-1.75ZM3.25 4a.25.25 0 0 0-.25.25v12.5c0 .138.112.25.25.25h2.5a.75.75 0 0 1 .75.75v3.19l3.72-3.72a.749.749 0 0 1 .53-.22h10a.25.25 0 0 0 .25-.25V4.25a.25.25 0 0 0-.25-.25Z"></path>
</svg>
      <div>
        <div class="color-fg-default h4">Code review</div>
        Manage code changes
      </div>

    
</a></li>

                <li>
  <a class="HeaderMenu-dropdown-link lh-condensed d-block no-underline position-relative py-2 Link--secondary d-flex flex-items-center pb-lg-3" data-analytics-event="{&quot;category&quot;:&quot;Header dropdown (logged out), Product&quot;,&quot;action&quot;:&quot;click to go to Issues&quot;,&quot;label&quot;:&quot;ref_cta:Issues;&quot;}" href="https://github.com/features/issues">
      <svg aria-hidden="true" height="24" viewBox="0 0 24 24" version="1.1" width="24" data-view-component="true" class="octicon octicon-issue-opened color-fg-subtle mr-3">
    <path d="M12 1c6.075 0 11 4.925 11 11s-4.925 11-11 11S1 18.075 1 12 5.925 1 12 1ZM2.5 12a9.5 9.5 0 0 0 9.5 9.5 9.5 9.5 0 0 0 9.5-9.5A9.5 9.5 0 0 0 12 2.5 9.5 9.5 0 0 0 2.5 12Zm9.5 2a2 2 0 1 1-.001-3.999A2 2 0 0 1 12 14Z"></path>
</svg>
      <div>
        <div class="color-fg-default h4">Issues</div>
        Plan and track work
      </div>

    
</a></li>

                <li>
  <a class="HeaderMenu-dropdown-link lh-condensed d-block no-underline position-relative py-2 Link--secondary d-flex flex-items-center" data-analytics-event="{&quot;category&quot;:&quot;Header dropdown (logged out), Product&quot;,&quot;action&quot;:&quot;click to go to Discussions&quot;,&quot;label&quot;:&quot;ref_cta:Discussions;&quot;}" href="https://github.com/features/discussions">
      <svg aria-hidden="true" height="24" viewBox="0 0 24 24" version="1.1" width="24" data-view-component="true" class="octicon octicon-comment-discussion color-fg-subtle mr-3">
    <path d="M1.75 1h12.5c.966 0 1.75.784 1.75 1.75v9.5A1.75 1.75 0 0 1 14.25 14H8.061l-2.574 2.573A1.458 1.458 0 0 1 3 15.543V14H1.75A1.75 1.75 0 0 1 0 12.25v-9.5C0 1.784.784 1 1.75 1ZM1.5 2.75v9.5c0 .138.112.25.25.25h2a.75.75 0 0 1 .75.75v2.19l2.72-2.72a.749.749 0 0 1 .53-.22h6.5a.25.25 0 0 0 .25-.25v-9.5a.25.25 0 0 0-.25-.25H1.75a.25.25 0 0 0-.25.25Z"></path><path d="M22.5 8.75a.25.25 0 0 0-.25-.25h-3.5a.75.75 0 0 1 0-1.5h3.5c.966 0 1.75.784 1.75 1.75v9.5A1.75 1.75 0 0 1 22.25 20H21v1.543a1.457 1.457 0 0 1-2.487 1.03L15.939 20H10.75A1.75 1.75 0 0 1 9 18.25v-1.465a.75.75 0 0 1 1.5 0v1.465c0 .138.112.25.25.25h5.5a.75.75 0 0 1 .53.22l2.72 2.72v-2.19a.75.75 0 0 1 .75-.75h2a.25.25 0 0 0 .25-.25v-9.5Z"></path>
</svg>
      <div>
        <div class="color-fg-default h4">Discussions</div>
        Collaborate outside of code
      </div>

    
</a></li>

            </ul>
          </div>
          <div class="px-lg-4">
              <span class="d-block h4 color-fg-default my-1" id="product-explore-heading">Explore</span>
            <ul class="list-style-none f5" aria-labelledby="product-explore-heading">
                <li>
  <a class="HeaderMenu-dropdown-link lh-condensed d-block no-underline position-relative py-2 Link--secondary" data-analytics-event="{&quot;category&quot;:&quot;Header dropdown (logged out), Product&quot;,&quot;action&quot;:&quot;click to go to All features&quot;,&quot;label&quot;:&quot;ref_cta:All features;&quot;}" href="https://github.com/features">
      All features

    
</a></li>

                <li>
  <a class="HeaderMenu-dropdown-link lh-condensed d-block no-underline position-relative py-2 Link--secondary" target="_blank" data-analytics-event="{&quot;category&quot;:&quot;Header dropdown (logged out), Product&quot;,&quot;action&quot;:&quot;click to go to Documentation&quot;,&quot;label&quot;:&quot;ref_cta:Documentation;&quot;}" href="https://docs.github.com">
      Documentation

    <svg aria-hidden="true" height="16" viewBox="0 0 16 16" version="1.1" width="16" data-view-component="true" class="octicon octicon-link-external HeaderMenu-external-icon color-fg-subtle">
    <path d="M3.75 2h3.5a.75.75 0 0 1 0 1.5h-3.5a.25.25 0 0 0-.25.25v8.5c0 .138.112.25.25.25h8.5a.25.25 0 0 0 .25-.25v-3.5a.75.75 0 0 1 1.5 0v3.5A1.75 1.75 0 0 1 12.25 14h-8.5A1.75 1.75 0 0 1 2 12.25v-8.5C2 2.784 2.784 2 3.75 2Zm6.854-1h4.146a.25.25 0 0 1 .25.25v4.146a.25.25 0 0 1-.427.177L13.03 4.03 9.28 7.78a.751.751 0 0 1-1.042-.018.751.751 0 0 1-.018-1.042l3.75-3.75-1.543-1.543A.25.25 0 0 1 10.604 1Z"></path>
</svg>
</a></li>

                <li>
  <a class="HeaderMenu-dropdown-link lh-condensed d-block no-underline position-relative py-2 Link--secondary" target="_blank" data-analytics-event="{&quot;category&quot;:&quot;Header dropdown (logged out), Product&quot;,&quot;action&quot;:&quot;click to go to GitHub Skills&quot;,&quot;label&quot;:&quot;ref_cta:GitHub Skills;&quot;}" href="https://skills.github.com">
      GitHub Skills

    <svg aria-hidden="true" height="16" viewBox="0 0 16 16" version="1.1" width="16" data-view-component="true" class="octicon octicon-link-external HeaderMenu-external-icon color-fg-subtle">
    <path d="M3.75 2h3.5a.75.75 0 0 1 0 1.5h-3.5a.25.25 0 0 0-.25.25v8.5c0 .138.112.25.25.25h8.5a.25.25 0 0 0 .25-.25v-3.5a.75.75 0 0 1 1.5 0v3.5A1.75 1.75 0 0 1 12.25 14h-8.5A1.75 1.75 0 0 1 2 12.25v-8.5C2 2.784 2.784 2 3.75 2Zm6.854-1h4.146a.25.25 0 0 1 .25.25v4.146a.25.25 0 0 1-.427.177L13.03 4.03 9.28 7.78a.751.751 0 0 1-1.042-.018.751.751 0 0 1-.018-1.042l3.75-3.75-1.543-1.543A.25.25 0 0 1 10.604 1Z"></path>
</svg>
</a></li>

                <li>
  <a class="HeaderMenu-dropdown-link lh-condensed d-block no-underline position-relative py-2 Link--secondary" target="_blank" data-analytics-event="{&quot;category&quot;:&quot;Header dropdown (logged out), Product&quot;,&quot;action&quot;:&quot;click to go to Blog&quot;,&quot;label&quot;:&quot;ref_cta:Blog;&quot;}" href="https://github.blog">
      Blog

    <svg aria-hidden="true" height="16" viewBox="0 0 16 16" version="1.1" width="16" data-view-component="true" class="octicon octicon-link-external HeaderMenu-external-icon color-fg-subtle">
    <path d="M3.75 2h3.5a.75.75 0 0 1 0 1.5h-3.5a.25.25 0 0 0-.25.25v8.5c0 .138.112.25.25.25h8.5a.25.25 0 0 0 .25-.25v-3.5a.75.75 0 0 1 1.5 0v3.5A1.75 1.75 0 0 1 12.25 14h-8.5A1.75 1.75 0 0 1 2 12.25v-8.5C2 2.784 2.784 2 3.75 2Zm6.854-1h4.146a.25.25 0 0 1 .25.25v4.146a.25.25 0 0 1-.427.177L13.03 4.03 9.28 7.78a.751.751 0 0 1-1.042-.018.751.751 0 0 1-.018-1.042l3.75-3.75-1.543-1.543A.25.25 0 0 1 10.604 1Z"></path>
</svg>
</a></li>

            </ul>
          </div>
      </div>
</li>


                <li class="HeaderMenu-item position-relative flex-wrap flex-justify-between flex-items-center d-block d-lg-flex flex-lg-nowrap flex-lg-items-center js-details-container js-header-menu-item">
      <button type="button" class="HeaderMenu-link border-0 width-full width-lg-auto px-0 px-lg-2 py-3 py-lg-2 no-wrap d-flex flex-items-center flex-justify-between js-details-target" aria-expanded="false">
        Solutions
        <svg opacity="0.5" aria-hidden="true" height="16" viewBox="0 0 16 16" version="1.1" width="16" data-view-component="true" class="octicon octicon-chevron-down HeaderMenu-icon ml-1">
    <path d="M12.78 5.22a.749.749 0 0 1 0 1.06l-4.25 4.25a.749.749 0 0 1-1.06 0L3.22 6.28a.749.749 0 1 1 1.06-1.06L8 8.939l3.72-3.719a.749.749 0 0 1 1.06 0Z"></path>
</svg>
      </button>
      <div class="HeaderMenu-dropdown dropdown-menu rounded m-0 p-0 py-2 py-lg-4 position-relative position-lg-absolute left-0 left-lg-n3 px-lg-4">
          <div class="border-bottom pb-3 mb-3">
              <span class="d-block h4 color-fg-default my-1" id="solutions-for-heading">For</span>
            <ul class="list-style-none f5" aria-labelledby="solutions-for-heading">
                <li>
  <a class="HeaderMenu-dropdown-link lh-condensed d-block no-underline position-relative py-2 Link--secondary" data-analytics-event="{&quot;category&quot;:&quot;Header dropdown (logged out), Solutions&quot;,&quot;action&quot;:&quot;click to go to Enterprise&quot;,&quot;label&quot;:&quot;ref_cta:Enterprise;&quot;}" href="https://github.com/enterprise">
      Enterprise

    
</a></li>

                <li>
  <a class="HeaderMenu-dropdown-link lh-condensed d-block no-underline position-relative py-2 Link--secondary" data-analytics-event="{&quot;category&quot;:&quot;Header dropdown (logged out), Solutions&quot;,&quot;action&quot;:&quot;click to go to Teams&quot;,&quot;label&quot;:&quot;ref_cta:Teams;&quot;}" href="https://github.com/team">
      Teams

    
</a></li>

                <li>
  <a class="HeaderMenu-dropdown-link lh-condensed d-block no-underline position-relative py-2 Link--secondary" data-analytics-event="{&quot;category&quot;:&quot;Header dropdown (logged out), Solutions&quot;,&quot;action&quot;:&quot;click to go to Startups&quot;,&quot;label&quot;:&quot;ref_cta:Startups;&quot;}" href="https://github.com/enterprise/startups">
      Startups

    
</a></li>

                <li>
  <a class="HeaderMenu-dropdown-link lh-condensed d-block no-underline position-relative py-2 Link--secondary" target="_blank" data-analytics-event="{&quot;category&quot;:&quot;Header dropdown (logged out), Solutions&quot;,&quot;action&quot;:&quot;click to go to Education&quot;,&quot;label&quot;:&quot;ref_cta:Education;&quot;}" href="https://education.github.com">
      Education

    <svg aria-hidden="true" height="16" viewBox="0 0 16 16" version="1.1" width="16" data-view-component="true" class="octicon octicon-link-external HeaderMenu-external-icon color-fg-subtle">
    <path d="M3.75 2h3.5a.75.75 0 0 1 0 1.5h-3.5a.25.25 0 0 0-.25.25v8.5c0 .138.112.25.25.25h8.5a.25.25 0 0 0 .25-.25v-3.5a.75.75 0 0 1 1.5 0v3.5A1.75 1.75 0 0 1 12.25 14h-8.5A1.75 1.75 0 0 1 2 12.25v-8.5C2 2.784 2.784 2 3.75 2Zm6.854-1h4.146a.25.25 0 0 1 .25.25v4.146a.25.25 0 0 1-.427.177L13.03 4.03 9.28 7.78a.751.751 0 0 1-1.042-.018.751.751 0 0 1-.018-1.042l3.75-3.75-1.543-1.543A.25.25 0 0 1 10.604 1Z"></path>
</svg>
</a></li>

            </ul>
          </div>
          <div class="border-bottom pb-3 mb-3">
              <span class="d-block h4 color-fg-default my-1" id="solutions-by-solution-heading">By Solution</span>
            <ul class="list-style-none f5" aria-labelledby="solutions-by-solution-heading">
                <li>
  <a class="HeaderMenu-dropdown-link lh-condensed d-block no-underline position-relative py-2 Link--secondary" data-analytics-event="{&quot;category&quot;:&quot;Header dropdown (logged out), Solutions&quot;,&quot;action&quot;:&quot;click to go to CI/CD &amp;amp; Automation&quot;,&quot;label&quot;:&quot;ref_cta:CI/CD &amp;amp; Automation;&quot;}" href="https://github.com/solutions/ci-cd">
      CI/CD &amp; Automation

    
</a></li>

                <li>
  <a class="HeaderMenu-dropdown-link lh-condensed d-block no-underline position-relative py-2 Link--secondary" data-analytics-event="{&quot;category&quot;:&quot;Header dropdown (logged out), Solutions&quot;,&quot;action&quot;:&quot;click to go to DevOps&quot;,&quot;label&quot;:&quot;ref_cta:DevOps;&quot;}" href="https://github.com/solutions/devops">
      DevOps

    
</a></li>

                <li>
  <a class="HeaderMenu-dropdown-link lh-condensed d-block no-underline position-relative py-2 Link--secondary" target="_blank" data-analytics-event="{&quot;category&quot;:&quot;Header dropdown (logged out), Solutions&quot;,&quot;action&quot;:&quot;click to go to DevSecOps&quot;,&quot;label&quot;:&quot;ref_cta:DevSecOps;&quot;}" href="https://resources.github.com/devops/fundamentals/devsecops">
      DevSecOps

    <svg aria-hidden="true" height="16" viewBox="0 0 16 16" version="1.1" width="16" data-view-component="true" class="octicon octicon-link-external HeaderMenu-external-icon color-fg-subtle">
    <path d="M3.75 2h3.5a.75.75 0 0 1 0 1.5h-3.5a.25.25 0 0 0-.25.25v8.5c0 .138.112.25.25.25h8.5a.25.25 0 0 0 .25-.25v-3.5a.75.75 0 0 1 1.5 0v3.5A1.75 1.75 0 0 1 12.25 14h-8.5A1.75 1.75 0 0 1 2 12.25v-8.5C2 2.784 2.784 2 3.75 2Zm6.854-1h4.146a.25.25 0 0 1 .25.25v4.146a.25.25 0 0 1-.427.177L13.03 4.03 9.28 7.78a.751.751 0 0 1-1.042-.018.751.751 0 0 1-.018-1.042l3.75-3.75-1.543-1.543A.25.25 0 0 1 10.604 1Z"></path>
</svg>
</a></li>

            </ul>
          </div>
          <div class="">
              <span class="d-block h4 color-fg-default my-1" id="solutions-resources-heading">Resources</span>
            <ul class="list-style-none f5" aria-labelledby="solutions-resources-heading">
                <li>
  <a class="HeaderMenu-dropdown-link lh-condensed d-block no-underline position-relative py-2 Link--secondary" target="_blank" data-analytics-event="{&quot;category&quot;:&quot;Header dropdown (logged out), Solutions&quot;,&quot;action&quot;:&quot;click to go to Learning Pathways&quot;,&quot;label&quot;:&quot;ref_cta:Learning Pathways;&quot;}" href="https://resources.github.com/learn/pathways">
      Learning Pathways

    <svg aria-hidden="true" height="16" viewBox="0 0 16 16" version="1.1" width="16" data-view-component="true" class="octicon octicon-link-external HeaderMenu-external-icon color-fg-subtle">
    <path d="M3.75 2h3.5a.75.75 0 0 1 0 1.5h-3.5a.25.25 0 0 0-.25.25v8.5c0 .138.112.25.25.25h8.5a.25.25 0 0 0 .25-.25v-3.5a.75.75 0 0 1 1.5 0v3.5A1.75 1.75 0 0 1 12.25 14h-8.5A1.75 1.75 0 0 1 2 12.25v-8.5C2 2.784 2.784 2 3.75 2Zm6.854-1h4.146a.25.25 0 0 1 .25.25v4.146a.25.25 0 0 1-.427.177L13.03 4.03 9.28 7.78a.751.751 0 0 1-1.042-.018.751.751 0 0 1-.018-1.042l3.75-3.75-1.543-1.543A.25.25 0 0 1 10.604 1Z"></path>
</svg>
</a></li>

                <li>
  <a class="HeaderMenu-dropdown-link lh-condensed d-block no-underline position-relative py-2 Link--secondary" target="_blank" data-analytics-event="{&quot;category&quot;:&quot;Header dropdown (logged out), Solutions&quot;,&quot;action&quot;:&quot;click to go to White papers, Ebooks, Webinars&quot;,&quot;label&quot;:&quot;ref_cta:White papers, Ebooks, Webinars;&quot;}" href="https://resources.github.com">
      White papers, Ebooks, Webinars

    <svg aria-hidden="true" height="16" viewBox="0 0 16 16" version="1.1" width="16" data-view-component="true" class="octicon octicon-link-external HeaderMenu-external-icon color-fg-subtle">
    <path d="M3.75 2h3.5a.75.75 0 0 1 0 1.5h-3.5a.25.25 0 0 0-.25.25v8.5c0 .138.112.25.25.25h8.5a.25.25 0 0 0 .25-.25v-3.5a.75.75 0 0 1 1.5 0v3.5A1.75 1.75 0 0 1 12.25 14h-8.5A1.75 1.75 0 0 1 2 12.25v-8.5C2 2.784 2.784 2 3.75 2Zm6.854-1h4.146a.25.25 0 0 1 .25.25v4.146a.25.25 0 0 1-.427.177L13.03 4.03 9.28 7.78a.751.751 0 0 1-1.042-.018.751.751 0 0 1-.018-1.042l3.75-3.75-1.543-1.543A.25.25 0 0 1 10.604 1Z"></path>
</svg>
</a></li>

                <li>
  <a class="HeaderMenu-dropdown-link lh-condensed d-block no-underline position-relative py-2 Link--secondary" data-analytics-event="{&quot;category&quot;:&quot;Header dropdown (logged out), Solutions&quot;,&quot;action&quot;:&quot;click to go to Customer Stories&quot;,&quot;label&quot;:&quot;ref_cta:Customer Stories;&quot;}" href="https://github.com/customer-stories">
      Customer Stories

    
</a></li>

                <li>
  <a class="HeaderMenu-dropdown-link lh-condensed d-block no-underline position-relative py-2 Link--secondary" target="_blank" data-analytics-event="{&quot;category&quot;:&quot;Header dropdown (logged out), Solutions&quot;,&quot;action&quot;:&quot;click to go to Partners&quot;,&quot;label&quot;:&quot;ref_cta:Partners;&quot;}" href="https://partner.github.com">
      Partners

    <svg aria-hidden="true" height="16" viewBox="0 0 16 16" version="1.1" width="16" data-view-component="true" class="octicon octicon-link-external HeaderMenu-external-icon color-fg-subtle">
    <path d="M3.75 2h3.5a.75.75 0 0 1 0 1.5h-3.5a.25.25 0 0 0-.25.25v8.5c0 .138.112.25.25.25h8.5a.25.25 0 0 0 .25-.25v-3.5a.75.75 0 0 1 1.5 0v3.5A1.75 1.75 0 0 1 12.25 14h-8.5A1.75 1.75 0 0 1 2 12.25v-8.5C2 2.784 2.784 2 3.75 2Zm6.854-1h4.146a.25.25 0 0 1 .25.25v4.146a.25.25 0 0 1-.427.177L13.03 4.03 9.28 7.78a.751.751 0 0 1-1.042-.018.751.751 0 0 1-.018-1.042l3.75-3.75-1.543-1.543A.25.25 0 0 1 10.604 1Z"></path>
</svg>
</a></li>

            </ul>
          </div>
      </div>
</li>


                <li class="HeaderMenu-item position-relative flex-wrap flex-justify-between flex-items-center d-block d-lg-flex flex-lg-nowrap flex-lg-items-center js-details-container js-header-menu-item">
      <button type="button" class="HeaderMenu-link border-0 width-full width-lg-auto px-0 px-lg-2 py-3 py-lg-2 no-wrap d-flex flex-items-center flex-justify-between js-details-target" aria-expanded="false">
        Open Source
        <svg opacity="0.5" aria-hidden="true" height="16" viewBox="0 0 16 16" version="1.1" width="16" data-view-component="true" class="octicon octicon-chevron-down HeaderMenu-icon ml-1">
    <path d="M12.78 5.22a.749.749 0 0 1 0 1.06l-4.25 4.25a.749.749 0 0 1-1.06 0L3.22 6.28a.749.749 0 1 1 1.06-1.06L8 8.939l3.72-3.719a.749.749 0 0 1 1.06 0Z"></path>
</svg>
      </button>
      <div class="HeaderMenu-dropdown dropdown-menu rounded m-0 p-0 py-2 py-lg-4 position-relative position-lg-absolute left-0 left-lg-n3 px-lg-4">
          <div class="border-bottom pb-3 mb-3">
            <ul class="list-style-none f5" >
                <li>
  <a class="HeaderMenu-dropdown-link lh-condensed d-block no-underline position-relative py-2 Link--secondary d-flex flex-items-center" data-analytics-event="{&quot;category&quot;:&quot;Header dropdown (logged out), Open Source&quot;,&quot;action&quot;:&quot;click to go to GitHub Sponsors&quot;,&quot;label&quot;:&quot;ref_cta:GitHub Sponsors;&quot;}" href="https://github.com/sponsors">
      
      <div>
        <div class="color-fg-default h4">GitHub Sponsors</div>
        Fund open source developers
      </div>

    
</a></li>

            </ul>
          </div>
          <div class="border-bottom pb-3 mb-3">
            <ul class="list-style-none f5" >
                <li>
  <a class="HeaderMenu-dropdown-link lh-condensed d-block no-underline position-relative py-2 Link--secondary d-flex flex-items-center" data-analytics-event="{&quot;category&quot;:&quot;Header dropdown (logged out), Open Source&quot;,&quot;action&quot;:&quot;click to go to The ReadME Project&quot;,&quot;label&quot;:&quot;ref_cta:The ReadME Project;&quot;}" href="https://github.com/readme">
      
      <div>
        <div class="color-fg-default h4">The ReadME Project</div>
        GitHub community articles
      </div>

    
</a></li>

            </ul>
          </div>
          <div class="">
              <span class="d-block h4 color-fg-default my-1" id="open-source-repositories-heading">Repositories</span>
            <ul class="list-style-none f5" aria-labelledby="open-source-repositories-heading">
                <li>
  <a class="HeaderMenu-dropdown-link lh-condensed d-block no-underline position-relative py-2 Link--secondary" data-analytics-event="{&quot;category&quot;:&quot;Header dropdown (logged out), Open Source&quot;,&quot;action&quot;:&quot;click to go to Topics&quot;,&quot;label&quot;:&quot;ref_cta:Topics;&quot;}" href="https://github.com/topics">
      Topics

    
</a></li>

                <li>
  <a class="HeaderMenu-dropdown-link lh-condensed d-block no-underline position-relative py-2 Link--secondary" data-analytics-event="{&quot;category&quot;:&quot;Header dropdown (logged out), Open Source&quot;,&quot;action&quot;:&quot;click to go to Trending&quot;,&quot;label&quot;:&quot;ref_cta:Trending;&quot;}" href="https://github.com/trending">
      Trending

    
</a></li>

                <li>
  <a class="HeaderMenu-dropdown-link lh-condensed d-block no-underline position-relative py-2 Link--secondary" data-analytics-event="{&quot;category&quot;:&quot;Header dropdown (logged out), Open Source&quot;,&quot;action&quot;:&quot;click to go to Collections&quot;,&quot;label&quot;:&quot;ref_cta:Collections;&quot;}" href="https://github.com/collections">
      Collections

    
</a></li>

            </ul>
          </div>
      </div>
</li>


                <li class="HeaderMenu-item position-relative flex-wrap flex-justify-between flex-items-center d-block d-lg-flex flex-lg-nowrap flex-lg-items-center js-details-container js-header-menu-item">
    <a class="HeaderMenu-link no-underline px-0 px-lg-2 py-3 py-lg-2 d-block d-lg-inline-block" data-analytics-event="{&quot;category&quot;:&quot;Header menu top item (logged out)&quot;,&quot;action&quot;:&quot;click to go to Pricing&quot;,&quot;label&quot;:&quot;ref_cta:Pricing;&quot;}" href="https://github.com/pricing">Pricing</a>
</li>

            </ul>
          </nav>

        <div class="d-lg-flex flex-items-center mb-3 mb-lg-0 text-center text-lg-left ml-3" style="">
                


<qbsearch-input class="search-input" data-scope="repo:Arijit1080/Licence-Plate-Detection-using-YOLO-V8" data-custom-scopes-path="/search/custom_scopes" data-delete-custom-scopes-csrf="DsXEFhYM_RJkEwoEDehN_dPubbYhDe7_G4rRRvi9CZFbPjLGC4q_856U1o09KtiNXupC0LjGRJNEdYBYK_7ppQ" data-max-custom-scopes="10" data-header-redesign-enabled="false" data-initial-value="" data-blackbird-suggestions-path="/search/suggestions" data-jump-to-suggestions-path="/_graphql/GetSuggestedNavigationDestinations" data-current-repository="Arijit1080/Licence-Plate-Detection-using-YOLO-V8" data-current-org="" data-current-owner="Arijit1080" data-logged-in="false" data-copilot-chat-enabled="false" data-blackbird-indexed-repo-csrf="<esi:include src=&quot;/_esi/rails_csrf_token_form_hidden?r=Fh1d7Sa5iM%2BDykIdujDPbnjo6G558IAifNuwsYOzqJQYAjnCCPUV1u9Ihwy9lXacdfOxjkJhbJB%2B9IwKG7Dumlzc76LSnWovD3U3AMHhmYpext%2B9Hopyfq7t8YI4FFbzjHIa68tRLIWndSo4C6%2BrgkDVHjyqW6vRVymKZrhpULGkXKA45Go0Nhb9c2dlJC42p%2F6fffwJc88KsQDmzHEgBHclXn%2B0wIvP4%2FyU4x8DBOeIbbAT5BALkfAu4Ra2bArVILD75GW8hJV6yTWoKK%2Fmm4YHVOq3myyOWEJV2EvNf6Lw%2BanjASKSaBjSKcubtyIm5W2SY8tBhXWE6sWNZzupSQqC%2BVw%2FPh4shY39gRIvjfCpBEi3oHHX3nh%2B6UjHMHnf0BjO8bQYaKfrt5LYUupo5QVGeHFQx7O9K8h1zYdr2nobxreVtqIa6dP%2BsQtUik7yh03NpsRPIK0bOXM59fgQGLJ9fQ02XiYFneZi8UgaELK7%2Fk5m0a6DChI8QyOmzCiyRqR9c%2BCIe%2Fkwl%2Fcm%2Ba0XIvHbR4sa3%2B37v3ccbR2IEVPiFccbQWEcxLMjfL%2FZTn03be8CV8FsBE%2FbJtwPflCcMVMtTAA2ATVCrtMbm3u6JJM92P6OvipUNcBfei9LKhu9pDaj65VLQNHxtL6DsDOKMiVsa%2FiMjw%3D%3D--pkJJmnZJeh9ri9rR--sUD4gEFhrFpDlMZCNzlbtg%3D%3D&quot; />">
  <div
    class="search-input-container search-with-dialog position-relative d-flex flex-row flex-items-center mr-4 rounded"
    data-action="click:qbsearch-input#searchInputContainerClicked"
  >
      <button
        type="button"
        class="header-search-button placeholder  input-button form-control d-flex flex-1 flex-self-stretch flex-items-center no-wrap width-full py-0 pl-2 pr-0 text-left border-0 box-shadow-none"
        data-target="qbsearch-input.inputButton"
        placeholder="Search or jump to..."
        data-hotkey=s,/
        autocapitalize="off"
        data-action="click:qbsearch-input#handleExpand"
      >
        <div class="mr-2 color-fg-muted">
          <svg aria-hidden="true" height="16" viewBox="0 0 16 16" version="1.1" width="16" data-view-component="true" class="octicon octicon-search">
    <path d="M10.68 11.74a6 6 0 0 1-7.922-8.982 6 6 0 0 1 8.982 7.922l3.04 3.04a.749.749 0 0 1-.326 1.275.749.749 0 0 1-.734-.215ZM11.5 7a4.499 4.499 0 1 0-8.997 0A4.499 4.499 0 0 0 11.5 7Z"></path>
</svg>
        </div>
        <span class="flex-1" data-target="qbsearch-input.inputButtonText">Search or jump to...</span>
          <div class="d-flex" data-target="qbsearch-input.hotkeyIndicator">
            <svg xmlns="http://www.w3.org/2000/svg" width="22" height="20" aria-hidden="true" class="mr-1"><path fill="none" stroke="#979A9C" opacity=".4" d="M3.5.5h12c1.7 0 3 1.3 3 3v13c0 1.7-1.3 3-3 3h-12c-1.7 0-3-1.3-3-3v-13c0-1.7 1.3-3 3-3z"></path><path fill="#979A9C" d="M11.8 6L8 15.1h-.9L10.8 6h1z"></path></svg>

          </div>
      </button>

    <input type="hidden" name="type" class="js-site-search-type-field">

    
<div class="Overlay--hidden " data-modal-dialog-overlay>
  <modal-dialog data-action="close:qbsearch-input#handleClose cancel:qbsearch-input#handleClose" data-target="qbsearch-input.searchSuggestionsDialog" role="dialog" id="search-suggestions-dialog" aria-modal="true" aria-labelledby="search-suggestions-dialog-header" data-view-component="true" class="Overlay Overlay--width-large Overlay--height-auto">
      <h1 id="search-suggestions-dialog-header" class="sr-only">Search code, repositories, users, issues, pull requests...</h1>
    <div class="Overlay-body Overlay-body--paddingNone">
      
          <div data-view-component="true">        <div class="search-suggestions position-fixed width-full color-shadow-large border color-fg-default color-bg-default overflow-hidden d-flex flex-column query-builder-container"
          style="border-radius: 12px;"
          data-target="qbsearch-input.queryBuilderContainer"
          hidden
        >
          <!-- '"` --><!-- </textarea></xmp> --></option></form><form id="query-builder-test-form" action="" accept-charset="UTF-8" method="get">
  <query-builder data-target="qbsearch-input.queryBuilder" id="query-builder-query-builder-test" data-filter-key=":" data-view-component="true" class="QueryBuilder search-query-builder">
    <div class="FormControl FormControl--fullWidth">
      <label id="query-builder-test-label" for="query-builder-test" class="FormControl-label sr-only">
        Search
      </label>
      <div
        class="QueryBuilder-StyledInput width-fit "
        data-target="query-builder.styledInput"
      >
          <span id="query-builder-test-leadingvisual-wrap" class="FormControl-input-leadingVisualWrap QueryBuilder-leadingVisualWrap">
            <svg aria-hidden="true" height="16" viewBox="0 0 16 16" version="1.1" width="16" data-view-component="true" class="octicon octicon-search FormControl-input-leadingVisual">
    <path d="M10.68 11.74a6 6 0 0 1-7.922-8.982 6 6 0 0 1 8.982 7.922l3.04 3.04a.749.749 0 0 1-.326 1.275.749.749 0 0 1-.734-.215ZM11.5 7a4.499 4.499 0 1 0-8.997 0A4.499 4.499 0 0 0 11.5 7Z"></path>
</svg>
          </span>
        <div data-target="query-builder.styledInputContainer" class="QueryBuilder-StyledInputContainer">
          <div
            aria-hidden="true"
            class="QueryBuilder-StyledInputContent"
            data-target="query-builder.styledInputContent"
          ></div>
          <div class="QueryBuilder-InputWrapper">
            <div aria-hidden="true" class="QueryBuilder-Sizer" data-target="query-builder.sizer"></div>
            <input id="query-builder-test" name="query-builder-test" value="" autocomplete="off" type="text" role="combobox" spellcheck="false" aria-expanded="false" aria-describedby="validation-45042010-aaea-48b8-b559-bffe2e3bb5bc" data-target="query-builder.input" data-action="
          input:query-builder#inputChange
          blur:query-builder#inputBlur
          keydown:query-builder#inputKeydown
          focus:query-builder#inputFocus
        " data-view-component="true" class="FormControl-input QueryBuilder-Input FormControl-medium" />
          </div>
        </div>
          <span class="sr-only" id="query-builder-test-clear">Clear</span>
          <button role="button" id="query-builder-test-clear-button" aria-labelledby="query-builder-test-clear query-builder-test-label" data-target="query-builder.clearButton" data-action="
                click:query-builder#clear
                focus:query-builder#clearButtonFocus
                blur:query-builder#clearButtonBlur
              " variant="small" hidden="hidden" type="button" data-view-component="true" class="Button Button--iconOnly Button--invisible Button--medium mr-1 px-2 py-0 d-flex flex-items-center rounded-1 color-fg-muted">  <svg aria-hidden="true" height="16" viewBox="0 0 16 16" version="1.1" width="16" data-view-component="true" class="octicon octicon-x-circle-fill Button-visual">
    <path d="M2.343 13.657A8 8 0 1 1 13.658 2.343 8 8 0 0 1 2.343 13.657ZM6.03 4.97a.751.751 0 0 0-1.042.018.751.751 0 0 0-.018 1.042L6.94 8 4.97 9.97a.749.749 0 0 0 .326 1.275.749.749 0 0 0 .734-.215L8 9.06l1.97 1.97a.749.749 0 0 0 1.275-.326.749.749 0 0 0-.215-.734L9.06 8l1.97-1.97a.749.749 0 0 0-.326-1.275.749.749 0 0 0-.734.215L8 6.94Z"></path>
</svg>
</button>

      </div>
      <template id="search-icon">
  <svg aria-hidden="true" height="16" viewBox="0 0 16 16" version="1.1" width="16" data-view-component="true" class="octicon octicon-search">
    <path d="M10.68 11.74a6 6 0 0 1-7.922-8.982 6 6 0 0 1 8.982 7.922l3.04 3.04a.749.749 0 0 1-.326 1.275.749.749 0 0 1-.734-.215ZM11.5 7a4.499 4.499 0 1 0-8.997 0A4.499 4.499 0 0 0 11.5 7Z"></path>
</svg>
</template>

<template id="code-icon">
  <svg aria-hidden="true" height="16" viewBox="0 0 16 16" version="1.1" width="16" data-view-component="true" class="octicon octicon-code">
    <path d="m11.28 3.22 4.25 4.25a.75.75 0 0 1 0 1.06l-4.25 4.25a.749.749 0 0 1-1.275-.326.749.749 0 0 1 .215-.734L13.94 8l-3.72-3.72a.749.749 0 0 1 .326-1.275.749.749 0 0 1 .734.215Zm-6.56 0a.751.751 0 0 1 1.042.018.751.751 0 0 1 .018 1.042L2.06 8l3.72 3.72a.749.749 0 0 1-.326 1.275.749.749 0 0 1-.734-.215L.47 8.53a.75.75 0 0 1 0-1.06Z"></path>
</svg>
</template>

<template id="file-code-icon">
  <svg aria-hidden="true" height="16" viewBox="0 0 16 16" version="1.1" width="16" data-view-component="true" class="octicon octicon-file-code">
    <path d="M4 1.75C4 .784 4.784 0 5.75 0h5.586c.464 0 .909.184 1.237.513l2.914 2.914c.329.328.513.773.513 1.237v8.586A1.75 1.75 0 0 1 14.25 15h-9a.75.75 0 0 1 0-1.5h9a.25.25 0 0 0 .25-.25V6h-2.75A1.75 1.75 0 0 1 10 4.25V1.5H5.75a.25.25 0 0 0-.25.25v2.5a.75.75 0 0 1-1.5 0Zm1.72 4.97a.75.75 0 0 1 1.06 0l2 2a.75.75 0 0 1 0 1.06l-2 2a.749.749 0 0 1-1.275-.326.749.749 0 0 1 .215-.734l1.47-1.47-1.47-1.47a.75.75 0 0 1 0-1.06ZM3.28 7.78 1.81 9.25l1.47 1.47a.751.751 0 0 1-.018 1.042.751.751 0 0 1-1.042.018l-2-2a.75.75 0 0 1 0-1.06l2-2a.751.751 0 0 1 1.042.018.751.751 0 0 1 .018 1.042Zm8.22-6.218V4.25c0 .138.112.25.25.25h2.688l-.011-.013-2.914-2.914-.013-.011Z"></path>
</svg>
</template>

<template id="history-icon">
  <svg aria-hidden="true" height="16" viewBox="0 0 16 16" version="1.1" width="16" data-view-component="true" class="octicon octicon-history">
    <path d="m.427 1.927 1.215 1.215a8.002 8.002 0 1 1-1.6 5.685.75.75 0 1 1 1.493-.154 6.5 6.5 0 1 0 1.18-4.458l1.358 1.358A.25.25 0 0 1 3.896 6H.25A.25.25 0 0 1 0 5.75V2.104a.25.25 0 0 1 .427-.177ZM7.75 4a.75.75 0 0 1 .75.75v2.992l2.028.812a.75.75 0 0 1-.557 1.392l-2.5-1A.751.751 0 0 1 7 8.25v-3.5A.75.75 0 0 1 7.75 4Z"></path>
</svg>
</template>

<template id="repo-icon">
  <svg aria-hidden="true" height="16" viewBox="0 0 16 16" version="1.1" width="16" data-view-component="true" class="octicon octicon-repo">
    <path d="M2 2.5A2.5 2.5 0 0 1 4.5 0h8.75a.75.75 0 0 1 .75.75v12.5a.75.75 0 0 1-.75.75h-2.5a.75.75 0 0 1 0-1.5h1.75v-2h-8a1 1 0 0 0-.714 1.7.75.75 0 1 1-1.072 1.05A2.495 2.495 0 0 1 2 11.5Zm10.5-1h-8a1 1 0 0 0-1 1v6.708A2.486 2.486 0 0 1 4.5 9h8ZM5 12.25a.25.25 0 0 1 .25-.25h3.5a.25.25 0 0 1 .25.25v3.25a.25.25 0 0 1-.4.2l-1.45-1.087a.249.249 0 0 0-.3 0L5.4 15.7a.25.25 0 0 1-.4-.2Z"></path>
</svg>
</template>

<template id="bookmark-icon">
  <svg aria-hidden="true" height="16" viewBox="0 0 16 16" version="1.1" width="16" data-view-component="true" class="octicon octicon-bookmark">
    <path d="M3 2.75C3 1.784 3.784 1 4.75 1h6.5c.966 0 1.75.784 1.75 1.75v11.5a.75.75 0 0 1-1.227.579L8 11.722l-3.773 3.107A.751.751 0 0 1 3 14.25Zm1.75-.25a.25.25 0 0 0-.25.25v9.91l3.023-2.489a.75.75 0 0 1 .954 0l3.023 2.49V2.75a.25.25 0 0 0-.25-.25Z"></path>
</svg>
</template>

<template id="plus-circle-icon">
  <svg aria-hidden="true" height="16" viewBox="0 0 16 16" version="1.1" width="16" data-view-component="true" class="octicon octicon-plus-circle">
    <path d="M8 0a8 8 0 1 1 0 16A8 8 0 0 1 8 0ZM1.5 8a6.5 6.5 0 1 0 13 0 6.5 6.5 0 0 0-13 0Zm7.25-3.25v2.5h2.5a.75.75 0 0 1 0 1.5h-2.5v2.5a.75.75 0 0 1-1.5 0v-2.5h-2.5a.75.75 0 0 1 0-1.5h2.5v-2.5a.75.75 0 0 1 1.5 0Z"></path>
</svg>
</template>

<template id="circle-icon">
  <svg aria-hidden="true" height="16" viewBox="0 0 16 16" version="1.1" width="16" data-view-component="true" class="octicon octicon-dot-fill">
    <path d="M8 4a4 4 0 1 1 0 8 4 4 0 0 1 0-8Z"></path>
</svg>
</template>

<template id="trash-icon">
  <svg aria-hidden="true" height="16" viewBox="0 0 16 16" version="1.1" width="16" data-view-component="true" class="octicon octicon-trash">
    <path d="M11 1.75V3h2.25a.75.75 0 0 1 0 1.5H2.75a.75.75 0 0 1 0-1.5H5V1.75C5 .784 5.784 0 6.75 0h2.5C10.216 0 11 .784 11 1.75ZM4.496 6.675l.66 6.6a.25.25 0 0 0 .249.225h5.19a.25.25 0 0 0 .249-.225l.66-6.6a.75.75 0 0 1 1.492.149l-.66 6.6A1.748 1.748 0 0 1 10.595 15h-5.19a1.75 1.75 0 0 1-1.741-1.575l-.66-6.6a.75.75 0 1 1 1.492-.15ZM6.5 1.75V3h3V1.75a.25.25 0 0 0-.25-.25h-2.5a.25.25 0 0 0-.25.25Z"></path>
</svg>
</template>

<template id="team-icon">
  <svg aria-hidden="true" height="16" viewBox="0 0 16 16" version="1.1" width="16" data-view-component="true" class="octicon octicon-people">
    <path d="M2 5.5a3.5 3.5 0 1 1 5.898 2.549 5.508 5.508 0 0 1 3.034 4.084.75.75 0 1 1-1.482.235 4 4 0 0 0-7.9 0 .75.75 0 0 1-1.482-.236A5.507 5.507 0 0 1 3.102 8.05 3.493 3.493 0 0 1 2 5.5ZM11 4a3.001 3.001 0 0 1 2.22 5.018 5.01 5.01 0 0 1 2.56 3.012.749.749 0 0 1-.885.954.752.752 0 0 1-.549-.514 3.507 3.507 0 0 0-2.522-2.372.75.75 0 0 1-.574-.73v-.352a.75.75 0 0 1 .416-.672A1.5 1.5 0 0 0 11 5.5.75.75 0 0 1 11 4Zm-5.5-.5a2 2 0 1 0-.001 3.999A2 2 0 0 0 5.5 3.5Z"></path>
</svg>
</template>

<template id="project-icon">
  <svg aria-hidden="true" height="16" viewBox="0 0 16 16" version="1.1" width="16" data-view-component="true" class="octicon octicon-project">
    <path d="M1.75 0h12.5C15.216 0 16 .784 16 1.75v12.5A1.75 1.75 0 0 1 14.25 16H1.75A1.75 1.75 0 0 1 0 14.25V1.75C0 .784.784 0 1.75 0ZM1.5 1.75v12.5c0 .138.112.25.25.25h12.5a.25.25 0 0 0 .25-.25V1.75a.25.25 0 0 0-.25-.25H1.75a.25.25 0 0 0-.25.25ZM11.75 3a.75.75 0 0 1 .75.75v7.5a.75.75 0 0 1-1.5 0v-7.5a.75.75 0 0 1 .75-.75Zm-8.25.75a.75.75 0 0 1 1.5 0v5.5a.75.75 0 0 1-1.5 0ZM8 3a.75.75 0 0 1 .75.75v3.5a.75.75 0 0 1-1.5 0v-3.5A.75.75 0 0 1 8 3Z"></path>
</svg>
</template>

<template id="pencil-icon">
  <svg aria-hidden="true" height="16" viewBox="0 0 16 16" version="1.1" width="16" data-view-component="true" class="octicon octicon-pencil">
    <path d="M11.013 1.427a1.75 1.75 0 0 1 2.474 0l1.086 1.086a1.75 1.75 0 0 1 0 2.474l-8.61 8.61c-.21.21-.47.364-.756.445l-3.251.93a.75.75 0 0 1-.927-.928l.929-3.25c.081-.286.235-.547.445-.758l8.61-8.61Zm.176 4.823L9.75 4.81l-6.286 6.287a.253.253 0 0 0-.064.108l-.558 1.953 1.953-.558a.253.253 0 0 0 .108-.064Zm1.238-3.763a.25.25 0 0 0-.354 0L10.811 3.75l1.439 1.44 1.263-1.263a.25.25 0 0 0 0-.354Z"></path>
</svg>
</template>

<template id="copilot-icon">
  <svg aria-hidden="true" height="16" viewBox="0 0 16 16" version="1.1" width="16" data-view-component="true" class="octicon octicon-copilot">
    <path d="M7.998 15.035c-4.562 0-7.873-2.914-7.998-3.749V9.338c.085-.628.677-1.686 1.588-2.065.013-.07.024-.143.036-.218.029-.183.06-.384.126-.612-.201-.508-.254-1.084-.254-1.656 0-.87.128-1.769.693-2.484.579-.733 1.494-1.124 2.724-1.261 1.206-.134 2.262.034 2.944.765.05.053.096.108.139.165.044-.057.094-.112.143-.165.682-.731 1.738-.899 2.944-.765 1.23.137 2.145.528 2.724 1.261.566.715.693 1.614.693 2.484 0 .572-.053 1.148-.254 1.656.066.228.098.429.126.612.012.076.024.148.037.218.924.385 1.522 1.471 1.591 2.095v1.872c0 .766-3.351 3.795-8.002 3.795Zm0-1.485c2.28 0 4.584-1.11 5.002-1.433V7.862l-.023-.116c-.49.21-1.075.291-1.727.291-1.146 0-2.059-.327-2.71-.991A3.222 3.222 0 0 1 8 6.303a3.24 3.24 0 0 1-.544.743c-.65.664-1.563.991-2.71.991-.652 0-1.236-.081-1.727-.291l-.023.116v4.255c.419.323 2.722 1.433 5.002 1.433ZM6.762 2.83c-.193-.206-.637-.413-1.682-.297-1.019.113-1.479.404-1.713.7-.247.312-.369.789-.369 1.554 0 .793.129 1.171.308 1.371.162.181.519.379 1.442.379.853 0 1.339-.235 1.638-.54.315-.322.527-.827.617-1.553.117-.935-.037-1.395-.241-1.614Zm4.155-.297c-1.044-.116-1.488.091-1.681.297-.204.219-.359.679-.242 1.614.091.726.303 1.231.618 1.553.299.305.784.54 1.638.54.922 0 1.28-.198 1.442-.379.179-.2.308-.578.308-1.371 0-.765-.123-1.242-.37-1.554-.233-.296-.693-.587-1.713-.7Z"></path><path d="M6.25 9.037a.75.75 0 0 1 .75.75v1.501a.75.75 0 0 1-1.5 0V9.787a.75.75 0 0 1 .75-.75Zm4.25.75v1.501a.75.75 0 0 1-1.5 0V9.787a.75.75 0 0 1 1.5 0Z"></path>
</svg>
</template>

<template id="workflow-icon">
  <svg aria-hidden="true" height="16" viewBox="0 0 16 16" version="1.1" width="16" data-view-component="true" class="octicon octicon-workflow">
    <path d="M0 1.75C0 .784.784 0 1.75 0h3.5C6.216 0 7 .784 7 1.75v3.5A1.75 1.75 0 0 1 5.25 7H4v4a1 1 0 0 0 1 1h4v-1.25C9 9.784 9.784 9 10.75 9h3.5c.966 0 1.75.784 1.75 1.75v3.5A1.75 1.75 0 0 1 14.25 16h-3.5A1.75 1.75 0 0 1 9 14.25v-.75H5A2.5 2.5 0 0 1 2.5 11V7h-.75A1.75 1.75 0 0 1 0 5.25Zm1.75-.25a.25.25 0 0 0-.25.25v3.5c0 .138.112.25.25.25h3.5a.25.25 0 0 0 .25-.25v-3.5a.25.25 0 0 0-.25-.25Zm9 9a.25.25 0 0 0-.25.25v3.5c0 .138.112.25.25.25h3.5a.25.25 0 0 0 .25-.25v-3.5a.25.25 0 0 0-.25-.25Z"></path>
</svg>
</template>

<template id="book-icon">
  <svg aria-hidden="true" height="16" viewBox="0 0 16 16" version="1.1" width="16" data-view-component="true" class="octicon octicon-book">
    <path d="M0 1.75A.75.75 0 0 1 .75 1h4.253c1.227 0 2.317.59 3 1.501A3.743 3.743 0 0 1 11.006 1h4.245a.75.75 0 0 1 .75.75v10.5a.75.75 0 0 1-.75.75h-4.507a2.25 2.25 0 0 0-1.591.659l-.622.621a.75.75 0 0 1-1.06 0l-.622-.621A2.25 2.25 0 0 0 5.258 13H.75a.75.75 0 0 1-.75-.75Zm7.251 10.324.004-5.073-.002-2.253A2.25 2.25 0 0 0 5.003 2.5H1.5v9h3.757a3.75 3.75 0 0 1 1.994.574ZM8.755 4.75l-.004 7.322a3.752 3.752 0 0 1 1.992-.572H14.5v-9h-3.495a2.25 2.25 0 0 0-2.25 2.25Z"></path>
</svg>
</template>

<template id="code-review-icon">
  <svg aria-hidden="true" height="16" viewBox="0 0 16 16" version="1.1" width="16" data-view-component="true" class="octicon octicon-code-review">
    <path d="M1.75 1h12.5c.966 0 1.75.784 1.75 1.75v8.5A1.75 1.75 0 0 1 14.25 13H8.061l-2.574 2.573A1.458 1.458 0 0 1 3 14.543V13H1.75A1.75 1.75 0 0 1 0 11.25v-8.5C0 1.784.784 1 1.75 1ZM1.5 2.75v8.5c0 .138.112.25.25.25h2a.75.75 0 0 1 .75.75v2.19l2.72-2.72a.749.749 0 0 1 .53-.22h6.5a.25.25 0 0 0 .25-.25v-8.5a.25.25 0 0 0-.25-.25H1.75a.25.25 0 0 0-.25.25Zm5.28 1.72a.75.75 0 0 1 0 1.06L5.31 7l1.47 1.47a.751.751 0 0 1-.018 1.042.751.751 0 0 1-1.042.018l-2-2a.75.75 0 0 1 0-1.06l2-2a.75.75 0 0 1 1.06 0Zm2.44 0a.75.75 0 0 1 1.06 0l2 2a.75.75 0 0 1 0 1.06l-2 2a.751.751 0 0 1-1.042-.018.751.751 0 0 1-.018-1.042L10.69 7 9.22 5.53a.75.75 0 0 1 0-1.06Z"></path>
</svg>
</template>

<template id="codespaces-icon">
  <svg aria-hidden="true" height="16" viewBox="0 0 16 16" version="1.1" width="16" data-view-component="true" class="octicon octicon-codespaces">
    <path d="M0 11.25c0-.966.784-1.75 1.75-1.75h12.5c.966 0 1.75.784 1.75 1.75v3A1.75 1.75 0 0 1 14.25 16H1.75A1.75 1.75 0 0 1 0 14.25Zm2-9.5C2 .784 2.784 0 3.75 0h8.5C13.216 0 14 .784 14 1.75v5a1.75 1.75 0 0 1-1.75 1.75h-8.5A1.75 1.75 0 0 1 2 6.75Zm1.75-.25a.25.25 0 0 0-.25.25v5c0 .138.112.25.25.25h8.5a.25.25 0 0 0 .25-.25v-5a.25.25 0 0 0-.25-.25Zm-2 9.5a.25.25 0 0 0-.25.25v3c0 .138.112.25.25.25h12.5a.25.25 0 0 0 .25-.25v-3a.25.25 0 0 0-.25-.25Z"></path><path d="M7 12.75a.75.75 0 0 1 .75-.75h4.5a.75.75 0 0 1 0 1.5h-4.5a.75.75 0 0 1-.75-.75Zm-4 0a.75.75 0 0 1 .75-.75h.5a.75.75 0 0 1 0 1.5h-.5a.75.75 0 0 1-.75-.75Z"></path>
</svg>
</template>

<template id="comment-icon">
  <svg aria-hidden="true" height="16" viewBox="0 0 16 16" version="1.1" width="16" data-view-component="true" class="octicon octicon-comment">
    <path d="M1 2.75C1 1.784 1.784 1 2.75 1h10.5c.966 0 1.75.784 1.75 1.75v7.5A1.75 1.75 0 0 1 13.25 12H9.06l-2.573 2.573A1.458 1.458 0 0 1 4 13.543V12H2.75A1.75 1.75 0 0 1 1 10.25Zm1.75-.25a.25.25 0 0 0-.25.25v7.5c0 .138.112.25.25.25h2a.75.75 0 0 1 .75.75v2.19l2.72-2.72a.749.749 0 0 1 .53-.22h4.5a.25.25 0 0 0 .25-.25v-7.5a.25.25 0 0 0-.25-.25Z"></path>
</svg>
</template>

<template id="comment-discussion-icon">
  <svg aria-hidden="true" height="16" viewBox="0 0 16 16" version="1.1" width="16" data-view-component="true" class="octicon octicon-comment-discussion">
    <path d="M1.75 1h8.5c.966 0 1.75.784 1.75 1.75v5.5A1.75 1.75 0 0 1 10.25 10H7.061l-2.574 2.573A1.458 1.458 0 0 1 2 11.543V10h-.25A1.75 1.75 0 0 1 0 8.25v-5.5C0 1.784.784 1 1.75 1ZM1.5 2.75v5.5c0 .138.112.25.25.25h1a.75.75 0 0 1 .75.75v2.19l2.72-2.72a.749.749 0 0 1 .53-.22h3.5a.25.25 0 0 0 .25-.25v-5.5a.25.25 0 0 0-.25-.25h-8.5a.25.25 0 0 0-.25.25Zm13 2a.25.25 0 0 0-.25-.25h-.5a.75.75 0 0 1 0-1.5h.5c.966 0 1.75.784 1.75 1.75v5.5A1.75 1.75 0 0 1 14.25 12H14v1.543a1.458 1.458 0 0 1-2.487 1.03L9.22 12.28a.749.749 0 0 1 .326-1.275.749.749 0 0 1 .734.215l2.22 2.22v-2.19a.75.75 0 0 1 .75-.75h1a.25.25 0 0 0 .25-.25Z"></path>
</svg>
</template>

<template id="organization-icon">
  <svg aria-hidden="true" height="16" viewBox="0 0 16 16" version="1.1" width="16" data-view-component="true" class="octicon octicon-organization">
    <path d="M1.75 16A1.75 1.75 0 0 1 0 14.25V1.75C0 .784.784 0 1.75 0h8.5C11.216 0 12 .784 12 1.75v12.5c0 .085-.006.168-.018.25h2.268a.25.25 0 0 0 .25-.25V8.285a.25.25 0 0 0-.111-.208l-1.055-.703a.749.749 0 1 1 .832-1.248l1.055.703c.487.325.779.871.779 1.456v5.965A1.75 1.75 0 0 1 14.25 16h-3.5a.766.766 0 0 1-.197-.026c-.099.017-.2.026-.303.026h-3a.75.75 0 0 1-.75-.75V14h-1v1.25a.75.75 0 0 1-.75.75Zm-.25-1.75c0 .138.112.25.25.25H4v-1.25a.75.75 0 0 1 .75-.75h2.5a.75.75 0 0 1 .75.75v1.25h2.25a.25.25 0 0 0 .25-.25V1.75a.25.25 0 0 0-.25-.25h-8.5a.25.25 0 0 0-.25.25ZM3.75 6h.5a.75.75 0 0 1 0 1.5h-.5a.75.75 0 0 1 0-1.5ZM3 3.75A.75.75 0 0 1 3.75 3h.5a.75.75 0 0 1 0 1.5h-.5A.75.75 0 0 1 3 3.75Zm4 3A.75.75 0 0 1 7.75 6h.5a.75.75 0 0 1 0 1.5h-.5A.75.75 0 0 1 7 6.75ZM7.75 3h.5a.75.75 0 0 1 0 1.5h-.5a.75.75 0 0 1 0-1.5ZM3 9.75A.75.75 0 0 1 3.75 9h.5a.75.75 0 0 1 0 1.5h-.5A.75.75 0 0 1 3 9.75ZM7.75 9h.5a.75.75 0 0 1 0 1.5h-.5a.75.75 0 0 1 0-1.5Z"></path>
</svg>
</template>

<template id="rocket-icon">
  <svg aria-hidden="true" height="16" viewBox="0 0 16 16" version="1.1" width="16" data-view-component="true" class="octicon octicon-rocket">
    <path d="M14.064 0h.186C15.216 0 16 .784 16 1.75v.186a8.752 8.752 0 0 1-2.564 6.186l-.458.459c-.314.314-.641.616-.979.904v3.207c0 .608-.315 1.172-.833 1.49l-2.774 1.707a.749.749 0 0 1-1.11-.418l-.954-3.102a1.214 1.214 0 0 1-.145-.125L3.754 9.816a1.218 1.218 0 0 1-.124-.145L.528 8.717a.749.749 0 0 1-.418-1.11l1.71-2.774A1.748 1.748 0 0 1 3.31 4h3.204c.288-.338.59-.665.904-.979l.459-.458A8.749 8.749 0 0 1 14.064 0ZM8.938 3.623h-.002l-.458.458c-.76.76-1.437 1.598-2.02 2.5l-1.5 2.317 2.143 2.143 2.317-1.5c.902-.583 1.74-1.26 2.499-2.02l.459-.458a7.25 7.25 0 0 0 2.123-5.127V1.75a.25.25 0 0 0-.25-.25h-.186a7.249 7.249 0 0 0-5.125 2.123ZM3.56 14.56c-.732.732-2.334 1.045-3.005 1.148a.234.234 0 0 1-.201-.064.234.234 0 0 1-.064-.201c.103-.671.416-2.273 1.15-3.003a1.502 1.502 0 1 1 2.12 2.12Zm6.94-3.935c-.088.06-.177.118-.266.175l-2.35 1.521.548 1.783 1.949-1.2a.25.25 0 0 0 .119-.213ZM3.678 8.116 5.2 5.766c.058-.09.117-.178.176-.266H3.309a.25.25 0 0 0-.213.119l-1.2 1.95ZM12 5a1 1 0 1 1-2 0 1 1 0 0 1 2 0Z"></path>
</svg>
</template>

<template id="shield-check-icon">
  <svg aria-hidden="true" height="16" viewBox="0 0 16 16" version="1.1" width="16" data-view-component="true" class="octicon octicon-shield-check">
    <path d="m8.533.133 5.25 1.68A1.75 1.75 0 0 1 15 3.48V7c0 1.566-.32 3.182-1.303 4.682-.983 1.498-2.585 2.813-5.032 3.855a1.697 1.697 0 0 1-1.33 0c-2.447-1.042-4.049-2.357-5.032-3.855C1.32 10.182 1 8.566 1 7V3.48a1.75 1.75 0 0 1 1.217-1.667l5.25-1.68a1.748 1.748 0 0 1 1.066 0Zm-.61 1.429.001.001-5.25 1.68a.251.251 0 0 0-.174.237V7c0 1.36.275 2.666 1.057 3.859.784 1.194 2.121 2.342 4.366 3.298a.196.196 0 0 0 .154 0c2.245-.957 3.582-2.103 4.366-3.297C13.225 9.666 13.5 8.358 13.5 7V3.48a.25.25 0 0 0-.174-.238l-5.25-1.68a.25.25 0 0 0-.153 0ZM11.28 6.28l-3.5 3.5a.75.75 0 0 1-1.06 0l-1.5-1.5a.749.749 0 0 1 .326-1.275.749.749 0 0 1 .734.215l.97.97 2.97-2.97a.751.751 0 0 1 1.042.018.751.751 0 0 1 .018 1.042Z"></path>
</svg>
</template>

<template id="heart-icon">
  <svg aria-hidden="true" height="16" viewBox="0 0 16 16" version="1.1" width="16" data-view-component="true" class="octicon octicon-heart">
    <path d="m8 14.25.345.666a.75.75 0 0 1-.69 0l-.008-.004-.018-.01a7.152 7.152 0 0 1-.31-.17 22.055 22.055 0 0 1-3.434-2.414C2.045 10.731 0 8.35 0 5.5 0 2.836 2.086 1 4.25 1 5.797 1 7.153 1.802 8 3.02 8.847 1.802 10.203 1 11.75 1 13.914 1 16 2.836 16 5.5c0 2.85-2.045 5.231-3.885 6.818a22.066 22.066 0 0 1-3.744 2.584l-.018.01-.006.003h-.002ZM4.25 2.5c-1.336 0-2.75 1.164-2.75 3 0 2.15 1.58 4.144 3.365 5.682A20.58 20.58 0 0 0 8 13.393a20.58 20.58 0 0 0 3.135-2.211C12.92 9.644 14.5 7.65 14.5 5.5c0-1.836-1.414-3-2.75-3-1.373 0-2.609.986-3.029 2.456a.749.749 0 0 1-1.442 0C6.859 3.486 5.623 2.5 4.25 2.5Z"></path>
</svg>
</template>

<template id="server-icon">
  <svg aria-hidden="true" height="16" viewBox="0 0 16 16" version="1.1" width="16" data-view-component="true" class="octicon octicon-server">
    <path d="M1.75 1h12.5c.966 0 1.75.784 1.75 1.75v4c0 .372-.116.717-.314 1 .198.283.314.628.314 1v4a1.75 1.75 0 0 1-1.75 1.75H1.75A1.75 1.75 0 0 1 0 12.75v-4c0-.358.109-.707.314-1a1.739 1.739 0 0 1-.314-1v-4C0 1.784.784 1 1.75 1ZM1.5 2.75v4c0 .138.112.25.25.25h12.5a.25.25 0 0 0 .25-.25v-4a.25.25 0 0 0-.25-.25H1.75a.25.25 0 0 0-.25.25Zm.25 5.75a.25.25 0 0 0-.25.25v4c0 .138.112.25.25.25h12.5a.25.25 0 0 0 .25-.25v-4a.25.25 0 0 0-.25-.25ZM7 4.75A.75.75 0 0 1 7.75 4h4.5a.75.75 0 0 1 0 1.5h-4.5A.75.75 0 0 1 7 4.75ZM7.75 10h4.5a.75.75 0 0 1 0 1.5h-4.5a.75.75 0 0 1 0-1.5ZM3 4.75A.75.75 0 0 1 3.75 4h.5a.75.75 0 0 1 0 1.5h-.5A.75.75 0 0 1 3 4.75ZM3.75 10h.5a.75.75 0 0 1 0 1.5h-.5a.75.75 0 0 1 0-1.5Z"></path>
</svg>
</template>

<template id="globe-icon">
  <svg aria-hidden="true" height="16" viewBox="0 0 16 16" version="1.1" width="16" data-view-component="true" class="octicon octicon-globe">
    <path d="M8 0a8 8 0 1 1 0 16A8 8 0 0 1 8 0ZM5.78 8.75a9.64 9.64 0 0 0 1.363 4.177c.255.426.542.832.857 1.215.245-.296.551-.705.857-1.215A9.64 9.64 0 0 0 10.22 8.75Zm4.44-1.5a9.64 9.64 0 0 0-1.363-4.177c-.307-.51-.612-.919-.857-1.215a9.927 9.927 0 0 0-.857 1.215A9.64 9.64 0 0 0 5.78 7.25Zm-5.944 1.5H1.543a6.507 6.507 0 0 0 4.666 5.5c-.123-.181-.24-.365-.352-.552-.715-1.192-1.437-2.874-1.581-4.948Zm-2.733-1.5h2.733c.144-2.074.866-3.756 1.58-4.948.12-.197.237-.381.353-.552a6.507 6.507 0 0 0-4.666 5.5Zm10.181 1.5c-.144 2.074-.866 3.756-1.58 4.948-.12.197-.237.381-.353.552a6.507 6.507 0 0 0 4.666-5.5Zm2.733-1.5a6.507 6.507 0 0 0-4.666-5.5c.123.181.24.365.353.552.714 1.192 1.436 2.874 1.58 4.948Z"></path>
</svg>
</template>

<template id="issue-opened-icon">
  <svg aria-hidden="true" height="16" viewBox="0 0 16 16" version="1.1" width="16" data-view-component="true" class="octicon octicon-issue-opened">
    <path d="M8 9.5a1.5 1.5 0 1 0 0-3 1.5 1.5 0 0 0 0 3Z"></path><path d="M8 0a8 8 0 1 1 0 16A8 8 0 0 1 8 0ZM1.5 8a6.5 6.5 0 1 0 13 0 6.5 6.5 0 0 0-13 0Z"></path>
</svg>
</template>

<template id="device-mobile-icon">
  <svg aria-hidden="true" height="16" viewBox="0 0 16 16" version="1.1" width="16" data-view-component="true" class="octicon octicon-device-mobile">
    <path d="M3.75 0h8.5C13.216 0 14 .784 14 1.75v12.5A1.75 1.75 0 0 1 12.25 16h-8.5A1.75 1.75 0 0 1 2 14.25V1.75C2 .784 2.784 0 3.75 0ZM3.5 1.75v12.5c0 .138.112.25.25.25h8.5a.25.25 0 0 0 .25-.25V1.75a.25.25 0 0 0-.25-.25h-8.5a.25.25 0 0 0-.25.25ZM8 13a1 1 0 1 1 0-2 1 1 0 0 1 0 2Z"></path>
</svg>
</template>

<template id="package-icon">
  <svg aria-hidden="true" height="16" viewBox="0 0 16 16" version="1.1" width="16" data-view-component="true" class="octicon octicon-package">
    <path d="m8.878.392 5.25 3.045c.54.314.872.89.872 1.514v6.098a1.75 1.75 0 0 1-.872 1.514l-5.25 3.045a1.75 1.75 0 0 1-1.756 0l-5.25-3.045A1.75 1.75 0 0 1 1 11.049V4.951c0-.624.332-1.201.872-1.514L7.122.392a1.75 1.75 0 0 1 1.756 0ZM7.875 1.69l-4.63 2.685L8 7.133l4.755-2.758-4.63-2.685a.248.248 0 0 0-.25 0ZM2.5 5.677v5.372c0 .09.047.171.125.216l4.625 2.683V8.432Zm6.25 8.271 4.625-2.683a.25.25 0 0 0 .125-.216V5.677L8.75 8.432Z"></path>
</svg>
</template>

<template id="credit-card-icon">
  <svg aria-hidden="true" height="16" viewBox="0 0 16 16" version="1.1" width="16" data-view-component="true" class="octicon octicon-credit-card">
    <path d="M10.75 9a.75.75 0 0 0 0 1.5h1.5a.75.75 0 0 0 0-1.5h-1.5Z"></path><path d="M0 3.75C0 2.784.784 2 1.75 2h12.5c.966 0 1.75.784 1.75 1.75v8.5A1.75 1.75 0 0 1 14.25 14H1.75A1.75 1.75 0 0 1 0 12.25ZM14.5 6.5h-13v5.75c0 .138.112.25.25.25h12.5a.25.25 0 0 0 .25-.25Zm0-2.75a.25.25 0 0 0-.25-.25H1.75a.25.25 0 0 0-.25.25V5h13Z"></path>
</svg>
</template>

<template id="play-icon">
  <svg aria-hidden="true" height="16" viewBox="0 0 16 16" version="1.1" width="16" data-view-component="true" class="octicon octicon-play">
    <path d="M8 0a8 8 0 1 1 0 16A8 8 0 0 1 8 0ZM1.5 8a6.5 6.5 0 1 0 13 0 6.5 6.5 0 0 0-13 0Zm4.879-2.773 4.264 2.559a.25.25 0 0 1 0 .428l-4.264 2.559A.25.25 0 0 1 6 10.559V5.442a.25.25 0 0 1 .379-.215Z"></path>
</svg>
</template>

<template id="gift-icon">
  <svg aria-hidden="true" height="16" viewBox="0 0 16 16" version="1.1" width="16" data-view-component="true" class="octicon octicon-gift">
    <path d="M2 2.75A2.75 2.75 0 0 1 4.75 0c.983 0 1.873.42 2.57 1.232.268.318.497.668.68 1.042.183-.375.411-.725.68-1.044C9.376.42 10.266 0 11.25 0a2.75 2.75 0 0 1 2.45 4h.55c.966 0 1.75.784 1.75 1.75v2c0 .698-.409 1.301-1 1.582v4.918A1.75 1.75 0 0 1 13.25 16H2.75A1.75 1.75 0 0 1 1 14.25V9.332C.409 9.05 0 8.448 0 7.75v-2C0 4.784.784 4 1.75 4h.55c-.192-.375-.3-.8-.3-1.25ZM7.25 9.5H2.5v4.75c0 .138.112.25.25.25h4.5Zm1.5 0v5h4.5a.25.25 0 0 0 .25-.25V9.5Zm0-4V8h5.5a.25.25 0 0 0 .25-.25v-2a.25.25 0 0 0-.25-.25Zm-7 0a.25.25 0 0 0-.25.25v2c0 .138.112.25.25.25h5.5V5.5h-5.5Zm3-4a1.25 1.25 0 0 0 0 2.5h2.309c-.233-.818-.542-1.401-.878-1.793-.43-.502-.915-.707-1.431-.707ZM8.941 4h2.309a1.25 1.25 0 0 0 0-2.5c-.516 0-1 .205-1.43.707-.337.392-.646.975-.879 1.793Z"></path>
</svg>
</template>

<template id="code-square-icon">
  <svg aria-hidden="true" height="16" viewBox="0 0 16 16" version="1.1" width="16" data-view-component="true" class="octicon octicon-code-square">
    <path d="M0 1.75C0 .784.784 0 1.75 0h12.5C15.216 0 16 .784 16 1.75v12.5A1.75 1.75 0 0 1 14.25 16H1.75A1.75 1.75 0 0 1 0 14.25Zm1.75-.25a.25.25 0 0 0-.25.25v12.5c0 .138.112.25.25.25h12.5a.25.25 0 0 0 .25-.25V1.75a.25.25 0 0 0-.25-.25Zm7.47 3.97a.75.75 0 0 1 1.06 0l2 2a.75.75 0 0 1 0 1.06l-2 2a.749.749 0 0 1-1.275-.326.749.749 0 0 1 .215-.734L10.69 8 9.22 6.53a.75.75 0 0 1 0-1.06ZM6.78 6.53 5.31 8l1.47 1.47a.749.749 0 0 1-.326 1.275.749.749 0 0 1-.734-.215l-2-2a.75.75 0 0 1 0-1.06l2-2a.751.751 0 0 1 1.042.018.751.751 0 0 1 .018 1.042Z"></path>
</svg>
</template>

<template id="device-desktop-icon">
  <svg aria-hidden="true" height="16" viewBox="0 0 16 16" version="1.1" width="16" data-view-component="true" class="octicon octicon-device-desktop">
    <path d="M14.25 1c.966 0 1.75.784 1.75 1.75v7.5A1.75 1.75 0 0 1 14.25 12h-3.727c.099 1.041.52 1.872 1.292 2.757A.752.752 0 0 1 11.25 16h-6.5a.75.75 0 0 1-.565-1.243c.772-.885 1.192-1.716 1.292-2.757H1.75A1.75 1.75 0 0 1 0 10.25v-7.5C0 1.784.784 1 1.75 1ZM1.75 2.5a.25.25 0 0 0-.25.25v7.5c0 .138.112.25.25.25h12.5a.25.25 0 0 0 .25-.25v-7.5a.25.25 0 0 0-.25-.25ZM9.018 12H6.982a5.72 5.72 0 0 1-.765 2.5h3.566a5.72 5.72 0 0 1-.765-2.5Z"></path>
</svg>
</template>

        <div class="position-relative">
                <ul
                  role="listbox"
                  class="ActionListWrap QueryBuilder-ListWrap"
                  aria-label="Suggestions"
                  data-action="
                    combobox-commit:query-builder#comboboxCommit
                    mousedown:query-builder#resultsMousedown
                  "
                  data-target="query-builder.resultsList"
                  data-persist-list=false
                  id="query-builder-test-results"
                ></ul>
        </div>
      <div class="FormControl-inlineValidation" id="validation-45042010-aaea-48b8-b559-bffe2e3bb5bc" hidden="hidden">
        <span class="FormControl-inlineValidation--visual">
          <svg aria-hidden="true" height="12" viewBox="0 0 12 12" version="1.1" width="12" data-view-component="true" class="octicon octicon-alert-fill">
    <path d="M4.855.708c.5-.896 1.79-.896 2.29 0l4.675 8.351a1.312 1.312 0 0 1-1.146 1.954H1.33A1.313 1.313 0 0 1 .183 9.058ZM7 7V3H5v4Zm-1 3a1 1 0 1 0 0-2 1 1 0 0 0 0 2Z"></path>
</svg>
        </span>
        <span></span>
</div>    </div>
    <div data-target="query-builder.screenReaderFeedback" aria-live="polite" aria-atomic="true" class="sr-only"></div>
</query-builder></form>
          <div class="d-flex flex-row color-fg-muted px-3 text-small color-bg-default search-feedback-prompt">
            <a target="_blank" href="https://docs.github.com/search-github/github-code-search/understanding-github-code-search-syntax" data-view-component="true" class="Link color-fg-accent text-normal ml-2">
              Search syntax tips
</a>            <div class="d-flex flex-1"></div>
          </div>
        </div>
</div>

    </div>
</modal-dialog></div>
  </div>
  <div data-action="click:qbsearch-input#retract" class="dark-backdrop position-fixed" hidden data-target="qbsearch-input.darkBackdrop"></div>
  <div class="color-fg-default">
    
<dialog-helper>
  <dialog data-target="qbsearch-input.feedbackDialog" data-action="close:qbsearch-input#handleDialogClose cancel:qbsearch-input#handleDialogClose" id="feedback-dialog" aria-modal="true" aria-labelledby="feedback-dialog-title" aria-describedby="feedback-dialog-description" data-view-component="true" class="Overlay Overlay-whenNarrow Overlay--size-medium Overlay--motion-scaleFade">
    <div data-view-component="true" class="Overlay-header">
  <div class="Overlay-headerContentWrap">
    <div class="Overlay-titleWrap">
      <h1 class="Overlay-title " id="feedback-dialog-title">
        Provide feedback
      </h1>
        
    </div>
    <div class="Overlay-actionWrap">
      <button data-close-dialog-id="feedback-dialog" aria-label="Close" type="button" data-view-component="true" class="close-button Overlay-closeButton"><svg aria-hidden="true" height="16" viewBox="0 0 16 16" version="1.1" width="16" data-view-component="true" class="octicon octicon-x">
    <path d="M3.72 3.72a.75.75 0 0 1 1.06 0L8 6.94l3.22-3.22a.749.749 0 0 1 1.275.326.749.749 0 0 1-.215.734L9.06 8l3.22 3.22a.749.749 0 0 1-.326 1.275.749.749 0 0 1-.734-.215L8 9.06l-3.22 3.22a.751.751 0 0 1-1.042-.018.751.751 0 0 1-.018-1.042L6.94 8 3.72 4.78a.75.75 0 0 1 0-1.06Z"></path>
</svg></button>
    </div>
  </div>
  
</div>
      <scrollable-region data-labelled-by="feedback-dialog-title">
        <div data-view-component="true" class="Overlay-body">        <!-- '"` --><!-- </textarea></xmp> --></option></form><form id="code-search-feedback-form" data-turbo="false" action="/search/feedback" accept-charset="UTF-8" method="post"><input type="hidden" data-csrf="true" name="authenticity_token" value="DjfPlLuh9fchtAjH78xepyN3+EFlWksE2TEpS9iAnfCAMK0sVA9IIfDT9pTknrDLOklE3LpHnBRmzfeCEDiTlg==" />
          <p>We read every piece of feedback, and take your input very seriously.</p>
          <textarea name="feedback" class="form-control width-full mb-2" style="height: 120px" id="feedback"></textarea>
          <input name="include_email" id="include_email" aria-label="Include my email address so I can be contacted" class="form-control mr-2" type="checkbox">
          <label for="include_email" style="font-weight: normal">Include my email address so I can be contacted</label>
</form></div>
      </scrollable-region>
      <div data-view-component="true" class="Overlay-footer Overlay-footer--alignEnd">          <button data-close-dialog-id="feedback-dialog" type="button" data-view-component="true" class="btn">    Cancel
</button>
          <button form="code-search-feedback-form" data-action="click:qbsearch-input#submitFeedback" type="submit" data-view-component="true" class="btn-primary btn">    Submit feedback
</button>
</div>
</dialog></dialog-helper>

    <custom-scopes data-target="qbsearch-input.customScopesManager">
    
<dialog-helper>
  <dialog data-target="custom-scopes.customScopesModalDialog" data-action="close:qbsearch-input#handleDialogClose cancel:qbsearch-input#handleDialogClose" id="custom-scopes-dialog" aria-modal="true" aria-labelledby="custom-scopes-dialog-title" aria-describedby="custom-scopes-dialog-description" data-view-component="true" class="Overlay Overlay-whenNarrow Overlay--size-medium Overlay--motion-scaleFade">
    <div data-view-component="true" class="Overlay-header Overlay-header--divided">
  <div class="Overlay-headerContentWrap">
    <div class="Overlay-titleWrap">
      <h1 class="Overlay-title " id="custom-scopes-dialog-title">
        Saved searches
      </h1>
        <h2 id="custom-scopes-dialog-description" class="Overlay-description">Use saved searches to filter your results more quickly</h2>
    </div>
    <div class="Overlay-actionWrap">
      <button data-close-dialog-id="custom-scopes-dialog" aria-label="Close" type="button" data-view-component="true" class="close-button Overlay-closeButton"><svg aria-hidden="true" height="16" viewBox="0 0 16 16" version="1.1" width="16" data-view-component="true" class="octicon octicon-x">
    <path d="M3.72 3.72a.75.75 0 0 1 1.06 0L8 6.94l3.22-3.22a.749.749 0 0 1 1.275.326.749.749 0 0 1-.215.734L9.06 8l3.22 3.22a.749.749 0 0 1-.326 1.275.749.749 0 0 1-.734-.215L8 9.06l-3.22 3.22a.751.751 0 0 1-1.042-.018.751.751 0 0 1-.018-1.042L6.94 8 3.72 4.78a.75.75 0 0 1 0-1.06Z"></path>
</svg></button>
    </div>
  </div>
  
</div>
      <scrollable-region data-labelled-by="custom-scopes-dialog-title">
        <div data-view-component="true" class="Overlay-body">        <div data-target="custom-scopes.customScopesModalDialogFlash"></div>

        <div hidden class="create-custom-scope-form" data-target="custom-scopes.createCustomScopeForm">
        <!-- '"` --><!-- </textarea></xmp> --></option></form><form id="custom-scopes-dialog-form" data-turbo="false" action="/search/custom_scopes" accept-charset="UTF-8" method="post"><input type="hidden" data-csrf="true" name="authenticity_token" value="CgP8IHR80dq05YM/ztz+kND9tqB89P/NZwHx59h0DqzRczl0Ryx3U+c5nsUV0rk5qfBeXVa77N41SIxcuqA7bA==" />
          <div data-target="custom-scopes.customScopesModalDialogFlash"></div>

          <input type="hidden" id="custom_scope_id" name="custom_scope_id" data-target="custom-scopes.customScopesIdField">

          <div class="form-group">
            <label for="custom_scope_name">Name</label>
            <auto-check src="/search/custom_scopes/check_name" required>
              <input
                type="text"
                name="custom_scope_name"
                id="custom_scope_name"
                data-target="custom-scopes.customScopesNameField"
                class="form-control"
                autocomplete="off"
                placeholder="github-ruby"
                required
                maxlength="50">
              <input type="hidden" data-csrf="true" value="YsteQsnPPiTqL+6s2B3xdxEFadKO/FxW0JN+OM1pAXCXWysmhMKyxYs9/BfDlfRTGsmP9xdBdLEl2mmQ3D0Vkg==" />
            </auto-check>
          </div>

          <div class="form-group">
            <label for="custom_scope_query">Query</label>
            <input
              type="text"
              name="custom_scope_query"
              id="custom_scope_query"
              data-target="custom-scopes.customScopesQueryField"
              class="form-control"
              autocomplete="off"
              placeholder="(repo:mona/a OR repo:mona/b) AND lang:python"
              required
              maxlength="500">
          </div>

          <p class="text-small color-fg-muted">
            To see all available qualifiers, see our <a class="Link--inTextBlock" href="https://docs.github.com/search-github/github-code-search/understanding-github-code-search-syntax">documentation</a>.
          </p>
</form>        </div>

        <div data-target="custom-scopes.manageCustomScopesForm">
          <div data-target="custom-scopes.list"></div>
        </div>

</div>
      </scrollable-region>
      <div data-view-component="true" class="Overlay-footer Overlay-footer--alignEnd Overlay-footer--divided">          <button data-action="click:custom-scopes#customScopesCancel" type="button" data-view-component="true" class="btn">    Cancel
</button>
          <button form="custom-scopes-dialog-form" data-action="click:custom-scopes#customScopesSubmit" data-target="custom-scopes.customScopesSubmitButton" type="submit" data-view-component="true" class="btn-primary btn">    Create saved search
</button>
</div>
</dialog></dialog-helper>
    </custom-scopes>
  </div>
</qbsearch-input><input type="hidden" data-csrf="true" class="js-data-jump-to-suggestions-path-csrf" value="xD/uYodKzz+GgRqtgKWFpiNl8zxJuj+fCjn9Ovtd0otPak0AoVsxR72kHbqk6P1ghy+GBnrq9mKJtDtRpXO6Jw==" />


          <div class="position-relative mr-lg-3 d-lg-inline-block">
            <a href="/login?return_to=https%3A%2F%2Fgithub.com%2FArijit1080%2FLicence-Plate-Detection-using-YOLO-V8%2Fblob%2Fmain%2FLicence_Plate_Detection_YOLO_V8.ipynb"
              class="HeaderMenu-link HeaderMenu-link--sign-in flex-shrink-0 no-underline d-block d-lg-inline-block border border-lg-0 rounded rounded-lg-0 p-2 p-lg-0"
              data-hydro-click="{&quot;event_type&quot;:&quot;authentication.click&quot;,&quot;payload&quot;:{&quot;location_in_page&quot;:&quot;site header menu&quot;,&quot;repository_id&quot;:null,&quot;auth_type&quot;:&quot;SIGN_UP&quot;,&quot;originating_url&quot;:&quot;https://github.com/Arijit1080/Licence-Plate-Detection-using-YOLO-V8/blob/main/Licence_Plate_Detection_YOLO_V8.ipynb&quot;,&quot;user_id&quot;:null}}" data-hydro-click-hmac="37d05d167d268ff2b5c111fc5c92d356ea0d63d819ba17b97225aa6c0a84fdd9"
              data-ga-click="(Logged out) Header, clicked Sign in, text:sign-in">
              Sign in
            </a>
          </div>

            <a href="/signup?ref_cta=Sign+up&amp;ref_loc=header+logged+out&amp;ref_page=%2F%3Cuser-name%3E%2F%3Crepo-name%3E%2Fblob%2Fshow&amp;source=header-repo&amp;source_repo=Arijit1080%2FLicence-Plate-Detection-using-YOLO-V8"
              class="HeaderMenu-link HeaderMenu-link--sign-up flex-shrink-0 d-none d-lg-inline-block no-underline border color-border-default rounded px-2 py-1"
              data-hydro-click="{&quot;event_type&quot;:&quot;authentication.click&quot;,&quot;payload&quot;:{&quot;location_in_page&quot;:&quot;site header menu&quot;,&quot;repository_id&quot;:null,&quot;auth_type&quot;:&quot;SIGN_UP&quot;,&quot;originating_url&quot;:&quot;https://github.com/Arijit1080/Licence-Plate-Detection-using-YOLO-V8/blob/main/Licence_Plate_Detection_YOLO_V8.ipynb&quot;,&quot;user_id&quot;:null}}" data-hydro-click-hmac="37d05d167d268ff2b5c111fc5c92d356ea0d63d819ba17b97225aa6c0a84fdd9"
              data-analytics-event="{&quot;category&quot;:&quot;Sign up&quot;,&quot;action&quot;:&quot;click to sign up for account&quot;,&quot;label&quot;:&quot;ref_page:/&lt;user-name&gt;/&lt;repo-name&gt;/blob/show;ref_cta:Sign up;ref_loc:header logged out&quot;}"
            >
              Sign up
            </a>
        </div>
      </div>
    </div>
  </div>
</header>

      <div hidden="hidden" data-view-component="true" class="js-stale-session-flash stale-session-flash flash flash-warn flash-full mb-3">
  
        <svg aria-hidden="true" height="16" viewBox="0 0 16 16" version="1.1" width="16" data-view-component="true" class="octicon octicon-alert">
    <path d="M6.457 1.047c.659-1.234 2.427-1.234 3.086 0l6.082 11.378A1.75 1.75 0 0 1 14.082 15H1.918a1.75 1.75 0 0 1-1.543-2.575Zm1.763.707a.25.25 0 0 0-.44 0L1.698 13.132a.25.25 0 0 0 .22.368h12.164a.25.25 0 0 0 .22-.368Zm.53 3.996v2.5a.75.75 0 0 1-1.5 0v-2.5a.75.75 0 0 1 1.5 0ZM9 11a1 1 0 1 1-2 0 1 1 0 0 1 2 0Z"></path>
</svg>
        <span class="js-stale-session-flash-signed-in" hidden>You signed in with another tab or window. <a class="Link--inTextBlock" href="">Reload</a> to refresh your session.</span>
        <span class="js-stale-session-flash-signed-out" hidden>You signed out in another tab or window. <a class="Link--inTextBlock" href="">Reload</a> to refresh your session.</span>
        <span class="js-stale-session-flash-switched" hidden>You switched accounts on another tab or window. <a class="Link--inTextBlock" href="">Reload</a> to refresh your session.</span>

    <button id="icon-button-d91bf64a-989a-47be-bf93-5ee83e5caae3" aria-labelledby="tooltip-35c72aca-e8d5-4328-acfa-963ed43346f7" type="button" data-view-component="true" class="Button Button--iconOnly Button--invisible Button--medium flash-close js-flash-close">  <svg aria-hidden="true" height="16" viewBox="0 0 16 16" version="1.1" width="16" data-view-component="true" class="octicon octicon-x Button-visual">
    <path d="M3.72 3.72a.75.75 0 0 1 1.06 0L8 6.94l3.22-3.22a.749.749 0 0 1 1.275.326.749.749 0 0 1-.215.734L9.06 8l3.22 3.22a.749.749 0 0 1-.326 1.275.749.749 0 0 1-.734-.215L8 9.06l-3.22 3.22a.751.751 0 0 1-1.042-.018.751.751 0 0 1-.018-1.042L6.94 8 3.72 4.78a.75.75 0 0 1 0-1.06Z"></path>
</svg>
</button><tool-tip id="tooltip-35c72aca-e8d5-4328-acfa-963ed43346f7" for="icon-button-d91bf64a-989a-47be-bf93-5ee83e5caae3" popover="manual" data-direction="s" data-type="label" data-view-component="true" class="sr-only position-absolute">Dismiss alert</tool-tip>


  
</div>
    </div>

  <div id="start-of-content" class="show-on-focus"></div>








    <div id="js-flash-container" class="flash-container" data-turbo-replace>





  <template class="js-flash-template">
    
<div class="flash flash-full   {{ className }}">
  <div >
    <button autofocus class="flash-close js-flash-close" type="button" aria-label="Dismiss this message">
      <svg aria-hidden="true" height="16" viewBox="0 0 16 16" version="1.1" width="16" data-view-component="true" class="octicon octicon-x">
    <path d="M3.72 3.72a.75.75 0 0 1 1.06 0L8 6.94l3.22-3.22a.749.749 0 0 1 1.275.326.749.749 0 0 1-.215.734L9.06 8l3.22 3.22a.749.749 0 0 1-.326 1.275.749.749 0 0 1-.734-.215L8 9.06l-3.22 3.22a.751.751 0 0 1-1.042-.018.751.751 0 0 1-.018-1.042L6.94 8 3.72 4.78a.75.75 0 0 1 0-1.06Z"></path>
</svg>
    </button>
    <div aria-atomic="true" role="alert" class="js-flash-alert">
      
      <div>{{ message }}</div>

    </div>
  </div>
</div>
  </template>
</div>


    
    <include-fragment class="js-notification-shelf-include-fragment" data-base-src="https://github.com/notifications/beta/shelf"></include-fragment>





  <div
    class="application-main "
    data-commit-hovercards-enabled
    data-discussion-hovercards-enabled
    data-issue-and-pr-hovercards-enabled
  >
        <div itemscope itemtype="http://schema.org/SoftwareSourceCode" class="">
    <main id="js-repo-pjax-container" >
      
      






  
  <div id="repository-container-header"  class="pt-3 hide-full-screen" style="background-color: var(--page-header-bgColor, var(--color-page-header-bg));" data-turbo-replace>

      <div class="d-flex flex-wrap flex-justify-end mb-3  px-3 px-md-4 px-lg-5" style="gap: 1rem;">

        <div class="flex-auto min-width-0 width-fit mr-3">
            
  <div class=" d-flex flex-wrap flex-items-center wb-break-word f3 text-normal">
      <svg aria-hidden="true" height="16" viewBox="0 0 16 16" version="1.1" width="16" data-view-component="true" class="octicon octicon-repo color-fg-muted mr-2">
    <path d="M2 2.5A2.5 2.5 0 0 1 4.5 0h8.75a.75.75 0 0 1 .75.75v12.5a.75.75 0 0 1-.75.75h-2.5a.75.75 0 0 1 0-1.5h1.75v-2h-8a1 1 0 0 0-.714 1.7.75.75 0 1 1-1.072 1.05A2.495 2.495 0 0 1 2 11.5Zm10.5-1h-8a1 1 0 0 0-1 1v6.708A2.486 2.486 0 0 1 4.5 9h8ZM5 12.25a.25.25 0 0 1 .25-.25h3.5a.25.25 0 0 1 .25.25v3.25a.25.25 0 0 1-.4.2l-1.45-1.087a.249.249 0 0 0-.3 0L5.4 15.7a.25.25 0 0 1-.4-.2Z"></path>
</svg>
    
    <span class="author flex-self-stretch" itemprop="author">
      <a class="url fn" rel="author" data-hovercard-type="user" data-hovercard-url="/users/Arijit1080/hovercard" data-octo-click="hovercard-link-click" data-octo-dimensions="link_type:self" href="/Arijit1080">
        Arijit1080
</a>    </span>
    <span class="mx-1 flex-self-stretch color-fg-muted">/</span>
    <strong itemprop="name" class="mr-2 flex-self-stretch">
      <a data-pjax="#repo-content-pjax-container" data-turbo-frame="repo-content-turbo-frame" href="/Arijit1080/Licence-Plate-Detection-using-YOLO-V8">Licence-Plate-Detection-using-YOLO-V8</a>
    </strong>

    <span></span><span class="Label Label--secondary v-align-middle mr-1">Public</span>
  </div>


        </div>

        <div id="repository-details-container" data-turbo-replace>
            <ul class="pagehead-actions flex-shrink-0 d-none d-md-inline" style="padding: 2px 0;">
    
      

  <li>
            <a href="/login?return_to=%2FArijit1080%2FLicence-Plate-Detection-using-YOLO-V8" rel="nofollow" id="repository-details-watch-button" data-hydro-click="{&quot;event_type&quot;:&quot;authentication.click&quot;,&quot;payload&quot;:{&quot;location_in_page&quot;:&quot;notification subscription menu watch&quot;,&quot;repository_id&quot;:null,&quot;auth_type&quot;:&quot;LOG_IN&quot;,&quot;originating_url&quot;:&quot;https://github.com/Arijit1080/Licence-Plate-Detection-using-YOLO-V8/blob/main/Licence_Plate_Detection_YOLO_V8.ipynb&quot;,&quot;user_id&quot;:null}}" data-hydro-click-hmac="594e01aa693e06abd66e605ff41b844d03d762d5509035c4dc206f62bf914dd2" aria-label="You must be signed in to change notification settings" data-view-component="true" class="btn-sm btn">    <svg aria-hidden="true" height="16" viewBox="0 0 16 16" version="1.1" width="16" data-view-component="true" class="octicon octicon-bell mr-2">
    <path d="M8 16a2 2 0 0 0 1.985-1.75c.017-.137-.097-.25-.235-.25h-3.5c-.138 0-.252.113-.235.25A2 2 0 0 0 8 16ZM3 5a5 5 0 0 1 10 0v2.947c0 .05.015.098.042.139l1.703 2.555A1.519 1.519 0 0 1 13.482 13H2.518a1.516 1.516 0 0 1-1.263-2.36l1.703-2.554A.255.255 0 0 0 3 7.947Zm5-3.5A3.5 3.5 0 0 0 4.5 5v2.947c0 .346-.102.683-.294.97l-1.703 2.556a.017.017 0 0 0-.003.01l.001.006c0 .002.002.004.004.006l.006.004.007.001h10.964l.007-.001.006-.004.004-.006.001-.007a.017.017 0 0 0-.003-.01l-1.703-2.554a1.745 1.745 0 0 1-.294-.97V5A3.5 3.5 0 0 0 8 1.5Z"></path>
</svg>Notifications
</a>    <tool-tip id="tooltip-2062e015-d6b0-4fbd-8239-46fe084a9b1a" for="repository-details-watch-button" popover="manual" data-direction="s" data-type="description" data-view-component="true" class="sr-only position-absolute">You must be signed in to change notification settings</tool-tip>

  </li>

  <li>
          <a icon="repo-forked" id="fork-button" href="/login?return_to=%2FArijit1080%2FLicence-Plate-Detection-using-YOLO-V8" rel="nofollow" data-hydro-click="{&quot;event_type&quot;:&quot;authentication.click&quot;,&quot;payload&quot;:{&quot;location_in_page&quot;:&quot;repo details fork button&quot;,&quot;repository_id&quot;:686261721,&quot;auth_type&quot;:&quot;LOG_IN&quot;,&quot;originating_url&quot;:&quot;https://github.com/Arijit1080/Licence-Plate-Detection-using-YOLO-V8/blob/main/Licence_Plate_Detection_YOLO_V8.ipynb&quot;,&quot;user_id&quot;:null}}" data-hydro-click-hmac="0bd794d5d46e2d7790dc5e63e6a8e1030d223255bb56e5cd4501e8477aa7ef3b" data-view-component="true" class="btn-sm btn">    <svg aria-hidden="true" height="16" viewBox="0 0 16 16" version="1.1" width="16" data-view-component="true" class="octicon octicon-repo-forked mr-2">
    <path d="M5 5.372v.878c0 .414.336.75.75.75h4.5a.75.75 0 0 0 .75-.75v-.878a2.25 2.25 0 1 1 1.5 0v.878a2.25 2.25 0 0 1-2.25 2.25h-1.5v2.128a2.251 2.251 0 1 1-1.5 0V8.5h-1.5A2.25 2.25 0 0 1 3.5 6.25v-.878a2.25 2.25 0 1 1 1.5 0ZM5 3.25a.75.75 0 1 0-1.5 0 .75.75 0 0 0 1.5 0Zm6.75.75a.75.75 0 1 0 0-1.5.75.75 0 0 0 0 1.5Zm-3 8.75a.75.75 0 1 0-1.5 0 .75.75 0 0 0 1.5 0Z"></path>
</svg>Fork
    <span id="repo-network-counter" data-pjax-replace="true" data-turbo-replace="true" title="16" data-view-component="true" class="Counter">16</span>
</a>
  </li>

  <li>
        <div data-view-component="true" class="BtnGroup d-flex">
        <a href="/login?return_to=%2FArijit1080%2FLicence-Plate-Detection-using-YOLO-V8" rel="nofollow" data-hydro-click="{&quot;event_type&quot;:&quot;authentication.click&quot;,&quot;payload&quot;:{&quot;location_in_page&quot;:&quot;star button&quot;,&quot;repository_id&quot;:686261721,&quot;auth_type&quot;:&quot;LOG_IN&quot;,&quot;originating_url&quot;:&quot;https://github.com/Arijit1080/Licence-Plate-Detection-using-YOLO-V8/blob/main/Licence_Plate_Detection_YOLO_V8.ipynb&quot;,&quot;user_id&quot;:null}}" data-hydro-click-hmac="be4ef9b7d8c5521a003260774a57138898f2f9163723f0d700d5d81799b7fa34" aria-label="You must be signed in to star a repository" data-view-component="true" class="tooltipped tooltipped-s btn-sm btn BtnGroup-item">    <svg aria-hidden="true" height="16" viewBox="0 0 16 16" version="1.1" width="16" data-view-component="true" class="octicon octicon-star v-align-text-bottom d-inline-block mr-2">
    <path d="M8 .25a.75.75 0 0 1 .673.418l1.882 3.815 4.21.612a.75.75 0 0 1 .416 1.279l-3.046 2.97.719 4.192a.751.751 0 0 1-1.088.791L8 12.347l-3.766 1.98a.75.75 0 0 1-1.088-.79l.72-4.194L.818 6.374a.75.75 0 0 1 .416-1.28l4.21-.611L7.327.668A.75.75 0 0 1 8 .25Zm0 2.445L6.615 5.5a.75.75 0 0 1-.564.41l-3.097.45 2.24 2.184a.75.75 0 0 1 .216.664l-.528 3.084 2.769-1.456a.75.75 0 0 1 .698 0l2.77 1.456-.53-3.084a.75.75 0 0 1 .216-.664l2.24-2.183-3.096-.45a.75.75 0 0 1-.564-.41L8 2.694Z"></path>
</svg><span data-view-component="true" class="d-inline">
          Star
</span>          <span id="repo-stars-counter-star" aria-label="14 users starred this repository" data-singular-suffix="user starred this repository" data-plural-suffix="users starred this repository" data-turbo-replace="true" title="14" data-view-component="true" class="Counter js-social-count">14</span>
</a>        <button aria-label="You must be signed in to add this repository to a list" type="button" disabled="disabled" data-view-component="true" class="btn-sm btn BtnGroup-item px-2">    <svg aria-hidden="true" height="16" viewBox="0 0 16 16" version="1.1" width="16" data-view-component="true" class="octicon octicon-triangle-down">
    <path d="m4.427 7.427 3.396 3.396a.25.25 0 0 0 .354 0l3.396-3.396A.25.25 0 0 0 11.396 7H4.604a.25.25 0 0 0-.177.427Z"></path>
</svg>
</button></div>
  </li>

    <li>
        

    </li>
</ul>

        </div>
      </div>

        <div id="responsive-meta-container" data-turbo-replace>
</div>


          <nav data-pjax="#js-repo-pjax-container" aria-label="Repository" data-view-component="true" class="js-repo-nav js-sidenav-container-pjax js-responsive-underlinenav overflow-hidden UnderlineNav px-3 px-md-4 px-lg-5">

  <ul data-view-component="true" class="UnderlineNav-body list-style-none">
      <li data-view-component="true" class="d-inline-flex">
  <a id="code-tab" href="/Arijit1080/Licence-Plate-Detection-using-YOLO-V8" data-tab-item="i0code-tab" data-selected-links="repo_source repo_downloads repo_commits repo_releases repo_tags repo_branches repo_packages repo_deployments repo_attestations /Arijit1080/Licence-Plate-Detection-using-YOLO-V8" data-pjax="#repo-content-pjax-container" data-turbo-frame="repo-content-turbo-frame" data-hotkey="g c" data-analytics-event="{&quot;category&quot;:&quot;Underline navbar&quot;,&quot;action&quot;:&quot;Click tab&quot;,&quot;label&quot;:&quot;Code&quot;,&quot;target&quot;:&quot;UNDERLINE_NAV.TAB&quot;}" aria-current="page" data-view-component="true" class="UnderlineNav-item no-wrap js-responsive-underlinenav-item js-selected-navigation-item selected">
    
              <svg aria-hidden="true" height="16" viewBox="0 0 16 16" version="1.1" width="16" data-view-component="true" class="octicon octicon-code UnderlineNav-octicon d-none d-sm-inline">
    <path d="m11.28 3.22 4.25 4.25a.75.75 0 0 1 0 1.06l-4.25 4.25a.749.749 0 0 1-1.275-.326.749.749 0 0 1 .215-.734L13.94 8l-3.72-3.72a.749.749 0 0 1 .326-1.275.749.749 0 0 1 .734.215Zm-6.56 0a.751.751 0 0 1 1.042.018.751.751 0 0 1 .018 1.042L2.06 8l3.72 3.72a.749.749 0 0 1-.326 1.275.749.749 0 0 1-.734-.215L.47 8.53a.75.75 0 0 1 0-1.06Z"></path>
</svg>
        <span data-content="Code">Code</span>
          <span id="code-repo-tab-count" data-pjax-replace="" data-turbo-replace="" title="Not available" data-view-component="true" class="Counter"></span>


    
</a></li>
      <li data-view-component="true" class="d-inline-flex">
  <a id="issues-tab" href="/Arijit1080/Licence-Plate-Detection-using-YOLO-V8/issues" data-tab-item="i1issues-tab" data-selected-links="repo_issues repo_labels repo_milestones /Arijit1080/Licence-Plate-Detection-using-YOLO-V8/issues /_view_fragments/issues/index/Arijit1080/Licence-Plate-Detection-using-YOLO-V8/layout" data-pjax="#repo-content-pjax-container" data-turbo-frame="repo-content-turbo-frame" data-hotkey="g i" data-analytics-event="{&quot;category&quot;:&quot;Underline navbar&quot;,&quot;action&quot;:&quot;Click tab&quot;,&quot;label&quot;:&quot;Issues&quot;,&quot;target&quot;:&quot;UNDERLINE_NAV.TAB&quot;}" data-view-component="true" class="UnderlineNav-item no-wrap js-responsive-underlinenav-item js-selected-navigation-item">
    
              <svg aria-hidden="true" height="16" viewBox="0 0 16 16" version="1.1" width="16" data-view-component="true" class="octicon octicon-issue-opened UnderlineNav-octicon d-none d-sm-inline">
    <path d="M8 9.5a1.5 1.5 0 1 0 0-3 1.5 1.5 0 0 0 0 3Z"></path><path d="M8 0a8 8 0 1 1 0 16A8 8 0 0 1 8 0ZM1.5 8a6.5 6.5 0 1 0 13 0 6.5 6.5 0 0 0-13 0Z"></path>
</svg>
        <span data-content="Issues">Issues</span>
          <span id="issues-repo-tab-count" data-pjax-replace="" data-turbo-replace="" title="0" hidden="hidden" data-view-component="true" class="Counter">0</span>


    
</a></li>
      <li data-view-component="true" class="d-inline-flex">
  <a id="pull-requests-tab" href="/Arijit1080/Licence-Plate-Detection-using-YOLO-V8/pulls" data-tab-item="i2pull-requests-tab" data-selected-links="repo_pulls checks /Arijit1080/Licence-Plate-Detection-using-YOLO-V8/pulls" data-pjax="#repo-content-pjax-container" data-turbo-frame="repo-content-turbo-frame" data-hotkey="g p" data-analytics-event="{&quot;category&quot;:&quot;Underline navbar&quot;,&quot;action&quot;:&quot;Click tab&quot;,&quot;label&quot;:&quot;Pull requests&quot;,&quot;target&quot;:&quot;UNDERLINE_NAV.TAB&quot;}" data-view-component="true" class="UnderlineNav-item no-wrap js-responsive-underlinenav-item js-selected-navigation-item">
    
              <svg aria-hidden="true" height="16" viewBox="0 0 16 16" version="1.1" width="16" data-view-component="true" class="octicon octicon-git-pull-request UnderlineNav-octicon d-none d-sm-inline">
    <path d="M1.5 3.25a2.25 2.25 0 1 1 3 2.122v5.256a2.251 2.251 0 1 1-1.5 0V5.372A2.25 2.25 0 0 1 1.5 3.25Zm5.677-.177L9.573.677A.25.25 0 0 1 10 .854V2.5h1A2.5 2.5 0 0 1 13.5 5v5.628a2.251 2.251 0 1 1-1.5 0V5a1 1 0 0 0-1-1h-1v1.646a.25.25 0 0 1-.427.177L7.177 3.427a.25.25 0 0 1 0-.354ZM3.75 2.5a.75.75 0 1 0 0 1.5.75.75 0 0 0 0-1.5Zm0 9.5a.75.75 0 1 0 0 1.5.75.75 0 0 0 0-1.5Zm8.25.75a.75.75 0 1 0 1.5 0 .75.75 0 0 0-1.5 0Z"></path>
</svg>
        <span data-content="Pull requests">Pull requests</span>
          <span id="pull-requests-repo-tab-count" data-pjax-replace="" data-turbo-replace="" title="0" hidden="hidden" data-view-component="true" class="Counter">0</span>


    
</a></li>
      <li data-view-component="true" class="d-inline-flex">
  <a id="actions-tab" href="/Arijit1080/Licence-Plate-Detection-using-YOLO-V8/actions" data-tab-item="i3actions-tab" data-selected-links="repo_actions /Arijit1080/Licence-Plate-Detection-using-YOLO-V8/actions" data-pjax="#repo-content-pjax-container" data-turbo-frame="repo-content-turbo-frame" data-hotkey="g a" data-analytics-event="{&quot;category&quot;:&quot;Underline navbar&quot;,&quot;action&quot;:&quot;Click tab&quot;,&quot;label&quot;:&quot;Actions&quot;,&quot;target&quot;:&quot;UNDERLINE_NAV.TAB&quot;}" data-view-component="true" class="UnderlineNav-item no-wrap js-responsive-underlinenav-item js-selected-navigation-item">
    
              <svg aria-hidden="true" height="16" viewBox="0 0 16 16" version="1.1" width="16" data-view-component="true" class="octicon octicon-play UnderlineNav-octicon d-none d-sm-inline">
    <path d="M8 0a8 8 0 1 1 0 16A8 8 0 0 1 8 0ZM1.5 8a6.5 6.5 0 1 0 13 0 6.5 6.5 0 0 0-13 0Zm4.879-2.773 4.264 2.559a.25.25 0 0 1 0 .428l-4.264 2.559A.25.25 0 0 1 6 10.559V5.442a.25.25 0 0 1 .379-.215Z"></path>
</svg>
        <span data-content="Actions">Actions</span>
          <span id="actions-repo-tab-count" data-pjax-replace="" data-turbo-replace="" title="Not available" data-view-component="true" class="Counter"></span>


    
</a></li>
      <li data-view-component="true" class="d-inline-flex">
  <a id="projects-tab" href="/Arijit1080/Licence-Plate-Detection-using-YOLO-V8/projects" data-tab-item="i4projects-tab" data-selected-links="repo_projects new_repo_project repo_project /Arijit1080/Licence-Plate-Detection-using-YOLO-V8/projects" data-pjax="#repo-content-pjax-container" data-turbo-frame="repo-content-turbo-frame" data-hotkey="g b" data-analytics-event="{&quot;category&quot;:&quot;Underline navbar&quot;,&quot;action&quot;:&quot;Click tab&quot;,&quot;label&quot;:&quot;Projects&quot;,&quot;target&quot;:&quot;UNDERLINE_NAV.TAB&quot;}" data-view-component="true" class="UnderlineNav-item no-wrap js-responsive-underlinenav-item js-selected-navigation-item">
    
              <svg aria-hidden="true" height="16" viewBox="0 0 16 16" version="1.1" width="16" data-view-component="true" class="octicon octicon-table UnderlineNav-octicon d-none d-sm-inline">
    <path d="M0 1.75C0 .784.784 0 1.75 0h12.5C15.216 0 16 .784 16 1.75v12.5A1.75 1.75 0 0 1 14.25 16H1.75A1.75 1.75 0 0 1 0 14.25ZM6.5 6.5v8h7.75a.25.25 0 0 0 .25-.25V6.5Zm8-1.5V1.75a.25.25 0 0 0-.25-.25H6.5V5Zm-13 1.5v7.75c0 .138.112.25.25.25H5v-8ZM5 5V1.5H1.75a.25.25 0 0 0-.25.25V5Z"></path>
</svg>
        <span data-content="Projects">Projects</span>
          <span id="projects-repo-tab-count" data-pjax-replace="" data-turbo-replace="" title="0" hidden="hidden" data-view-component="true" class="Counter">0</span>


    
</a></li>
      <li data-view-component="true" class="d-inline-flex">
  <a id="security-tab" href="/Arijit1080/Licence-Plate-Detection-using-YOLO-V8/security" data-tab-item="i5security-tab" data-selected-links="security overview alerts policy token_scanning code_scanning /Arijit1080/Licence-Plate-Detection-using-YOLO-V8/security" data-pjax="#repo-content-pjax-container" data-turbo-frame="repo-content-turbo-frame" data-hotkey="g s" data-analytics-event="{&quot;category&quot;:&quot;Underline navbar&quot;,&quot;action&quot;:&quot;Click tab&quot;,&quot;label&quot;:&quot;Security&quot;,&quot;target&quot;:&quot;UNDERLINE_NAV.TAB&quot;}" data-view-component="true" class="UnderlineNav-item no-wrap js-responsive-underlinenav-item js-selected-navigation-item">
    
              <svg aria-hidden="true" height="16" viewBox="0 0 16 16" version="1.1" width="16" data-view-component="true" class="octicon octicon-shield UnderlineNav-octicon d-none d-sm-inline">
    <path d="M7.467.133a1.748 1.748 0 0 1 1.066 0l5.25 1.68A1.75 1.75 0 0 1 15 3.48V7c0 1.566-.32 3.182-1.303 4.682-.983 1.498-2.585 2.813-5.032 3.855a1.697 1.697 0 0 1-1.33 0c-2.447-1.042-4.049-2.357-5.032-3.855C1.32 10.182 1 8.566 1 7V3.48a1.75 1.75 0 0 1 1.217-1.667Zm.61 1.429a.25.25 0 0 0-.153 0l-5.25 1.68a.25.25 0 0 0-.174.238V7c0 1.358.275 2.666 1.057 3.86.784 1.194 2.121 2.34 4.366 3.297a.196.196 0 0 0 .154 0c2.245-.956 3.582-2.104 4.366-3.298C13.225 9.666 13.5 8.36 13.5 7V3.48a.251.251 0 0 0-.174-.237l-5.25-1.68ZM8.75 4.75v3a.75.75 0 0 1-1.5 0v-3a.75.75 0 0 1 1.5 0ZM9 10.5a1 1 0 1 1-2 0 1 1 0 0 1 2 0Z"></path>
</svg>
        <span data-content="Security">Security</span>
          <include-fragment src="/Arijit1080/Licence-Plate-Detection-using-YOLO-V8/security/overall-count" accept="text/fragment+html"></include-fragment>

    
</a></li>
      <li data-view-component="true" class="d-inline-flex">
  <a id="insights-tab" href="/Arijit1080/Licence-Plate-Detection-using-YOLO-V8/pulse" data-tab-item="i6insights-tab" data-selected-links="repo_graphs repo_contributors dependency_graph dependabot_updates pulse people community /Arijit1080/Licence-Plate-Detection-using-YOLO-V8/pulse" data-pjax="#repo-content-pjax-container" data-turbo-frame="repo-content-turbo-frame" data-analytics-event="{&quot;category&quot;:&quot;Underline navbar&quot;,&quot;action&quot;:&quot;Click tab&quot;,&quot;label&quot;:&quot;Insights&quot;,&quot;target&quot;:&quot;UNDERLINE_NAV.TAB&quot;}" data-view-component="true" class="UnderlineNav-item no-wrap js-responsive-underlinenav-item js-selected-navigation-item">
    
              <svg aria-hidden="true" height="16" viewBox="0 0 16 16" version="1.1" width="16" data-view-component="true" class="octicon octicon-graph UnderlineNav-octicon d-none d-sm-inline">
    <path d="M1.5 1.75V13.5h13.75a.75.75 0 0 1 0 1.5H.75a.75.75 0 0 1-.75-.75V1.75a.75.75 0 0 1 1.5 0Zm14.28 2.53-5.25 5.25a.75.75 0 0 1-1.06 0L7 7.06 4.28 9.78a.751.751 0 0 1-1.042-.018.751.751 0 0 1-.018-1.042l3.25-3.25a.75.75 0 0 1 1.06 0L10 7.94l4.72-4.72a.751.751 0 0 1 1.042.018.751.751 0 0 1 .018 1.042Z"></path>
</svg>
        <span data-content="Insights">Insights</span>
          <span id="insights-repo-tab-count" data-pjax-replace="" data-turbo-replace="" title="Not available" data-view-component="true" class="Counter"></span>


    
</a></li>
</ul>
    <div style="visibility:hidden;" data-view-component="true" class="UnderlineNav-actions js-responsive-underlinenav-overflow position-absolute pr-3 pr-md-4 pr-lg-5 right-0">      <action-menu data-select-variant="none" data-view-component="true">
  <focus-group direction="vertical" mnemonics retain>
    <button id="action-menu-69a20a86-f725-49e8-afdf-13a4afea2694-button" popovertarget="action-menu-69a20a86-f725-49e8-afdf-13a4afea2694-overlay" aria-controls="action-menu-69a20a86-f725-49e8-afdf-13a4afea2694-list" aria-haspopup="true" aria-labelledby="tooltip-ab549f8c-8bad-4599-8890-5d91900e9460" type="button" data-view-component="true" class="Button Button--iconOnly Button--secondary Button--medium UnderlineNav-item">  <svg aria-hidden="true" height="16" viewBox="0 0 16 16" version="1.1" width="16" data-view-component="true" class="octicon octicon-kebab-horizontal Button-visual">
    <path d="M8 9a1.5 1.5 0 1 0 0-3 1.5 1.5 0 0 0 0 3ZM1.5 9a1.5 1.5 0 1 0 0-3 1.5 1.5 0 0 0 0 3Zm13 0a1.5 1.5 0 1 0 0-3 1.5 1.5 0 0 0 0 3Z"></path>
</svg>
</button><tool-tip id="tooltip-ab549f8c-8bad-4599-8890-5d91900e9460" for="action-menu-69a20a86-f725-49e8-afdf-13a4afea2694-button" popover="manual" data-direction="s" data-type="label" data-view-component="true" class="sr-only position-absolute">Additional navigation options</tool-tip>


<anchored-position id="action-menu-69a20a86-f725-49e8-afdf-13a4afea2694-overlay" anchor="action-menu-69a20a86-f725-49e8-afdf-13a4afea2694-button" align="start" side="outside-bottom" anchor-offset="normal" popover="auto" data-view-component="true">
  <div data-view-component="true" class="Overlay Overlay--size-auto">
    
      <div data-view-component="true" class="Overlay-body Overlay-body--paddingNone">          <action-list>
  <div data-view-component="true">
    <ul aria-labelledby="action-menu-69a20a86-f725-49e8-afdf-13a4afea2694-button" id="action-menu-69a20a86-f725-49e8-afdf-13a4afea2694-list" role="menu" data-view-component="true" class="ActionListWrap--inset ActionListWrap">
        <li hidden="hidden" data-menu-item="i0code-tab" data-targets="action-list.items" role="none" data-view-component="true" class="ActionListItem">
    
    
    <a tabindex="-1" id="item-aa3ebde0-7e03-4c4b-8afc-2fbe9d2e5d45" href="/Arijit1080/Licence-Plate-Detection-using-YOLO-V8" role="menuitem" data-view-component="true" class="ActionListContent ActionListContent--visual16">
        <span class="ActionListItem-visual ActionListItem-visual--leading">
          <svg aria-hidden="true" height="16" viewBox="0 0 16 16" version="1.1" width="16" data-view-component="true" class="octicon octicon-code">
    <path d="m11.28 3.22 4.25 4.25a.75.75 0 0 1 0 1.06l-4.25 4.25a.749.749 0 0 1-1.275-.326.749.749 0 0 1 .215-.734L13.94 8l-3.72-3.72a.749.749 0 0 1 .326-1.275.749.749 0 0 1 .734.215Zm-6.56 0a.751.751 0 0 1 1.042.018.751.751 0 0 1 .018 1.042L2.06 8l3.72 3.72a.749.749 0 0 1-.326 1.275.749.749 0 0 1-.734-.215L.47 8.53a.75.75 0 0 1 0-1.06Z"></path>
</svg>
        </span>
      
        <span data-view-component="true" class="ActionListItem-label">
          Code
</span></a>
  
</li>
        <li hidden="hidden" data-menu-item="i1issues-tab" data-targets="action-list.items" role="none" data-view-component="true" class="ActionListItem">
    
    
    <a tabindex="-1" id="item-12370978-d534-46ac-8df8-c8844f0855af" href="/Arijit1080/Licence-Plate-Detection-using-YOLO-V8/issues" role="menuitem" data-view-component="true" class="ActionListContent ActionListContent--visual16">
        <span class="ActionListItem-visual ActionListItem-visual--leading">
          <svg aria-hidden="true" height="16" viewBox="0 0 16 16" version="1.1" width="16" data-view-component="true" class="octicon octicon-issue-opened">
    <path d="M8 9.5a1.5 1.5 0 1 0 0-3 1.5 1.5 0 0 0 0 3Z"></path><path d="M8 0a8 8 0 1 1 0 16A8 8 0 0 1 8 0ZM1.5 8a6.5 6.5 0 1 0 13 0 6.5 6.5 0 0 0-13 0Z"></path>
</svg>
        </span>
      
        <span data-view-component="true" class="ActionListItem-label">
          Issues
</span></a>
  
</li>
        <li hidden="hidden" data-menu-item="i2pull-requests-tab" data-targets="action-list.items" role="none" data-view-component="true" class="ActionListItem">
    
    
    <a tabindex="-1" id="item-c9e11fb6-d459-4b4b-a6a6-be037b130db5" href="/Arijit1080/Licence-Plate-Detection-using-YOLO-V8/pulls" role="menuitem" data-view-component="true" class="ActionListContent ActionListContent--visual16">
        <span class="ActionListItem-visual ActionListItem-visual--leading">
          <svg aria-hidden="true" height="16" viewBox="0 0 16 16" version="1.1" width="16" data-view-component="true" class="octicon octicon-git-pull-request">
    <path d="M1.5 3.25a2.25 2.25 0 1 1 3 2.122v5.256a2.251 2.251 0 1 1-1.5 0V5.372A2.25 2.25 0 0 1 1.5 3.25Zm5.677-.177L9.573.677A.25.25 0 0 1 10 .854V2.5h1A2.5 2.5 0 0 1 13.5 5v5.628a2.251 2.251 0 1 1-1.5 0V5a1 1 0 0 0-1-1h-1v1.646a.25.25 0 0 1-.427.177L7.177 3.427a.25.25 0 0 1 0-.354ZM3.75 2.5a.75.75 0 1 0 0 1.5.75.75 0 0 0 0-1.5Zm0 9.5a.75.75 0 1 0 0 1.5.75.75 0 0 0 0-1.5Zm8.25.75a.75.75 0 1 0 1.5 0 .75.75 0 0 0-1.5 0Z"></path>
</svg>
        </span>
      
        <span data-view-component="true" class="ActionListItem-label">
          Pull requests
</span></a>
  
</li>
        <li hidden="hidden" data-menu-item="i3actions-tab" data-targets="action-list.items" role="none" data-view-component="true" class="ActionListItem">
    
    
    <a tabindex="-1" id="item-b6748057-994a-4154-b6ed-a926ba52a91e" href="/Arijit1080/Licence-Plate-Detection-using-YOLO-V8/actions" role="menuitem" data-view-component="true" class="ActionListContent ActionListContent--visual16">
        <span class="ActionListItem-visual ActionListItem-visual--leading">
          <svg aria-hidden="true" height="16" viewBox="0 0 16 16" version="1.1" width="16" data-view-component="true" class="octicon octicon-play">
    <path d="M8 0a8 8 0 1 1 0 16A8 8 0 0 1 8 0ZM1.5 8a6.5 6.5 0 1 0 13 0 6.5 6.5 0 0 0-13 0Zm4.879-2.773 4.264 2.559a.25.25 0 0 1 0 .428l-4.264 2.559A.25.25 0 0 1 6 10.559V5.442a.25.25 0 0 1 .379-.215Z"></path>
</svg>
        </span>
      
        <span data-view-component="true" class="ActionListItem-label">
          Actions
</span></a>
  
</li>
        <li hidden="hidden" data-menu-item="i4projects-tab" data-targets="action-list.items" role="none" data-view-component="true" class="ActionListItem">
    
    
    <a tabindex="-1" id="item-f22c1239-ff77-4d2d-9031-dc0b50881e8d" href="/Arijit1080/Licence-Plate-Detection-using-YOLO-V8/projects" role="menuitem" data-view-component="true" class="ActionListContent ActionListContent--visual16">
        <span class="ActionListItem-visual ActionListItem-visual--leading">
          <svg aria-hidden="true" height="16" viewBox="0 0 16 16" version="1.1" width="16" data-view-component="true" class="octicon octicon-table">
    <path d="M0 1.75C0 .784.784 0 1.75 0h12.5C15.216 0 16 .784 16 1.75v12.5A1.75 1.75 0 0 1 14.25 16H1.75A1.75 1.75 0 0 1 0 14.25ZM6.5 6.5v8h7.75a.25.25 0 0 0 .25-.25V6.5Zm8-1.5V1.75a.25.25 0 0 0-.25-.25H6.5V5Zm-13 1.5v7.75c0 .138.112.25.25.25H5v-8ZM5 5V1.5H1.75a.25.25 0 0 0-.25.25V5Z"></path>
</svg>
        </span>
      
        <span data-view-component="true" class="ActionListItem-label">
          Projects
</span></a>
  
</li>
        <li hidden="hidden" data-menu-item="i5security-tab" data-targets="action-list.items" role="none" data-view-component="true" class="ActionListItem">
    
    
    <a tabindex="-1" id="item-04ce42f0-3dc9-459d-8cda-c061759e3d61" href="/Arijit1080/Licence-Plate-Detection-using-YOLO-V8/security" role="menuitem" data-view-component="true" class="ActionListContent ActionListContent--visual16">
        <span class="ActionListItem-visual ActionListItem-visual--leading">
          <svg aria-hidden="true" height="16" viewBox="0 0 16 16" version="1.1" width="16" data-view-component="true" class="octicon octicon-shield">
    <path d="M7.467.133a1.748 1.748 0 0 1 1.066 0l5.25 1.68A1.75 1.75 0 0 1 15 3.48V7c0 1.566-.32 3.182-1.303 4.682-.983 1.498-2.585 2.813-5.032 3.855a1.697 1.697 0 0 1-1.33 0c-2.447-1.042-4.049-2.357-5.032-3.855C1.32 10.182 1 8.566 1 7V3.48a1.75 1.75 0 0 1 1.217-1.667Zm.61 1.429a.25.25 0 0 0-.153 0l-5.25 1.68a.25.25 0 0 0-.174.238V7c0 1.358.275 2.666 1.057 3.86.784 1.194 2.121 2.34 4.366 3.297a.196.196 0 0 0 .154 0c2.245-.956 3.582-2.104 4.366-3.298C13.225 9.666 13.5 8.36 13.5 7V3.48a.251.251 0 0 0-.174-.237l-5.25-1.68ZM8.75 4.75v3a.75.75 0 0 1-1.5 0v-3a.75.75 0 0 1 1.5 0ZM9 10.5a1 1 0 1 1-2 0 1 1 0 0 1 2 0Z"></path>
</svg>
        </span>
      
        <span data-view-component="true" class="ActionListItem-label">
          Security
</span></a>
  
</li>
        <li hidden="hidden" data-menu-item="i6insights-tab" data-targets="action-list.items" role="none" data-view-component="true" class="ActionListItem">
    
    
    <a tabindex="-1" id="item-bb584f93-be89-4c24-9612-ace550736fac" href="/Arijit1080/Licence-Plate-Detection-using-YOLO-V8/pulse" role="menuitem" data-view-component="true" class="ActionListContent ActionListContent--visual16">
        <span class="ActionListItem-visual ActionListItem-visual--leading">
          <svg aria-hidden="true" height="16" viewBox="0 0 16 16" version="1.1" width="16" data-view-component="true" class="octicon octicon-graph">
    <path d="M1.5 1.75V13.5h13.75a.75.75 0 0 1 0 1.5H.75a.75.75 0 0 1-.75-.75V1.75a.75.75 0 0 1 1.5 0Zm14.28 2.53-5.25 5.25a.75.75 0 0 1-1.06 0L7 7.06 4.28 9.78a.751.751 0 0 1-1.042-.018.751.751 0 0 1-.018-1.042l3.25-3.25a.75.75 0 0 1 1.06 0L10 7.94l4.72-4.72a.751.751 0 0 1 1.042.018.751.751 0 0 1 .018 1.042Z"></path>
</svg>
        </span>
      
        <span data-view-component="true" class="ActionListItem-label">
          Insights
</span></a>
  
</li>
</ul>    
</div></action-list>


</div>
      
</div></anchored-position>  </focus-group>
</action-menu></div>
</nav>

  </div>

  



<turbo-frame id="repo-content-turbo-frame" target="_top" data-turbo-action="advance" class="">
    <div id="repo-content-pjax-container" class="repository-content " >
    



    
      
    





<react-app
  app-name="react-code-view"
  initial-path="/Arijit1080/Licence-Plate-Detection-using-YOLO-V8/blob/main/Licence_Plate_Detection_YOLO_V8.ipynb"
  style="display: block; min-height: calc(100vh - 64px)" 
  data-ssr="true"
  data-lazy="false"
  data-alternate="false"
>
  
  <script type="application/json" data-target="react-app.embeddedData">{"payload":{"allShortcutsEnabled":false,"fileTree":{"":{"items":[{"name":"ultralytics","path":"ultralytics","contentType":"directory"},{"name":".DS_Store","path":".DS_Store","contentType":"file"},{"name":"Licence_Plate_Detection_YOLO_V8.ipynb","path":"Licence_Plate_Detection_YOLO_V8.ipynb","contentType":"file"},{"name":"README.md","path":"README.md","contentType":"file"},{"name":"best.pt","path":"best.pt","contentType":"file"},{"name":"demo.mp4","path":"demo.mp4","contentType":"file"},{"name":"demo2.jpeg","path":"demo2.jpeg","contentType":"file"},{"name":"requirements.txt","path":"requirements.txt","contentType":"file"}],"totalCount":8}},"fileTreeProcessingTime":5.814826,"foldersToFetch":[],"repo":{"id":686261721,"defaultBranch":"main","name":"Licence-Plate-Detection-using-YOLO-V8","ownerLogin":"Arijit1080","currentUserCanPush":false,"isFork":false,"isEmpty":false,"createdAt":"2023-09-02T07:46:29.000Z","ownerAvatar":"https://avatars.githubusercontent.com/u/15311477?v=4","public":true,"private":false,"isOrgOwned":false},"codeLineWrapEnabled":false,"symbolsExpanded":false,"treeExpanded":true,"refInfo":{"name":"main","listCacheKey":"v0:1693651910.0","canEdit":false,"refType":"branch","currentOid":"a2d1331d2521dc9490c929f1a88acaab3fcb7fe3"},"path":"Licence_Plate_Detection_YOLO_V8.ipynb","currentUser":null,"blob":{"rawLines":["{","  \"nbformat\": 4,","  \"nbformat_minor\": 0,","  \"metadata\": {","    \"colab\": {","      \"provenance\": [],","      \"gpuType\": \"T4\"","    },","    \"kernelspec\": {","      \"name\": \"python3\",","      \"display_name\": \"Python 3\"","    },","    \"language_info\": {","      \"name\": \"python\"","    },","    \"accelerator\": \"GPU\"","  },","  \"cells\": [","    {","      \"cell_type\": \"code\",","      \"execution_count\": 1,","      \"metadata\": {","        \"colab\": {","          \"base_uri\": \"https://localhost:8080/\"","        },","        \"id\": \"pmM1dop72HfK\",","        \"outputId\": \"e01a3ddc-adf0-4df3-8651-c361849c8eb1\"","      },","      \"outputs\": [","        {","          \"output_type\": \"stream\",","          \"name\": \"stdout\",","          \"text\": [","            \"Cloning into 'Licence-Plate-Detection-using-YOLO-V8'...\\n\",","            \"remote: Enumerating objects: 117, done.\\u001b[K\\n\",","            \"remote: Total 117 (delta 0), reused 0 (delta 0), pack-reused 117\\u001b[K\\n\",","            \"Receiving objects: 100% (117/117), 183.86 KiB | 1012.00 KiB/s, done.\\n\",","            \"Resolving deltas: 100% (30/30), done.\\n\"","          ]","        }","      ],","      \"source\": [","        \"!git clone https://github.com/Arijit1080/Licence-Plate-Detection-using-YOLO-V8.git\"","      ]","    },","    {","      \"cell_type\": \"code\",","      \"source\": [","        \"cd /content/Licence-Plate-Detection-using-YOLO-V8\"","      ],","      \"metadata\": {","        \"colab\": {","          \"base_uri\": \"https://localhost:8080/\"","        },","        \"id\": \"TotCpH174BPu\",","        \"outputId\": \"12891f54-0d20-422b-bcaf-0fe3eba91bae\"","      },","      \"execution_count\": 2,","      \"outputs\": [","        {","          \"output_type\": \"stream\",","          \"name\": \"stdout\",","          \"text\": [","            \"/content/Licence-Plate-Detection-using-YOLO-V8\\n\"","          ]","        }","      ]","    },","    {","      \"cell_type\": \"code\",","      \"source\": [","        \"!pip install roboflow\\n\",","        \"\\n\",","        \"from roboflow import Roboflow\\n\",","        \"rf = Roboflow(api_key=\\\"xxx\\\") #Put your API Key here\\n\",","        \"project = rf.workspace(\\\"snu-i6ovv\\\").project(\\\"license-plate-detector-ogxxg\\\")\\n\",","        \"dataset = project.version(1).download(\\\"yolov8\\\")\\n\",","        \"\\n\",","        \"\\n\"","      ],","      \"metadata\": {","        \"colab\": {","          \"base_uri\": \"https://localhost:8080/\"","        },","        \"id\": \"i7nQY2yu4Ee3\",","        \"outputId\": \"3f57e8f8-3f6e-4ce1-ec1d-dde1d48974df\"","      },","      \"execution_count\": 19,","      \"outputs\": [","        {","          \"output_type\": \"stream\",","          \"name\": \"stdout\",","          \"text\": [","            \"Requirement already satisfied: roboflow in /usr/local/lib/python3.10/dist-packages (1.1.4)\\n\",","            \"Requirement already satisfied: certifi==2022.12.7 in /usr/local/lib/python3.10/dist-packages (from roboflow) (2022.12.7)\\n\",","            \"Requirement already satisfied: chardet==4.0.0 in /usr/local/lib/python3.10/dist-packages (from roboflow) (4.0.0)\\n\",","            \"Requirement already satisfied: cycler==0.10.0 in /usr/local/lib/python3.10/dist-packages (from roboflow) (0.10.0)\\n\",","            \"Requirement already satisfied: idna==2.10 in /usr/local/lib/python3.10/dist-packages (from roboflow) (2.10)\\n\",","            \"Requirement already satisfied: kiwisolver\u003e=1.3.1 in /usr/local/lib/python3.10/dist-packages (from roboflow) (1.4.4)\\n\",","            \"Requirement already satisfied: matplotlib in /usr/local/lib/python3.10/dist-packages (from roboflow) (3.7.1)\\n\",","            \"Requirement already satisfied: numpy\u003e=1.18.5 in /usr/local/lib/python3.10/dist-packages (from roboflow) (1.23.5)\\n\",","            \"Requirement already satisfied: opencv-python\u003e=4.1.2 in /usr/local/lib/python3.10/dist-packages (from roboflow) (4.8.0.76)\\n\",","            \"Requirement already satisfied: Pillow\u003e=7.1.2 in /usr/local/lib/python3.10/dist-packages (from roboflow) (9.4.0)\\n\",","            \"Requirement already satisfied: pyparsing==2.4.7 in /usr/local/lib/python3.10/dist-packages (from roboflow) (2.4.7)\\n\",","            \"Requirement already satisfied: python-dateutil in /usr/local/lib/python3.10/dist-packages (from roboflow) (2.8.2)\\n\",","            \"Requirement already satisfied: python-dotenv in /usr/local/lib/python3.10/dist-packages (from roboflow) (1.0.0)\\n\",","            \"Requirement already satisfied: requests in /usr/local/lib/python3.10/dist-packages (from roboflow) (2.31.0)\\n\",","            \"Requirement already satisfied: six in /usr/local/lib/python3.10/dist-packages (from roboflow) (1.16.0)\\n\",","            \"Requirement already satisfied: supervision in /usr/local/lib/python3.10/dist-packages (from roboflow) (0.14.0)\\n\",","            \"Requirement already satisfied: urllib3\u003e=1.26.6 in /usr/local/lib/python3.10/dist-packages (from roboflow) (2.0.4)\\n\",","            \"Requirement already satisfied: wget in /usr/local/lib/python3.10/dist-packages (from roboflow) (3.2)\\n\",","            \"Requirement already satisfied: tqdm\u003e=4.41.0 in /usr/local/lib/python3.10/dist-packages (from roboflow) (4.66.1)\\n\",","            \"Requirement already satisfied: PyYAML\u003e=5.3.1 in /usr/local/lib/python3.10/dist-packages (from roboflow) (6.0.1)\\n\",","            \"Requirement already satisfied: requests-toolbelt in /usr/local/lib/python3.10/dist-packages (from roboflow) (1.0.0)\\n\",","            \"Requirement already satisfied: contourpy\u003e=1.0.1 in /usr/local/lib/python3.10/dist-packages (from matplotlib-\u003eroboflow) (1.1.0)\\n\",","            \"Requirement already satisfied: fonttools\u003e=4.22.0 in /usr/local/lib/python3.10/dist-packages (from matplotlib-\u003eroboflow) (4.42.1)\\n\",","            \"Requirement already satisfied: packaging\u003e=20.0 in /usr/local/lib/python3.10/dist-packages (from matplotlib-\u003eroboflow) (23.1)\\n\",","            \"Requirement already satisfied: charset-normalizer\u003c4,\u003e=2 in /usr/local/lib/python3.10/dist-packages (from requests-\u003eroboflow) (3.2.0)\\n\",","            \"Requirement already satisfied: opencv-python-headless\u003c5.0.0.0,\u003e=4.8.0.74 in /usr/local/lib/python3.10/dist-packages (from supervision-\u003eroboflow) (4.8.0.76)\\n\",","            \"Requirement already satisfied: scipy\u003c2.0.0,\u003e=1.9.0 in /usr/local/lib/python3.10/dist-packages (from supervision-\u003eroboflow) (1.10.1)\\n\",","            \"loading Roboflow workspace...\\n\",","            \"loading Roboflow project...\\n\",","            \"Dependency ultralytics==8.0.134 is required but found version=8.0.3, to fix: `pip install ultralytics==8.0.134`\\n\",","            \"Downloading Dataset Version Zip in License-Plate-Detector-1 to yolov8: 100% [21143398 / 21143398] bytes\\n\"","          ]","        },","        {","          \"output_type\": \"stream\",","          \"name\": \"stderr\",","          \"text\": [","            \"Extracting Dataset Version Zip to License-Plate-Detector-1 in yolov8:: 100%|██████████| 802/802 [00:00\u003c00:00, 2172.06it/s]\\n\"","          ]","        }","      ]","    },","    {","      \"cell_type\": \"code\",","      \"source\": [","        \"!pip install -r requirements.txt\"","      ],","      \"metadata\": {","        \"colab\": {","          \"base_uri\": \"https://localhost:8080/\",","          \"height\": 1000","        },","        \"id\": \"qd0UgEnF5KH8\",","        \"outputId\": \"db1dc2ca-af36-4034-f4c5-696496f18810\"","      },","      \"execution_count\": 4,","      \"outputs\": [","        {","          \"output_type\": \"stream\",","          \"name\": \"stdout\",","          \"text\": [","            \"Collecting ultralytics\u003e=8.0.3 (from -r requirements.txt (line 4))\\n\",","            \"  Downloading ultralytics-8.0.168-py3-none-any.whl (613 kB)\\n\",","            \"\\u001b[2K     \\u001b[90m━━━━━━━━━━━━━━━━━━━━━━━━━━━━━━━━━━━━━━━\\u001b[0m \\u001b[32m613.8/613.8 kB\\u001b[0m \\u001b[31m8.2 MB/s\\u001b[0m eta \\u001b[36m0:00:00\\u001b[0m\\n\",","            \"\\u001b[?25hCollecting hydra-core\u003e=1.2.0 (from -r requirements.txt (line 5))\\n\",","            \"  Downloading hydra_core-1.3.2-py3-none-any.whl (154 kB)\\n\",","            \"\\u001b[2K     \\u001b[90m━━━━━━━━━━━━━━━━━━━━━━━━━━━━━━━━━━━━━━━\\u001b[0m \\u001b[32m154.5/154.5 kB\\u001b[0m \\u001b[31m9.7 MB/s\\u001b[0m eta \\u001b[36m0:00:00\\u001b[0m\\n\",","            \"\\u001b[?25hRequirement already satisfied: matplotlib\u003e=3.2.2 in /usr/local/lib/python3.10/dist-packages (from -r requirements.txt (line 6)) (3.7.1)\\n\",","            \"Requirement already satisfied: numpy\u003e=1.18.5 in /usr/local/lib/python3.10/dist-packages (from -r requirements.txt (line 7)) (1.23.5)\\n\",","            \"Requirement already satisfied: opencv-python\u003e=4.1.1 in /usr/local/lib/python3.10/dist-packages (from -r requirements.txt (line 8)) (4.8.0.76)\\n\",","            \"Requirement already satisfied: Pillow\u003e=7.1.2 in /usr/local/lib/python3.10/dist-packages (from -r requirements.txt (line 9)) (9.4.0)\\n\",","            \"Requirement already satisfied: PyYAML\u003e=5.3.1 in /usr/local/lib/python3.10/dist-packages (from -r requirements.txt (line 10)) (6.0.1)\\n\",","            \"Requirement already satisfied: requests\u003e=2.23.0 in /usr/local/lib/python3.10/dist-packages (from -r requirements.txt (line 11)) (2.31.0)\\n\",","            \"Requirement already satisfied: scipy\u003e=1.4.1 in /usr/local/lib/python3.10/dist-packages (from -r requirements.txt (line 12)) (1.10.1)\\n\",","            \"Requirement already satisfied: torch\u003e=1.7.0 in /usr/local/lib/python3.10/dist-packages (from -r requirements.txt (line 13)) (2.0.1+cu118)\\n\",","            \"Requirement already satisfied: torchvision\u003e=0.8.1 in /usr/local/lib/python3.10/dist-packages (from -r requirements.txt (line 14)) (0.15.2+cu118)\\n\",","            \"Requirement already satisfied: tqdm\u003e=4.64.0 in /usr/local/lib/python3.10/dist-packages (from -r requirements.txt (line 15)) (4.66.1)\\n\",","            \"Requirement already satisfied: tensorboard\u003e=2.4.1 in /usr/local/lib/python3.10/dist-packages (from -r requirements.txt (line 18)) (2.12.3)\\n\",","            \"Requirement already satisfied: pandas\u003e=1.1.4 in /usr/local/lib/python3.10/dist-packages (from -r requirements.txt (line 22)) (1.5.3)\\n\",","            \"Requirement already satisfied: seaborn\u003e=0.11.0 in /usr/local/lib/python3.10/dist-packages (from -r requirements.txt (line 23)) (0.12.2)\\n\",","            \"Requirement already satisfied: ipython in /usr/local/lib/python3.10/dist-packages (from -r requirements.txt (line 26)) (7.34.0)\\n\",","            \"Requirement already satisfied: psutil in /usr/local/lib/python3.10/dist-packages (from -r requirements.txt (line 27)) (5.9.5)\\n\",","            \"Collecting thop\u003e=0.1.1 (from -r requirements.txt (line 28))\\n\",","            \"  Downloading thop-0.1.1.post2209072238-py3-none-any.whl (15 kB)\\n\",","            \"Collecting GitPython\u003e=3.1.24 (from -r requirements.txt (line 31))\\n\",","            \"  Downloading GitPython-3.1.33-py3-none-any.whl (188 kB)\\n\",","            \"\\u001b[2K     \\u001b[90m━━━━━━━━━━━━━━━━━━━━━━━━━━━━━━━━━━━━━━\\u001b[0m \\u001b[32m188.6/188.6 kB\\u001b[0m \\u001b[31m13.6 MB/s\\u001b[0m eta \\u001b[36m0:00:00\\u001b[0m\\n\",","            \"\\u001b[?25hRequirement already satisfied: py-cpuinfo in /usr/local/lib/python3.10/dist-packages (from ultralytics\u003e=8.0.3-\u003e-r requirements.txt (line 4)) (9.0.0)\\n\",","            \"Collecting omegaconf\u003c2.4,\u003e=2.2 (from hydra-core\u003e=1.2.0-\u003e-r requirements.txt (line 5))\\n\",","            \"  Downloading omegaconf-2.3.0-py3-none-any.whl (79 kB)\\n\",","            \"\\u001b[2K     \\u001b[90m━━━━━━━━━━━━━━━━━━━━━━━━━━━━━━━━━━━━━━━━\\u001b[0m \\u001b[32m79.5/79.5 kB\\u001b[0m \\u001b[31m10.3 MB/s\\u001b[0m eta \\u001b[36m0:00:00\\u001b[0m\\n\",","            \"\\u001b[?25hCollecting antlr4-python3-runtime==4.9.* (from hydra-core\u003e=1.2.0-\u003e-r requirements.txt (line 5))\\n\",","            \"  Downloading antlr4-python3-runtime-4.9.3.tar.gz (117 kB)\\n\",","            \"\\u001b[2K     \\u001b[90m━━━━━━━━━━━━━━━━━━━━━━━━━━━━━━━━━━━━━━\\u001b[0m \\u001b[32m117.0/117.0 kB\\u001b[0m \\u001b[31m10.3 MB/s\\u001b[0m eta \\u001b[36m0:00:00\\u001b[0m\\n\",","            \"\\u001b[?25h  Preparing metadata (setup.py) ... \\u001b[?25l\\u001b[?25hdone\\n\",","            \"Requirement already satisfied: packaging in /usr/local/lib/python3.10/dist-packages (from hydra-core\u003e=1.2.0-\u003e-r requirements.txt (line 5)) (23.1)\\n\",","            \"Requirement already satisfied: contourpy\u003e=1.0.1 in /usr/local/lib/python3.10/dist-packages (from matplotlib\u003e=3.2.2-\u003e-r requirements.txt (line 6)) (1.1.0)\\n\",","            \"Requirement already satisfied: cycler\u003e=0.10 in /usr/local/lib/python3.10/dist-packages (from matplotlib\u003e=3.2.2-\u003e-r requirements.txt (line 6)) (0.10.0)\\n\",","            \"Requirement already satisfied: fonttools\u003e=4.22.0 in /usr/local/lib/python3.10/dist-packages (from matplotlib\u003e=3.2.2-\u003e-r requirements.txt (line 6)) (4.42.1)\\n\",","            \"Requirement already satisfied: kiwisolver\u003e=1.0.1 in /usr/local/lib/python3.10/dist-packages (from matplotlib\u003e=3.2.2-\u003e-r requirements.txt (line 6)) (1.4.4)\\n\",","            \"Requirement already satisfied: pyparsing\u003e=2.3.1 in /usr/local/lib/python3.10/dist-packages (from matplotlib\u003e=3.2.2-\u003e-r requirements.txt (line 6)) (2.4.7)\\n\",","            \"Requirement already satisfied: python-dateutil\u003e=2.7 in /usr/local/lib/python3.10/dist-packages (from matplotlib\u003e=3.2.2-\u003e-r requirements.txt (line 6)) (2.8.2)\\n\",","            \"Requirement already satisfied: charset-normalizer\u003c4,\u003e=2 in /usr/local/lib/python3.10/dist-packages (from requests\u003e=2.23.0-\u003e-r requirements.txt (line 11)) (3.2.0)\\n\",","            \"Requirement already satisfied: idna\u003c4,\u003e=2.5 in /usr/local/lib/python3.10/dist-packages (from requests\u003e=2.23.0-\u003e-r requirements.txt (line 11)) (2.10)\\n\",","            \"Requirement already satisfied: urllib3\u003c3,\u003e=1.21.1 in /usr/local/lib/python3.10/dist-packages (from requests\u003e=2.23.0-\u003e-r requirements.txt (line 11)) (2.0.4)\\n\",","            \"Requirement already satisfied: certifi\u003e=2017.4.17 in /usr/local/lib/python3.10/dist-packages (from requests\u003e=2.23.0-\u003e-r requirements.txt (line 11)) (2022.12.7)\\n\",","            \"Requirement already satisfied: filelock in /usr/local/lib/python3.10/dist-packages (from torch\u003e=1.7.0-\u003e-r requirements.txt (line 13)) (3.12.2)\\n\",","            \"Requirement already satisfied: typing-extensions in /usr/local/lib/python3.10/dist-packages (from torch\u003e=1.7.0-\u003e-r requirements.txt (line 13)) (4.7.1)\\n\",","            \"Requirement already satisfied: sympy in /usr/local/lib/python3.10/dist-packages (from torch\u003e=1.7.0-\u003e-r requirements.txt (line 13)) (1.12)\\n\",","            \"Requirement already satisfied: networkx in /usr/local/lib/python3.10/dist-packages (from torch\u003e=1.7.0-\u003e-r requirements.txt (line 13)) (3.1)\\n\",","            \"Requirement already satisfied: jinja2 in /usr/local/lib/python3.10/dist-packages (from torch\u003e=1.7.0-\u003e-r requirements.txt (line 13)) (3.1.2)\\n\",","            \"Requirement already satisfied: triton==2.0.0 in /usr/local/lib/python3.10/dist-packages (from torch\u003e=1.7.0-\u003e-r requirements.txt (line 13)) (2.0.0)\\n\",","            \"Requirement already satisfied: cmake in /usr/local/lib/python3.10/dist-packages (from triton==2.0.0-\u003etorch\u003e=1.7.0-\u003e-r requirements.txt (line 13)) (3.27.2)\\n\",","            \"Requirement already satisfied: lit in /usr/local/lib/python3.10/dist-packages (from triton==2.0.0-\u003etorch\u003e=1.7.0-\u003e-r requirements.txt (line 13)) (16.0.6)\\n\",","            \"Requirement already satisfied: absl-py\u003e=0.4 in /usr/local/lib/python3.10/dist-packages (from tensorboard\u003e=2.4.1-\u003e-r requirements.txt (line 18)) (1.4.0)\\n\",","            \"Requirement already satisfied: grpcio\u003e=1.48.2 in /usr/local/lib/python3.10/dist-packages (from tensorboard\u003e=2.4.1-\u003e-r requirements.txt (line 18)) (1.57.0)\\n\",","            \"Requirement already satisfied: google-auth\u003c3,\u003e=1.6.3 in /usr/local/lib/python3.10/dist-packages (from tensorboard\u003e=2.4.1-\u003e-r requirements.txt (line 18)) (2.17.3)\\n\",","            \"Requirement already satisfied: google-auth-oauthlib\u003c1.1,\u003e=0.5 in /usr/local/lib/python3.10/dist-packages (from tensorboard\u003e=2.4.1-\u003e-r requirements.txt (line 18)) (1.0.0)\\n\",","            \"Requirement already satisfied: markdown\u003e=2.6.8 in /usr/local/lib/python3.10/dist-packages (from tensorboard\u003e=2.4.1-\u003e-r requirements.txt (line 18)) (3.4.4)\\n\",","            \"Requirement already satisfied: protobuf\u003e=3.19.6 in /usr/local/lib/python3.10/dist-packages (from tensorboard\u003e=2.4.1-\u003e-r requirements.txt (line 18)) (3.20.3)\\n\",","            \"Requirement already satisfied: setuptools\u003e=41.0.0 in /usr/local/lib/python3.10/dist-packages (from tensorboard\u003e=2.4.1-\u003e-r requirements.txt (line 18)) (67.7.2)\\n\",","            \"Requirement already satisfied: tensorboard-data-server\u003c0.8.0,\u003e=0.7.0 in /usr/local/lib/python3.10/dist-packages (from tensorboard\u003e=2.4.1-\u003e-r requirements.txt (line 18)) (0.7.1)\\n\",","            \"Requirement already satisfied: werkzeug\u003e=1.0.1 in /usr/local/lib/python3.10/dist-packages (from tensorboard\u003e=2.4.1-\u003e-r requirements.txt (line 18)) (2.3.7)\\n\",","            \"Requirement already satisfied: wheel\u003e=0.26 in /usr/local/lib/python3.10/dist-packages (from tensorboard\u003e=2.4.1-\u003e-r requirements.txt (line 18)) (0.41.2)\\n\",","            \"Requirement already satisfied: pytz\u003e=2020.1 in /usr/local/lib/python3.10/dist-packages (from pandas\u003e=1.1.4-\u003e-r requirements.txt (line 22)) (2023.3)\\n\",","            \"Collecting jedi\u003e=0.16 (from ipython-\u003e-r requirements.txt (line 26))\\n\",","            \"  Downloading jedi-0.19.0-py2.py3-none-any.whl (1.6 MB)\\n\",","            \"\\u001b[2K     \\u001b[90m━━━━━━━━━━━━━━━━━━━━━━━━━━━━━━━━━━━━━━━━\\u001b[0m \\u001b[32m1.6/1.6 MB\\u001b[0m \\u001b[31m18.3 MB/s\\u001b[0m eta \\u001b[36m0:00:00\\u001b[0m\\n\",","            \"\\u001b[?25hRequirement already satisfied: decorator in /usr/local/lib/python3.10/dist-packages (from ipython-\u003e-r requirements.txt (line 26)) (4.4.2)\\n\",","            \"Requirement already satisfied: pickleshare in /usr/local/lib/python3.10/dist-packages (from ipython-\u003e-r requirements.txt (line 26)) (0.7.5)\\n\",","            \"Requirement already satisfied: traitlets\u003e=4.2 in /usr/local/lib/python3.10/dist-packages (from ipython-\u003e-r requirements.txt (line 26)) (5.7.1)\\n\",","            \"Requirement already satisfied: prompt-toolkit!=3.0.0,!=3.0.1,\u003c3.1.0,\u003e=2.0.0 in /usr/local/lib/python3.10/dist-packages (from ipython-\u003e-r requirements.txt (line 26)) (3.0.39)\\n\",","            \"Requirement already satisfied: pygments in /usr/local/lib/python3.10/dist-packages (from ipython-\u003e-r requirements.txt (line 26)) (2.16.1)\\n\",","            \"Requirement already satisfied: backcall in /usr/local/lib/python3.10/dist-packages (from ipython-\u003e-r requirements.txt (line 26)) (0.2.0)\\n\",","            \"Requirement already satisfied: matplotlib-inline in /usr/local/lib/python3.10/dist-packages (from ipython-\u003e-r requirements.txt (line 26)) (0.1.6)\\n\",","            \"Requirement already satisfied: pexpect\u003e4.3 in /usr/local/lib/python3.10/dist-packages (from ipython-\u003e-r requirements.txt (line 26)) (4.8.0)\\n\",","            \"Collecting gitdb\u003c5,\u003e=4.0.1 (from GitPython\u003e=3.1.24-\u003e-r requirements.txt (line 31))\\n\",","            \"  Downloading gitdb-4.0.10-py3-none-any.whl (62 kB)\\n\",","            \"\\u001b[2K     \\u001b[90m━━━━━━━━━━━━━━━━━━━━━━━━━━━━━━━━━━━━━━━━\\u001b[0m \\u001b[32m62.7/62.7 kB\\u001b[0m \\u001b[31m8.3 MB/s\\u001b[0m eta \\u001b[36m0:00:00\\u001b[0m\\n\",","            \"\\u001b[?25hRequirement already satisfied: six in /usr/local/lib/python3.10/dist-packages (from cycler\u003e=0.10-\u003ematplotlib\u003e=3.2.2-\u003e-r requirements.txt (line 6)) (1.16.0)\\n\",","            \"Collecting smmap\u003c6,\u003e=3.0.1 (from gitdb\u003c5,\u003e=4.0.1-\u003eGitPython\u003e=3.1.24-\u003e-r requirements.txt (line 31))\\n\",","            \"  Downloading smmap-5.0.0-py3-none-any.whl (24 kB)\\n\",","            \"Requirement already satisfied: cachetools\u003c6.0,\u003e=2.0.0 in /usr/local/lib/python3.10/dist-packages (from google-auth\u003c3,\u003e=1.6.3-\u003etensorboard\u003e=2.4.1-\u003e-r requirements.txt (line 18)) (5.3.1)\\n\",","            \"Requirement already satisfied: pyasn1-modules\u003e=0.2.1 in /usr/local/lib/python3.10/dist-packages (from google-auth\u003c3,\u003e=1.6.3-\u003etensorboard\u003e=2.4.1-\u003e-r requirements.txt (line 18)) (0.3.0)\\n\",","            \"Requirement already satisfied: rsa\u003c5,\u003e=3.1.4 in /usr/local/lib/python3.10/dist-packages (from google-auth\u003c3,\u003e=1.6.3-\u003etensorboard\u003e=2.4.1-\u003e-r requirements.txt (line 18)) (4.9)\\n\",","            \"Requirement already satisfied: requests-oauthlib\u003e=0.7.0 in /usr/local/lib/python3.10/dist-packages (from google-auth-oauthlib\u003c1.1,\u003e=0.5-\u003etensorboard\u003e=2.4.1-\u003e-r requirements.txt (line 18)) (1.3.1)\\n\",","            \"Requirement already satisfied: parso\u003c0.9.0,\u003e=0.8.3 in /usr/local/lib/python3.10/dist-packages (from jedi\u003e=0.16-\u003eipython-\u003e-r requirements.txt (line 26)) (0.8.3)\\n\",","            \"Requirement already satisfied: ptyprocess\u003e=0.5 in /usr/local/lib/python3.10/dist-packages (from pexpect\u003e4.3-\u003eipython-\u003e-r requirements.txt (line 26)) (0.7.0)\\n\",","            \"Requirement already satisfied: wcwidth in /usr/local/lib/python3.10/dist-packages (from prompt-toolkit!=3.0.0,!=3.0.1,\u003c3.1.0,\u003e=2.0.0-\u003eipython-\u003e-r requirements.txt (line 26)) (0.2.6)\\n\",","            \"Requirement already satisfied: MarkupSafe\u003e=2.1.1 in /usr/local/lib/python3.10/dist-packages (from werkzeug\u003e=1.0.1-\u003etensorboard\u003e=2.4.1-\u003e-r requirements.txt (line 18)) (2.1.3)\\n\",","            \"Requirement already satisfied: mpmath\u003e=0.19 in /usr/local/lib/python3.10/dist-packages (from sympy-\u003etorch\u003e=1.7.0-\u003e-r requirements.txt (line 13)) (1.3.0)\\n\",","            \"Requirement already satisfied: pyasn1\u003c0.6.0,\u003e=0.4.6 in /usr/local/lib/python3.10/dist-packages (from pyasn1-modules\u003e=0.2.1-\u003egoogle-auth\u003c3,\u003e=1.6.3-\u003etensorboard\u003e=2.4.1-\u003e-r requirements.txt (line 18)) (0.5.0)\\n\",","            \"Requirement already satisfied: oauthlib\u003e=3.0.0 in /usr/local/lib/python3.10/dist-packages (from requests-oauthlib\u003e=0.7.0-\u003egoogle-auth-oauthlib\u003c1.1,\u003e=0.5-\u003etensorboard\u003e=2.4.1-\u003e-r requirements.txt (line 18)) (3.2.2)\\n\",","            \"Building wheels for collected packages: antlr4-python3-runtime\\n\",","            \"  Building wheel for antlr4-python3-runtime (setup.py) ... \\u001b[?25l\\u001b[?25hdone\\n\",","            \"  Created wheel for antlr4-python3-runtime: filename=antlr4_python3_runtime-4.9.3-py3-none-any.whl size=144554 sha256=34ec0adf003c4cd735558385dfefaffac6a773f6c5b0a7ff822465d27a72ca10\\n\",","            \"  Stored in directory: /root/.cache/pip/wheels/12/93/dd/1f6a127edc45659556564c5730f6d4e300888f4bca2d4c5a88\\n\",","            \"Successfully built antlr4-python3-runtime\\n\",","            \"Installing collected packages: antlr4-python3-runtime, smmap, omegaconf, jedi, hydra-core, gitdb, GitPython, ultralytics, thop\\n\",","            \"Successfully installed GitPython-3.1.33 antlr4-python3-runtime-4.9.3 gitdb-4.0.10 hydra-core-1.3.2 jedi-0.19.0 omegaconf-2.3.0 smmap-5.0.0 thop-0.1.1.post2209072238 ultralytics-8.0.168\\n\"","          ]","        },","        {","          \"output_type\": \"display_data\",","          \"data\": {","            \"application/vnd.colab-display-data+json\": {","              \"pip_warning\": {","                \"packages\": [","                  \"pydevd_plugins\"","                ]","              }","            }","          },","          \"metadata\": {}","        }","      ]","    },","    {","      \"cell_type\": \"code\",","      \"source\": [","        \"!python /content/Licence-Plate-Detection-using-YOLO-V8/ultralytics/yolo/v8/detect/train.py model=yolov8n.pt data=/content/Licence-Plate-Detection-using-YOLO-V8/License-Plate-Detector-1/data.yaml epochs=100\"","      ],","      \"metadata\": {","        \"colab\": {","          \"base_uri\": \"https://localhost:8080/\"","        },","        \"id\": \"dK5DpY9D5iiu\",","        \"outputId\": \"85a1a7f6-86d8-4e95-8272-54068ff3ddd6\"","      },","      \"execution_count\": 22,","      \"outputs\": [","        {","          \"output_type\": \"stream\",","          \"name\": \"stdout\",","          \"text\": [","            \"\\u001b[34m\\u001b[1myolo/engine/trainer: \\u001b[0mtask=detect, mode=train, model=yolov8n.pt, data=/content/Licence-Plate-Detection-using-YOLO-V8/License-Plate-Detector-1/data.yaml, epochs=100, patience=50, batch=16, imgsz=640, save=True, cache=False, device=None, workers=8, project=None, name=None, exist_ok=False, pretrained=False, optimizer=SGD, verbose=False, seed=0, deterministic=True, single_cls=False, image_weights=False, rect=False, cos_lr=False, close_mosaic=10, resume=False, overlap_mask=True, mask_ratio=4, dropout=0.0, val=True, save_json=False, save_hybrid=False, conf=None, iou=0.7, max_det=300, half=False, dnn=False, plots=True, source=None, show=False, save_txt=False, save_conf=False, save_crop=False, hide_labels=False, hide_conf=False, vid_stride=1, line_thickness=3, visualize=False, augment=False, agnostic_nms=False, retina_masks=False, format=torchscript, keras=False, optimize=False, int8=False, dynamic=False, simplify=False, opset=17, workspace=4, nms=False, lr0=0.01, lrf=0.01, momentum=0.937, weight_decay=0.0005, warmup_epochs=3.0, warmup_momentum=0.8, warmup_bias_lr=0.1, box=7.5, cls=0.5, dfl=1.5, fl_gamma=0.0, label_smoothing=0.0, nbs=64, hsv_h=0.015, hsv_s=0.7, hsv_v=0.4, degrees=0.0, translate=0.1, scale=0.5, shear=0.0, perspective=0.0, flipud=0.0, fliplr=0.5, mosaic=1.0, mixup=0.0, copy_paste=0.0, hydra={'output_subdir': None, 'run': {'dir': '.'}}, v5loader=False, save_dir=runs/detect/train11\\n\",","            \"Ultralytics YOLOv8.0.3 🚀 Python-3.10.12 torch-2.0.1+cu118 CUDA:0 (Tesla T4, 15102MiB)\\n\",","            \"2023-09-02 09:40:11.523665: I tensorflow/core/platform/cpu_feature_guard.cc:182] This TensorFlow binary is optimized to use available CPU instructions in performance-critical operations.\\n\",","            \"To enable the following instructions: AVX2 AVX512F FMA, in other operations, rebuild TensorFlow with the appropriate compiler flags.\\n\",","            \"2023-09-02 09:40:12.528506: W tensorflow/compiler/tf2tensorrt/utils/py_utils.cc:38] TF-TRT Warning: Could not find TensorRT\\n\",","            \"Overriding model.yaml nc=80 with nc=1\\n\",","            \"\\n\",","            \"                   from  n    params  module                                       arguments                     \\n\",","            \"  0                  -1  1       464  ultralytics.nn.modules.Conv                  [3, 16, 3, 2]                 \\n\",","            \"  1                  -1  1      4672  ultralytics.nn.modules.Conv                  [16, 32, 3, 2]                \\n\",","            \"  2                  -1  1      7360  ultralytics.nn.modules.C2f                   [32, 32, 1, True]             \\n\",","            \"  3                  -1  1     18560  ultralytics.nn.modules.Conv                  [32, 64, 3, 2]                \\n\",","            \"  4                  -1  2     49664  ultralytics.nn.modules.C2f                   [64, 64, 2, True]             \\n\",","            \"  5                  -1  1     73984  ultralytics.nn.modules.Conv                  [64, 128, 3, 2]               \\n\",","            \"  6                  -1  2    197632  ultralytics.nn.modules.C2f                   [128, 128, 2, True]           \\n\",","            \"  7                  -1  1    295424  ultralytics.nn.modules.Conv                  [128, 256, 3, 2]              \\n\",","            \"  8                  -1  1    460288  ultralytics.nn.modules.C2f                   [256, 256, 1, True]           \\n\",","            \"  9                  -1  1    164608  ultralytics.nn.modules.SPPF                  [256, 256, 5]                 \\n\",","            \" 10                  -1  1         0  torch.nn.modules.upsampling.Upsample         [None, 2, 'nearest']          \\n\",","            \" 11             [-1, 6]  1         0  ultralytics.nn.modules.Concat                [1]                           \\n\",","            \" 12                  -1  1    148224  ultralytics.nn.modules.C2f                   [384, 128, 1]                 \\n\",","            \" 13                  -1  1         0  torch.nn.modules.upsampling.Upsample         [None, 2, 'nearest']          \\n\",","            \" 14             [-1, 4]  1         0  ultralytics.nn.modules.Concat                [1]                           \\n\",","            \" 15                  -1  1     37248  ultralytics.nn.modules.C2f                   [192, 64, 1]                  \\n\",","            \" 16                  -1  1     36992  ultralytics.nn.modules.Conv                  [64, 64, 3, 2]                \\n\",","            \" 17            [-1, 12]  1         0  ultralytics.nn.modules.Concat                [1]                           \\n\",","            \" 18                  -1  1    123648  ultralytics.nn.modules.C2f                   [192, 128, 1]                 \\n\",","            \" 19                  -1  1    147712  ultralytics.nn.modules.Conv                  [128, 128, 3, 2]              \\n\",","            \" 20             [-1, 9]  1         0  ultralytics.nn.modules.Concat                [1]                           \\n\",","            \" 21                  -1  1    493056  ultralytics.nn.modules.C2f                   [384, 256, 1]                 \\n\",","            \" 22        [15, 18, 21]  1    751507  ultralytics.nn.modules.Detect                [1, [64, 128, 256]]           \\n\",","            \"Model summary: 225 layers, 3011043 parameters, 3011027 gradients, 8.2 GFLOPs\\n\",","            \"\\n\",","            \"Transferred 319/355 items from pretrained weights\\n\",","            \"\\u001b[34m\\u001b[1moptimizer:\\u001b[0m SGD(lr=0.01) with parameter groups 57 weight(decay=0.0), 64 weight(decay=0.0005), 63 bias\\n\",","            \"\\u001b[34m\\u001b[1mtrain: \\u001b[0mScanning /content/Licence-Plate-Detection-using-YOLO-V8/License-Plate-Detector-1/train/labels.cache... 277 images, 0 backgrounds, 0 corrupt: 100% 277/277 [00:00\u003c?, ?it/s]\\n\",","            \"\\u001b[34m\\u001b[1malbumentations: \\u001b[0mBlur(p=0.01, blur_limit=(3, 7)), MedianBlur(p=0.01, blur_limit=(3, 7)), ToGray(p=0.01), CLAHE(p=0.01, clip_limit=(1, 4.0), tile_grid_size=(8, 8))\\n\",","            \"\\u001b[34m\\u001b[1mval: \\u001b[0mScanning /content/Licence-Plate-Detection-using-YOLO-V8/License-Plate-Detector-1/valid/labels.cache... 81 images, 0 backgrounds, 0 corrupt: 100% 81/81 [00:00\u003c?, ?it/s]\\n\",","            \"Image sizes 640 train, 640 val\\n\",","            \"Using 2 dataloader workers\\n\",","            \"Logging results to \\u001b[1mruns/detect/train11\\u001b[0m\\n\",","            \"Starting training for 100 epochs...\\n\",","            \"\\n\",","            \"      Epoch    GPU_mem   box_loss   cls_loss   dfl_loss  Instances       Size\\n\",","            \"      1/100      2.45G      1.236      3.704      1.339          5        640: 100% 18/18 [00:13\u003c00:00,  1.33it/s]\\n\",","            \"                 Class     Images  Instances      Box(P          R      mAP50  mAP50-95): 100% 3/3 [00:01\u003c00:00,  1.52it/s]\\n\",","            \"                   all         81         81    0.00329      0.988      0.391      0.283\\n\",","            \"\\n\",","            \"      Epoch    GPU_mem   box_loss   cls_loss   dfl_loss  Instances       Size\\n\",","            \"      2/100      2.75G     0.8961      2.365      1.038         11        640: 100% 18/18 [00:11\u003c00:00,  1.55it/s]\\n\",","            \"                 Class     Images  Instances      Box(P          R      mAP50  mAP50-95): 100% 3/3 [00:01\u003c00:00,  2.10it/s]\\n\",","            \"                   all         81         81      0.469      0.975      0.926      0.719\\n\",","            \"\\n\",","            \"      Epoch    GPU_mem   box_loss   cls_loss   dfl_loss  Instances       Size\\n\",","            \"      3/100      2.75G     0.9671      1.532      1.068          7        640: 100% 18/18 [00:11\u003c00:00,  1.59it/s]\\n\",","            \"                 Class     Images  Instances      Box(P          R      mAP50  mAP50-95): 100% 3/3 [00:01\u003c00:00,  1.94it/s]\\n\",","            \"                   all         81         81      0.757      0.988      0.963       0.71\\n\",","            \"\\n\",","            \"      Epoch    GPU_mem   box_loss   cls_loss   dfl_loss  Instances       Size\\n\",","            \"      4/100      2.75G      1.019      1.325       1.06          8        640: 100% 18/18 [00:11\u003c00:00,  1.60it/s]\\n\",","            \"                 Class     Images  Instances      Box(P          R      mAP50  mAP50-95): 100% 3/3 [00:01\u003c00:00,  2.20it/s]\\n\",","            \"                   all         81         81          1       0.28      0.942       0.71\\n\",","            \"\\n\",","            \"      Epoch    GPU_mem   box_loss   cls_loss   dfl_loss  Instances       Size\\n\",","            \"      5/100      2.76G      1.015      1.201      1.078         10        640: 100% 18/18 [00:11\u003c00:00,  1.61it/s]\\n\",","            \"                 Class     Images  Instances      Box(P          R      mAP50  mAP50-95): 100% 3/3 [00:01\u003c00:00,  2.17it/s]\\n\",","            \"                   all         81         81          1      0.583      0.894        0.7\\n\",","            \"\\n\",","            \"      Epoch    GPU_mem   box_loss   cls_loss   dfl_loss  Instances       Size\\n\",","            \"      6/100      2.76G      1.018       1.19       1.09          8        640: 100% 18/18 [00:11\u003c00:00,  1.55it/s]\\n\",","            \"                 Class     Images  Instances      Box(P          R      mAP50  mAP50-95): 100% 3/3 [00:01\u003c00:00,  2.23it/s]\\n\",","            \"                   all         81         81      0.937      0.852      0.943      0.705\\n\",","            \"\\n\",","            \"      Epoch    GPU_mem   box_loss   cls_loss   dfl_loss  Instances       Size\\n\",","            \"      7/100      2.76G     0.9786      1.198      1.095         10        640: 100% 18/18 [00:11\u003c00:00,  1.60it/s]\\n\",","            \"                 Class     Images  Instances      Box(P          R      mAP50  mAP50-95): 100% 3/3 [00:02\u003c00:00,  1.37it/s]\\n\",","            \"                   all         81         81      0.895      0.914      0.928      0.688\\n\",","            \"\\n\",","            \"      Epoch    GPU_mem   box_loss   cls_loss   dfl_loss  Instances       Size\\n\",","            \"      8/100      2.76G      1.002      1.171      1.116          9        640: 100% 18/18 [00:11\u003c00:00,  1.53it/s]\\n\",","            \"                 Class     Images  Instances      Box(P          R      mAP50  mAP50-95): 100% 3/3 [00:01\u003c00:00,  2.20it/s]\\n\",","            \"                   all         81         81      0.969      0.926      0.971      0.732\\n\",","            \"\\n\",","            \"      Epoch    GPU_mem   box_loss   cls_loss   dfl_loss  Instances       Size\\n\",","            \"      9/100      2.76G     0.9891      1.084      1.083          6        640: 100% 18/18 [00:10\u003c00:00,  1.70it/s]\\n\",","            \"                 Class     Images  Instances      Box(P          R      mAP50  mAP50-95): 100% 3/3 [00:01\u003c00:00,  2.16it/s]\\n\",","            \"                   all         81         81       0.86      0.906      0.893      0.633\\n\",","            \"\\n\",","            \"      Epoch    GPU_mem   box_loss   cls_loss   dfl_loss  Instances       Size\\n\",","            \"     10/100      2.76G      1.023      1.084      1.107          6        640: 100% 18/18 [00:10\u003c00:00,  1.76it/s]\\n\",","            \"                 Class     Images  Instances      Box(P          R      mAP50  mAP50-95): 100% 3/3 [00:01\u003c00:00,  2.21it/s]\\n\",","            \"                   all         81         81      0.889      0.864      0.946      0.693\\n\",","            \"\\n\",","            \"      Epoch    GPU_mem   box_loss   cls_loss   dfl_loss  Instances       Size\\n\",","            \"     11/100      2.76G      1.009      1.006      1.079          8        640: 100% 18/18 [00:09\u003c00:00,  1.86it/s]\\n\",","            \"                 Class     Images  Instances      Box(P          R      mAP50  mAP50-95): 100% 3/3 [00:01\u003c00:00,  1.79it/s]\\n\",","            \"                   all         81         81      0.946      0.873      0.947      0.729\\n\",","            \"\\n\",","            \"      Epoch    GPU_mem   box_loss   cls_loss   dfl_loss  Instances       Size\\n\",","            \"     12/100      2.76G     0.9831      1.033      1.088         12        640: 100% 18/18 [00:09\u003c00:00,  1.89it/s]\\n\",","            \"                 Class     Images  Instances      Box(P          R      mAP50  mAP50-95): 100% 3/3 [00:02\u003c00:00,  1.38it/s]\\n\",","            \"                   all         81         81      0.954      0.901       0.97      0.717\\n\",","            \"\\n\",","            \"      Epoch    GPU_mem   box_loss   cls_loss   dfl_loss  Instances       Size\\n\",","            \"     13/100      2.76G     0.9852     0.9598      1.088          8        640: 100% 18/18 [00:10\u003c00:00,  1.68it/s]\\n\",","            \"                 Class     Images  Instances      Box(P          R      mAP50  mAP50-95): 100% 3/3 [00:01\u003c00:00,  1.59it/s]\\n\",","            \"                   all         81         81       0.85      0.913      0.934      0.644\\n\",","            \"\\n\",","            \"      Epoch    GPU_mem   box_loss   cls_loss   dfl_loss  Instances       Size\\n\",","            \"     14/100      2.76G     0.9244     0.8881       1.07          7        640: 100% 18/18 [00:11\u003c00:00,  1.58it/s]\\n\",","            \"                 Class     Images  Instances      Box(P          R      mAP50  mAP50-95): 100% 3/3 [00:01\u003c00:00,  2.26it/s]\\n\",","            \"                   all         81         81      0.893       0.79      0.862      0.624\\n\",","            \"\\n\",","            \"      Epoch    GPU_mem   box_loss   cls_loss   dfl_loss  Instances       Size\\n\",","            \"     15/100      2.76G     0.9592     0.8858      1.078         10        640: 100% 18/18 [00:11\u003c00:00,  1.62it/s]\\n\",","            \"                 Class     Images  Instances      Box(P          R      mAP50  mAP50-95): 100% 3/3 [00:01\u003c00:00,  2.21it/s]\\n\",","            \"                   all         81         81      0.892      0.852      0.918      0.693\\n\",","            \"\\n\",","            \"      Epoch    GPU_mem   box_loss   cls_loss   dfl_loss  Instances       Size\\n\",","            \"     16/100      2.76G     0.9206     0.8404      1.048          6        640: 100% 18/18 [00:11\u003c00:00,  1.57it/s]\\n\",","            \"                 Class     Images  Instances      Box(P          R      mAP50  mAP50-95): 100% 3/3 [00:01\u003c00:00,  2.26it/s]\\n\",","            \"                   all         81         81      0.937      0.922       0.97      0.713\\n\",","            \"\\n\",","            \"      Epoch    GPU_mem   box_loss   cls_loss   dfl_loss  Instances       Size\\n\",","            \"     17/100      2.76G     0.9224     0.8543      1.049         12        640: 100% 18/18 [00:13\u003c00:00,  1.38it/s]\\n\",","            \"                 Class     Images  Instances      Box(P          R      mAP50  mAP50-95): 100% 3/3 [00:01\u003c00:00,  2.23it/s]\\n\",","            \"                   all         81         81      0.932      0.914      0.934       0.67\\n\",","            \"\\n\",","            \"      Epoch    GPU_mem   box_loss   cls_loss   dfl_loss  Instances       Size\\n\",","            \"     18/100      2.76G     0.9189     0.8235      1.055          6        640: 100% 18/18 [00:11\u003c00:00,  1.54it/s]\\n\",","            \"                 Class     Images  Instances      Box(P          R      mAP50  mAP50-95): 100% 3/3 [00:01\u003c00:00,  2.20it/s]\\n\",","            \"                   all         81         81      0.936      0.951      0.966      0.739\\n\",","            \"\\n\",","            \"      Epoch    GPU_mem   box_loss   cls_loss   dfl_loss  Instances       Size\\n\",","            \"     19/100      2.76G     0.9411     0.8347      1.074         10        640: 100% 18/18 [00:11\u003c00:00,  1.58it/s]\\n\",","            \"                 Class     Images  Instances      Box(P          R      mAP50  mAP50-95): 100% 3/3 [00:01\u003c00:00,  2.20it/s]\\n\",","            \"                   all         81         81      0.918      0.963      0.974       0.78\\n\",","            \"\\n\",","            \"      Epoch    GPU_mem   box_loss   cls_loss   dfl_loss  Instances       Size\\n\",","            \"     20/100      2.76G      0.918     0.8171      1.043          7        640: 100% 18/18 [00:11\u003c00:00,  1.56it/s]\\n\",","            \"                 Class     Images  Instances      Box(P          R      mAP50  mAP50-95): 100% 3/3 [00:01\u003c00:00,  2.20it/s]\\n\",","            \"                   all         81         81      0.974      0.936      0.979      0.764\\n\",","            \"\\n\",","            \"      Epoch    GPU_mem   box_loss   cls_loss   dfl_loss  Instances       Size\\n\",","            \"     21/100      2.76G     0.9951     0.8954      1.077          3        640: 100% 18/18 [00:11\u003c00:00,  1.60it/s]\\n\",","            \"                 Class     Images  Instances      Box(P          R      mAP50  mAP50-95): 100% 3/3 [00:01\u003c00:00,  2.24it/s]\\n\",","            \"                   all         81         81      0.928      0.963       0.97      0.756\\n\",","            \"\\n\",","            \"      Epoch    GPU_mem   box_loss   cls_loss   dfl_loss  Instances       Size\\n\",","            \"     22/100      2.76G     0.8911     0.7943      1.042          7        640: 100% 18/18 [00:11\u003c00:00,  1.57it/s]\\n\",","            \"                 Class     Images  Instances      Box(P          R      mAP50  mAP50-95): 100% 3/3 [00:01\u003c00:00,  2.25it/s]\\n\",","            \"                   all         81         81       0.96      0.938      0.979      0.812\\n\",","            \"\\n\",","            \"      Epoch    GPU_mem   box_loss   cls_loss   dfl_loss  Instances       Size\\n\",","            \"     23/100      2.76G     0.8845     0.7487      1.052          4        640: 100% 18/18 [00:10\u003c00:00,  1.65it/s]\\n\",","            \"                 Class     Images  Instances      Box(P          R      mAP50  mAP50-95): 100% 3/3 [00:01\u003c00:00,  2.25it/s]\\n\",","            \"                   all         81         81      0.977      0.963      0.978      0.781\\n\",","            \"\\n\",","            \"      Epoch    GPU_mem   box_loss   cls_loss   dfl_loss  Instances       Size\\n\",","            \"     24/100      2.76G      0.859     0.7443      1.046          7        640: 100% 18/18 [00:10\u003c00:00,  1.77it/s]\\n\",","            \"                 Class     Images  Instances      Box(P          R      mAP50  mAP50-95): 100% 3/3 [00:01\u003c00:00,  1.99it/s]\\n\",","            \"                   all         81         81       0.94      0.988      0.984      0.763\\n\",","            \"\\n\",","            \"      Epoch    GPU_mem   box_loss   cls_loss   dfl_loss  Instances       Size\\n\",","            \"     25/100      2.76G      0.864      0.728      1.035         12        640: 100% 18/18 [00:09\u003c00:00,  1.91it/s]\\n\",","            \"                 Class     Images  Instances      Box(P          R      mAP50  mAP50-95): 100% 3/3 [00:01\u003c00:00,  1.57it/s]\\n\",","            \"                   all         81         81      0.997      0.975      0.985      0.816\\n\",","            \"\\n\",","            \"      Epoch    GPU_mem   box_loss   cls_loss   dfl_loss  Instances       Size\\n\",","            \"     26/100      2.76G     0.8756     0.7288      1.059          7        640: 100% 18/18 [00:09\u003c00:00,  1.81it/s]\\n\",","            \"                 Class     Images  Instances      Box(P          R      mAP50  mAP50-95): 100% 3/3 [00:02\u003c00:00,  1.32it/s]\\n\",","            \"                   all         81         81      0.995      0.975      0.985      0.797\\n\",","            \"\\n\",","            \"      Epoch    GPU_mem   box_loss   cls_loss   dfl_loss  Instances       Size\\n\",","            \"     27/100      2.76G     0.8749     0.7055      1.025          6        640: 100% 18/18 [00:10\u003c00:00,  1.67it/s]\\n\",","            \"                 Class     Images  Instances      Box(P          R      mAP50  mAP50-95): 100% 3/3 [00:01\u003c00:00,  1.55it/s]\\n\",","            \"                   all         81         81      0.988      0.986      0.985      0.784\\n\",","            \"\\n\",","            \"      Epoch    GPU_mem   box_loss   cls_loss   dfl_loss  Instances       Size\\n\",","            \"     28/100      2.76G     0.8588     0.6937      1.034          5        640: 100% 18/18 [00:11\u003c00:00,  1.59it/s]\\n\",","            \"                 Class     Images  Instances      Box(P          R      mAP50  mAP50-95): 100% 3/3 [00:01\u003c00:00,  2.18it/s]\\n\",","            \"                   all         81         81       0.98      0.975      0.984      0.798\\n\",","            \"\\n\",","            \"      Epoch    GPU_mem   box_loss   cls_loss   dfl_loss  Instances       Size\\n\",","            \"     29/100      2.76G     0.8324      0.679      1.008          5        640: 100% 18/18 [00:11\u003c00:00,  1.57it/s]\\n\",","            \"                 Class     Images  Instances      Box(P          R      mAP50  mAP50-95): 100% 3/3 [00:01\u003c00:00,  2.24it/s]\\n\",","            \"                   all         81         81      0.987      0.929      0.981      0.802\\n\",","            \"\\n\",","            \"      Epoch    GPU_mem   box_loss   cls_loss   dfl_loss  Instances       Size\\n\",","            \"     30/100      2.76G     0.8287     0.6681     0.9939         12        640: 100% 18/18 [00:11\u003c00:00,  1.59it/s]\\n\",","            \"                 Class     Images  Instances      Box(P          R      mAP50  mAP50-95): 100% 3/3 [00:01\u003c00:00,  2.23it/s]\\n\",","            \"                   all         81         81      0.969      0.975      0.982      0.795\\n\",","            \"\\n\",","            \"      Epoch    GPU_mem   box_loss   cls_loss   dfl_loss  Instances       Size\\n\",","            \"     31/100      2.76G     0.8575     0.6398       1.06          6        640: 100% 18/18 [00:11\u003c00:00,  1.60it/s]\\n\",","            \"                 Class     Images  Instances      Box(P          R      mAP50  mAP50-95): 100% 3/3 [00:01\u003c00:00,  2.23it/s]\\n\",","            \"                   all         81         81      0.947      0.988      0.983       0.83\\n\",","            \"\\n\",","            \"      Epoch    GPU_mem   box_loss   cls_loss   dfl_loss  Instances       Size\\n\",","            \"     32/100      2.76G     0.8331     0.6623      1.024          7        640: 100% 18/18 [00:11\u003c00:00,  1.59it/s]\\n\",","            \"                 Class     Images  Instances      Box(P          R      mAP50  mAP50-95): 100% 3/3 [00:01\u003c00:00,  2.19it/s]\\n\",","            \"                   all         81         81      0.956      0.988      0.984      0.828\\n\",","            \"\\n\",","            \"      Epoch    GPU_mem   box_loss   cls_loss   dfl_loss  Instances       Size\\n\",","            \"     33/100      2.76G     0.8069     0.6304      1.008         10        640: 100% 18/18 [00:11\u003c00:00,  1.58it/s]\\n\",","            \"                 Class     Images  Instances      Box(P          R      mAP50  mAP50-95): 100% 3/3 [00:01\u003c00:00,  2.22it/s]\\n\",","            \"                   all         81         81      0.997      0.975      0.985      0.819\\n\",","            \"\\n\",","            \"      Epoch    GPU_mem   box_loss   cls_loss   dfl_loss  Instances       Size\\n\",","            \"     34/100      2.76G      0.835     0.6677      1.033          7        640: 100% 18/18 [00:11\u003c00:00,  1.59it/s]\\n\",","            \"                 Class     Images  Instances      Box(P          R      mAP50  mAP50-95): 100% 3/3 [00:01\u003c00:00,  2.22it/s]\\n\",","            \"                   all         81         81      0.975      0.979      0.985      0.807\\n\",","            \"\\n\",","            \"      Epoch    GPU_mem   box_loss   cls_loss   dfl_loss  Instances       Size\\n\",","            \"     35/100      2.76G     0.8436     0.6645     0.9934         11        640: 100% 18/18 [00:11\u003c00:00,  1.58it/s]\\n\",","            \"                 Class     Images  Instances      Box(P          R      mAP50  mAP50-95): 100% 3/3 [00:01\u003c00:00,  2.24it/s]\\n\",","            \"                   all         81         81      0.988      0.988      0.985      0.799\\n\",","            \"\\n\",","            \"      Epoch    GPU_mem   box_loss   cls_loss   dfl_loss  Instances       Size\\n\",","            \"     36/100      2.76G     0.8162     0.6545     0.9921         12        640: 100% 18/18 [00:13\u003c00:00,  1.35it/s]\\n\",","            \"                 Class     Images  Instances      Box(P          R      mAP50  mAP50-95): 100% 3/3 [00:01\u003c00:00,  2.27it/s]\\n\",","            \"                   all         81         81      0.963      0.963      0.982      0.826\\n\",","            \"\\n\",","            \"      Epoch    GPU_mem   box_loss   cls_loss   dfl_loss  Instances       Size\\n\",","            \"     37/100      2.76G      0.829     0.6321      1.013          9        640: 100% 18/18 [00:10\u003c00:00,  1.71it/s]\\n\",","            \"                 Class     Images  Instances      Box(P          R      mAP50  mAP50-95): 100% 3/3 [00:01\u003c00:00,  2.18it/s]\\n\",","            \"                   all         81         81      0.963      0.988      0.984      0.802\\n\",","            \"\\n\",","            \"      Epoch    GPU_mem   box_loss   cls_loss   dfl_loss  Instances       Size\\n\",","            \"     38/100      2.76G      0.814     0.6436      1.006          7        640: 100% 18/18 [00:09\u003c00:00,  1.83it/s]\\n\",","            \"                 Class     Images  Instances      Box(P          R      mAP50  mAP50-95): 100% 3/3 [00:01\u003c00:00,  1.53it/s]\\n\",","            \"                   all         81         81      0.987       0.96      0.984      0.814\\n\",","            \"\\n\",","            \"      Epoch    GPU_mem   box_loss   cls_loss   dfl_loss  Instances       Size\\n\",","            \"     39/100      2.76G     0.8176     0.6055     0.9958         10        640: 100% 18/18 [00:10\u003c00:00,  1.70it/s]\\n\",","            \"                 Class     Images  Instances      Box(P          R      mAP50  mAP50-95): 100% 3/3 [00:02\u003c00:00,  1.43it/s]\\n\",","            \"                   all         81         81      0.961      0.975      0.984      0.821\\n\",","            \"\\n\",","            \"      Epoch    GPU_mem   box_loss   cls_loss   dfl_loss  Instances       Size\\n\",","            \"     40/100      2.76G     0.8386     0.6422      1.019          8        640: 100% 18/18 [00:11\u003c00:00,  1.51it/s]\\n\",","            \"                 Class     Images  Instances      Box(P          R      mAP50  mAP50-95): 100% 3/3 [00:01\u003c00:00,  2.23it/s]\\n\",","            \"                   all         81         81      0.974      0.963      0.984      0.813\\n\",","            \"\\n\",","            \"      Epoch    GPU_mem   box_loss   cls_loss   dfl_loss  Instances       Size\\n\",","            \"     41/100      2.76G     0.7594     0.5873      0.993          4        640: 100% 18/18 [00:11\u003c00:00,  1.53it/s]\\n\",","            \"                 Class     Images  Instances      Box(P          R      mAP50  mAP50-95): 100% 3/3 [00:01\u003c00:00,  2.12it/s]\\n\",","            \"                   all         81         81      0.987      0.975      0.985      0.826\\n\",","            \"\\n\",","            \"      Epoch    GPU_mem   box_loss   cls_loss   dfl_loss  Instances       Size\\n\",","            \"     42/100      2.76G     0.7755     0.5813     0.9848          6        640: 100% 18/18 [00:11\u003c00:00,  1.52it/s]\\n\",","            \"                 Class     Images  Instances      Box(P          R      mAP50  mAP50-95): 100% 3/3 [00:01\u003c00:00,  2.23it/s]\\n\",","            \"                   all         81         81      0.998      0.975      0.979      0.815\\n\",","            \"\\n\",","            \"      Epoch    GPU_mem   box_loss   cls_loss   dfl_loss  Instances       Size\\n\",","            \"     43/100      2.76G     0.7449     0.5868     0.9766         10        640: 100% 18/18 [00:11\u003c00:00,  1.58it/s]\\n\",","            \"                 Class     Images  Instances      Box(P          R      mAP50  mAP50-95): 100% 3/3 [00:01\u003c00:00,  2.23it/s]\\n\",","            \"                   all         81         81      0.974      0.951       0.98      0.802\\n\",","            \"\\n\",","            \"      Epoch    GPU_mem   box_loss   cls_loss   dfl_loss  Instances       Size\\n\",","            \"     44/100      2.76G     0.7465     0.5783     0.9877          6        640: 100% 18/18 [00:11\u003c00:00,  1.56it/s]\\n\",","            \"                 Class     Images  Instances      Box(P          R      mAP50  mAP50-95): 100% 3/3 [00:01\u003c00:00,  2.24it/s]\\n\",","            \"                   all         81         81      0.987      0.988      0.984      0.833\\n\",","            \"\\n\",","            \"      Epoch    GPU_mem   box_loss   cls_loss   dfl_loss  Instances       Size\\n\",","            \"     45/100      2.76G     0.7912     0.5935     0.9973          9        640: 100% 18/18 [00:12\u003c00:00,  1.45it/s]\\n\",","            \"                 Class     Images  Instances      Box(P          R      mAP50  mAP50-95): 100% 3/3 [00:01\u003c00:00,  1.58it/s]\\n\",","            \"                   all         81         81      0.963      0.988      0.983      0.821\\n\",","            \"\\n\",","            \"      Epoch    GPU_mem   box_loss   cls_loss   dfl_loss  Instances       Size\\n\",","            \"     46/100      2.76G     0.8028     0.5759      1.015          5        640: 100% 18/18 [00:10\u003c00:00,  1.69it/s]\\n\",","            \"                 Class     Images  Instances      Box(P          R      mAP50  mAP50-95): 100% 3/3 [00:01\u003c00:00,  2.30it/s]\\n\",","            \"                   all         81         81      0.961      0.951      0.982      0.784\\n\",","            \"\\n\",","            \"      Epoch    GPU_mem   box_loss   cls_loss   dfl_loss  Instances       Size\\n\",","            \"     47/100      2.76G     0.7512     0.5473     0.9657          5        640: 100% 18/18 [00:09\u003c00:00,  1.83it/s]\\n\",","            \"                 Class     Images  Instances      Box(P          R      mAP50  mAP50-95): 100% 3/3 [00:01\u003c00:00,  1.97it/s]\\n\",","            \"                   all         81         81      0.973      0.975      0.982      0.815\\n\",","            \"\\n\",","            \"      Epoch    GPU_mem   box_loss   cls_loss   dfl_loss  Instances       Size\\n\",","            \"     48/100      2.76G     0.7226     0.5566     0.9525          7        640: 100% 18/18 [00:10\u003c00:00,  1.78it/s]\\n\",","            \"                 Class     Images  Instances      Box(P          R      mAP50  mAP50-95): 100% 3/3 [00:02\u003c00:00,  1.47it/s]\\n\",","            \"                   all         81         81      0.975      0.975      0.981      0.818\\n\",","            \"\\n\",","            \"      Epoch    GPU_mem   box_loss   cls_loss   dfl_loss  Instances       Size\\n\",","            \"     49/100      2.76G     0.7754     0.5638     0.9873          9        640: 100% 18/18 [00:10\u003c00:00,  1.73it/s]\\n\",","            \"                 Class     Images  Instances      Box(P          R      mAP50  mAP50-95): 100% 3/3 [00:01\u003c00:00,  1.54it/s]\\n\",","            \"                   all         81         81      0.971      0.988      0.983      0.835\\n\",","            \"\\n\",","            \"      Epoch    GPU_mem   box_loss   cls_loss   dfl_loss  Instances       Size\\n\",","            \"     50/100      2.76G     0.7305     0.5354     0.9648          9        640: 100% 18/18 [00:11\u003c00:00,  1.54it/s]\\n\",","            \"                 Class     Images  Instances      Box(P          R      mAP50  mAP50-95): 100% 3/3 [00:01\u003c00:00,  2.27it/s]\\n\",","            \"                   all         81         81      0.972      0.988      0.985      0.845\\n\",","            \"\\n\",","            \"      Epoch    GPU_mem   box_loss   cls_loss   dfl_loss  Instances       Size\\n\",","            \"     51/100      2.76G     0.6971     0.5301      0.954          8        640: 100% 18/18 [00:11\u003c00:00,  1.60it/s]\\n\",","            \"                 Class     Images  Instances      Box(P          R      mAP50  mAP50-95): 100% 3/3 [00:01\u003c00:00,  2.30it/s]\\n\",","            \"                   all         81         81      0.986      0.988      0.985      0.828\\n\",","            \"\\n\",","            \"      Epoch    GPU_mem   box_loss   cls_loss   dfl_loss  Instances       Size\\n\",","            \"     52/100      2.76G     0.7163      0.529     0.9628          9        640: 100% 18/18 [00:11\u003c00:00,  1.59it/s]\\n\",","            \"                 Class     Images  Instances      Box(P          R      mAP50  mAP50-95): 100% 3/3 [00:01\u003c00:00,  2.25it/s]\\n\",","            \"                   all         81         81      0.984      0.988      0.986      0.837\\n\",","            \"\\n\",","            \"      Epoch    GPU_mem   box_loss   cls_loss   dfl_loss  Instances       Size\\n\",","            \"     53/100      2.76G      0.731     0.5665     0.9693          7        640: 100% 18/18 [00:11\u003c00:00,  1.58it/s]\\n\",","            \"                 Class     Images  Instances      Box(P          R      mAP50  mAP50-95): 100% 3/3 [00:01\u003c00:00,  2.23it/s]\\n\",","            \"                   all         81         81      0.972      0.988      0.984      0.848\\n\",","            \"\\n\",","            \"      Epoch    GPU_mem   box_loss   cls_loss   dfl_loss  Instances       Size\\n\",","            \"     54/100      2.76G     0.7558     0.5368     0.9878          9        640: 100% 18/18 [00:11\u003c00:00,  1.56it/s]\\n\",","            \"                 Class     Images  Instances      Box(P          R      mAP50  mAP50-95): 100% 3/3 [00:01\u003c00:00,  2.19it/s]\\n\",","            \"                   all         81         81      0.985      0.975      0.985      0.831\\n\",","            \"\\n\",","            \"      Epoch    GPU_mem   box_loss   cls_loss   dfl_loss  Instances       Size\\n\",","            \"     55/100      2.76G      0.764     0.5583     0.9828          6        640: 100% 18/18 [00:13\u003c00:00,  1.33it/s]\\n\",","            \"                 Class     Images  Instances      Box(P          R      mAP50  mAP50-95): 100% 3/3 [00:01\u003c00:00,  2.17it/s]\\n\",","            \"                   all         81         81      0.979      0.963      0.984      0.828\\n\",","            \"\\n\",","            \"      Epoch    GPU_mem   box_loss   cls_loss   dfl_loss  Instances       Size\\n\",","            \"     56/100      2.76G      0.708     0.5041     0.9588         15        640: 100% 18/18 [00:11\u003c00:00,  1.57it/s]\\n\",","            \"                 Class     Images  Instances      Box(P          R      mAP50  mAP50-95): 100% 3/3 [00:01\u003c00:00,  2.24it/s]\\n\",","            \"                   all         81         81      0.983      0.988      0.986      0.854\\n\",","            \"\\n\",","            \"      Epoch    GPU_mem   box_loss   cls_loss   dfl_loss  Instances       Size\\n\",","            \"     57/100      2.76G     0.7204     0.5322     0.9747         11        640: 100% 18/18 [00:11\u003c00:00,  1.55it/s]\\n\",","            \"                 Class     Images  Instances      Box(P          R      mAP50  mAP50-95): 100% 3/3 [00:01\u003c00:00,  2.19it/s]\\n\",","            \"                   all         81         81      0.975      0.988       0.98      0.836\\n\",","            \"\\n\",","            \"      Epoch    GPU_mem   box_loss   cls_loss   dfl_loss  Instances       Size\\n\",","            \"     58/100      2.76G     0.6839     0.5182     0.9558          7        640: 100% 18/18 [00:10\u003c00:00,  1.75it/s]\\n\",","            \"                 Class     Images  Instances      Box(P          R      mAP50  mAP50-95): 100% 3/3 [00:01\u003c00:00,  2.29it/s]\\n\",","            \"                   all         81         81      0.988      0.986      0.984      0.832\\n\",","            \"\\n\",","            \"      Epoch    GPU_mem   box_loss   cls_loss   dfl_loss  Instances       Size\\n\",","            \"     59/100      2.76G      0.711     0.5038      0.973          6        640: 100% 18/18 [00:09\u003c00:00,  1.87it/s]\\n\",","            \"                 Class     Images  Instances      Box(P          R      mAP50  mAP50-95): 100% 3/3 [00:01\u003c00:00,  1.94it/s]\\n\",","            \"                   all         81         81      0.988      0.985      0.985      0.845\\n\",","            \"\\n\",","            \"      Epoch    GPU_mem   box_loss   cls_loss   dfl_loss  Instances       Size\\n\",","            \"     60/100      2.76G     0.6988     0.5217     0.9535          7        640: 100% 18/18 [00:09\u003c00:00,  1.89it/s]\\n\",","            \"                 Class     Images  Instances      Box(P          R      mAP50  mAP50-95): 100% 3/3 [00:02\u003c00:00,  1.50it/s]\\n\",","            \"                   all         81         81      0.987      0.975      0.985      0.845\\n\",","            \"\\n\",","            \"      Epoch    GPU_mem   box_loss   cls_loss   dfl_loss  Instances       Size\\n\",","            \"     61/100      2.76G      0.682       0.51     0.9393         11        640: 100% 18/18 [00:10\u003c00:00,  1.76it/s]\\n\",","            \"                 Class     Images  Instances      Box(P          R      mAP50  mAP50-95): 100% 3/3 [00:02\u003c00:00,  1.39it/s]\\n\",","            \"                   all         81         81      0.988      0.983      0.985      0.842\\n\",","            \"\\n\",","            \"      Epoch    GPU_mem   box_loss   cls_loss   dfl_loss  Instances       Size\\n\",","            \"     62/100      2.76G     0.6523     0.4707     0.9402         10        640: 100% 18/18 [00:10\u003c00:00,  1.74it/s]\\n\",","            \"                 Class     Images  Instances      Box(P          R      mAP50  mAP50-95): 100% 3/3 [00:01\u003c00:00,  1.58it/s]\\n\",","            \"                   all         81         81      0.996      0.988      0.986      0.845\\n\",","            \"\\n\",","            \"      Epoch    GPU_mem   box_loss   cls_loss   dfl_loss  Instances       Size\\n\",","            \"     63/100      2.76G     0.6661     0.4807     0.9498          8        640: 100% 18/18 [00:11\u003c00:00,  1.59it/s]\\n\",","            \"                 Class     Images  Instances      Box(P          R      mAP50  mAP50-95): 100% 3/3 [00:01\u003c00:00,  2.19it/s]\\n\",","            \"                   all         81         81          1      0.987      0.986      0.842\\n\",","            \"\\n\",","            \"      Epoch    GPU_mem   box_loss   cls_loss   dfl_loss  Instances       Size\\n\",","            \"     64/100      2.76G     0.6462     0.4863     0.9397          7        640: 100% 18/18 [00:11\u003c00:00,  1.56it/s]\\n\",","            \"                 Class     Images  Instances      Box(P          R      mAP50  mAP50-95): 100% 3/3 [00:01\u003c00:00,  1.82it/s]\\n\",","            \"                   all         81         81      0.986      0.975      0.985      0.845\\n\",","            \"\\n\",","            \"      Epoch    GPU_mem   box_loss   cls_loss   dfl_loss  Instances       Size\\n\",","            \"     65/100      2.76G     0.6562     0.4746     0.9543          5        640: 100% 18/18 [00:11\u003c00:00,  1.58it/s]\\n\",","            \"                 Class     Images  Instances      Box(P          R      mAP50  mAP50-95): 100% 3/3 [00:01\u003c00:00,  2.28it/s]\\n\",","            \"                   all         81         81      0.985      0.988      0.983      0.835\\n\",","            \"\\n\",","            \"      Epoch    GPU_mem   box_loss   cls_loss   dfl_loss  Instances       Size\\n\",","            \"     66/100      2.76G     0.6474     0.4766     0.9522         11        640: 100% 18/18 [00:11\u003c00:00,  1.58it/s]\\n\",","            \"                 Class     Images  Instances      Box(P          R      mAP50  mAP50-95): 100% 3/3 [00:01\u003c00:00,  2.26it/s]\\n\",","            \"                   all         81         81      0.962      0.988      0.985      0.854\\n\",","            \"\\n\",","            \"      Epoch    GPU_mem   box_loss   cls_loss   dfl_loss  Instances       Size\\n\",","            \"     67/100      2.76G     0.6435     0.4752     0.9634         10        640: 100% 18/18 [00:11\u003c00:00,  1.58it/s]\\n\",","            \"                 Class     Images  Instances      Box(P          R      mAP50  mAP50-95): 100% 3/3 [00:01\u003c00:00,  2.22it/s]\\n\",","            \"                   all         81         81      0.961      0.988      0.985      0.854\\n\",","            \"\\n\",","            \"      Epoch    GPU_mem   box_loss   cls_loss   dfl_loss  Instances       Size\\n\",","            \"     68/100      2.76G     0.6529      0.472     0.9416         10        640: 100% 18/18 [00:11\u003c00:00,  1.57it/s]\\n\",","            \"                 Class     Images  Instances      Box(P          R      mAP50  mAP50-95): 100% 3/3 [00:01\u003c00:00,  2.28it/s]\\n\",","            \"                   all         81         81      0.968      0.988      0.983      0.844\\n\",","            \"\\n\",","            \"      Epoch    GPU_mem   box_loss   cls_loss   dfl_loss  Instances       Size\\n\",","            \"     69/100      2.76G     0.6388     0.4703     0.9461         10        640: 100% 18/18 [00:11\u003c00:00,  1.62it/s]\\n\",","            \"                 Class     Images  Instances      Box(P          R      mAP50  mAP50-95): 100% 3/3 [00:01\u003c00:00,  2.24it/s]\\n\",","            \"                   all         81         81      0.973      0.988      0.985      0.845\\n\",","            \"\\n\",","            \"      Epoch    GPU_mem   box_loss   cls_loss   dfl_loss  Instances       Size\\n\",","            \"     70/100      2.76G     0.6408     0.4657     0.9484          7        640: 100% 18/18 [00:10\u003c00:00,  1.79it/s]\\n\",","            \"                 Class     Images  Instances      Box(P          R      mAP50  mAP50-95): 100% 3/3 [00:01\u003c00:00,  2.00it/s]\\n\",","            \"                   all         81         81      0.985      0.988      0.986       0.85\\n\",","            \"\\n\",","            \"      Epoch    GPU_mem   box_loss   cls_loss   dfl_loss  Instances       Size\\n\",","            \"     71/100      2.76G     0.6181     0.4445     0.9394         10        640: 100% 18/18 [00:10\u003c00:00,  1.79it/s]\\n\",","            \"                 Class     Images  Instances      Box(P          R      mAP50  mAP50-95): 100% 3/3 [00:02\u003c00:00,  1.46it/s]\\n\",","            \"                   all         81         81      0.988      0.975      0.986      0.856\\n\",","            \"\\n\",","            \"      Epoch    GPU_mem   box_loss   cls_loss   dfl_loss  Instances       Size\\n\",","            \"     72/100      2.76G     0.6356     0.4612     0.9394          5        640: 100% 18/18 [00:10\u003c00:00,  1.76it/s]\\n\",","            \"                 Class     Images  Instances      Box(P          R      mAP50  mAP50-95): 100% 3/3 [00:02\u003c00:00,  1.46it/s]\\n\",","            \"                   all         81         81      0.976      0.987      0.985      0.852\\n\",","            \"\\n\",","            \"      Epoch    GPU_mem   box_loss   cls_loss   dfl_loss  Instances       Size\\n\",","            \"     73/100      2.76G     0.6172     0.4507      0.933         12        640: 100% 18/18 [00:11\u003c00:00,  1.58it/s]\\n\",","            \"                 Class     Images  Instances      Box(P          R      mAP50  mAP50-95): 100% 3/3 [00:01\u003c00:00,  2.24it/s]\\n\",","            \"                   all         81         81      0.976      0.987      0.984      0.856\\n\",","            \"\\n\",","            \"      Epoch    GPU_mem   box_loss   cls_loss   dfl_loss  Instances       Size\\n\",","            \"     74/100      2.76G     0.6084     0.4464     0.9285          7        640: 100% 18/18 [00:13\u003c00:00,  1.36it/s]\\n\",","            \"                 Class     Images  Instances      Box(P          R      mAP50  mAP50-95): 100% 3/3 [00:01\u003c00:00,  2.19it/s]\\n\",","            \"                   all         81         81      0.972      0.988      0.986      0.851\\n\",","            \"\\n\",","            \"      Epoch    GPU_mem   box_loss   cls_loss   dfl_loss  Instances       Size\\n\",","            \"     75/100      2.76G     0.6062     0.4401     0.9238          8        640: 100% 18/18 [00:11\u003c00:00,  1.55it/s]\\n\",","            \"                 Class     Images  Instances      Box(P          R      mAP50  mAP50-95): 100% 3/3 [00:01\u003c00:00,  2.17it/s]\\n\",","            \"                   all         81         81      0.985      0.988      0.986      0.844\\n\",","            \"\\n\",","            \"      Epoch    GPU_mem   box_loss   cls_loss   dfl_loss  Instances       Size\\n\",","            \"     76/100      2.76G     0.5822     0.4196     0.9141          7        640: 100% 18/18 [00:11\u003c00:00,  1.54it/s]\\n\",","            \"                 Class     Images  Instances      Box(P          R      mAP50  mAP50-95): 100% 3/3 [00:01\u003c00:00,  2.24it/s]\\n\",","            \"                   all         81         81      0.998      0.988      0.987      0.858\\n\",","            \"\\n\",","            \"      Epoch    GPU_mem   box_loss   cls_loss   dfl_loss  Instances       Size\\n\",","            \"     77/100      2.76G     0.6134     0.4605     0.9343          7        640: 100% 18/18 [00:11\u003c00:00,  1.53it/s]\\n\",","            \"                 Class     Images  Instances      Box(P          R      mAP50  mAP50-95): 100% 3/3 [00:01\u003c00:00,  2.18it/s]\\n\",","            \"                   all         81         81          1      0.975      0.987      0.851\\n\",","            \"\\n\",","            \"      Epoch    GPU_mem   box_loss   cls_loss   dfl_loss  Instances       Size\\n\",","            \"     78/100      2.76G     0.5839     0.4103     0.9119          9        640: 100% 18/18 [00:11\u003c00:00,  1.53it/s]\\n\",","            \"                 Class     Images  Instances      Box(P          R      mAP50  mAP50-95): 100% 3/3 [00:01\u003c00:00,  2.29it/s]\\n\",","            \"                   all         81         81      0.999      0.975      0.987       0.84\\n\",","            \"\\n\",","            \"      Epoch    GPU_mem   box_loss   cls_loss   dfl_loss  Instances       Size\\n\",","            \"     79/100      2.76G     0.5754     0.4075     0.9147         10        640: 100% 18/18 [00:11\u003c00:00,  1.54it/s]\\n\",","            \"                 Class     Images  Instances      Box(P          R      mAP50  mAP50-95): 100% 3/3 [00:01\u003c00:00,  2.24it/s]\\n\",","            \"                   all         81         81      0.999      0.988      0.987      0.861\\n\",","            \"\\n\",","            \"      Epoch    GPU_mem   box_loss   cls_loss   dfl_loss  Instances       Size\\n\",","            \"     80/100      2.76G     0.5961     0.4327     0.9297          7        640: 100% 18/18 [00:10\u003c00:00,  1.79it/s]\\n\",","            \"                 Class     Images  Instances      Box(P          R      mAP50  mAP50-95): 100% 3/3 [00:01\u003c00:00,  2.15it/s]\\n\",","            \"                   all         81         81      0.975      0.988      0.987      0.852\\n\",","            \"\\n\",","            \"      Epoch    GPU_mem   box_loss   cls_loss   dfl_loss  Instances       Size\\n\",","            \"     81/100      2.76G     0.5973     0.4243     0.9082          8        640: 100% 18/18 [00:09\u003c00:00,  1.80it/s]\\n\",","            \"                 Class     Images  Instances      Box(P          R      mAP50  mAP50-95): 100% 3/3 [00:02\u003c00:00,  1.37it/s]\\n\",","            \"                   all         81         81      0.974      0.988      0.987      0.848\\n\",","            \"\\n\",","            \"      Epoch    GPU_mem   box_loss   cls_loss   dfl_loss  Instances       Size\\n\",","            \"     82/100      2.76G     0.6187     0.4269     0.9477          6        640: 100% 18/18 [00:10\u003c00:00,  1.67it/s]\\n\",","            \"                 Class     Images  Instances      Box(P          R      mAP50  mAP50-95): 100% 3/3 [00:01\u003c00:00,  1.55it/s]\\n\",","            \"                   all         81         81      0.988      0.986      0.987      0.848\\n\",","            \"\\n\",","            \"      Epoch    GPU_mem   box_loss   cls_loss   dfl_loss  Instances       Size\\n\",","            \"     83/100      2.76G     0.5677     0.4164     0.9229         12        640: 100% 18/18 [00:11\u003c00:00,  1.51it/s]\\n\",","            \"                 Class     Images  Instances      Box(P          R      mAP50  mAP50-95): 100% 3/3 [00:02\u003c00:00,  1.31it/s]\\n\",","            \"                   all         81         81      0.996      0.988      0.987      0.854\\n\",","            \"\\n\",","            \"      Epoch    GPU_mem   box_loss   cls_loss   dfl_loss  Instances       Size\\n\",","            \"     84/100      2.76G     0.5571     0.4143     0.9181          6        640: 100% 18/18 [00:10\u003c00:00,  1.69it/s]\\n\",","            \"                 Class     Images  Instances      Box(P          R      mAP50  mAP50-95): 100% 3/3 [00:01\u003c00:00,  1.68it/s]\\n\",","            \"                   all         81         81      0.984      0.988      0.986      0.855\\n\",","            \"\\n\",","            \"      Epoch    GPU_mem   box_loss   cls_loss   dfl_loss  Instances       Size\\n\",","            \"     85/100      2.76G       0.55     0.4064     0.9099         10        640: 100% 18/18 [00:11\u003c00:00,  1.55it/s]\\n\",","            \"                 Class     Images  Instances      Box(P          R      mAP50  mAP50-95): 100% 3/3 [00:01\u003c00:00,  2.20it/s]\\n\",","            \"                   all         81         81      0.985      0.988      0.985      0.856\\n\",","            \"\\n\",","            \"      Epoch    GPU_mem   box_loss   cls_loss   dfl_loss  Instances       Size\\n\",","            \"     86/100      2.76G     0.5571     0.3988     0.9165         11        640: 100% 18/18 [00:11\u003c00:00,  1.60it/s]\\n\",","            \"                 Class     Images  Instances      Box(P          R      mAP50  mAP50-95): 100% 3/3 [00:01\u003c00:00,  2.22it/s]\\n\",","            \"                   all         81         81      0.986      0.988      0.984      0.859\\n\",","            \"\\n\",","            \"      Epoch    GPU_mem   box_loss   cls_loss   dfl_loss  Instances       Size\\n\",","            \"     87/100      2.76G      0.521     0.3802       0.89          9        640: 100% 18/18 [00:11\u003c00:00,  1.57it/s]\\n\",","            \"                 Class     Images  Instances      Box(P          R      mAP50  mAP50-95): 100% 3/3 [00:01\u003c00:00,  2.23it/s]\\n\",","            \"                   all         81         81      0.986      0.988      0.985      0.864\\n\",","            \"\\n\",","            \"      Epoch    GPU_mem   box_loss   cls_loss   dfl_loss  Instances       Size\\n\",","            \"     88/100      2.76G     0.5542      0.399     0.9014         10        640: 100% 18/18 [00:11\u003c00:00,  1.57it/s]\\n\",","            \"                 Class     Images  Instances      Box(P          R      mAP50  mAP50-95): 100% 3/3 [00:01\u003c00:00,  2.25it/s]\\n\",","            \"                   all         81         81      0.987      0.988      0.986       0.85\\n\",","            \"\\n\",","            \"      Epoch    GPU_mem   box_loss   cls_loss   dfl_loss  Instances       Size\\n\",","            \"     89/100      2.76G     0.5594     0.4022     0.9097          8        640: 100% 18/18 [00:11\u003c00:00,  1.56it/s]\\n\",","            \"                 Class     Images  Instances      Box(P          R      mAP50  mAP50-95): 100% 3/3 [00:01\u003c00:00,  2.32it/s]\\n\",","            \"                   all         81         81      0.988      0.987      0.986       0.84\\n\",","            \"\\n\",","            \"      Epoch    GPU_mem   box_loss   cls_loss   dfl_loss  Instances       Size\\n\",","            \"     90/100      2.76G     0.5288     0.3954     0.8998          6        640: 100% 18/18 [00:11\u003c00:00,  1.55it/s]\\n\",","            \"                 Class     Images  Instances      Box(P          R      mAP50  mAP50-95): 100% 3/3 [00:01\u003c00:00,  2.22it/s]\\n\",","            \"                   all         81         81      0.986      0.975      0.986      0.858\\n\",","            \"Closing dataloader mosaic\\n\",","            \"\\u001b[34m\\u001b[1malbumentations: \\u001b[0mBlur(p=0.01, blur_limit=(3, 7)), MedianBlur(p=0.01, blur_limit=(3, 7)), ToGray(p=0.01), CLAHE(p=0.01, clip_limit=(1, 4.0), tile_grid_size=(8, 8))\\n\",","            \"\\n\",","            \"      Epoch    GPU_mem   box_loss   cls_loss   dfl_loss  Instances       Size\\n\",","            \"     91/100      2.76G      0.477     0.3441     0.8572          5        640: 100% 18/18 [00:08\u003c00:00,  2.13it/s]\\n\",","            \"                 Class     Images  Instances      Box(P          R      mAP50  mAP50-95): 100% 3/3 [00:01\u003c00:00,  2.12it/s]\\n\",","            \"                   all         81         81      0.984      0.975      0.986      0.854\\n\",","            \"\\n\",","            \"      Epoch    GPU_mem   box_loss   cls_loss   dfl_loss  Instances       Size\\n\",","            \"     92/100      2.76G     0.4754      0.345     0.8696          5        640: 100% 18/18 [00:07\u003c00:00,  2.42it/s]\\n\",","            \"                 Class     Images  Instances      Box(P          R      mAP50  mAP50-95): 100% 3/3 [00:01\u003c00:00,  2.23it/s]\\n\",","            \"                   all         81         81      0.975      0.975      0.985      0.851\\n\",","            \"\\n\",","            \"      Epoch    GPU_mem   box_loss   cls_loss   dfl_loss  Instances       Size\\n\",","            \"     93/100      2.76G     0.4768     0.3448     0.8762          5        640: 100% 18/18 [00:05\u003c00:00,  3.04it/s]\\n\",","            \"                 Class     Images  Instances      Box(P          R      mAP50  mAP50-95): 100% 3/3 [00:02\u003c00:00,  1.33it/s]\\n\",","            \"                   all         81         81      0.987      0.975      0.985      0.858\\n\",","            \"\\n\",","            \"      Epoch    GPU_mem   box_loss   cls_loss   dfl_loss  Instances       Size\\n\",","            \"     94/100      2.76G      0.451     0.3287     0.8469          5        640: 100% 18/18 [00:05\u003c00:00,  3.06it/s]\\n\",","            \"                 Class     Images  Instances      Box(P          R      mAP50  mAP50-95): 100% 3/3 [00:01\u003c00:00,  2.27it/s]\\n\",","            \"                   all         81         81      0.986      0.975      0.985       0.86\\n\",","            \"\\n\",","            \"      Epoch    GPU_mem   box_loss   cls_loss   dfl_loss  Instances       Size\\n\",","            \"     95/100      2.76G      0.457     0.3287     0.8375          5        640: 100% 18/18 [00:07\u003c00:00,  2.30it/s]\\n\",","            \"                 Class     Images  Instances      Box(P          R      mAP50  mAP50-95): 100% 3/3 [00:01\u003c00:00,  2.14it/s]\\n\",","            \"                   all         81         81      0.985      0.975      0.986      0.859\\n\",","            \"\\n\",","            \"      Epoch    GPU_mem   box_loss   cls_loss   dfl_loss  Instances       Size\\n\",","            \"     96/100      2.76G     0.4726     0.3402     0.8464          5        640: 100% 18/18 [00:07\u003c00:00,  2.52it/s]\\n\",","            \"                 Class     Images  Instances      Box(P          R      mAP50  mAP50-95): 100% 3/3 [00:01\u003c00:00,  1.98it/s]\\n\",","            \"                   all         81         81      0.983      0.975      0.986      0.863\\n\",","            \"\\n\",","            \"      Epoch    GPU_mem   box_loss   cls_loss   dfl_loss  Instances       Size\\n\",","            \"     97/100      2.76G     0.4561     0.3303     0.8537          5        640: 100% 18/18 [00:05\u003c00:00,  3.09it/s]\\n\",","            \"                 Class     Images  Instances      Box(P          R      mAP50  mAP50-95): 100% 3/3 [00:01\u003c00:00,  2.02it/s]\\n\",","            \"                   all         81         81      0.974      0.975      0.986      0.864\\n\",","            \"\\n\",","            \"      Epoch    GPU_mem   box_loss   cls_loss   dfl_loss  Instances       Size\\n\",","            \"     98/100      2.76G     0.4465      0.318     0.8436          5        640: 100% 18/18 [00:05\u003c00:00,  3.10it/s]\\n\",","            \"                 Class     Images  Instances      Box(P          R      mAP50  mAP50-95): 100% 3/3 [00:01\u003c00:00,  2.25it/s]\\n\",","            \"                   all         81         81      0.964      0.987      0.986      0.867\\n\",","            \"\\n\",","            \"      Epoch    GPU_mem   box_loss   cls_loss   dfl_loss  Instances       Size\\n\",","            \"     99/100      2.76G     0.4416     0.3238     0.8485          5        640: 100% 18/18 [00:07\u003c00:00,  2.52it/s]\\n\",","            \"                 Class     Images  Instances      Box(P          R      mAP50  mAP50-95): 100% 3/3 [00:01\u003c00:00,  2.20it/s]\\n\",","            \"                   all         81         81      0.964      0.987      0.986      0.876\\n\",","            \"\\n\",","            \"      Epoch    GPU_mem   box_loss   cls_loss   dfl_loss  Instances       Size\\n\",","            \"    100/100      2.76G     0.4414     0.3186     0.8312          5        640: 100% 18/18 [00:07\u003c00:00,  2.34it/s]\\n\",","            \"                 Class     Images  Instances      Box(P          R      mAP50  mAP50-95): 100% 3/3 [00:03\u003c00:00,  1.04s/it]\\n\",","            \"                   all         81         81      0.964      0.987      0.986      0.868\\n\",","            \"\\n\",","            \"100 epochs completed in 0.413 hours.\\n\",","            \"Optimizer stripped from runs/detect/train11/weights/last.pt, 6.3MB\\n\",","            \"Optimizer stripped from runs/detect/train11/weights/best.pt, 6.3MB\\n\",","            \"\\n\",","            \"Validating runs/detect/train11/weights/best.pt...\\n\",","            \"Ultralytics YOLOv8.0.3 🚀 Python-3.10.12 torch-2.0.1+cu118 CUDA:0 (Tesla T4, 15102MiB)\\n\",","            \"Fusing layers... \\n\",","            \"Model summary: 168 layers, 3005843 parameters, 0 gradients, 8.1 GFLOPs\\n\",","            \"                 Class     Images  Instances      Box(P          R      mAP50  mAP50-95): 100% 3/3 [00:03\u003c00:00,  1.07s/it]\\n\",","            \"                   all         81         81      0.964      0.987      0.986      0.874\\n\",","            \"Speed: 1.2ms pre-process, 3.7ms inference, 0.0ms loss, 2.6ms post-process per image\\n\",","            \"Saving runs/detect/train11/predictions.json...\\n\",","            \"Results saved to \\u001b[1mruns/detect/train11\\u001b[0m\\n\"","          ]","        }","      ]","    },","    {","      \"cell_type\": \"code\",","      \"source\": [","        \"!python /content/Licence-Plate-Detection-using-YOLO-V8/ultralytics/yolo/v8/detect/predict.py model='/content/Licence-Plate-Detection-using-YOLO-V8/runs/detect/train11/weights/best.pt' source='/content/Licence-Plate-Detection-using-YOLO-V8/demo1.mp4'\"","      ],","      \"metadata\": {","        \"colab\": {","          \"base_uri\": \"https://localhost:8080/\"","        },","        \"id\": \"eh9d2hdFMO0l\",","        \"outputId\": \"3916593e-768f-4218-fda6-7826f3ce1374\"","      },","      \"execution_count\": 23,","      \"outputs\": [","        {","          \"output_type\": \"stream\",","          \"name\": \"stdout\",","          \"text\": [","            \"2023-09-02 10:13:15.778885: I tensorflow/core/platform/cpu_feature_guard.cc:182] This TensorFlow binary is optimized to use available CPU instructions in performance-critical operations.\\n\",","            \"To enable the following instructions: AVX2 AVX512F FMA, in other operations, rebuild TensorFlow with the appropriate compiler flags.\\n\",","            \"2023-09-02 10:13:17.095302: W tensorflow/compiler/tf2tensorrt/utils/py_utils.cc:38] TF-TRT Warning: Could not find TensorRT\\n\",","            \"Ultralytics YOLOv8.0.3 🚀 Python-3.10.12 torch-2.0.1+cu118 CUDA:0 (Tesla T4, 15102MiB)\\n\",","            \"Fusing layers... \\n\",","            \"Model summary: 168 layers, 3005843 parameters, 0 gradients, 8.1 GFLOPs\\n\",","            \"video 1/1 (1/631) /content/Licence-Plate-Detection-using-YOLO-V8/demo1.mp4: 416x640 1 LicensePlate, 55.1ms\\n\",","            \"video 1/1 (2/631) /content/Licence-Plate-Detection-using-YOLO-V8/demo1.mp4: 416x640 1 LicensePlate, 5.9ms\\n\",","            \"video 1/1 (3/631) /content/Licence-Plate-Detection-using-YOLO-V8/demo1.mp4: 416x640 1 LicensePlate, 5.9ms\\n\",","            \"video 1/1 (4/631) /content/Licence-Plate-Detection-using-YOLO-V8/demo1.mp4: 416x640 1 LicensePlate, 5.9ms\\n\",","            \"video 1/1 (5/631) /content/Licence-Plate-Detection-using-YOLO-V8/demo1.mp4: 416x640 1 LicensePlate, 5.9ms\\n\",","            \"video 1/1 (6/631) /content/Licence-Plate-Detection-using-YOLO-V8/demo1.mp4: 416x640 3 LicensePlates, 6.0ms\\n\",","            \"video 1/1 (7/631) /content/Licence-Plate-Detection-using-YOLO-V8/demo1.mp4: 416x640 3 LicensePlates, 5.9ms\\n\",","            \"video 1/1 (8/631) /content/Licence-Plate-Detection-using-YOLO-V8/demo1.mp4: 416x640 2 LicensePlates, 5.9ms\\n\",","            \"video 1/1 (9/631) /content/Licence-Plate-Detection-using-YOLO-V8/demo1.mp4: 416x640 3 LicensePlates, 5.9ms\\n\",","            \"video 1/1 (10/631) /content/Licence-Plate-Detection-using-YOLO-V8/demo1.mp4: 416x640 2 LicensePlates, 5.9ms\\n\",","            \"video 1/1 (11/631) /content/Licence-Plate-Detection-using-YOLO-V8/demo1.mp4: 416x640 2 LicensePlates, 5.9ms\\n\",","            \"video 1/1 (12/631) /content/Licence-Plate-Detection-using-YOLO-V8/demo1.mp4: 416x640 3 LicensePlates, 8.6ms\\n\",","            \"video 1/1 (13/631) /content/Licence-Plate-Detection-using-YOLO-V8/demo1.mp4: 416x640 2 LicensePlates, 6.2ms\\n\",","            \"video 1/1 (14/631) /content/Licence-Plate-Detection-using-YOLO-V8/demo1.mp4: 416x640 2 LicensePlates, 6.0ms\\n\",","            \"video 1/1 (15/631) /content/Licence-Plate-Detection-using-YOLO-V8/demo1.mp4: 416x640 1 LicensePlate, 6.8ms\\n\",","            \"video 1/1 (16/631) /content/Licence-Plate-Detection-using-YOLO-V8/demo1.mp4: 416x640 2 LicensePlates, 5.9ms\\n\",","            \"video 1/1 (17/631) /content/Licence-Plate-Detection-using-YOLO-V8/demo1.mp4: 416x640 2 LicensePlates, 6.5ms\\n\",","            \"video 1/1 (18/631) /content/Licence-Plate-Detection-using-YOLO-V8/demo1.mp4: 416x640 1 LicensePlate, 5.9ms\\n\",","            \"video 1/1 (19/631) /content/Licence-Plate-Detection-using-YOLO-V8/demo1.mp4: 416x640 1 LicensePlate, 5.9ms\\n\",","            \"video 1/1 (20/631) /content/Licence-Plate-Detection-using-YOLO-V8/demo1.mp4: 416x640 1 LicensePlate, 5.9ms\\n\",","            \"video 1/1 (21/631) /content/Licence-Plate-Detection-using-YOLO-V8/demo1.mp4: 416x640 1 LicensePlate, 5.9ms\\n\",","            \"video 1/1 (22/631) /content/Licence-Plate-Detection-using-YOLO-V8/demo1.mp4: 416x640 1 LicensePlate, 6.1ms\\n\",","            \"video 1/1 (23/631) /content/Licence-Plate-Detection-using-YOLO-V8/demo1.mp4: 416x640 1 LicensePlate, 5.9ms\\n\",","            \"video 1/1 (24/631) /content/Licence-Plate-Detection-using-YOLO-V8/demo1.mp4: 416x640 1 LicensePlate, 6.0ms\\n\",","            \"video 1/1 (25/631) /content/Licence-Plate-Detection-using-YOLO-V8/demo1.mp4: 416x640 1 LicensePlate, 5.9ms\\n\",","            \"video 1/1 (26/631) /content/Licence-Plate-Detection-using-YOLO-V8/demo1.mp4: 416x640 1 LicensePlate, 6.0ms\\n\",","            \"video 1/1 (27/631) /content/Licence-Plate-Detection-using-YOLO-V8/demo1.mp4: 416x640 1 LicensePlate, 5.9ms\\n\",","            \"video 1/1 (28/631) /content/Licence-Plate-Detection-using-YOLO-V8/demo1.mp4: 416x640 1 LicensePlate, 5.9ms\\n\",","            \"video 1/1 (29/631) /content/Licence-Plate-Detection-using-YOLO-V8/demo1.mp4: 416x640 1 LicensePlate, 10.3ms\\n\",","            \"video 1/1 (30/631) /content/Licence-Plate-Detection-using-YOLO-V8/demo1.mp4: 416x640 1 LicensePlate, 5.9ms\\n\",","            \"video 1/1 (31/631) /content/Licence-Plate-Detection-using-YOLO-V8/demo1.mp4: 416x640 1 LicensePlate, 5.9ms\\n\",","            \"video 1/1 (32/631) /content/Licence-Plate-Detection-using-YOLO-V8/demo1.mp4: 416x640 2 LicensePlates, 6.2ms\\n\",","            \"video 1/1 (33/631) /content/Licence-Plate-Detection-using-YOLO-V8/demo1.mp4: 416x640 1 LicensePlate, 6.3ms\\n\",","            \"video 1/1 (34/631) /content/Licence-Plate-Detection-using-YOLO-V8/demo1.mp4: 416x640 1 LicensePlate, 5.9ms\\n\",","            \"video 1/1 (35/631) /content/Licence-Plate-Detection-using-YOLO-V8/demo1.mp4: 416x640 1 LicensePlate, 5.9ms\\n\",","            \"video 1/1 (36/631) /content/Licence-Plate-Detection-using-YOLO-V8/demo1.mp4: 416x640 1 LicensePlate, 6.0ms\\n\",","            \"video 1/1 (37/631) /content/Licence-Plate-Detection-using-YOLO-V8/demo1.mp4: 416x640 1 LicensePlate, 5.9ms\\n\",","            \"video 1/1 (38/631) /content/Licence-Plate-Detection-using-YOLO-V8/demo1.mp4: 416x640 1 LicensePlate, 5.9ms\\n\",","            \"video 1/1 (39/631) /content/Licence-Plate-Detection-using-YOLO-V8/demo1.mp4: 416x640 1 LicensePlate, 6.2ms\\n\",","            \"video 1/1 (40/631) /content/Licence-Plate-Detection-using-YOLO-V8/demo1.mp4: 416x640 1 LicensePlate, 7.4ms\\n\",","            \"video 1/1 (41/631) /content/Licence-Plate-Detection-using-YOLO-V8/demo1.mp4: 416x640 1 LicensePlate, 5.9ms\\n\",","            \"video 1/1 (42/631) /content/Licence-Plate-Detection-using-YOLO-V8/demo1.mp4: 416x640 2 LicensePlates, 5.9ms\\n\",","            \"video 1/1 (43/631) /content/Licence-Plate-Detection-using-YOLO-V8/demo1.mp4: 416x640 1 LicensePlate, 5.9ms\\n\",","            \"video 1/1 (44/631) /content/Licence-Plate-Detection-using-YOLO-V8/demo1.mp4: 416x640 2 LicensePlates, 5.9ms\\n\",","            \"video 1/1 (45/631) /content/Licence-Plate-Detection-using-YOLO-V8/demo1.mp4: 416x640 1 LicensePlate, 5.9ms\\n\",","            \"video 1/1 (46/631) /content/Licence-Plate-Detection-using-YOLO-V8/demo1.mp4: 416x640 2 LicensePlates, 5.9ms\\n\",","            \"video 1/1 (47/631) /content/Licence-Plate-Detection-using-YOLO-V8/demo1.mp4: 416x640 1 LicensePlate, 5.9ms\\n\",","            \"video 1/1 (48/631) /content/Licence-Plate-Detection-using-YOLO-V8/demo1.mp4: 416x640 2 LicensePlates, 6.1ms\\n\",","            \"video 1/1 (49/631) /content/Licence-Plate-Detection-using-YOLO-V8/demo1.mp4: 416x640 2 LicensePlates, 5.9ms\\n\",","            \"video 1/1 (50/631) /content/Licence-Plate-Detection-using-YOLO-V8/demo1.mp4: 416x640 2 LicensePlates, 5.9ms\\n\",","            \"video 1/1 (51/631) /content/Licence-Plate-Detection-using-YOLO-V8/demo1.mp4: 416x640 2 LicensePlates, 5.9ms\\n\",","            \"video 1/1 (52/631) /content/Licence-Plate-Detection-using-YOLO-V8/demo1.mp4: 416x640 2 LicensePlates, 5.9ms\\n\",","            \"video 1/1 (53/631) /content/Licence-Plate-Detection-using-YOLO-V8/demo1.mp4: 416x640 2 LicensePlates, 5.9ms\\n\",","            \"video 1/1 (54/631) /content/Licence-Plate-Detection-using-YOLO-V8/demo1.mp4: 416x640 2 LicensePlates, 5.9ms\\n\",","            \"video 1/1 (55/631) /content/Licence-Plate-Detection-using-YOLO-V8/demo1.mp4: 416x640 2 LicensePlates, 5.9ms\\n\",","            \"video 1/1 (56/631) /content/Licence-Plate-Detection-using-YOLO-V8/demo1.mp4: 416x640 2 LicensePlates, 5.9ms\\n\",","            \"video 1/1 (57/631) /content/Licence-Plate-Detection-using-YOLO-V8/demo1.mp4: 416x640 3 LicensePlates, 6.0ms\\n\",","            \"video 1/1 (58/631) /content/Licence-Plate-Detection-using-YOLO-V8/demo1.mp4: 416x640 2 LicensePlates, 6.0ms\\n\",","            \"video 1/1 (59/631) /content/Licence-Plate-Detection-using-YOLO-V8/demo1.mp4: 416x640 1 LicensePlate, 5.9ms\\n\",","            \"video 1/1 (60/631) /content/Licence-Plate-Detection-using-YOLO-V8/demo1.mp4: 416x640 1 LicensePlate, 6.0ms\\n\",","            \"video 1/1 (61/631) /content/Licence-Plate-Detection-using-YOLO-V8/demo1.mp4: 416x640 2 LicensePlates, 6.2ms\\n\",","            \"video 1/1 (62/631) /content/Licence-Plate-Detection-using-YOLO-V8/demo1.mp4: 416x640 2 LicensePlates, 6.0ms\\n\",","            \"video 1/1 (63/631) /content/Licence-Plate-Detection-using-YOLO-V8/demo1.mp4: 416x640 1 LicensePlate, 5.9ms\\n\",","            \"video 1/1 (64/631) /content/Licence-Plate-Detection-using-YOLO-V8/demo1.mp4: 416x640 2 LicensePlates, 5.9ms\\n\",","            \"video 1/1 (65/631) /content/Licence-Plate-Detection-using-YOLO-V8/demo1.mp4: 416x640 1 LicensePlate, 5.9ms\\n\",","            \"video 1/1 (66/631) /content/Licence-Plate-Detection-using-YOLO-V8/demo1.mp4: 416x640 1 LicensePlate, 6.1ms\\n\",","            \"video 1/1 (67/631) /content/Licence-Plate-Detection-using-YOLO-V8/demo1.mp4: 416x640 1 LicensePlate, 6.1ms\\n\",","            \"video 1/1 (68/631) /content/Licence-Plate-Detection-using-YOLO-V8/demo1.mp4: 416x640 1 LicensePlate, 6.1ms\\n\",","            \"video 1/1 (69/631) /content/Licence-Plate-Detection-using-YOLO-V8/demo1.mp4: 416x640 1 LicensePlate, 6.1ms\\n\",","            \"video 1/1 (70/631) /content/Licence-Plate-Detection-using-YOLO-V8/demo1.mp4: 416x640 1 LicensePlate, 6.0ms\\n\",","            \"video 1/1 (71/631) /content/Licence-Plate-Detection-using-YOLO-V8/demo1.mp4: 416x640 1 LicensePlate, 6.1ms\\n\",","            \"video 1/1 (72/631) /content/Licence-Plate-Detection-using-YOLO-V8/demo1.mp4: 416x640 1 LicensePlate, 6.0ms\\n\",","            \"video 1/1 (73/631) /content/Licence-Plate-Detection-using-YOLO-V8/demo1.mp4: 416x640 2 LicensePlates, 6.2ms\\n\",","            \"video 1/1 (74/631) /content/Licence-Plate-Detection-using-YOLO-V8/demo1.mp4: 416x640 2 LicensePlates, 5.9ms\\n\",","            \"video 1/1 (75/631) /content/Licence-Plate-Detection-using-YOLO-V8/demo1.mp4: 416x640 3 LicensePlates, 5.9ms\\n\",","            \"video 1/1 (76/631) /content/Licence-Plate-Detection-using-YOLO-V8/demo1.mp4: 416x640 3 LicensePlates, 5.9ms\\n\",","            \"video 1/1 (77/631) /content/Licence-Plate-Detection-using-YOLO-V8/demo1.mp4: 416x640 1 LicensePlate, 5.9ms\\n\",","            \"video 1/1 (78/631) /content/Licence-Plate-Detection-using-YOLO-V8/demo1.mp4: 416x640 1 LicensePlate, 6.0ms\\n\",","            \"video 1/1 (79/631) /content/Licence-Plate-Detection-using-YOLO-V8/demo1.mp4: 416x640 1 LicensePlate, 5.9ms\\n\",","            \"video 1/1 (80/631) /content/Licence-Plate-Detection-using-YOLO-V8/demo1.mp4: 416x640 2 LicensePlates, 9.3ms\\n\",","            \"video 1/1 (81/631) /content/Licence-Plate-Detection-using-YOLO-V8/demo1.mp4: 416x640 2 LicensePlates, 5.9ms\\n\",","            \"video 1/1 (82/631) /content/Licence-Plate-Detection-using-YOLO-V8/demo1.mp4: 416x640 1 LicensePlate, 5.9ms\\n\",","            \"video 1/1 (83/631) /content/Licence-Plate-Detection-using-YOLO-V8/demo1.mp4: 416x640 2 LicensePlates, 7.4ms\\n\",","            \"video 1/1 (84/631) /content/Licence-Plate-Detection-using-YOLO-V8/demo1.mp4: 416x640 1 LicensePlate, 6.0ms\\n\",","            \"video 1/1 (85/631) /content/Licence-Plate-Detection-using-YOLO-V8/demo1.mp4: 416x640 2 LicensePlates, 5.9ms\\n\",","            \"video 1/1 (86/631) /content/Licence-Plate-Detection-using-YOLO-V8/demo1.mp4: 416x640 1 LicensePlate, 6.3ms\\n\",","            \"video 1/1 (87/631) /content/Licence-Plate-Detection-using-YOLO-V8/demo1.mp4: 416x640 1 LicensePlate, 5.9ms\\n\",","            \"video 1/1 (88/631) /content/Licence-Plate-Detection-using-YOLO-V8/demo1.mp4: 416x640 1 LicensePlate, 6.3ms\\n\",","            \"video 1/1 (89/631) /content/Licence-Plate-Detection-using-YOLO-V8/demo1.mp4: 416x640 1 LicensePlate, 6.7ms\\n\",","            \"video 1/1 (90/631) /content/Licence-Plate-Detection-using-YOLO-V8/demo1.mp4: 416x640 2 LicensePlates, 5.9ms\\n\",","            \"video 1/1 (91/631) /content/Licence-Plate-Detection-using-YOLO-V8/demo1.mp4: 416x640 2 LicensePlates, 5.9ms\\n\",","            \"video 1/1 (92/631) /content/Licence-Plate-Detection-using-YOLO-V8/demo1.mp4: 416x640 3 LicensePlates, 5.9ms\\n\",","            \"video 1/1 (93/631) /content/Licence-Plate-Detection-using-YOLO-V8/demo1.mp4: 416x640 3 LicensePlates, 5.9ms\\n\",","            \"video 1/1 (94/631) /content/Licence-Plate-Detection-using-YOLO-V8/demo1.mp4: 416x640 2 LicensePlates, 5.9ms\\n\",","            \"video 1/1 (95/631) /content/Licence-Plate-Detection-using-YOLO-V8/demo1.mp4: 416x640 1 LicensePlate, 5.9ms\\n\",","            \"video 1/1 (96/631) /content/Licence-Plate-Detection-using-YOLO-V8/demo1.mp4: 416x640 2 LicensePlates, 6.0ms\\n\",","            \"video 1/1 (97/631) /content/Licence-Plate-Detection-using-YOLO-V8/demo1.mp4: 416x640 3 LicensePlates, 5.9ms\\n\",","            \"video 1/1 (98/631) /content/Licence-Plate-Detection-using-YOLO-V8/demo1.mp4: 416x640 1 LicensePlate, 7.3ms\\n\",","            \"video 1/1 (99/631) /content/Licence-Plate-Detection-using-YOLO-V8/demo1.mp4: 416x640 2 LicensePlates, 6.4ms\\n\",","            \"video 1/1 (100/631) /content/Licence-Plate-Detection-using-YOLO-V8/demo1.mp4: 416x640 2 LicensePlates, 5.9ms\\n\",","            \"video 1/1 (101/631) /content/Licence-Plate-Detection-using-YOLO-V8/demo1.mp4: 416x640 1 LicensePlate, 5.9ms\\n\",","            \"video 1/1 (102/631) /content/Licence-Plate-Detection-using-YOLO-V8/demo1.mp4: 416x640 1 LicensePlate, 5.9ms\\n\",","            \"video 1/1 (103/631) /content/Licence-Plate-Detection-using-YOLO-V8/demo1.mp4: 416x640 2 LicensePlates, 5.9ms\\n\",","            \"video 1/1 (104/631) /content/Licence-Plate-Detection-using-YOLO-V8/demo1.mp4: 416x640 1 LicensePlate, 5.9ms\\n\",","            \"video 1/1 (105/631) /content/Licence-Plate-Detection-using-YOLO-V8/demo1.mp4: 416x640 2 LicensePlates, 5.9ms\\n\",","            \"video 1/1 (106/631) /content/Licence-Plate-Detection-using-YOLO-V8/demo1.mp4: 416x640 2 LicensePlates, 5.9ms\\n\",","            \"video 1/1 (107/631) /content/Licence-Plate-Detection-using-YOLO-V8/demo1.mp4: 416x640 2 LicensePlates, 5.9ms\\n\",","            \"video 1/1 (108/631) /content/Licence-Plate-Detection-using-YOLO-V8/demo1.mp4: 416x640 2 LicensePlates, 6.4ms\\n\",","            \"video 1/1 (109/631) /content/Licence-Plate-Detection-using-YOLO-V8/demo1.mp4: 416x640 2 LicensePlates, 5.9ms\\n\",","            \"video 1/1 (110/631) /content/Licence-Plate-Detection-using-YOLO-V8/demo1.mp4: 416x640 2 LicensePlates, 5.9ms\\n\",","            \"video 1/1 (111/631) /content/Licence-Plate-Detection-using-YOLO-V8/demo1.mp4: 416x640 1 LicensePlate, 5.9ms\\n\",","            \"video 1/1 (112/631) /content/Licence-Plate-Detection-using-YOLO-V8/demo1.mp4: 416x640 2 LicensePlates, 7.0ms\\n\",","            \"video 1/1 (113/631) /content/Licence-Plate-Detection-using-YOLO-V8/demo1.mp4: 416x640 1 LicensePlate, 6.0ms\\n\",","            \"video 1/1 (114/631) /content/Licence-Plate-Detection-using-YOLO-V8/demo1.mp4: 416x640 1 LicensePlate, 6.1ms\\n\",","            \"video 1/1 (115/631) /content/Licence-Plate-Detection-using-YOLO-V8/demo1.mp4: 416x640 2 LicensePlates, 6.6ms\\n\",","            \"video 1/1 (116/631) /content/Licence-Plate-Detection-using-YOLO-V8/demo1.mp4: 416x640 1 LicensePlate, 5.9ms\\n\",","            \"video 1/1 (117/631) /content/Licence-Plate-Detection-using-YOLO-V8/demo1.mp4: 416x640 1 LicensePlate, 5.9ms\\n\",","            \"video 1/1 (118/631) /content/Licence-Plate-Detection-using-YOLO-V8/demo1.mp4: 416x640 1 LicensePlate, 5.9ms\\n\",","            \"video 1/1 (119/631) /content/Licence-Plate-Detection-using-YOLO-V8/demo1.mp4: 416x640 1 LicensePlate, 5.9ms\\n\",","            \"video 1/1 (120/631) /content/Licence-Plate-Detection-using-YOLO-V8/demo1.mp4: 416x640 2 LicensePlates, 5.9ms\\n\",","            \"video 1/1 (121/631) /content/Licence-Plate-Detection-using-YOLO-V8/demo1.mp4: 416x640 1 LicensePlate, 5.9ms\\n\",","            \"video 1/1 (122/631) /content/Licence-Plate-Detection-using-YOLO-V8/demo1.mp4: 416x640 1 LicensePlate, 5.9ms\\n\",","            \"video 1/1 (123/631) /content/Licence-Plate-Detection-using-YOLO-V8/demo1.mp4: 416x640 1 LicensePlate, 6.8ms\\n\",","            \"video 1/1 (124/631) /content/Licence-Plate-Detection-using-YOLO-V8/demo1.mp4: 416x640 1 LicensePlate, 5.9ms\\n\",","            \"video 1/1 (125/631) /content/Licence-Plate-Detection-using-YOLO-V8/demo1.mp4: 416x640 1 LicensePlate, 5.9ms\\n\",","            \"video 1/1 (126/631) /content/Licence-Plate-Detection-using-YOLO-V8/demo1.mp4: 416x640 1 LicensePlate, 6.0ms\\n\",","            \"video 1/1 (127/631) /content/Licence-Plate-Detection-using-YOLO-V8/demo1.mp4: 416x640 1 LicensePlate, 6.2ms\\n\",","            \"video 1/1 (128/631) /content/Licence-Plate-Detection-using-YOLO-V8/demo1.mp4: 416x640 1 LicensePlate, 5.9ms\\n\",","            \"video 1/1 (129/631) /content/Licence-Plate-Detection-using-YOLO-V8/demo1.mp4: 416x640 2 LicensePlates, 8.4ms\\n\",","            \"video 1/1 (130/631) /content/Licence-Plate-Detection-using-YOLO-V8/demo1.mp4: 416x640 1 LicensePlate, 5.9ms\\n\",","            \"video 1/1 (131/631) /content/Licence-Plate-Detection-using-YOLO-V8/demo1.mp4: 416x640 1 LicensePlate, 6.0ms\\n\",","            \"video 1/1 (132/631) /content/Licence-Plate-Detection-using-YOLO-V8/demo1.mp4: 416x640 1 LicensePlate, 9.6ms\\n\",","            \"video 1/1 (133/631) /content/Licence-Plate-Detection-using-YOLO-V8/demo1.mp4: 416x640 2 LicensePlates, 5.9ms\\n\",","            \"video 1/1 (134/631) /content/Licence-Plate-Detection-using-YOLO-V8/demo1.mp4: 416x640 2 LicensePlates, 5.9ms\\n\",","            \"video 1/1 (135/631) /content/Licence-Plate-Detection-using-YOLO-V8/demo1.mp4: 416x640 1 LicensePlate, 5.9ms\\n\",","            \"video 1/1 (136/631) /content/Licence-Plate-Detection-using-YOLO-V8/demo1.mp4: 416x640 1 LicensePlate, 5.9ms\\n\",","            \"video 1/1 (137/631) /content/Licence-Plate-Detection-using-YOLO-V8/demo1.mp4: 416x640 1 LicensePlate, 7.5ms\\n\",","            \"video 1/1 (138/631) /content/Licence-Plate-Detection-using-YOLO-V8/demo1.mp4: 416x640 1 LicensePlate, 5.9ms\\n\",","            \"video 1/1 (139/631) /content/Licence-Plate-Detection-using-YOLO-V8/demo1.mp4: 416x640 2 LicensePlates, 6.0ms\\n\",","            \"video 1/1 (140/631) /content/Licence-Plate-Detection-using-YOLO-V8/demo1.mp4: 416x640 1 LicensePlate, 5.9ms\\n\",","            \"video 1/1 (141/631) /content/Licence-Plate-Detection-using-YOLO-V8/demo1.mp4: 416x640 2 LicensePlates, 5.9ms\\n\",","            \"video 1/1 (142/631) /content/Licence-Plate-Detection-using-YOLO-V8/demo1.mp4: 416x640 1 LicensePlate, 5.9ms\\n\",","            \"video 1/1 (143/631) /content/Licence-Plate-Detection-using-YOLO-V8/demo1.mp4: 416x640 1 LicensePlate, 5.9ms\\n\",","            \"video 1/1 (144/631) /content/Licence-Plate-Detection-using-YOLO-V8/demo1.mp4: 416x640 1 LicensePlate, 6.1ms\\n\",","            \"video 1/1 (145/631) /content/Licence-Plate-Detection-using-YOLO-V8/demo1.mp4: 416x640 1 LicensePlate, 7.2ms\\n\",","            \"video 1/1 (146/631) /content/Licence-Plate-Detection-using-YOLO-V8/demo1.mp4: 416x640 1 LicensePlate, 6.0ms\\n\",","            \"video 1/1 (147/631) /content/Licence-Plate-Detection-using-YOLO-V8/demo1.mp4: 416x640 2 LicensePlates, 5.9ms\\n\",","            \"video 1/1 (148/631) /content/Licence-Plate-Detection-using-YOLO-V8/demo1.mp4: 416x640 1 LicensePlate, 5.9ms\\n\",","            \"video 1/1 (149/631) /content/Licence-Plate-Detection-using-YOLO-V8/demo1.mp4: 416x640 2 LicensePlates, 5.9ms\\n\",","            \"video 1/1 (150/631) /content/Licence-Plate-Detection-using-YOLO-V8/demo1.mp4: 416x640 1 LicensePlate, 5.9ms\\n\",","            \"video 1/1 (151/631) /content/Licence-Plate-Detection-using-YOLO-V8/demo1.mp4: 416x640 1 LicensePlate, 6.1ms\\n\",","            \"video 1/1 (152/631) /content/Licence-Plate-Detection-using-YOLO-V8/demo1.mp4: 416x640 1 LicensePlate, 6.0ms\\n\",","            \"video 1/1 (153/631) /content/Licence-Plate-Detection-using-YOLO-V8/demo1.mp4: 416x640 1 LicensePlate, 5.9ms\\n\",","            \"video 1/1 (154/631) /content/Licence-Plate-Detection-using-YOLO-V8/demo1.mp4: 416x640 1 LicensePlate, 5.9ms\\n\",","            \"video 1/1 (155/631) /content/Licence-Plate-Detection-using-YOLO-V8/demo1.mp4: 416x640 2 LicensePlates, 6.0ms\\n\",","            \"video 1/1 (156/631) /content/Licence-Plate-Detection-using-YOLO-V8/demo1.mp4: 416x640 1 LicensePlate, 6.0ms\\n\",","            \"video 1/1 (157/631) /content/Licence-Plate-Detection-using-YOLO-V8/demo1.mp4: 416x640 1 LicensePlate, 5.9ms\\n\",","            \"video 1/1 (158/631) /content/Licence-Plate-Detection-using-YOLO-V8/demo1.mp4: 416x640 3 LicensePlates, 6.0ms\\n\",","            \"video 1/1 (159/631) /content/Licence-Plate-Detection-using-YOLO-V8/demo1.mp4: 416x640 2 LicensePlates, 6.2ms\\n\",","            \"video 1/1 (160/631) /content/Licence-Plate-Detection-using-YOLO-V8/demo1.mp4: 416x640 1 LicensePlate, 5.9ms\\n\",","            \"video 1/1 (161/631) /content/Licence-Plate-Detection-using-YOLO-V8/demo1.mp4: 416x640 1 LicensePlate, 5.9ms\\n\",","            \"video 1/1 (162/631) /content/Licence-Plate-Detection-using-YOLO-V8/demo1.mp4: 416x640 1 LicensePlate, 8.1ms\\n\",","            \"video 1/1 (163/631) /content/Licence-Plate-Detection-using-YOLO-V8/demo1.mp4: 416x640 3 LicensePlates, 8.1ms\\n\",","            \"video 1/1 (164/631) /content/Licence-Plate-Detection-using-YOLO-V8/demo1.mp4: 416x640 2 LicensePlates, 5.9ms\\n\",","            \"video 1/1 (165/631) /content/Licence-Plate-Detection-using-YOLO-V8/demo1.mp4: 416x640 2 LicensePlates, 6.4ms\\n\",","            \"video 1/1 (166/631) /content/Licence-Plate-Detection-using-YOLO-V8/demo1.mp4: 416x640 1 LicensePlate, 5.9ms\\n\",","            \"video 1/1 (167/631) /content/Licence-Plate-Detection-using-YOLO-V8/demo1.mp4: 416x640 1 LicensePlate, 5.9ms\\n\",","            \"video 1/1 (168/631) /content/Licence-Plate-Detection-using-YOLO-V8/demo1.mp4: 416x640 2 LicensePlates, 6.1ms\\n\",","            \"video 1/1 (169/631) /content/Licence-Plate-Detection-using-YOLO-V8/demo1.mp4: 416x640 3 LicensePlates, 5.9ms\\n\",","            \"video 1/1 (170/631) /content/Licence-Plate-Detection-using-YOLO-V8/demo1.mp4: 416x640 2 LicensePlates, 5.9ms\\n\",","            \"video 1/1 (171/631) /content/Licence-Plate-Detection-using-YOLO-V8/demo1.mp4: 416x640 1 LicensePlate, 6.0ms\\n\",","            \"video 1/1 (172/631) /content/Licence-Plate-Detection-using-YOLO-V8/demo1.mp4: 416x640 1 LicensePlate, 5.9ms\\n\",","            \"video 1/1 (173/631) /content/Licence-Plate-Detection-using-YOLO-V8/demo1.mp4: 416x640 1 LicensePlate, 7.9ms\\n\",","            \"video 1/1 (174/631) /content/Licence-Plate-Detection-using-YOLO-V8/demo1.mp4: 416x640 1 LicensePlate, 5.9ms\\n\",","            \"video 1/1 (175/631) /content/Licence-Plate-Detection-using-YOLO-V8/demo1.mp4: 416x640 2 LicensePlates, 5.9ms\\n\",","            \"video 1/1 (176/631) /content/Licence-Plate-Detection-using-YOLO-V8/demo1.mp4: 416x640 2 LicensePlates, 5.9ms\\n\",","            \"video 1/1 (177/631) /content/Licence-Plate-Detection-using-YOLO-V8/demo1.mp4: 416x640 2 LicensePlates, 5.9ms\\n\",","            \"video 1/1 (178/631) /content/Licence-Plate-Detection-using-YOLO-V8/demo1.mp4: 416x640 2 LicensePlates, 6.0ms\\n\",","            \"video 1/1 (179/631) /content/Licence-Plate-Detection-using-YOLO-V8/demo1.mp4: 416x640 2 LicensePlates, 5.9ms\\n\",","            \"video 1/1 (180/631) /content/Licence-Plate-Detection-using-YOLO-V8/demo1.mp4: 416x640 2 LicensePlates, 5.9ms\\n\",","            \"video 1/1 (181/631) /content/Licence-Plate-Detection-using-YOLO-V8/demo1.mp4: 416x640 1 LicensePlate, 5.9ms\\n\",","            \"video 1/1 (182/631) /content/Licence-Plate-Detection-using-YOLO-V8/demo1.mp4: 416x640 1 LicensePlate, 5.9ms\\n\",","            \"video 1/1 (183/631) /content/Licence-Plate-Detection-using-YOLO-V8/demo1.mp4: 416x640 4 LicensePlates, 9.2ms\\n\",","            \"video 1/1 (184/631) /content/Licence-Plate-Detection-using-YOLO-V8/demo1.mp4: 416x640 3 LicensePlates, 5.9ms\\n\",","            \"video 1/1 (185/631) /content/Licence-Plate-Detection-using-YOLO-V8/demo1.mp4: 416x640 4 LicensePlates, 5.9ms\\n\",","            \"video 1/1 (186/631) /content/Licence-Plate-Detection-using-YOLO-V8/demo1.mp4: 416x640 5 LicensePlates, 5.9ms\\n\",","            \"video 1/1 (187/631) /content/Licence-Plate-Detection-using-YOLO-V8/demo1.mp4: 416x640 6 LicensePlates, 5.9ms\\n\",","            \"video 1/1 (188/631) /content/Licence-Plate-Detection-using-YOLO-V8/demo1.mp4: 416x640 4 LicensePlates, 5.9ms\\n\",","            \"video 1/1 (189/631) /content/Licence-Plate-Detection-using-YOLO-V8/demo1.mp4: 416x640 3 LicensePlates, 7.9ms\\n\",","            \"video 1/1 (190/631) /content/Licence-Plate-Detection-using-YOLO-V8/demo1.mp4: 416x640 3 LicensePlates, 5.9ms\\n\",","            \"video 1/1 (191/631) /content/Licence-Plate-Detection-using-YOLO-V8/demo1.mp4: 416x640 2 LicensePlates, 5.9ms\\n\",","            \"video 1/1 (192/631) /content/Licence-Plate-Detection-using-YOLO-V8/demo1.mp4: 416x640 2 LicensePlates, 5.9ms\\n\",","            \"video 1/1 (193/631) /content/Licence-Plate-Detection-using-YOLO-V8/demo1.mp4: 416x640 1 LicensePlate, 5.9ms\\n\",","            \"video 1/1 (194/631) /content/Licence-Plate-Detection-using-YOLO-V8/demo1.mp4: 416x640 1 LicensePlate, 5.9ms\\n\",","            \"video 1/1 (195/631) /content/Licence-Plate-Detection-using-YOLO-V8/demo1.mp4: 416x640 4 LicensePlates, 6.0ms\\n\",","            \"video 1/1 (196/631) /content/Licence-Plate-Detection-using-YOLO-V8/demo1.mp4: 416x640 2 LicensePlates, 5.9ms\\n\",","            \"video 1/1 (197/631) /content/Licence-Plate-Detection-using-YOLO-V8/demo1.mp4: 416x640 1 LicensePlate, 5.9ms\\n\",","            \"video 1/1 (198/631) /content/Licence-Plate-Detection-using-YOLO-V8/demo1.mp4: 416x640 2 LicensePlates, 5.9ms\\n\",","            \"video 1/1 (199/631) /content/Licence-Plate-Detection-using-YOLO-V8/demo1.mp4: 416x640 2 LicensePlates, 6.1ms\\n\",","            \"video 1/1 (200/631) /content/Licence-Plate-Detection-using-YOLO-V8/demo1.mp4: 416x640 3 LicensePlates, 5.9ms\\n\",","            \"video 1/1 (201/631) /content/Licence-Plate-Detection-using-YOLO-V8/demo1.mp4: 416x640 2 LicensePlates, 7.2ms\\n\",","            \"video 1/1 (202/631) /content/Licence-Plate-Detection-using-YOLO-V8/demo1.mp4: 416x640 2 LicensePlates, 5.9ms\\n\",","            \"video 1/1 (203/631) /content/Licence-Plate-Detection-using-YOLO-V8/demo1.mp4: 416x640 1 LicensePlate, 5.9ms\\n\",","            \"video 1/1 (204/631) /content/Licence-Plate-Detection-using-YOLO-V8/demo1.mp4: 416x640 2 LicensePlates, 7.3ms\\n\",","            \"video 1/1 (205/631) /content/Licence-Plate-Detection-using-YOLO-V8/demo1.mp4: 416x640 2 LicensePlates, 5.9ms\\n\",","            \"video 1/1 (206/631) /content/Licence-Plate-Detection-using-YOLO-V8/demo1.mp4: 416x640 3 LicensePlates, 5.9ms\\n\",","            \"video 1/1 (207/631) /content/Licence-Plate-Detection-using-YOLO-V8/demo1.mp4: 416x640 2 LicensePlates, 5.9ms\\n\",","            \"video 1/1 (208/631) /content/Licence-Plate-Detection-using-YOLO-V8/demo1.mp4: 416x640 1 LicensePlate, 5.9ms\\n\",","            \"video 1/1 (209/631) /content/Licence-Plate-Detection-using-YOLO-V8/demo1.mp4: 416x640 1 LicensePlate, 5.9ms\\n\",","            \"video 1/1 (210/631) /content/Licence-Plate-Detection-using-YOLO-V8/demo1.mp4: 416x640 2 LicensePlates, 5.9ms\\n\",","            \"video 1/1 (211/631) /content/Licence-Plate-Detection-using-YOLO-V8/demo1.mp4: 416x640 2 LicensePlates, 5.9ms\\n\",","            \"video 1/1 (212/631) /content/Licence-Plate-Detection-using-YOLO-V8/demo1.mp4: 416x640 2 LicensePlates, 5.9ms\\n\",","            \"video 1/1 (213/631) /content/Licence-Plate-Detection-using-YOLO-V8/demo1.mp4: 416x640 2 LicensePlates, 6.0ms\\n\",","            \"video 1/1 (214/631) /content/Licence-Plate-Detection-using-YOLO-V8/demo1.mp4: 416x640 3 LicensePlates, 5.9ms\\n\",","            \"video 1/1 (215/631) /content/Licence-Plate-Detection-using-YOLO-V8/demo1.mp4: 416x640 4 LicensePlates, 5.9ms\\n\",","            \"video 1/1 (216/631) /content/Licence-Plate-Detection-using-YOLO-V8/demo1.mp4: 416x640 1 LicensePlate, 7.1ms\\n\",","            \"video 1/1 (217/631) /content/Licence-Plate-Detection-using-YOLO-V8/demo1.mp4: 416x640 2 LicensePlates, 5.9ms\\n\",","            \"video 1/1 (218/631) /content/Licence-Plate-Detection-using-YOLO-V8/demo1.mp4: 416x640 2 LicensePlates, 5.9ms\\n\",","            \"video 1/1 (219/631) /content/Licence-Plate-Detection-using-YOLO-V8/demo1.mp4: 416x640 2 LicensePlates, 5.9ms\\n\",","            \"video 1/1 (220/631) /content/Licence-Plate-Detection-using-YOLO-V8/demo1.mp4: 416x640 3 LicensePlates, 7.3ms\\n\",","            \"video 1/1 (221/631) /content/Licence-Plate-Detection-using-YOLO-V8/demo1.mp4: 416x640 2 LicensePlates, 5.9ms\\n\",","            \"video 1/1 (222/631) /content/Licence-Plate-Detection-using-YOLO-V8/demo1.mp4: 416x640 4 LicensePlates, 5.9ms\\n\",","            \"video 1/1 (223/631) /content/Licence-Plate-Detection-using-YOLO-V8/demo1.mp4: 416x640 3 LicensePlates, 5.9ms\\n\",","            \"video 1/1 (224/631) /content/Licence-Plate-Detection-using-YOLO-V8/demo1.mp4: 416x640 3 LicensePlates, 5.9ms\\n\",","            \"video 1/1 (225/631) /content/Licence-Plate-Detection-using-YOLO-V8/demo1.mp4: 416x640 3 LicensePlates, 5.9ms\\n\",","            \"video 1/1 (226/631) /content/Licence-Plate-Detection-using-YOLO-V8/demo1.mp4: 416x640 2 LicensePlates, 5.9ms\\n\",","            \"video 1/1 (227/631) /content/Licence-Plate-Detection-using-YOLO-V8/demo1.mp4: 416x640 2 LicensePlates, 5.9ms\\n\",","            \"video 1/1 (228/631) /content/Licence-Plate-Detection-using-YOLO-V8/demo1.mp4: 416x640 2 LicensePlates, 6.0ms\\n\",","            \"video 1/1 (229/631) /content/Licence-Plate-Detection-using-YOLO-V8/demo1.mp4: 416x640 2 LicensePlates, 7.5ms\\n\",","            \"video 1/1 (230/631) /content/Licence-Plate-Detection-using-YOLO-V8/demo1.mp4: 416x640 2 LicensePlates, 5.9ms\\n\",","            \"video 1/1 (231/631) /content/Licence-Plate-Detection-using-YOLO-V8/demo1.mp4: 416x640 2 LicensePlates, 6.1ms\\n\",","            \"video 1/1 (232/631) /content/Licence-Plate-Detection-using-YOLO-V8/demo1.mp4: 416x640 2 LicensePlates, 5.9ms\\n\",","            \"video 1/1 (233/631) /content/Licence-Plate-Detection-using-YOLO-V8/demo1.mp4: 416x640 2 LicensePlates, 5.9ms\\n\",","            \"video 1/1 (234/631) /content/Licence-Plate-Detection-using-YOLO-V8/demo1.mp4: 416x640 1 LicensePlate, 5.9ms\\n\",","            \"video 1/1 (235/631) /content/Licence-Plate-Detection-using-YOLO-V8/demo1.mp4: 416x640 1 LicensePlate, 8.2ms\\n\",","            \"video 1/1 (236/631) /content/Licence-Plate-Detection-using-YOLO-V8/demo1.mp4: 416x640 2 LicensePlates, 5.9ms\\n\",","            \"video 1/1 (237/631) /content/Licence-Plate-Detection-using-YOLO-V8/demo1.mp4: 416x640 2 LicensePlates, 5.9ms\\n\",","            \"video 1/1 (238/631) /content/Licence-Plate-Detection-using-YOLO-V8/demo1.mp4: 416x640 3 LicensePlates, 5.9ms\\n\",","            \"video 1/1 (239/631) /content/Licence-Plate-Detection-using-YOLO-V8/demo1.mp4: 416x640 2 LicensePlates, 8.6ms\\n\",","            \"video 1/1 (240/631) /content/Licence-Plate-Detection-using-YOLO-V8/demo1.mp4: 416x640 2 LicensePlates, 6.5ms\\n\",","            \"video 1/1 (241/631) /content/Licence-Plate-Detection-using-YOLO-V8/demo1.mp4: 416x640 1 LicensePlate, 5.9ms\\n\",","            \"video 1/1 (242/631) /content/Licence-Plate-Detection-using-YOLO-V8/demo1.mp4: 416x640 1 LicensePlate, 6.0ms\\n\",","            \"video 1/1 (243/631) /content/Licence-Plate-Detection-using-YOLO-V8/demo1.mp4: 416x640 3 LicensePlates, 5.9ms\\n\",","            \"video 1/1 (244/631) /content/Licence-Plate-Detection-using-YOLO-V8/demo1.mp4: 416x640 1 LicensePlate, 5.9ms\\n\",","            \"video 1/1 (245/631) /content/Licence-Plate-Detection-using-YOLO-V8/demo1.mp4: 416x640 1 LicensePlate, 5.9ms\\n\",","            \"video 1/1 (246/631) /content/Licence-Plate-Detection-using-YOLO-V8/demo1.mp4: 416x640 1 LicensePlate, 5.9ms\\n\",","            \"video 1/1 (247/631) /content/Licence-Plate-Detection-using-YOLO-V8/demo1.mp4: 416x640 3 LicensePlates, 5.9ms\\n\",","            \"video 1/1 (248/631) /content/Licence-Plate-Detection-using-YOLO-V8/demo1.mp4: 416x640 4 LicensePlates, 5.9ms\\n\",","            \"video 1/1 (249/631) /content/Licence-Plate-Detection-using-YOLO-V8/demo1.mp4: 416x640 1 LicensePlate, 5.9ms\\n\",","            \"video 1/1 (250/631) /content/Licence-Plate-Detection-using-YOLO-V8/demo1.mp4: 416x640 1 LicensePlate, 8.6ms\\n\",","            \"video 1/1 (251/631) /content/Licence-Plate-Detection-using-YOLO-V8/demo1.mp4: 416x640 1 LicensePlate, 5.9ms\\n\",","            \"video 1/1 (252/631) /content/Licence-Plate-Detection-using-YOLO-V8/demo1.mp4: 416x640 2 LicensePlates, 6.0ms\\n\",","            \"video 1/1 (253/631) /content/Licence-Plate-Detection-using-YOLO-V8/demo1.mp4: 416x640 3 LicensePlates, 5.9ms\\n\",","            \"video 1/1 (254/631) /content/Licence-Plate-Detection-using-YOLO-V8/demo1.mp4: 416x640 3 LicensePlates, 5.9ms\\n\",","            \"video 1/1 (255/631) /content/Licence-Plate-Detection-using-YOLO-V8/demo1.mp4: 416x640 3 LicensePlates, 6.9ms\\n\",","            \"video 1/1 (256/631) /content/Licence-Plate-Detection-using-YOLO-V8/demo1.mp4: 416x640 4 LicensePlates, 6.0ms\\n\",","            \"video 1/1 (257/631) /content/Licence-Plate-Detection-using-YOLO-V8/demo1.mp4: 416x640 3 LicensePlates, 5.9ms\\n\",","            \"video 1/1 (258/631) /content/Licence-Plate-Detection-using-YOLO-V8/demo1.mp4: 416x640 3 LicensePlates, 5.9ms\\n\",","            \"video 1/1 (259/631) /content/Licence-Plate-Detection-using-YOLO-V8/demo1.mp4: 416x640 2 LicensePlates, 5.9ms\\n\",","            \"video 1/1 (260/631) /content/Licence-Plate-Detection-using-YOLO-V8/demo1.mp4: 416x640 3 LicensePlates, 6.1ms\\n\",","            \"video 1/1 (261/631) /content/Licence-Plate-Detection-using-YOLO-V8/demo1.mp4: 416x640 2 LicensePlates, 5.9ms\\n\",","            \"video 1/1 (262/631) /content/Licence-Plate-Detection-using-YOLO-V8/demo1.mp4: 416x640 3 LicensePlates, 5.9ms\\n\",","            \"video 1/1 (263/631) /content/Licence-Plate-Detection-using-YOLO-V8/demo1.mp4: 416x640 3 LicensePlates, 5.9ms\\n\",","            \"video 1/1 (264/631) /content/Licence-Plate-Detection-using-YOLO-V8/demo1.mp4: 416x640 3 LicensePlates, 6.0ms\\n\",","            \"video 1/1 (265/631) /content/Licence-Plate-Detection-using-YOLO-V8/demo1.mp4: 416x640 1 LicensePlate, 8.8ms\\n\",","            \"video 1/1 (266/631) /content/Licence-Plate-Detection-using-YOLO-V8/demo1.mp4: 416x640 2 LicensePlates, 6.8ms\\n\",","            \"video 1/1 (267/631) /content/Licence-Plate-Detection-using-YOLO-V8/demo1.mp4: 416x640 2 LicensePlates, 5.9ms\\n\",","            \"video 1/1 (268/631) /content/Licence-Plate-Detection-using-YOLO-V8/demo1.mp4: 416x640 2 LicensePlates, 5.9ms\\n\",","            \"video 1/1 (269/631) /content/Licence-Plate-Detection-using-YOLO-V8/demo1.mp4: 416x640 2 LicensePlates, 5.9ms\\n\",","            \"video 1/1 (270/631) /content/Licence-Plate-Detection-using-YOLO-V8/demo1.mp4: 416x640 1 LicensePlate, 6.1ms\\n\",","            \"video 1/1 (271/631) /content/Licence-Plate-Detection-using-YOLO-V8/demo1.mp4: 416x640 1 LicensePlate, 5.9ms\\n\",","            \"video 1/1 (272/631) /content/Licence-Plate-Detection-using-YOLO-V8/demo1.mp4: 416x640 1 LicensePlate, 6.7ms\\n\",","            \"video 1/1 (273/631) /content/Licence-Plate-Detection-using-YOLO-V8/demo1.mp4: 416x640 1 LicensePlate, 5.9ms\\n\",","            \"video 1/1 (274/631) /content/Licence-Plate-Detection-using-YOLO-V8/demo1.mp4: 416x640 1 LicensePlate, 5.9ms\\n\",","            \"video 1/1 (275/631) /content/Licence-Plate-Detection-using-YOLO-V8/demo1.mp4: 416x640 2 LicensePlates, 7.3ms\\n\",","            \"video 1/1 (276/631) /content/Licence-Plate-Detection-using-YOLO-V8/demo1.mp4: 416x640 3 LicensePlates, 6.0ms\\n\",","            \"video 1/1 (277/631) /content/Licence-Plate-Detection-using-YOLO-V8/demo1.mp4: 416x640 3 LicensePlates, 5.9ms\\n\",","            \"video 1/1 (278/631) /content/Licence-Plate-Detection-using-YOLO-V8/demo1.mp4: 416x640 3 LicensePlates, 5.9ms\\n\",","            \"video 1/1 (279/631) /content/Licence-Plate-Detection-using-YOLO-V8/demo1.mp4: 416x640 1 LicensePlate, 6.0ms\\n\",","            \"video 1/1 (280/631) /content/Licence-Plate-Detection-using-YOLO-V8/demo1.mp4: 416x640 1 LicensePlate, 7.9ms\\n\",","            \"video 1/1 (281/631) /content/Licence-Plate-Detection-using-YOLO-V8/demo1.mp4: 416x640 3 LicensePlates, 5.9ms\\n\",","            \"video 1/1 (282/631) /content/Licence-Plate-Detection-using-YOLO-V8/demo1.mp4: 416x640 2 LicensePlates, 5.9ms\\n\",","            \"video 1/1 (283/631) /content/Licence-Plate-Detection-using-YOLO-V8/demo1.mp4: 416x640 1 LicensePlate, 5.9ms\\n\",","            \"video 1/1 (284/631) /content/Licence-Plate-Detection-using-YOLO-V8/demo1.mp4: 416x640 2 LicensePlates, 5.9ms\\n\",","            \"video 1/1 (285/631) /content/Licence-Plate-Detection-using-YOLO-V8/demo1.mp4: 416x640 6.0ms\\n\",","            \"video 1/1 (286/631) /content/Licence-Plate-Detection-using-YOLO-V8/demo1.mp4: 416x640 1 LicensePlate, 8.0ms\\n\",","            \"video 1/1 (287/631) /content/Licence-Plate-Detection-using-YOLO-V8/demo1.mp4: 416x640 1 LicensePlate, 5.9ms\\n\",","            \"video 1/1 (288/631) /content/Licence-Plate-Detection-using-YOLO-V8/demo1.mp4: 416x640 1 LicensePlate, 6.0ms\\n\",","            \"video 1/1 (289/631) /content/Licence-Plate-Detection-using-YOLO-V8/demo1.mp4: 416x640 1 LicensePlate, 5.9ms\\n\",","            \"video 1/1 (290/631) /content/Licence-Plate-Detection-using-YOLO-V8/demo1.mp4: 416x640 1 LicensePlate, 7.7ms\\n\",","            \"video 1/1 (291/631) /content/Licence-Plate-Detection-using-YOLO-V8/demo1.mp4: 416x640 1 LicensePlate, 5.9ms\\n\",","            \"video 1/1 (292/631) /content/Licence-Plate-Detection-using-YOLO-V8/demo1.mp4: 416x640 1 LicensePlate, 5.9ms\\n\",","            \"video 1/1 (293/631) /content/Licence-Plate-Detection-using-YOLO-V8/demo1.mp4: 416x640 1 LicensePlate, 5.9ms\\n\",","            \"video 1/1 (294/631) /content/Licence-Plate-Detection-using-YOLO-V8/demo1.mp4: 416x640 1 LicensePlate, 5.9ms\\n\",","            \"video 1/1 (295/631) /content/Licence-Plate-Detection-using-YOLO-V8/demo1.mp4: 416x640 1 LicensePlate, 5.9ms\\n\",","            \"video 1/1 (296/631) /content/Licence-Plate-Detection-using-YOLO-V8/demo1.mp4: 416x640 1 LicensePlate, 5.9ms\\n\",","            \"video 1/1 (297/631) /content/Licence-Plate-Detection-using-YOLO-V8/demo1.mp4: 416x640 1 LicensePlate, 5.9ms\\n\",","            \"video 1/1 (298/631) /content/Licence-Plate-Detection-using-YOLO-V8/demo1.mp4: 416x640 1 LicensePlate, 5.9ms\\n\",","            \"video 1/1 (299/631) /content/Licence-Plate-Detection-using-YOLO-V8/demo1.mp4: 416x640 2 LicensePlates, 5.9ms\\n\",","            \"video 1/1 (300/631) /content/Licence-Plate-Detection-using-YOLO-V8/demo1.mp4: 416x640 1 LicensePlate, 5.9ms\\n\",","            \"video 1/1 (301/631) /content/Licence-Plate-Detection-using-YOLO-V8/demo1.mp4: 416x640 1 LicensePlate, 5.9ms\\n\",","            \"video 1/1 (302/631) /content/Licence-Plate-Detection-using-YOLO-V8/demo1.mp4: 416x640 1 LicensePlate, 5.9ms\\n\",","            \"video 1/1 (303/631) /content/Licence-Plate-Detection-using-YOLO-V8/demo1.mp4: 416x640 1 LicensePlate, 5.9ms\\n\",","            \"video 1/1 (304/631) /content/Licence-Plate-Detection-using-YOLO-V8/demo1.mp4: 416x640 1 LicensePlate, 5.9ms\\n\",","            \"video 1/1 (305/631) /content/Licence-Plate-Detection-using-YOLO-V8/demo1.mp4: 416x640 1 LicensePlate, 5.9ms\\n\",","            \"video 1/1 (306/631) /content/Licence-Plate-Detection-using-YOLO-V8/demo1.mp4: 416x640 1 LicensePlate, 5.9ms\\n\",","            \"video 1/1 (307/631) /content/Licence-Plate-Detection-using-YOLO-V8/demo1.mp4: 416x640 1 LicensePlate, 5.9ms\\n\",","            \"video 1/1 (308/631) /content/Licence-Plate-Detection-using-YOLO-V8/demo1.mp4: 416x640 1 LicensePlate, 5.9ms\\n\",","            \"video 1/1 (309/631) /content/Licence-Plate-Detection-using-YOLO-V8/demo1.mp4: 416x640 1 LicensePlate, 5.9ms\\n\",","            \"video 1/1 (310/631) /content/Licence-Plate-Detection-using-YOLO-V8/demo1.mp4: 416x640 1 LicensePlate, 5.9ms\\n\",","            \"video 1/1 (311/631) /content/Licence-Plate-Detection-using-YOLO-V8/demo1.mp4: 416x640 1 LicensePlate, 5.9ms\\n\",","            \"video 1/1 (312/631) /content/Licence-Plate-Detection-using-YOLO-V8/demo1.mp4: 416x640 1 LicensePlate, 6.0ms\\n\",","            \"video 1/1 (313/631) /content/Licence-Plate-Detection-using-YOLO-V8/demo1.mp4: 416x640 2 LicensePlates, 5.9ms\\n\",","            \"video 1/1 (314/631) /content/Licence-Plate-Detection-using-YOLO-V8/demo1.mp4: 416x640 2 LicensePlates, 5.9ms\\n\",","            \"video 1/1 (315/631) /content/Licence-Plate-Detection-using-YOLO-V8/demo1.mp4: 416x640 1 LicensePlate, 5.9ms\\n\",","            \"video 1/1 (316/631) /content/Licence-Plate-Detection-using-YOLO-V8/demo1.mp4: 416x640 1 LicensePlate, 7.0ms\\n\",","            \"video 1/1 (317/631) /content/Licence-Plate-Detection-using-YOLO-V8/demo1.mp4: 416x640 2 LicensePlates, 5.9ms\\n\",","            \"video 1/1 (318/631) /content/Licence-Plate-Detection-using-YOLO-V8/demo1.mp4: 416x640 1 LicensePlate, 5.9ms\\n\",","            \"video 1/1 (319/631) /content/Licence-Plate-Detection-using-YOLO-V8/demo1.mp4: 416x640 2 LicensePlates, 5.9ms\\n\",","            \"video 1/1 (320/631) /content/Licence-Plate-Detection-using-YOLO-V8/demo1.mp4: 416x640 1 LicensePlate, 5.9ms\\n\",","            \"video 1/1 (321/631) /content/Licence-Plate-Detection-using-YOLO-V8/demo1.mp4: 416x640 2 LicensePlates, 5.9ms\\n\",","            \"video 1/1 (322/631) /content/Licence-Plate-Detection-using-YOLO-V8/demo1.mp4: 416x640 2 LicensePlates, 5.9ms\\n\",","            \"video 1/1 (323/631) /content/Licence-Plate-Detection-using-YOLO-V8/demo1.mp4: 416x640 2 LicensePlates, 6.0ms\\n\",","            \"video 1/1 (324/631) /content/Licence-Plate-Detection-using-YOLO-V8/demo1.mp4: 416x640 1 LicensePlate, 6.4ms\\n\",","            \"video 1/1 (325/631) /content/Licence-Plate-Detection-using-YOLO-V8/demo1.mp4: 416x640 2 LicensePlates, 5.9ms\\n\",","            \"video 1/1 (326/631) /content/Licence-Plate-Detection-using-YOLO-V8/demo1.mp4: 416x640 2 LicensePlates, 5.9ms\\n\",","            \"video 1/1 (327/631) /content/Licence-Plate-Detection-using-YOLO-V8/demo1.mp4: 416x640 2 LicensePlates, 5.9ms\\n\",","            \"video 1/1 (328/631) /content/Licence-Plate-Detection-using-YOLO-V8/demo1.mp4: 416x640 3 LicensePlates, 5.9ms\\n\",","            \"video 1/1 (329/631) /content/Licence-Plate-Detection-using-YOLO-V8/demo1.mp4: 416x640 1 LicensePlate, 5.9ms\\n\",","            \"video 1/1 (330/631) /content/Licence-Plate-Detection-using-YOLO-V8/demo1.mp4: 416x640 1 LicensePlate, 5.9ms\\n\",","            \"video 1/1 (331/631) /content/Licence-Plate-Detection-using-YOLO-V8/demo1.mp4: 416x640 1 LicensePlate, 5.9ms\\n\",","            \"video 1/1 (332/631) /content/Licence-Plate-Detection-using-YOLO-V8/demo1.mp4: 416x640 1 LicensePlate, 5.9ms\\n\",","            \"video 1/1 (333/631) /content/Licence-Plate-Detection-using-YOLO-V8/demo1.mp4: 416x640 1 LicensePlate, 6.0ms\\n\",","            \"video 1/1 (334/631) /content/Licence-Plate-Detection-using-YOLO-V8/demo1.mp4: 416x640 1 LicensePlate, 5.9ms\\n\",","            \"video 1/1 (335/631) /content/Licence-Plate-Detection-using-YOLO-V8/demo1.mp4: 416x640 1 LicensePlate, 5.9ms\\n\",","            \"video 1/1 (336/631) /content/Licence-Plate-Detection-using-YOLO-V8/demo1.mp4: 416x640 1 LicensePlate, 6.0ms\\n\",","            \"video 1/1 (337/631) /content/Licence-Plate-Detection-using-YOLO-V8/demo1.mp4: 416x640 3 LicensePlates, 8.9ms\\n\",","            \"video 1/1 (338/631) /content/Licence-Plate-Detection-using-YOLO-V8/demo1.mp4: 416x640 3 LicensePlates, 5.9ms\\n\",","            \"video 1/1 (339/631) /content/Licence-Plate-Detection-using-YOLO-V8/demo1.mp4: 416x640 1 LicensePlate, 5.9ms\\n\",","            \"video 1/1 (340/631) /content/Licence-Plate-Detection-using-YOLO-V8/demo1.mp4: 416x640 1 LicensePlate, 7.2ms\\n\",","            \"video 1/1 (341/631) /content/Licence-Plate-Detection-using-YOLO-V8/demo1.mp4: 416x640 3 LicensePlates, 5.9ms\\n\",","            \"video 1/1 (342/631) /content/Licence-Plate-Detection-using-YOLO-V8/demo1.mp4: 416x640 2 LicensePlates, 5.9ms\\n\",","            \"video 1/1 (343/631) /content/Licence-Plate-Detection-using-YOLO-V8/demo1.mp4: 416x640 2 LicensePlates, 5.9ms\\n\",","            \"video 1/1 (344/631) /content/Licence-Plate-Detection-using-YOLO-V8/demo1.mp4: 416x640 1 LicensePlate, 5.9ms\\n\",","            \"video 1/1 (345/631) /content/Licence-Plate-Detection-using-YOLO-V8/demo1.mp4: 416x640 1 LicensePlate, 5.9ms\\n\",","            \"video 1/1 (346/631) /content/Licence-Plate-Detection-using-YOLO-V8/demo1.mp4: 416x640 1 LicensePlate, 6.6ms\\n\",","            \"video 1/1 (347/631) /content/Licence-Plate-Detection-using-YOLO-V8/demo1.mp4: 416x640 2 LicensePlates, 6.7ms\\n\",","            \"video 1/1 (348/631) /content/Licence-Plate-Detection-using-YOLO-V8/demo1.mp4: 416x640 1 LicensePlate, 6.0ms\\n\",","            \"video 1/1 (349/631) /content/Licence-Plate-Detection-using-YOLO-V8/demo1.mp4: 416x640 2 LicensePlates, 5.9ms\\n\",","            \"video 1/1 (350/631) /content/Licence-Plate-Detection-using-YOLO-V8/demo1.mp4: 416x640 1 LicensePlate, 5.9ms\\n\",","            \"video 1/1 (351/631) /content/Licence-Plate-Detection-using-YOLO-V8/demo1.mp4: 416x640 1 LicensePlate, 6.0ms\\n\",","            \"video 1/1 (352/631) /content/Licence-Plate-Detection-using-YOLO-V8/demo1.mp4: 416x640 2 LicensePlates, 5.9ms\\n\",","            \"video 1/1 (353/631) /content/Licence-Plate-Detection-using-YOLO-V8/demo1.mp4: 416x640 1 LicensePlate, 5.9ms\\n\",","            \"video 1/1 (354/631) /content/Licence-Plate-Detection-using-YOLO-V8/demo1.mp4: 416x640 1 LicensePlate, 5.9ms\\n\",","            \"video 1/1 (355/631) /content/Licence-Plate-Detection-using-YOLO-V8/demo1.mp4: 416x640 1 LicensePlate, 5.9ms\\n\",","            \"video 1/1 (356/631) /content/Licence-Plate-Detection-using-YOLO-V8/demo1.mp4: 416x640 1 LicensePlate, 5.9ms\\n\",","            \"video 1/1 (357/631) /content/Licence-Plate-Detection-using-YOLO-V8/demo1.mp4: 416x640 1 LicensePlate, 5.9ms\\n\",","            \"video 1/1 (358/631) /content/Licence-Plate-Detection-using-YOLO-V8/demo1.mp4: 416x640 1 LicensePlate, 5.9ms\\n\",","            \"video 1/1 (359/631) /content/Licence-Plate-Detection-using-YOLO-V8/demo1.mp4: 416x640 1 LicensePlate, 6.0ms\\n\",","            \"video 1/1 (360/631) /content/Licence-Plate-Detection-using-YOLO-V8/demo1.mp4: 416x640 1 LicensePlate, 6.5ms\\n\",","            \"video 1/1 (361/631) /content/Licence-Plate-Detection-using-YOLO-V8/demo1.mp4: 416x640 1 LicensePlate, 5.9ms\\n\",","            \"video 1/1 (362/631) /content/Licence-Plate-Detection-using-YOLO-V8/demo1.mp4: 416x640 2 LicensePlates, 8.4ms\\n\",","            \"video 1/1 (363/631) /content/Licence-Plate-Detection-using-YOLO-V8/demo1.mp4: 416x640 2 LicensePlates, 5.9ms\\n\",","            \"video 1/1 (364/631) /content/Licence-Plate-Detection-using-YOLO-V8/demo1.mp4: 416x640 1 LicensePlate, 5.9ms\\n\",","            \"video 1/1 (365/631) /content/Licence-Plate-Detection-using-YOLO-V8/demo1.mp4: 416x640 1 LicensePlate, 5.9ms\\n\",","            \"video 1/1 (366/631) /content/Licence-Plate-Detection-using-YOLO-V8/demo1.mp4: 416x640 1 LicensePlate, 5.9ms\\n\",","            \"video 1/1 (367/631) /content/Licence-Plate-Detection-using-YOLO-V8/demo1.mp4: 416x640 1 LicensePlate, 6.1ms\\n\",","            \"video 1/1 (368/631) /content/Licence-Plate-Detection-using-YOLO-V8/demo1.mp4: 416x640 1 LicensePlate, 5.9ms\\n\",","            \"video 1/1 (369/631) /content/Licence-Plate-Detection-using-YOLO-V8/demo1.mp4: 416x640 1 LicensePlate, 5.9ms\\n\",","            \"video 1/1 (370/631) /content/Licence-Plate-Detection-using-YOLO-V8/demo1.mp4: 416x640 1 LicensePlate, 5.9ms\\n\",","            \"video 1/1 (371/631) /content/Licence-Plate-Detection-using-YOLO-V8/demo1.mp4: 416x640 2 LicensePlates, 5.9ms\\n\",","            \"video 1/1 (372/631) /content/Licence-Plate-Detection-using-YOLO-V8/demo1.mp4: 416x640 2 LicensePlates, 6.6ms\\n\",","            \"video 1/1 (373/631) /content/Licence-Plate-Detection-using-YOLO-V8/demo1.mp4: 416x640 1 LicensePlate, 6.6ms\\n\",","            \"video 1/1 (374/631) /content/Licence-Plate-Detection-using-YOLO-V8/demo1.mp4: 416x640 1 LicensePlate, 5.9ms\\n\",","            \"video 1/1 (375/631) /content/Licence-Plate-Detection-using-YOLO-V8/demo1.mp4: 416x640 1 LicensePlate, 5.9ms\\n\",","            \"video 1/1 (376/631) /content/Licence-Plate-Detection-using-YOLO-V8/demo1.mp4: 416x640 1 LicensePlate, 5.9ms\\n\",","            \"video 1/1 (377/631) /content/Licence-Plate-Detection-using-YOLO-V8/demo1.mp4: 416x640 1 LicensePlate, 9.2ms\\n\",","            \"video 1/1 (378/631) /content/Licence-Plate-Detection-using-YOLO-V8/demo1.mp4: 416x640 2 LicensePlates, 7.6ms\\n\",","            \"video 1/1 (379/631) /content/Licence-Plate-Detection-using-YOLO-V8/demo1.mp4: 416x640 2 LicensePlates, 5.9ms\\n\",","            \"video 1/1 (380/631) /content/Licence-Plate-Detection-using-YOLO-V8/demo1.mp4: 416x640 2 LicensePlates, 6.2ms\\n\",","            \"video 1/1 (381/631) /content/Licence-Plate-Detection-using-YOLO-V8/demo1.mp4: 416x640 2 LicensePlates, 5.9ms\\n\",","            \"video 1/1 (382/631) /content/Licence-Plate-Detection-using-YOLO-V8/demo1.mp4: 416x640 2 LicensePlates, 6.0ms\\n\",","            \"video 1/1 (383/631) /content/Licence-Plate-Detection-using-YOLO-V8/demo1.mp4: 416x640 1 LicensePlate, 5.9ms\\n\",","            \"video 1/1 (384/631) /content/Licence-Plate-Detection-using-YOLO-V8/demo1.mp4: 416x640 1 LicensePlate, 6.0ms\\n\",","            \"video 1/1 (385/631) /content/Licence-Plate-Detection-using-YOLO-V8/demo1.mp4: 416x640 1 LicensePlate, 5.9ms\\n\",","            \"video 1/1 (386/631) /content/Licence-Plate-Detection-using-YOLO-V8/demo1.mp4: 416x640 1 LicensePlate, 5.9ms\\n\",","            \"video 1/1 (387/631) /content/Licence-Plate-Detection-using-YOLO-V8/demo1.mp4: 416x640 2 LicensePlates, 7.9ms\\n\",","            \"video 1/1 (388/631) /content/Licence-Plate-Detection-using-YOLO-V8/demo1.mp4: 416x640 1 LicensePlate, 9.8ms\\n\",","            \"video 1/1 (389/631) /content/Licence-Plate-Detection-using-YOLO-V8/demo1.mp4: 416x640 1 LicensePlate, 5.9ms\\n\",","            \"video 1/1 (390/631) /content/Licence-Plate-Detection-using-YOLO-V8/demo1.mp4: 416x640 1 LicensePlate, 7.0ms\\n\",","            \"video 1/1 (391/631) /content/Licence-Plate-Detection-using-YOLO-V8/demo1.mp4: 416x640 1 LicensePlate, 5.9ms\\n\",","            \"video 1/1 (392/631) /content/Licence-Plate-Detection-using-YOLO-V8/demo1.mp4: 416x640 1 LicensePlate, 5.9ms\\n\",","            \"video 1/1 (393/631) /content/Licence-Plate-Detection-using-YOLO-V8/demo1.mp4: 416x640 2 LicensePlates, 5.9ms\\n\",","            \"video 1/1 (394/631) /content/Licence-Plate-Detection-using-YOLO-V8/demo1.mp4: 416x640 2 LicensePlates, 5.9ms\\n\",","            \"video 1/1 (395/631) /content/Licence-Plate-Detection-using-YOLO-V8/demo1.mp4: 416x640 1 LicensePlate, 5.9ms\\n\",","            \"video 1/1 (396/631) /content/Licence-Plate-Detection-using-YOLO-V8/demo1.mp4: 416x640 1 LicensePlate, 6.0ms\\n\",","            \"video 1/1 (397/631) /content/Licence-Plate-Detection-using-YOLO-V8/demo1.mp4: 416x640 1 LicensePlate, 7.4ms\\n\",","            \"video 1/1 (398/631) /content/Licence-Plate-Detection-using-YOLO-V8/demo1.mp4: 416x640 1 LicensePlate, 6.4ms\\n\",","            \"video 1/1 (399/631) /content/Licence-Plate-Detection-using-YOLO-V8/demo1.mp4: 416x640 1 LicensePlate, 6.0ms\\n\",","            \"video 1/1 (400/631) /content/Licence-Plate-Detection-using-YOLO-V8/demo1.mp4: 416x640 1 LicensePlate, 6.2ms\\n\",","            \"video 1/1 (401/631) /content/Licence-Plate-Detection-using-YOLO-V8/demo1.mp4: 416x640 1 LicensePlate, 5.9ms\\n\",","            \"video 1/1 (402/631) /content/Licence-Plate-Detection-using-YOLO-V8/demo1.mp4: 416x640 1 LicensePlate, 5.9ms\\n\",","            \"video 1/1 (403/631) /content/Licence-Plate-Detection-using-YOLO-V8/demo1.mp4: 416x640 1 LicensePlate, 5.9ms\\n\",","            \"video 1/1 (404/631) /content/Licence-Plate-Detection-using-YOLO-V8/demo1.mp4: 416x640 2 LicensePlates, 5.9ms\\n\",","            \"video 1/1 (405/631) /content/Licence-Plate-Detection-using-YOLO-V8/demo1.mp4: 416x640 1 LicensePlate, 5.9ms\\n\",","            \"video 1/1 (406/631) /content/Licence-Plate-Detection-using-YOLO-V8/demo1.mp4: 416x640 1 LicensePlate, 6.0ms\\n\",","            \"video 1/1 (407/631) /content/Licence-Plate-Detection-using-YOLO-V8/demo1.mp4: 416x640 1 LicensePlate, 5.9ms\\n\",","            \"video 1/1 (408/631) /content/Licence-Plate-Detection-using-YOLO-V8/demo1.mp4: 416x640 1 LicensePlate, 6.0ms\\n\",","            \"video 1/1 (409/631) /content/Licence-Plate-Detection-using-YOLO-V8/demo1.mp4: 416x640 1 LicensePlate, 5.9ms\\n\",","            \"video 1/1 (410/631) /content/Licence-Plate-Detection-using-YOLO-V8/demo1.mp4: 416x640 1 LicensePlate, 5.9ms\\n\",","            \"video 1/1 (411/631) /content/Licence-Plate-Detection-using-YOLO-V8/demo1.mp4: 416x640 1 LicensePlate, 6.1ms\\n\",","            \"video 1/1 (412/631) /content/Licence-Plate-Detection-using-YOLO-V8/demo1.mp4: 416x640 1 LicensePlate, 5.9ms\\n\",","            \"video 1/1 (413/631) /content/Licence-Plate-Detection-using-YOLO-V8/demo1.mp4: 416x640 1 LicensePlate, 5.9ms\\n\",","            \"video 1/1 (414/631) /content/Licence-Plate-Detection-using-YOLO-V8/demo1.mp4: 416x640 1 LicensePlate, 5.9ms\\n\",","            \"video 1/1 (415/631) /content/Licence-Plate-Detection-using-YOLO-V8/demo1.mp4: 416x640 1 LicensePlate, 6.1ms\\n\",","            \"video 1/1 (416/631) /content/Licence-Plate-Detection-using-YOLO-V8/demo1.mp4: 416x640 1 LicensePlate, 5.9ms\\n\",","            \"video 1/1 (417/631) /content/Licence-Plate-Detection-using-YOLO-V8/demo1.mp4: 416x640 1 LicensePlate, 9.6ms\\n\",","            \"video 1/1 (418/631) /content/Licence-Plate-Detection-using-YOLO-V8/demo1.mp4: 416x640 1 LicensePlate, 5.9ms\\n\",","            \"video 1/1 (419/631) /content/Licence-Plate-Detection-using-YOLO-V8/demo1.mp4: 416x640 1 LicensePlate, 6.0ms\\n\",","            \"video 1/1 (420/631) /content/Licence-Plate-Detection-using-YOLO-V8/demo1.mp4: 416x640 1 LicensePlate, 6.0ms\\n\",","            \"video 1/1 (421/631) /content/Licence-Plate-Detection-using-YOLO-V8/demo1.mp4: 416x640 1 LicensePlate, 5.9ms\\n\",","            \"video 1/1 (422/631) /content/Licence-Plate-Detection-using-YOLO-V8/demo1.mp4: 416x640 2 LicensePlates, 6.1ms\\n\",","            \"video 1/1 (423/631) /content/Licence-Plate-Detection-using-YOLO-V8/demo1.mp4: 416x640 1 LicensePlate, 6.2ms\\n\",","            \"video 1/1 (424/631) /content/Licence-Plate-Detection-using-YOLO-V8/demo1.mp4: 416x640 1 LicensePlate, 6.3ms\\n\",","            \"video 1/1 (425/631) /content/Licence-Plate-Detection-using-YOLO-V8/demo1.mp4: 416x640 1 LicensePlate, 5.9ms\\n\",","            \"video 1/1 (426/631) /content/Licence-Plate-Detection-using-YOLO-V8/demo1.mp4: 416x640 1 LicensePlate, 5.9ms\\n\",","            \"video 1/1 (427/631) /content/Licence-Plate-Detection-using-YOLO-V8/demo1.mp4: 416x640 1 LicensePlate, 5.9ms\\n\",","            \"video 1/1 (428/631) /content/Licence-Plate-Detection-using-YOLO-V8/demo1.mp4: 416x640 1 LicensePlate, 5.9ms\\n\",","            \"video 1/1 (429/631) /content/Licence-Plate-Detection-using-YOLO-V8/demo1.mp4: 416x640 1 LicensePlate, 5.9ms\\n\",","            \"video 1/1 (430/631) /content/Licence-Plate-Detection-using-YOLO-V8/demo1.mp4: 416x640 1 LicensePlate, 5.9ms\\n\",","            \"video 1/1 (431/631) /content/Licence-Plate-Detection-using-YOLO-V8/demo1.mp4: 416x640 1 LicensePlate, 5.9ms\\n\",","            \"video 1/1 (432/631) /content/Licence-Plate-Detection-using-YOLO-V8/demo1.mp4: 416x640 1 LicensePlate, 7.9ms\\n\",","            \"video 1/1 (433/631) /content/Licence-Plate-Detection-using-YOLO-V8/demo1.mp4: 416x640 1 LicensePlate, 5.9ms\\n\",","            \"video 1/1 (434/631) /content/Licence-Plate-Detection-using-YOLO-V8/demo1.mp4: 416x640 1 LicensePlate, 5.9ms\\n\",","            \"video 1/1 (435/631) /content/Licence-Plate-Detection-using-YOLO-V8/demo1.mp4: 416x640 6.5ms\\n\",","            \"video 1/1 (436/631) /content/Licence-Plate-Detection-using-YOLO-V8/demo1.mp4: 416x640 5.9ms\\n\",","            \"video 1/1 (437/631) /content/Licence-Plate-Detection-using-YOLO-V8/demo1.mp4: 416x640 6.5ms\\n\",","            \"video 1/1 (438/631) /content/Licence-Plate-Detection-using-YOLO-V8/demo1.mp4: 416x640 6.1ms\\n\",","            \"video 1/1 (439/631) /content/Licence-Plate-Detection-using-YOLO-V8/demo1.mp4: 416x640 10.0ms\\n\",","            \"video 1/1 (440/631) /content/Licence-Plate-Detection-using-YOLO-V8/demo1.mp4: 416x640 7.2ms\\n\",","            \"video 1/1 (441/631) /content/Licence-Plate-Detection-using-YOLO-V8/demo1.mp4: 416x640 5.9ms\\n\",","            \"video 1/1 (442/631) /content/Licence-Plate-Detection-using-YOLO-V8/demo1.mp4: 416x640 6.0ms\\n\",","            \"video 1/1 (443/631) /content/Licence-Plate-Detection-using-YOLO-V8/demo1.mp4: 416x640 5.9ms\\n\",","            \"video 1/1 (444/631) /content/Licence-Plate-Detection-using-YOLO-V8/demo1.mp4: 416x640 6.0ms\\n\",","            \"video 1/1 (445/631) /content/Licence-Plate-Detection-using-YOLO-V8/demo1.mp4: 416x640 5.9ms\\n\",","            \"video 1/1 (446/631) /content/Licence-Plate-Detection-using-YOLO-V8/demo1.mp4: 416x640 6.0ms\\n\",","            \"video 1/1 (447/631) /content/Licence-Plate-Detection-using-YOLO-V8/demo1.mp4: 416x640 8.5ms\\n\",","            \"video 1/1 (448/631) /content/Licence-Plate-Detection-using-YOLO-V8/demo1.mp4: 416x640 5.9ms\\n\",","            \"video 1/1 (449/631) /content/Licence-Plate-Detection-using-YOLO-V8/demo1.mp4: 416x640 5.9ms\\n\",","            \"video 1/1 (450/631) /content/Licence-Plate-Detection-using-YOLO-V8/demo1.mp4: 416x640 6.3ms\\n\",","            \"video 1/1 (451/631) /content/Licence-Plate-Detection-using-YOLO-V8/demo1.mp4: 416x640 6.6ms\\n\",","            \"video 1/1 (452/631) /content/Licence-Plate-Detection-using-YOLO-V8/demo1.mp4: 416x640 6.2ms\\n\",","            \"video 1/1 (453/631) /content/Licence-Plate-Detection-using-YOLO-V8/demo1.mp4: 416x640 6.1ms\\n\",","            \"video 1/1 (454/631) /content/Licence-Plate-Detection-using-YOLO-V8/demo1.mp4: 416x640 5.9ms\\n\",","            \"video 1/1 (455/631) /content/Licence-Plate-Detection-using-YOLO-V8/demo1.mp4: 416x640 5.9ms\\n\",","            \"video 1/1 (456/631) /content/Licence-Plate-Detection-using-YOLO-V8/demo1.mp4: 416x640 5.9ms\\n\",","            \"video 1/1 (457/631) /content/Licence-Plate-Detection-using-YOLO-V8/demo1.mp4: 416x640 5.9ms\\n\",","            \"video 1/1 (458/631) /content/Licence-Plate-Detection-using-YOLO-V8/demo1.mp4: 416x640 5.9ms\\n\",","            \"video 1/1 (459/631) /content/Licence-Plate-Detection-using-YOLO-V8/demo1.mp4: 416x640 5.9ms\\n\",","            \"video 1/1 (460/631) /content/Licence-Plate-Detection-using-YOLO-V8/demo1.mp4: 416x640 5.9ms\\n\",","            \"video 1/1 (461/631) /content/Licence-Plate-Detection-using-YOLO-V8/demo1.mp4: 416x640 5.9ms\\n\",","            \"video 1/1 (462/631) /content/Licence-Plate-Detection-using-YOLO-V8/demo1.mp4: 416x640 5.9ms\\n\",","            \"video 1/1 (463/631) /content/Licence-Plate-Detection-using-YOLO-V8/demo1.mp4: 416x640 7.5ms\\n\",","            \"video 1/1 (464/631) /content/Licence-Plate-Detection-using-YOLO-V8/demo1.mp4: 416x640 6.3ms\\n\",","            \"video 1/1 (465/631) /content/Licence-Plate-Detection-using-YOLO-V8/demo1.mp4: 416x640 5.9ms\\n\",","            \"video 1/1 (466/631) /content/Licence-Plate-Detection-using-YOLO-V8/demo1.mp4: 416x640 5.9ms\\n\",","            \"video 1/1 (467/631) /content/Licence-Plate-Detection-using-YOLO-V8/demo1.mp4: 416x640 5.9ms\\n\",","            \"video 1/1 (468/631) /content/Licence-Plate-Detection-using-YOLO-V8/demo1.mp4: 416x640 6.2ms\\n\",","            \"video 1/1 (469/631) /content/Licence-Plate-Detection-using-YOLO-V8/demo1.mp4: 416x640 5.9ms\\n\",","            \"video 1/1 (470/631) /content/Licence-Plate-Detection-using-YOLO-V8/demo1.mp4: 416x640 5.9ms\\n\",","            \"video 1/1 (471/631) /content/Licence-Plate-Detection-using-YOLO-V8/demo1.mp4: 416x640 5.9ms\\n\",","            \"video 1/1 (472/631) /content/Licence-Plate-Detection-using-YOLO-V8/demo1.mp4: 416x640 5.9ms\\n\",","            \"video 1/1 (473/631) /content/Licence-Plate-Detection-using-YOLO-V8/demo1.mp4: 416x640 1 LicensePlate, 5.9ms\\n\",","            \"video 1/1 (474/631) /content/Licence-Plate-Detection-using-YOLO-V8/demo1.mp4: 416x640 6.0ms\\n\",","            \"video 1/1 (475/631) /content/Licence-Plate-Detection-using-YOLO-V8/demo1.mp4: 416x640 1 LicensePlate, 5.9ms\\n\",","            \"video 1/1 (476/631) /content/Licence-Plate-Detection-using-YOLO-V8/demo1.mp4: 416x640 1 LicensePlate, 5.9ms\\n\",","            \"video 1/1 (477/631) /content/Licence-Plate-Detection-using-YOLO-V8/demo1.mp4: 416x640 2 LicensePlates, 6.1ms\\n\",","            \"video 1/1 (478/631) /content/Licence-Plate-Detection-using-YOLO-V8/demo1.mp4: 416x640 1 LicensePlate, 5.9ms\\n\",","            \"video 1/1 (479/631) /content/Licence-Plate-Detection-using-YOLO-V8/demo1.mp4: 416x640 2 LicensePlates, 8.5ms\\n\",","            \"video 1/1 (480/631) /content/Licence-Plate-Detection-using-YOLO-V8/demo1.mp4: 416x640 1 LicensePlate, 6.6ms\\n\",","            \"video 1/1 (481/631) /content/Licence-Plate-Detection-using-YOLO-V8/demo1.mp4: 416x640 1 LicensePlate, 5.9ms\\n\",","            \"video 1/1 (482/631) /content/Licence-Plate-Detection-using-YOLO-V8/demo1.mp4: 416x640 1 LicensePlate, 5.9ms\\n\",","            \"video 1/1 (483/631) /content/Licence-Plate-Detection-using-YOLO-V8/demo1.mp4: 416x640 3 LicensePlates, 5.9ms\\n\",","            \"video 1/1 (484/631) /content/Licence-Plate-Detection-using-YOLO-V8/demo1.mp4: 416x640 4 LicensePlates, 5.9ms\\n\",","            \"video 1/1 (485/631) /content/Licence-Plate-Detection-using-YOLO-V8/demo1.mp4: 416x640 3 LicensePlates, 5.9ms\\n\",","            \"video 1/1 (486/631) /content/Licence-Plate-Detection-using-YOLO-V8/demo1.mp4: 416x640 2 LicensePlates, 5.9ms\\n\",","            \"video 1/1 (487/631) /content/Licence-Plate-Detection-using-YOLO-V8/demo1.mp4: 416x640 3 LicensePlates, 5.9ms\\n\",","            \"video 1/1 (488/631) /content/Licence-Plate-Detection-using-YOLO-V8/demo1.mp4: 416x640 2 LicensePlates, 5.9ms\\n\",","            \"video 1/1 (489/631) /content/Licence-Plate-Detection-using-YOLO-V8/demo1.mp4: 416x640 2 LicensePlates, 5.9ms\\n\",","            \"video 1/1 (490/631) /content/Licence-Plate-Detection-using-YOLO-V8/demo1.mp4: 416x640 1 LicensePlate, 6.0ms\\n\",","            \"video 1/1 (491/631) /content/Licence-Plate-Detection-using-YOLO-V8/demo1.mp4: 416x640 1 LicensePlate, 5.9ms\\n\",","            \"video 1/1 (492/631) /content/Licence-Plate-Detection-using-YOLO-V8/demo1.mp4: 416x640 1 LicensePlate, 13.1ms\\n\",","            \"video 1/1 (493/631) /content/Licence-Plate-Detection-using-YOLO-V8/demo1.mp4: 416x640 1 LicensePlate, 9.3ms\\n\",","            \"video 1/1 (494/631) /content/Licence-Plate-Detection-using-YOLO-V8/demo1.mp4: 416x640 2 LicensePlates, 9.2ms\\n\",","            \"video 1/1 (495/631) /content/Licence-Plate-Detection-using-YOLO-V8/demo1.mp4: 416x640 3 LicensePlates, 9.5ms\\n\",","            \"video 1/1 (496/631) /content/Licence-Plate-Detection-using-YOLO-V8/demo1.mp4: 416x640 2 LicensePlates, 10.5ms\\n\",","            \"video 1/1 (497/631) /content/Licence-Plate-Detection-using-YOLO-V8/demo1.mp4: 416x640 2 LicensePlates, 7.5ms\\n\",","            \"video 1/1 (498/631) /content/Licence-Plate-Detection-using-YOLO-V8/demo1.mp4: 416x640 2 LicensePlates, 7.7ms\\n\",","            \"video 1/1 (499/631) /content/Licence-Plate-Detection-using-YOLO-V8/demo1.mp4: 416x640 2 LicensePlates, 8.0ms\\n\",","            \"video 1/1 (500/631) /content/Licence-Plate-Detection-using-YOLO-V8/demo1.mp4: 416x640 2 LicensePlates, 7.4ms\\n\",","            \"video 1/1 (501/631) /content/Licence-Plate-Detection-using-YOLO-V8/demo1.mp4: 416x640 2 LicensePlates, 9.2ms\\n\",","            \"video 1/1 (502/631) /content/Licence-Plate-Detection-using-YOLO-V8/demo1.mp4: 416x640 3 LicensePlates, 7.2ms\\n\",","            \"video 1/1 (503/631) /content/Licence-Plate-Detection-using-YOLO-V8/demo1.mp4: 416x640 1 LicensePlate, 12.4ms\\n\",","            \"video 1/1 (504/631) /content/Licence-Plate-Detection-using-YOLO-V8/demo1.mp4: 416x640 1 LicensePlate, 9.8ms\\n\",","            \"video 1/1 (505/631) /content/Licence-Plate-Detection-using-YOLO-V8/demo1.mp4: 416x640 2 LicensePlates, 7.6ms\\n\",","            \"video 1/1 (506/631) /content/Licence-Plate-Detection-using-YOLO-V8/demo1.mp4: 416x640 3 LicensePlates, 7.3ms\\n\",","            \"video 1/1 (507/631) /content/Licence-Plate-Detection-using-YOLO-V8/demo1.mp4: 416x640 2 LicensePlates, 7.3ms\\n\",","            \"video 1/1 (508/631) /content/Licence-Plate-Detection-using-YOLO-V8/demo1.mp4: 416x640 1 LicensePlate, 7.7ms\\n\",","            \"video 1/1 (509/631) /content/Licence-Plate-Detection-using-YOLO-V8/demo1.mp4: 416x640 1 LicensePlate, 8.0ms\\n\",","            \"video 1/1 (510/631) /content/Licence-Plate-Detection-using-YOLO-V8/demo1.mp4: 416x640 2 LicensePlates, 9.8ms\\n\",","            \"video 1/1 (511/631) /content/Licence-Plate-Detection-using-YOLO-V8/demo1.mp4: 416x640 2 LicensePlates, 7.4ms\\n\",","            \"video 1/1 (512/631) /content/Licence-Plate-Detection-using-YOLO-V8/demo1.mp4: 416x640 1 LicensePlate, 7.4ms\\n\",","            \"video 1/1 (513/631) /content/Licence-Plate-Detection-using-YOLO-V8/demo1.mp4: 416x640 1 LicensePlate, 9.0ms\\n\",","            \"video 1/1 (514/631) /content/Licence-Plate-Detection-using-YOLO-V8/demo1.mp4: 416x640 3 LicensePlates, 7.1ms\\n\",","            \"video 1/1 (515/631) /content/Licence-Plate-Detection-using-YOLO-V8/demo1.mp4: 416x640 2 LicensePlates, 7.3ms\\n\",","            \"video 1/1 (516/631) /content/Licence-Plate-Detection-using-YOLO-V8/demo1.mp4: 416x640 2 LicensePlates, 7.4ms\\n\",","            \"video 1/1 (517/631) /content/Licence-Plate-Detection-using-YOLO-V8/demo1.mp4: 416x640 2 LicensePlates, 8.4ms\\n\",","            \"video 1/1 (518/631) /content/Licence-Plate-Detection-using-YOLO-V8/demo1.mp4: 416x640 2 LicensePlates, 9.4ms\\n\",","            \"video 1/1 (519/631) /content/Licence-Plate-Detection-using-YOLO-V8/demo1.mp4: 416x640 1 LicensePlate, 8.4ms\\n\",","            \"video 1/1 (520/631) /content/Licence-Plate-Detection-using-YOLO-V8/demo1.mp4: 416x640 1 LicensePlate, 9.6ms\\n\",","            \"video 1/1 (521/631) /content/Licence-Plate-Detection-using-YOLO-V8/demo1.mp4: 416x640 1 LicensePlate, 7.1ms\\n\",","            \"video 1/1 (522/631) /content/Licence-Plate-Detection-using-YOLO-V8/demo1.mp4: 416x640 2 LicensePlates, 7.4ms\\n\",","            \"video 1/1 (523/631) /content/Licence-Plate-Detection-using-YOLO-V8/demo1.mp4: 416x640 2 LicensePlates, 12.8ms\\n\",","            \"video 1/1 (524/631) /content/Licence-Plate-Detection-using-YOLO-V8/demo1.mp4: 416x640 2 LicensePlates, 7.3ms\\n\",","            \"video 1/1 (525/631) /content/Licence-Plate-Detection-using-YOLO-V8/demo1.mp4: 416x640 1 LicensePlate, 7.9ms\\n\",","            \"video 1/1 (526/631) /content/Licence-Plate-Detection-using-YOLO-V8/demo1.mp4: 416x640 1 LicensePlate, 13.4ms\\n\",","            \"video 1/1 (527/631) /content/Licence-Plate-Detection-using-YOLO-V8/demo1.mp4: 416x640 2 LicensePlates, 7.3ms\\n\",","            \"video 1/1 (528/631) /content/Licence-Plate-Detection-using-YOLO-V8/demo1.mp4: 416x640 1 LicensePlate, 7.5ms\\n\",","            \"video 1/1 (529/631) /content/Licence-Plate-Detection-using-YOLO-V8/demo1.mp4: 416x640 1 LicensePlate, 9.2ms\\n\",","            \"video 1/1 (530/631) /content/Licence-Plate-Detection-using-YOLO-V8/demo1.mp4: 416x640 1 LicensePlate, 8.4ms\\n\",","            \"video 1/1 (531/631) /content/Licence-Plate-Detection-using-YOLO-V8/demo1.mp4: 416x640 2 LicensePlates, 7.2ms\\n\",","            \"video 1/1 (532/631) /content/Licence-Plate-Detection-using-YOLO-V8/demo1.mp4: 416x640 2 LicensePlates, 7.2ms\\n\",","            \"video 1/1 (533/631) /content/Licence-Plate-Detection-using-YOLO-V8/demo1.mp4: 416x640 1 LicensePlate, 7.4ms\\n\",","            \"video 1/1 (534/631) /content/Licence-Plate-Detection-using-YOLO-V8/demo1.mp4: 416x640 1 LicensePlate, 7.4ms\\n\",","            \"video 1/1 (535/631) /content/Licence-Plate-Detection-using-YOLO-V8/demo1.mp4: 416x640 1 LicensePlate, 7.6ms\\n\",","            \"video 1/1 (536/631) /content/Licence-Plate-Detection-using-YOLO-V8/demo1.mp4: 416x640 1 LicensePlate, 8.2ms\\n\",","            \"video 1/1 (537/631) /content/Licence-Plate-Detection-using-YOLO-V8/demo1.mp4: 416x640 1 LicensePlate, 7.3ms\\n\",","            \"video 1/1 (538/631) /content/Licence-Plate-Detection-using-YOLO-V8/demo1.mp4: 416x640 1 LicensePlate, 7.4ms\\n\",","            \"video 1/1 (539/631) /content/Licence-Plate-Detection-using-YOLO-V8/demo1.mp4: 416x640 2 LicensePlates, 7.2ms\\n\",","            \"video 1/1 (540/631) /content/Licence-Plate-Detection-using-YOLO-V8/demo1.mp4: 416x640 1 LicensePlate, 12.2ms\\n\",","            \"video 1/1 (541/631) /content/Licence-Plate-Detection-using-YOLO-V8/demo1.mp4: 416x640 1 LicensePlate, 7.6ms\\n\",","            \"video 1/1 (542/631) /content/Licence-Plate-Detection-using-YOLO-V8/demo1.mp4: 416x640 1 LicensePlate, 8.0ms\\n\",","            \"video 1/1 (543/631) /content/Licence-Plate-Detection-using-YOLO-V8/demo1.mp4: 416x640 1 LicensePlate, 8.9ms\\n\",","            \"video 1/1 (544/631) /content/Licence-Plate-Detection-using-YOLO-V8/demo1.mp4: 416x640 1 LicensePlate, 7.4ms\\n\",","            \"video 1/1 (545/631) /content/Licence-Plate-Detection-using-YOLO-V8/demo1.mp4: 416x640 1 LicensePlate, 7.5ms\\n\",","            \"video 1/1 (546/631) /content/Licence-Plate-Detection-using-YOLO-V8/demo1.mp4: 416x640 1 LicensePlate, 7.4ms\\n\",","            \"video 1/1 (547/631) /content/Licence-Plate-Detection-using-YOLO-V8/demo1.mp4: 416x640 2 LicensePlates, 7.4ms\\n\",","            \"video 1/1 (548/631) /content/Licence-Plate-Detection-using-YOLO-V8/demo1.mp4: 416x640 1 LicensePlate, 7.5ms\\n\",","            \"video 1/1 (549/631) /content/Licence-Plate-Detection-using-YOLO-V8/demo1.mp4: 416x640 1 LicensePlate, 7.4ms\\n\",","            \"video 1/1 (550/631) /content/Licence-Plate-Detection-using-YOLO-V8/demo1.mp4: 416x640 2 LicensePlates, 7.3ms\\n\",","            \"video 1/1 (551/631) /content/Licence-Plate-Detection-using-YOLO-V8/demo1.mp4: 416x640 1 LicensePlate, 7.4ms\\n\",","            \"video 1/1 (552/631) /content/Licence-Plate-Detection-using-YOLO-V8/demo1.mp4: 416x640 2 LicensePlates, 9.6ms\\n\",","            \"video 1/1 (553/631) /content/Licence-Plate-Detection-using-YOLO-V8/demo1.mp4: 416x640 1 LicensePlate, 10.3ms\\n\",","            \"video 1/1 (554/631) /content/Licence-Plate-Detection-using-YOLO-V8/demo1.mp4: 416x640 1 LicensePlate, 10.6ms\\n\",","            \"video 1/1 (555/631) /content/Licence-Plate-Detection-using-YOLO-V8/demo1.mp4: 416x640 1 LicensePlate, 10.8ms\\n\",","            \"video 1/1 (556/631) /content/Licence-Plate-Detection-using-YOLO-V8/demo1.mp4: 416x640 2 LicensePlates, 7.5ms\\n\",","            \"video 1/1 (557/631) /content/Licence-Plate-Detection-using-YOLO-V8/demo1.mp4: 416x640 2 LicensePlates, 9.3ms\\n\",","            \"video 1/1 (558/631) /content/Licence-Plate-Detection-using-YOLO-V8/demo1.mp4: 416x640 2 LicensePlates, 9.7ms\\n\",","            \"video 1/1 (559/631) /content/Licence-Plate-Detection-using-YOLO-V8/demo1.mp4: 416x640 2 LicensePlates, 8.8ms\\n\",","            \"video 1/1 (560/631) /content/Licence-Plate-Detection-using-YOLO-V8/demo1.mp4: 416x640 2 LicensePlates, 8.3ms\\n\",","            \"video 1/1 (561/631) /content/Licence-Plate-Detection-using-YOLO-V8/demo1.mp4: 416x640 2 LicensePlates, 8.8ms\\n\",","            \"video 1/1 (562/631) /content/Licence-Plate-Detection-using-YOLO-V8/demo1.mp4: 416x640 2 LicensePlates, 7.6ms\\n\",","            \"video 1/1 (563/631) /content/Licence-Plate-Detection-using-YOLO-V8/demo1.mp4: 416x640 2 LicensePlates, 7.8ms\\n\",","            \"video 1/1 (564/631) /content/Licence-Plate-Detection-using-YOLO-V8/demo1.mp4: 416x640 2 LicensePlates, 9.9ms\\n\",","            \"video 1/1 (565/631) /content/Licence-Plate-Detection-using-YOLO-V8/demo1.mp4: 416x640 2 LicensePlates, 7.6ms\\n\",","            \"video 1/1 (566/631) /content/Licence-Plate-Detection-using-YOLO-V8/demo1.mp4: 416x640 2 LicensePlates, 10.3ms\\n\",","            \"video 1/1 (567/631) /content/Licence-Plate-Detection-using-YOLO-V8/demo1.mp4: 416x640 1 LicensePlate, 9.5ms\\n\",","            \"video 1/1 (568/631) /content/Licence-Plate-Detection-using-YOLO-V8/demo1.mp4: 416x640 2 LicensePlates, 7.6ms\\n\",","            \"video 1/1 (569/631) /content/Licence-Plate-Detection-using-YOLO-V8/demo1.mp4: 416x640 2 LicensePlates, 8.2ms\\n\",","            \"video 1/1 (570/631) /content/Licence-Plate-Detection-using-YOLO-V8/demo1.mp4: 416x640 1 LicensePlate, 9.4ms\\n\",","            \"video 1/1 (571/631) /content/Licence-Plate-Detection-using-YOLO-V8/demo1.mp4: 416x640 2 LicensePlates, 9.8ms\\n\",","            \"video 1/1 (572/631) /content/Licence-Plate-Detection-using-YOLO-V8/demo1.mp4: 416x640 1 LicensePlate, 9.9ms\\n\",","            \"video 1/1 (573/631) /content/Licence-Plate-Detection-using-YOLO-V8/demo1.mp4: 416x640 2 LicensePlates, 9.7ms\\n\",","            \"video 1/1 (574/631) /content/Licence-Plate-Detection-using-YOLO-V8/demo1.mp4: 416x640 2 LicensePlates, 9.7ms\\n\",","            \"video 1/1 (575/631) /content/Licence-Plate-Detection-using-YOLO-V8/demo1.mp4: 416x640 2 LicensePlates, 9.8ms\\n\",","            \"video 1/1 (576/631) /content/Licence-Plate-Detection-using-YOLO-V8/demo1.mp4: 416x640 1 LicensePlate, 9.7ms\\n\",","            \"video 1/1 (577/631) /content/Licence-Plate-Detection-using-YOLO-V8/demo1.mp4: 416x640 2 LicensePlates, 10.0ms\\n\",","            \"video 1/1 (578/631) /content/Licence-Plate-Detection-using-YOLO-V8/demo1.mp4: 416x640 1 LicensePlate, 10.1ms\\n\",","            \"video 1/1 (579/631) /content/Licence-Plate-Detection-using-YOLO-V8/demo1.mp4: 416x640 1 LicensePlate, 10.0ms\\n\",","            \"video 1/1 (580/631) /content/Licence-Plate-Detection-using-YOLO-V8/demo1.mp4: 416x640 1 LicensePlate, 9.4ms\\n\",","            \"video 1/1 (581/631) /content/Licence-Plate-Detection-using-YOLO-V8/demo1.mp4: 416x640 1 LicensePlate, 10.1ms\\n\",","            \"video 1/1 (582/631) /content/Licence-Plate-Detection-using-YOLO-V8/demo1.mp4: 416x640 1 LicensePlate, 9.7ms\\n\",","            \"video 1/1 (583/631) /content/Licence-Plate-Detection-using-YOLO-V8/demo1.mp4: 416x640 1 LicensePlate, 10.6ms\\n\",","            \"video 1/1 (584/631) /content/Licence-Plate-Detection-using-YOLO-V8/demo1.mp4: 416x640 1 LicensePlate, 9.9ms\\n\",","            \"video 1/1 (585/631) /content/Licence-Plate-Detection-using-YOLO-V8/demo1.mp4: 416x640 1 LicensePlate, 10.1ms\\n\",","            \"video 1/1 (586/631) /content/Licence-Plate-Detection-using-YOLO-V8/demo1.mp4: 416x640 1 LicensePlate, 12.9ms\\n\",","            \"video 1/1 (587/631) /content/Licence-Plate-Detection-using-YOLO-V8/demo1.mp4: 416x640 1 LicensePlate, 7.9ms\\n\",","            \"video 1/1 (588/631) /content/Licence-Plate-Detection-using-YOLO-V8/demo1.mp4: 416x640 1 LicensePlate, 7.5ms\\n\",","            \"video 1/1 (589/631) /content/Licence-Plate-Detection-using-YOLO-V8/demo1.mp4: 416x640 1 LicensePlate, 7.8ms\\n\",","            \"video 1/1 (590/631) /content/Licence-Plate-Detection-using-YOLO-V8/demo1.mp4: 416x640 1 LicensePlate, 8.4ms\\n\",","            \"video 1/1 (591/631) /content/Licence-Plate-Detection-using-YOLO-V8/demo1.mp4: 416x640 1 LicensePlate, 9.5ms\\n\",","            \"video 1/1 (592/631) /content/Licence-Plate-Detection-using-YOLO-V8/demo1.mp4: 416x640 9.9ms\\n\",","            \"video 1/1 (593/631) /content/Licence-Plate-Detection-using-YOLO-V8/demo1.mp4: 416x640 9.3ms\\n\",","            \"video 1/1 (594/631) /content/Licence-Plate-Detection-using-YOLO-V8/demo1.mp4: 416x640 9.8ms\\n\",","            \"video 1/1 (595/631) /content/Licence-Plate-Detection-using-YOLO-V8/demo1.mp4: 416x640 12.9ms\\n\",","            \"video 1/1 (596/631) /content/Licence-Plate-Detection-using-YOLO-V8/demo1.mp4: 416x640 6.9ms\\n\",","            \"video 1/1 (597/631) /content/Licence-Plate-Detection-using-YOLO-V8/demo1.mp4: 416x640 5.9ms\\n\",","            \"video 1/1 (598/631) /content/Licence-Plate-Detection-using-YOLO-V8/demo1.mp4: 416x640 5.9ms\\n\",","            \"video 1/1 (599/631) /content/Licence-Plate-Detection-using-YOLO-V8/demo1.mp4: 416x640 5.9ms\\n\",","            \"video 1/1 (600/631) /content/Licence-Plate-Detection-using-YOLO-V8/demo1.mp4: 416x640 6.0ms\\n\",","            \"video 1/1 (601/631) /content/Licence-Plate-Detection-using-YOLO-V8/demo1.mp4: 416x640 5.9ms\\n\",","            \"video 1/1 (602/631) /content/Licence-Plate-Detection-using-YOLO-V8/demo1.mp4: 416x640 5.9ms\\n\",","            \"video 1/1 (603/631) /content/Licence-Plate-Detection-using-YOLO-V8/demo1.mp4: 416x640 5.9ms\\n\",","            \"video 1/1 (604/631) /content/Licence-Plate-Detection-using-YOLO-V8/demo1.mp4: 416x640 5.9ms\\n\",","            \"video 1/1 (605/631) /content/Licence-Plate-Detection-using-YOLO-V8/demo1.mp4: 416x640 5.9ms\\n\",","            \"video 1/1 (606/631) /content/Licence-Plate-Detection-using-YOLO-V8/demo1.mp4: 416x640 5.9ms\\n\",","            \"video 1/1 (607/631) /content/Licence-Plate-Detection-using-YOLO-V8/demo1.mp4: 416x640 5.9ms\\n\",","            \"video 1/1 (608/631) /content/Licence-Plate-Detection-using-YOLO-V8/demo1.mp4: 416x640 6.1ms\\n\",","            \"video 1/1 (609/631) /content/Licence-Plate-Detection-using-YOLO-V8/demo1.mp4: 416x640 5.9ms\\n\",","            \"video 1/1 (610/631) /content/Licence-Plate-Detection-using-YOLO-V8/demo1.mp4: 416x640 5.9ms\\n\",","            \"video 1/1 (611/631) /content/Licence-Plate-Detection-using-YOLO-V8/demo1.mp4: 416x640 5.9ms\\n\",","            \"video 1/1 (612/631) /content/Licence-Plate-Detection-using-YOLO-V8/demo1.mp4: 416x640 5.9ms\\n\",","            \"video 1/1 (613/631) /content/Licence-Plate-Detection-using-YOLO-V8/demo1.mp4: 416x640 5.9ms\\n\",","            \"video 1/1 (614/631) /content/Licence-Plate-Detection-using-YOLO-V8/demo1.mp4: 416x640 7.8ms\\n\",","            \"video 1/1 (615/631) /content/Licence-Plate-Detection-using-YOLO-V8/demo1.mp4: 416x640 6.2ms\\n\",","            \"video 1/1 (616/631) /content/Licence-Plate-Detection-using-YOLO-V8/demo1.mp4: 416x640 5.9ms\\n\",","            \"video 1/1 (617/631) /content/Licence-Plate-Detection-using-YOLO-V8/demo1.mp4: 416x640 5.9ms\\n\",","            \"video 1/1 (618/631) /content/Licence-Plate-Detection-using-YOLO-V8/demo1.mp4: 416x640 5.9ms\\n\",","            \"video 1/1 (619/631) /content/Licence-Plate-Detection-using-YOLO-V8/demo1.mp4: 416x640 6.1ms\\n\",","            \"video 1/1 (620/631) /content/Licence-Plate-Detection-using-YOLO-V8/demo1.mp4: 416x640 5.9ms\\n\",","            \"video 1/1 (621/631) /content/Licence-Plate-Detection-using-YOLO-V8/demo1.mp4: 416x640 5.9ms\\n\",","            \"video 1/1 (622/631) /content/Licence-Plate-Detection-using-YOLO-V8/demo1.mp4: 416x640 6.2ms\\n\",","            \"video 1/1 (623/631) /content/Licence-Plate-Detection-using-YOLO-V8/demo1.mp4: 416x640 6.0ms\\n\",","            \"video 1/1 (624/631) /content/Licence-Plate-Detection-using-YOLO-V8/demo1.mp4: 416x640 6.0ms\\n\",","            \"video 1/1 (625/631) /content/Licence-Plate-Detection-using-YOLO-V8/demo1.mp4: 416x640 6.1ms\\n\",","            \"video 1/1 (626/631) /content/Licence-Plate-Detection-using-YOLO-V8/demo1.mp4: 416x640 6.1ms\\n\",","            \"video 1/1 (627/631) /content/Licence-Plate-Detection-using-YOLO-V8/demo1.mp4: 416x640 6.1ms\\n\",","            \"video 1/1 (628/631) /content/Licence-Plate-Detection-using-YOLO-V8/demo1.mp4: 416x640 5.9ms\\n\",","            \"video 1/1 (629/631) /content/Licence-Plate-Detection-using-YOLO-V8/demo1.mp4: 416x640 1 LicensePlate, 6.5ms\\n\",","            \"video 1/1 (630/631) /content/Licence-Plate-Detection-using-YOLO-V8/demo1.mp4: 416x640 6.6ms\\n\",","            \"video 1/1 (631/631) /content/Licence-Plate-Detection-using-YOLO-V8/demo1.mp4: 416x640 7.1ms\\n\",","            \"Speed: 0.4ms pre-process, 6.7ms inference, 1.4ms postprocess per image at shape (1, 3, 640, 640)\\n\",","            \"Results saved to \\u001b[1mruns/detect/train12\\u001b[0m\\n\"","          ]","        }","      ]","    },","    {","      \"cell_type\": \"code\",","      \"source\": [","        \"!python /content/Licence-Plate-Detection-using-YOLO-V8/ultralytics/yolo/v8/detect/predict.py model='/content/Licence-Plate-Detection-using-YOLO-V8/runs/detect/train11/weights/best.pt' source='/content/Licence-Plate-Detection-using-YOLO-V8/nm.jpeg'\"","      ],","      \"metadata\": {","        \"id\": \"XFSS5xzGYszt\",","        \"outputId\": \"38208546-5296-40c5-cf14-2f9f87184f34\",","        \"colab\": {","          \"base_uri\": \"https://localhost:8080/\"","        }","      },","      \"execution_count\": 24,","      \"outputs\": [","        {","          \"output_type\": \"stream\",","          \"name\": \"stdout\",","          \"text\": [","            \"2023-09-02 10:16:10.876094: I tensorflow/core/platform/cpu_feature_guard.cc:182] This TensorFlow binary is optimized to use available CPU instructions in performance-critical operations.\\n\",","            \"To enable the following instructions: AVX2 AVX512F FMA, in other operations, rebuild TensorFlow with the appropriate compiler flags.\\n\",","            \"2023-09-02 10:16:12.318694: W tensorflow/compiler/tf2tensorrt/utils/py_utils.cc:38] TF-TRT Warning: Could not find TensorRT\\n\",","            \"Ultralytics YOLOv8.0.3 🚀 Python-3.10.12 torch-2.0.1+cu118 CUDA:0 (Tesla T4, 15102MiB)\\n\",","            \"Fusing layers... \\n\",","            \"Model summary: 168 layers, 3005843 parameters, 0 gradients, 8.1 GFLOPs\\n\",","            \"image 1/1 /content/Licence-Plate-Detection-using-YOLO-V8/nm.jpeg: 512x640 1 LicensePlate, 60.3ms\\n\",","            \"Speed: 0.5ms pre-process, 60.3ms inference, 2.6ms postprocess per image at shape (1, 3, 640, 640)\\n\",","            \"Results saved to \\u001b[1mruns/detect/train13\\u001b[0m\\n\"","          ]","        }","      ]","    }","  ]","}"],"stylingDirectives":null,"colorizedLines":null,"csv":null,"csvError":null,"dependabotInfo":{"showConfigurationBanner":false,"configFilePath":null,"networkDependabotPath":"/Arijit1080/Licence-Plate-Detection-using-YOLO-V8/network/updates","dismissConfigurationNoticePath":"/settings/dismiss-notice/dependabot_configuration_notice","configurationNoticeDismissed":null},"displayName":"Licence_Plate_Detection_YOLO_V8.ipynb","displayUrl":"https://notebooks.githubusercontent.com/view/ipynb?browser=chrome\u0026bypass_fastly=true\u0026color_mode=auto\u0026commit=a2d1331d2521dc9490c929f1a88acaab3fcb7fe3\u0026device=unknown_device\u0026docs_host=https%3A%2F%2Fdocs.github.com\u0026enc_url=68747470733a2f2f7261772e67697468756275736572636f6e74656e742e636f6d2f4172696a6974313038302f4c6963656e63652d506c6174652d446574656374696f6e2d7573696e672d594f4c4f2d56382f613264313333316432353231646339343930633932396631613838616361616233666362376665332f4c6963656e63655f506c6174655f446574656374696f6e5f594f4c4f5f56382e6970796e62\u0026logged_in=false\u0026nwo=Arijit1080%2FLicence-Plate-Detection-using-YOLO-V8\u0026path=Licence_Plate_Detection_YOLO_V8.ipynb\u0026platform=windows\u0026repository_id=686261721\u0026repository_type=Repository\u0026version=125","headerInfo":{"blobSize":"158 KB","deleteTooltip":"You must be signed in to make or propose changes","editTooltip":"You must be signed in to make or propose changes","ghDesktopPath":"https://desktop.github.com","isGitLfs":false,"onBranch":true,"shortPath":"a1740a5","siteNavLoginPath":"/login?return_to=https%3A%2F%2Fgithub.com%2FArijit1080%2FLicence-Plate-Detection-using-YOLO-V8%2Fblob%2Fmain%2FLicence_Plate_Detection_YOLO_V8.ipynb","isCSV":false,"isRichtext":false,"toc":null,"lineInfo":{"truncatedLoc":"1544","truncatedSloc":"1544"},"mode":"file"},"image":false,"isCodeownersFile":null,"isPlain":false,"isValidLegacyIssueTemplate":false,"issueTemplate":null,"discussionTemplate":null,"language":"Jupyter Notebook","languageID":185,"large":false,"planSupportInfo":{"repoIsFork":null,"repoOwnedByCurrentUser":null,"requestFullPath":"/Arijit1080/Licence-Plate-Detection-using-YOLO-V8/blob/main/Licence_Plate_Detection_YOLO_V8.ipynb","showFreeOrgGatedFeatureMessage":null,"showPlanSupportBanner":null,"upgradeDataAttributes":null,"upgradePath":null},"publishBannersInfo":{"dismissActionNoticePath":"/settings/dismiss-notice/publish_action_from_dockerfile","releasePath":"/Arijit1080/Licence-Plate-Detection-using-YOLO-V8/releases/new?marketplace=true","showPublishActionBanner":false},"rawBlobUrl":"https://github.com/Arijit1080/Licence-Plate-Detection-using-YOLO-V8/raw/main/Licence_Plate_Detection_YOLO_V8.ipynb","renderImageOrRaw":false,"richText":null,"renderedFileInfo":{"identityUUID":"5157ff1c-1f77-4499-8bbb-14cf8d1831b4","renderFileType":"ipynb","size":161865},"shortPath":null,"symbolsEnabled":true,"tabSize":8,"topBannersInfo":{"overridingGlobalFundingFile":false,"globalPreferredFundingPath":null,"showInvalidCitationWarning":false,"citationHelpUrl":"https://docs.github.com/github/creating-cloning-and-archiving-repositories/creating-a-repository-on-github/about-citation-files","actionsOnboardingTip":null},"truncated":false,"viewable":true,"workflowRedirectUrl":null,"symbols":{"timed_out":false,"not_analyzed":true,"symbols":[]}},"copilotInfo":null,"copilotAccessAllowed":false,"csrf_tokens":{"/Arijit1080/Licence-Plate-Detection-using-YOLO-V8/branches":{"post":"Qgt8YxqZKInzBbvEHzBdK6Af-g0eLuCK8XA9dm1mNwx1Q1cSVlYcNTf_9E5eAODCXkgLMyqHXzpOI9NQZxCiKA"},"/repos/preferences":{"post":"2G11WfcCyTT82hyu4D3eKEE6sUFLspBx103ia76qlUck5BOVv-ibC4Wqrr5tvA-3sCkezCav7RxRQudU8sbVoQ"}}},"title":"Licence-Plate-Detection-using-YOLO-V8/Licence_Plate_Detection_YOLO_V8.ipynb at main · Arijit1080/Licence-Plate-Detection-using-YOLO-V8","appPayload":{"helpUrl":"https://docs.github.com","findFileWorkerPath":"/assets-cdn/worker/find-file-worker-1583894afd38.js","findInFileWorkerPath":"/assets-cdn/worker/find-in-file-worker-3a63a487027b.js","githubDevUrl":null,"enabled_features":{"code_nav_ui_events":false,"react_blob_overlay":false,"copilot_conversational_ux_embedding_update":false,"copilot_smell_icebreaker_ux":true,"copilot_workspace":false}}}</script>
  <div data-target="react-app.reactRoot"><style data-styled="true" data-styled-version="5.3.6">.jUriTl{font-weight:600;font-size:32px;margin:0;display:-webkit-box;display:-webkit-flex;display:-ms-flexbox;display:flex;font-size:14px;}/*!sc*/
.cgQnMS{font-weight:600;font-size:32px;margin:0;}/*!sc*/
.diwsLq{font-weight:600;font-size:32px;margin:0;font-weight:600;display:inline-block;max-width:100%;font-size:16px;}/*!sc*/
.jAEDJk{font-weight:600;font-size:32px;margin:0;font-weight:600;display:inline-block;max-width:100%;font-size:14px;}/*!sc*/
data-styled.g1[id="Heading__StyledHeading-sc-1c1dgg0-0"]{content:"jUriTl,cgQnMS,diwsLq,jAEDJk,"}/*!sc*/
.fSWWem{padding:0;}/*!sc*/
.kPPmzM{max-width:100%;margin-left:auto;margin-right:auto;display:-webkit-box;display:-webkit-flex;display:-ms-flexbox;display:flex;-webkit-flex-wrap:wrap;-ms-flex-wrap:wrap;flex-wrap:wrap;}/*!sc*/
.cIAPDV{display:-webkit-box;display:-webkit-flex;display:-ms-flexbox;display:flex;-webkit-flex:1 1 100%;-ms-flex:1 1 100%;flex:1 1 100%;-webkit-flex-wrap:wrap;-ms-flex-wrap:wrap;flex-wrap:wrap;max-width:100%;}/*!sc*/
.gvCnwW{width:100%;}/*!sc*/
@media screen and (min-width:544px){.gvCnwW{width:100%;}}/*!sc*/
@media screen and (min-width:768px){.gvCnwW{width:auto;}}/*!sc*/
.esrURn{display:none;-webkit-order:1;-ms-flex-order:1;order:1;width:100%;margin-left:0;margin-right:0;-webkit-flex-direction:column;-ms-flex-direction:column;flex-direction:column;margin-bottom:0;min-width:0;}/*!sc*/
@media screen and (min-width:544px){.esrURn{-webkit-flex-direction:column;-ms-flex-direction:column;flex-direction:column;}}/*!sc*/
@media screen and (min-width:768px){.esrURn{width:auto;margin-top:0 !important;margin-bottom:0 !important;position:-webkit-sticky;position:sticky;top:0px;max-height:var(--sticky-pane-height);-webkit-flex-direction:row;-ms-flex-direction:row;flex-direction:row;margin-right:0;}}/*!sc*/
@media screen and (min-width:769px){.esrURn{height:100vh;max-height:100vh !important;}}/*!sc*/
@media print,screen and (max-width:1011px) and (min-width:768px){.esrURn{display:none;}}/*!sc*/
.eUyHuk{margin-left:0;margin-right:0;display:none;margin-top:0;}/*!sc*/
@media screen and (min-width:768px){.eUyHuk{margin-left:0 !important;margin-right:0 !important;}}/*!sc*/
.gNdDUH{--pane-min-width:256px;--pane-max-width-diff:511px;--pane-max-width:calc(100vw - var(--pane-max-width-diff));width:100%;padding:0;}/*!sc*/
@media screen and (min-width:544px){}/*!sc*/
@media screen and (min-width:768px){.gNdDUH{width:clamp(var(--pane-min-width),var(--pane-width),var(--pane-max-width));overflow:auto;}}/*!sc*/
@media screen and (min-width:1280px){.gNdDUH{--pane-max-width-diff:959px;}}/*!sc*/
.hAeDYA{height:100%;position:relative;display:none;margin-left:0;}/*!sc*/
.fjdBNx{position:absolute;inset:0 -2px;cursor:col-resize;background-color:transparent;-webkit-transition-delay:0.1s;transition-delay:0.1s;}/*!sc*/
.fjdBNx:hover{background-color:var(--bgColor-neutral-muted,var(--color-neutral-muted,rgba(175,184,193,0.2)));}/*!sc*/
.emFMJu{display:-webkit-box;display:-webkit-flex;display:-ms-flexbox;display:flex;-webkit-flex-direction:column;-ms-flex-direction:column;flex-direction:column;-webkit-order:2;-ms-flex-order:2;order:2;-webkit-flex-basis:0;-ms-flex-preferred-size:0;flex-basis:0;-webkit-box-flex:1;-webkit-flex-grow:1;-ms-flex-positive:1;flex-grow:1;-webkit-flex-shrink:1;-ms-flex-negative:1;flex-shrink:1;min-width:1px;margin-right:auto;}/*!sc*/
@media print{.emFMJu{display:-webkit-box !important;display:-webkit-flex !important;display:-ms-flexbox !important;display:flex !important;}}/*!sc*/
.hlUAHL{width:100%;max-width:100%;margin-left:auto;margin-right:auto;-webkit-box-flex:1;-webkit-flex-grow:1;-ms-flex-positive:1;flex-grow:1;padding:0;}/*!sc*/
.iStsmI{margin-left:auto;margin-right:auto;-webkit-flex-direction:column;-ms-flex-direction:column;flex-direction:column;padding-bottom:40px;max-width:100%;margin-top:0;}/*!sc*/
.eIgvIk{display:inherit;}/*!sc*/
.eVFfWF{width:100%;}/*!sc*/
.fywjmm{display:-webkit-box;display:-webkit-flex;display:-ms-flexbox;display:flex;gap:8px;-webkit-flex-direction:column;-ms-flex-direction:column;flex-direction:column;width:100%;}/*!sc*/
.dyczTK{display:-webkit-box;display:-webkit-flex;display:-ms-flexbox;display:flex;-webkit-align-items:start;-webkit-box-align:start;-ms-flex-align:start;align-items:start;-webkit-box-pack:justify;-webkit-justify-content:space-between;-ms-flex-pack:justify;justify-content:space-between;gap:8px;}/*!sc*/
.cpXcux{display:-webkit-box;display:-webkit-flex;display:-ms-flexbox;display:flex;-webkit-align-items:start;-webkit-box-align:start;-ms-flex-align:start;align-items:start;min-width:0;}/*!sc*/
.iPEkxH{display:block;margin-right:8px;}/*!sc*/
@media screen and (min-width:1360px){.iPEkxH{display:block;}}/*!sc*/
.kkrdEu{-webkit-box-pack:center;-webkit-justify-content:center;-ms-flex-pack:center;justify-content:center;}/*!sc*/
.trpoQ{display:-webkit-box;display:-webkit-flex;display:-ms-flexbox;display:flex;pointer-events:none;}/*!sc*/
.bKgizp{display:-webkit-box;display:-webkit-flex;display:-ms-flexbox;display:flex;width:100%;}/*!sc*/
.iPGYsi{margin-right:4px;color:var(--fgColor-muted,var(--color-fg-muted,#656d76));}/*!sc*/
.dKmYfk{font-size:14px;min-width:0;max-width:125px;overflow:hidden;text-overflow:ellipsis;white-space:nowrap;}/*!sc*/
.ehCeGn{-webkit-align-self:center;-ms-flex-item-align:center;align-self:center;display:-webkit-box;display:-webkit-flex;display:-ms-flexbox;display:flex;padding-left:8px;padding-right:8px;min-width:0;}/*!sc*/
.eTvGbF{display:-webkit-box;display:-webkit-flex;display:-ms-flexbox;display:flex;-webkit-flex-direction:row;-ms-flex-direction:row;flex-direction:row;font-size:16px;min-width:0;-webkit-flex-shrink:1;-ms-flex-negative:1;flex-shrink:1;-webkit-flex-wrap:wrap;-ms-flex-wrap:wrap;flex-wrap:wrap;max-width:100%;-webkit-align-items:center;-webkit-box-align:center;-ms-flex-align:center;align-items:center;}/*!sc*/
.kzRgrI{max-width:100%;}/*!sc*/
.cmAPIB{max-width:100%;list-style:none;display:inline-block;}/*!sc*/
.jwXCBK{display:inline-block;max-width:100%;}/*!sc*/
.gtBUEp{min-height:32px;display:-webkit-box;display:-webkit-flex;display:-ms-flexbox;display:flex;-webkit-align-items:start;-webkit-box-align:start;-ms-flex-align:start;align-items:start;}/*!sc*/
.kfYOBR{margin-left:4px;margin-right:4px;}/*!sc*/
.hVZtwF{margin-left:16px;margin-right:16px;}/*!sc*/
.cMYnca{display:-webkit-box;display:-webkit-flex;display:-ms-flexbox;display:flex;-webkit-flex-direction:column;-ms-flex-direction:column;flex-direction:column;}/*!sc*/
.brJRqk{display:-webkit-box;display:-webkit-flex;display:-ms-flexbox;display:flex;-webkit-flex-direction:row;-ms-flex-direction:row;flex-direction:row;-webkit-flex-wrap:wrap;-ms-flex-wrap:wrap;flex-wrap:wrap;-webkit-box-pack:justify;-webkit-justify-content:space-between;-ms-flex-pack:justify;justify-content:space-between;-webkit-align-items:center;-webkit-box-align:center;-ms-flex-align:center;align-items:center;gap:8px;min-width:273px;padding:8px;}/*!sc*/
@media screen and (min-width:544px){.brJRqk{-webkit-flex-wrap:nowrap;-ms-flex-wrap:nowrap;flex-wrap:nowrap;}}/*!sc*/
.bqgLjk{display:inherit;}/*!sc*/
@media screen and (min-width:544px){.bqgLjk{display:none;}}/*!sc*/
@media screen and (min-width:768px){.bqgLjk{display:none;}}/*!sc*/
.iJmJly{display:-webkit-box;display:-webkit-flex;display:-ms-flexbox;display:flex;-webkit-flex-direction:row;-ms-flex-direction:row;flex-direction:row;}/*!sc*/
.jACbi{width:100%;height:-webkit-fit-content;height:-moz-fit-content;height:fit-content;min-width:0;margin-right:0;}/*!sc*/
.gIJuDf{height:40px;padding-left:4px;padding-bottom:16px;}/*!sc*/
.fleZSW{-webkit-align-items:center;-webkit-box-align:center;-ms-flex-align:center;align-items:center;}/*!sc*/
.BnySK{font-size:12px;-webkit-flex:auto;-ms-flex:auto;flex:auto;padding-right:16px;color:var(--fgColor-muted,var(--color-fg-muted,#656d76));min-width:0;}/*!sc*/
.VHzRk{top:0px;z-index:4;background:var(--bgColor-default,var(--color-canvas-default));position:-webkit-sticky;position:sticky;}/*!sc*/
.ePiodO{display:-webkit-box;display:-webkit-flex;display:-ms-flexbox;display:flex;-webkit-flex-direction:column;-ms-flex-direction:column;flex-direction:column;width:100%;position:absolute;}/*!sc*/
.kQJlnf{display:none;min-width:0;padding-top:8px;padding-bottom:8px;}/*!sc*/
.nSWSp{display:-webkit-box;display:-webkit-flex;display:-ms-flexbox;display:flex;-webkit-align-items:center;-webkit-box-align:center;-ms-flex-align:center;align-items:center;overflow:hidden;margin-left:8px;margin-right:8px;-webkit-flex-direction:row;-ms-flex-direction:row;flex-direction:row;-webkit-box-pack:justify;-webkit-justify-content:space-between;-ms-flex-pack:justify;justify-content:space-between;width:100%;}/*!sc*/
.lhFvfi{display:-webkit-box;display:-webkit-flex;display:-ms-flexbox;display:flex;-webkit-align-items:center;-webkit-box-align:center;-ms-flex-align:center;align-items:center;}/*!sc*/
.doiYd{margin-left:4px;margin-right:8px;}/*!sc*/
.jKPiSV{text-overflow:ellipsis;overflow:hidden;display:-webkit-box;display:-webkit-flex;display:-ms-flexbox;display:flex;}/*!sc*/
.iZJewz{display:-webkit-box;display:-webkit-flex;display:-ms-flexbox;display:flex;-webkit-flex-direction:row;-ms-flex-direction:row;flex-direction:row;font-size:14px;min-width:0;-webkit-flex-shrink:1;-ms-flex-negative:1;flex-shrink:1;-webkit-flex-wrap:wrap;-ms-flex-wrap:wrap;flex-wrap:wrap;max-width:100%;-webkit-align-items:center;-webkit-box-align:center;-ms-flex-align:center;align-items:center;}/*!sc*/
.jfjHXm{padding-left:8px;padding-top:8px;padding-bottom:8px;display:-webkit-box;display:-webkit-flex;display:-ms-flexbox;display:flex;-webkit-flex:1;-ms-flex:1;flex:1;-webkit-align-items:center;-webkit-box-align:center;-ms-flex-align:center;align-items:center;-webkit-box-pack:justify;-webkit-justify-content:space-between;-ms-flex-pack:justify;justify-content:space-between;background-color:var(--bgColor-muted,var(--color-canvas-subtle,#f6f8fa));border:1px solid var(--borderColor-default,var(--color-border-default));border-radius:6px 6px 0px 0px;}/*!sc*/
.bfkNRF{display:-webkit-box;display:-webkit-flex;display:-ms-flexbox;display:flex;-webkit-align-items:center;-webkit-box-align:center;-ms-flex-align:center;align-items:center;gap:8px;min-width:0;}/*!sc*/
.fXBLEV{display:block;position:relative;-webkit-box-flex:1;-webkit-flex-grow:1;-ms-flex-positive:1;flex-grow:1;margin-top:-1px;margin-bottom:-1px;--separator-color:transparent;}/*!sc*/
.fXBLEV:not(:last-child){margin-right:1px;}/*!sc*/
.fXBLEV:not(:last-child):after{background-color:var(--separator-color);content:"";position:absolute;right:-2px;top:8px;bottom:8px;width:1px;}/*!sc*/
.fXBLEV:focus-within:has(:focus-visible){--separator-color:transparent;}/*!sc*/
.fXBLEV:first-child{margin-left:-1px;}/*!sc*/
.fXBLEV:last-child{margin-right:-1px;}/*!sc*/
.gMPsNT{display:block;position:relative;-webkit-box-flex:1;-webkit-flex-grow:1;-ms-flex-positive:1;flex-grow:1;margin-top:-1px;margin-bottom:-1px;--separator-color:var(--borderColor-default,var(--color-border-default,#d0d7de));}/*!sc*/
.gMPsNT:not(:last-child){margin-right:1px;}/*!sc*/
.gMPsNT:not(:last-child):after{background-color:var(--separator-color);content:"";position:absolute;right:-2px;top:8px;bottom:8px;width:1px;}/*!sc*/
.gMPsNT:focus-within:has(:focus-visible){--separator-color:transparent;}/*!sc*/
.gMPsNT:first-child{margin-left:-1px;}/*!sc*/
.gMPsNT:last-child{margin-right:-1px;}/*!sc*/
.iBylDf{display:-webkit-box;display:-webkit-flex;display:-ms-flexbox;display:flex;-webkit-align-items:center;-webkit-box-align:center;-ms-flex-align:center;align-items:center;gap:8px;margin-right:8px;}/*!sc*/
.kSGBPx{gap:8px;}/*!sc*/
.ytOJl{border:1px solid;border-top:none;border-color:var(--borderColor-default,var(--color-border-default,#d0d7de));border-radius:0px 0px 6px 6px;min-width:273px;}/*!sc*/
.eJsjkT{background-color:var(--bgColor-default,var(--color-canvas-default));border:0px;border-width:0;border-radius:0px 0px 6px 6px;padding:0;min-width:0;margin-top:46px;overflow:auto;}/*!sc*/
.aZrVR{position:fixed;top:0;right:0;height:100%;width:15px;-webkit-transition:-webkit-transform 0.3s;-webkit-transition:transform 0.3s;transition:transform 0.3s;z-index:1;}/*!sc*/
.aZrVR:hover{-webkit-transform:scaleX(1.5);-ms-transform:scaleX(1.5);transform:scaleX(1.5);}/*!sc*/
.bAzdCq{display:-webkit-box;display:-webkit-flex;display:-ms-flexbox;display:flex;-webkit-flex-direction:column;-ms-flex-direction:column;flex-direction:column;-webkit-align-items:center;-webkit-box-align:center;-ms-flex-align:center;align-items:center;padding-top:16px;padding-bottom:16px;}/*!sc*/
data-styled.g2[id="Box-sc-g0xbh4-0"]{content:"fSWWem,kPPmzM,cIAPDV,gvCnwW,esrURn,eUyHuk,gNdDUH,hAeDYA,fjdBNx,emFMJu,hlUAHL,iStsmI,eIgvIk,eVFfWF,fywjmm,dyczTK,cpXcux,iPEkxH,kkrdEu,trpoQ,bKgizp,iPGYsi,dKmYfk,ehCeGn,eTvGbF,kzRgrI,cmAPIB,jwXCBK,gtBUEp,kfYOBR,hVZtwF,cMYnca,brJRqk,bqgLjk,iJmJly,jACbi,gIJuDf,fleZSW,BnySK,VHzRk,ePiodO,kQJlnf,nSWSp,lhFvfi,doiYd,jKPiSV,iZJewz,jfjHXm,bfkNRF,fXBLEV,gMPsNT,iBylDf,kSGBPx,ytOJl,eJsjkT,aZrVR,bAzdCq,"}/*!sc*/
body[data-page-layout-dragging="true"]{cursor:col-resize;}/*!sc*/
body[data-page-layout-dragging="true"] *{-webkit-user-select:none;-moz-user-select:none;-ms-user-select:none;user-select:none;}/*!sc*/
data-styled.g3[id="sc-global-gbKrvU1"]{content:"sc-global-gbKrvU1,"}/*!sc*/
.bOMzPg{min-width:0;}/*!sc*/
.fIsVJr{padding-left:4px;padding-right:4px;font-weight:400;color:var(--fgColor-muted,var(--color-fg-muted,#656d76));font-size:16px;}/*!sc*/
.cYjMDB{padding-left:4px;padding-right:4px;font-weight:400;color:var(--fgColor-muted,var(--color-fg-muted,#656d76));font-size:14px;}/*!sc*/
data-styled.g6[id="Text-sc-17v1xeu-0"]{content:"bOMzPg,fIsVJr,gPDEWA,cYjMDB,"}/*!sc*/
.ipyMWB{color:var(--fgColor-accent,var(--color-accent-fg,#0969da));-webkit-text-decoration:none;text-decoration:none;font-weight:600;}/*!sc*/
[data-a11y-link-underlines='true'] .Link__StyledLink-sc-14289xe-0[data-inline='true']{-webkit-text-decoration:underline;text-decoration:underline;}/*!sc*/
.ipyMWB:hover{-webkit-text-decoration:underline;text-decoration:underline;}/*!sc*/
.ipyMWB:is(button){display:inline-block;padding:0;font-size:inherit;white-space:nowrap;cursor:pointer;-webkit-user-select:none;-moz-user-select:none;-ms-user-select:none;user-select:none;background-color:transparent;border:0;-webkit-appearance:none;-moz-appearance:none;appearance:none;}/*!sc*/
data-styled.g8[id="Link__StyledLink-sc-14289xe-0"]{content:"ipyMWB,"}/*!sc*/
.blmaBs{border-radius:6px;border:1px solid;border-color:transparent;font-family:inherit;font-weight:500;font-size:14px;cursor:pointer;-webkit-appearance:none;-moz-appearance:none;appearance:none;-webkit-user-select:none;-moz-user-select:none;-ms-user-select:none;user-select:none;-webkit-text-decoration:none;text-decoration:none;text-align:center;display:-webkit-box;display:-webkit-flex;display:-ms-flexbox;display:flex;-webkit-align-items:center;-webkit-box-align:center;-ms-flex-align:center;align-items:center;-webkit-box-pack:justify;-webkit-justify-content:space-between;-ms-flex-pack:justify;justify-content:space-between;height:32px;padding:0 12px;gap:8px;min-width:-webkit-max-content;min-width:-moz-max-content;min-width:max-content;-webkit-transition:80ms cubic-bezier(0.65,0,0.35,1);transition:80ms cubic-bezier(0.65,0,0.35,1);-webkit-transition-property:color,fill,background-color,border-color;transition-property:color,fill,background-color,border-color;color:var(--button-default-fgColor-rest,var(--color-btn-text,#24292f));background-color:transparent;box-shadow:none;}/*!sc*/
.blmaBs:focus:not(:disabled){box-shadow:none;outline:2px solid var(--fgColor-accent,var(--color-accent-fg,#0969da));outline-offset:-2px;}/*!sc*/
.blmaBs:focus:not(:disabled):not(:focus-visible){outline:solid 1px transparent;}/*!sc*/
.blmaBs:focus-visible:not(:disabled){box-shadow:none;outline:2px solid var(--fgColor-accent,var(--color-accent-fg,#0969da));outline-offset:-2px;}/*!sc*/
.blmaBs[href]{display:-webkit-inline-box;display:-webkit-inline-flex;display:-ms-inline-flexbox;display:inline-flex;}/*!sc*/
.blmaBs[href]:hover{-webkit-text-decoration:none;text-decoration:none;}/*!sc*/
.blmaBs:hover{-webkit-transition-duration:80ms;transition-duration:80ms;}/*!sc*/
.blmaBs:active{-webkit-transition:none;transition:none;}/*!sc*/
.blmaBs[data-inactive]{cursor:auto;}/*!sc*/
.blmaBs:disabled{cursor:not-allowed;box-shadow:none;color:var(--fgColor-disabled,var(--color-primer-fg-disabled,#8c959f));}/*!sc*/
.blmaBs:disabled [data-component=ButtonCounter],.blmaBs:disabled [data-component="leadingVisual"],.blmaBs:disabled [data-component="trailingAction"]{color:inherit;}/*!sc*/
@media (forced-colors:active){.blmaBs:focus{outline:solid 1px transparent;}}/*!sc*/
.blmaBs [data-component=ButtonCounter]{font-size:12px;}/*!sc*/
.blmaBs[data-component=IconButton]{display:inline-grid;padding:unset;place-content:center;width:32px;min-width:unset;}/*!sc*/
.blmaBs[data-size="small"]{padding:0 8px;height:28px;gap:4px;font-size:12px;}/*!sc*/
.blmaBs[data-size="small"] [data-component="text"]{line-height:calc(20 / 12);}/*!sc*/
.blmaBs[data-size="small"] [data-component=ButtonCounter]{font-size:12px;}/*!sc*/
.blmaBs[data-size="small"] [data-component="buttonContent"] > :not(:last-child){margin-right:4px;}/*!sc*/
.blmaBs[data-size="small"][data-component=IconButton]{width:28px;padding:unset;}/*!sc*/
.blmaBs[data-size="large"]{padding:0 16px;height:40px;gap:8px;}/*!sc*/
.blmaBs[data-size="large"] [data-component="buttonContent"] > :not(:last-child){margin-right:8px;}/*!sc*/
.blmaBs[data-size="large"][data-component=IconButton]{width:40px;padding:unset;}/*!sc*/
.blmaBs[data-block="block"]{width:100%;}/*!sc*/
.blmaBs[data-inactive]:not([disabled]){background-color:var(--button-inactive-bgColor,var(--button-inactive-bgColor-rest,var(--color-btn-inactive-bg,#eaeef2)));border-color:var(--button-inactive-bgColor,var(--button-inactive-bgColor-rest,var(--color-btn-inactive-bg,#eaeef2)));color:var(--button-inactive-fgColor,var(--button-inactive-fgColor-rest,var(--color-btn-inactive-text,#57606a)));}/*!sc*/
.blmaBs[data-inactive]:not([disabled]):focus-visible{box-shadow:none;}/*!sc*/
.blmaBs [data-component="leadingVisual"]{grid-area:leadingVisual;color:var(--fgColor-muted,var(--color-fg-muted,#656d76));}/*!sc*/
.blmaBs [data-component="text"]{grid-area:text;line-height:calc(20/14);white-space:nowrap;}/*!sc*/
.blmaBs [data-component="trailingVisual"]{grid-area:trailingVisual;}/*!sc*/
.blmaBs [data-component="trailingAction"]{margin-right:-4px;color:var(--fgColor-muted,var(--color-fg-muted,#656d76));}/*!sc*/
.blmaBs [data-component="buttonContent"]{-webkit-flex:1 0 auto;-ms-flex:1 0 auto;flex:1 0 auto;display:grid;grid-template-areas:"leadingVisual text trailingVisual";grid-template-columns:min-content minmax(0,auto) min-content;-webkit-align-items:center;-webkit-box-align:center;-ms-flex-align:center;align-items:center;-webkit-align-content:center;-ms-flex-line-pack:center;align-content:center;}/*!sc*/
.blmaBs [data-component="buttonContent"] > :not(:last-child){margin-right:8px;}/*!sc*/
.blmaBs:hover:not([disabled]){background-color:var(--control-transparent-bgColor-hover,var(--color-action-list-item-default-hover-bg,rgba(208,215,222,0.32)));}/*!sc*/
.blmaBs:active:not([disabled]){background-color:var(--control-transparent-bgColor-active,var(--color-action-list-item-default-active-bg,rgba(208,215,222,0.48)));}/*!sc*/
.blmaBs[aria-expanded=true]{background-color:var(--control-transparent-bgColor-selected,var(--color-action-list-item-default-selected-bg,rgba(208,215,222,0.24)));}/*!sc*/
.blmaBs[data-component="IconButton"][data-no-visuals]{color:var(--fgColor-muted,var(--color-fg-muted,#656d76));}/*!sc*/
.blmaBs[data-no-visuals]{color:var(--fgColor-accent,var(--color-accent-fg,#0969da));}/*!sc*/
.blmaBs:has([data-component="ButtonCounter"]){color:var(--button-default-fgColor-rest,var(--color-btn-text,#24292f));}/*!sc*/
.blmaBs:disabled[data-no-visuals]{color:var(--fgColor-disabled,var(--color-primer-fg-disabled,#8c959f));}/*!sc*/
.blmaBs:disabled[data-no-visuals] [data-component=ButtonCounter]{color:inherit;}/*!sc*/
.blmaBs{color:var(--fgColor-muted,var(--color-fg-muted,#656d76));padding-left:8px;padding-right:8px;display:none;}/*!sc*/
@media screen and (max-width:768px){.blmaBs{display:block;}}/*!sc*/
.hkJzmn{border-radius:6px;border:1px solid;border-color:transparent;font-family:inherit;font-weight:500;font-size:14px;cursor:pointer;-webkit-appearance:none;-moz-appearance:none;appearance:none;-webkit-user-select:none;-moz-user-select:none;-ms-user-select:none;user-select:none;-webkit-text-decoration:none;text-decoration:none;text-align:center;display:-webkit-box;display:-webkit-flex;display:-ms-flexbox;display:flex;-webkit-align-items:center;-webkit-box-align:center;-ms-flex-align:center;align-items:center;-webkit-box-pack:justify;-webkit-justify-content:space-between;-ms-flex-pack:justify;justify-content:space-between;height:32px;padding:0 12px;gap:8px;min-width:-webkit-max-content;min-width:-moz-max-content;min-width:max-content;-webkit-transition:80ms cubic-bezier(0.65,0,0.35,1);transition:80ms cubic-bezier(0.65,0,0.35,1);-webkit-transition-property:color,fill,background-color,border-color;transition-property:color,fill,background-color,border-color;color:var(--button-default-fgColor-rest,var(--color-btn-text,#24292f));background-color:transparent;box-shadow:none;}/*!sc*/
.hkJzmn:focus:not(:disabled){box-shadow:none;outline:2px solid var(--fgColor-accent,var(--color-accent-fg,#0969da));outline-offset:-2px;}/*!sc*/
.hkJzmn:focus:not(:disabled):not(:focus-visible){outline:solid 1px transparent;}/*!sc*/
.hkJzmn:focus-visible:not(:disabled){box-shadow:none;outline:2px solid var(--fgColor-accent,var(--color-accent-fg,#0969da));outline-offset:-2px;}/*!sc*/
.hkJzmn[href]{display:-webkit-inline-box;display:-webkit-inline-flex;display:-ms-inline-flexbox;display:inline-flex;}/*!sc*/
.hkJzmn[href]:hover{-webkit-text-decoration:none;text-decoration:none;}/*!sc*/
.hkJzmn:hover{-webkit-transition-duration:80ms;transition-duration:80ms;}/*!sc*/
.hkJzmn:active{-webkit-transition:none;transition:none;}/*!sc*/
.hkJzmn[data-inactive]{cursor:auto;}/*!sc*/
.hkJzmn:disabled{cursor:not-allowed;box-shadow:none;color:var(--fgColor-disabled,var(--color-primer-fg-disabled,#8c959f));}/*!sc*/
.hkJzmn:disabled [data-component=ButtonCounter],.hkJzmn:disabled [data-component="leadingVisual"],.hkJzmn:disabled [data-component="trailingAction"]{color:inherit;}/*!sc*/
@media (forced-colors:active){.hkJzmn:focus{outline:solid 1px transparent;}}/*!sc*/
.hkJzmn [data-component=ButtonCounter]{font-size:12px;}/*!sc*/
.hkJzmn[data-component=IconButton]{display:inline-grid;padding:unset;place-content:center;width:32px;min-width:unset;}/*!sc*/
.hkJzmn[data-size="small"]{padding:0 8px;height:28px;gap:4px;font-size:12px;}/*!sc*/
.hkJzmn[data-size="small"] [data-component="text"]{line-height:calc(20 / 12);}/*!sc*/
.hkJzmn[data-size="small"] [data-component=ButtonCounter]{font-size:12px;}/*!sc*/
.hkJzmn[data-size="small"] [data-component="buttonContent"] > :not(:last-child){margin-right:4px;}/*!sc*/
.hkJzmn[data-size="small"][data-component=IconButton]{width:28px;padding:unset;}/*!sc*/
.hkJzmn[data-size="large"]{padding:0 16px;height:40px;gap:8px;}/*!sc*/
.hkJzmn[data-size="large"] [data-component="buttonContent"] > :not(:last-child){margin-right:8px;}/*!sc*/
.hkJzmn[data-size="large"][data-component=IconButton]{width:40px;padding:unset;}/*!sc*/
.hkJzmn[data-block="block"]{width:100%;}/*!sc*/
.hkJzmn[data-inactive]:not([disabled]){background-color:var(--button-inactive-bgColor,var(--button-inactive-bgColor-rest,var(--color-btn-inactive-bg,#eaeef2)));border-color:var(--button-inactive-bgColor,var(--button-inactive-bgColor-rest,var(--color-btn-inactive-bg,#eaeef2)));color:var(--button-inactive-fgColor,var(--button-inactive-fgColor-rest,var(--color-btn-inactive-text,#57606a)));}/*!sc*/
.hkJzmn[data-inactive]:not([disabled]):focus-visible{box-shadow:none;}/*!sc*/
.hkJzmn [data-component="leadingVisual"]{grid-area:leadingVisual;color:var(--fgColor-muted,var(--color-fg-muted,#656d76));}/*!sc*/
.hkJzmn [data-component="text"]{grid-area:text;line-height:calc(20/14);white-space:nowrap;}/*!sc*/
.hkJzmn [data-component="trailingVisual"]{grid-area:trailingVisual;}/*!sc*/
.hkJzmn [data-component="trailingAction"]{margin-right:-4px;color:var(--fgColor-muted,var(--color-fg-muted,#656d76));}/*!sc*/
.hkJzmn [data-component="buttonContent"]{-webkit-flex:1 0 auto;-ms-flex:1 0 auto;flex:1 0 auto;display:grid;grid-template-areas:"leadingVisual text trailingVisual";grid-template-columns:min-content minmax(0,auto) min-content;-webkit-align-items:center;-webkit-box-align:center;-ms-flex-align:center;align-items:center;-webkit-align-content:center;-ms-flex-line-pack:center;align-content:center;}/*!sc*/
.hkJzmn [data-component="buttonContent"] > :not(:last-child){margin-right:8px;}/*!sc*/
.hkJzmn:hover:not([disabled]){background-color:var(--control-transparent-bgColor-hover,var(--color-action-list-item-default-hover-bg,rgba(208,215,222,0.32)));}/*!sc*/
.hkJzmn:active:not([disabled]){background-color:var(--control-transparent-bgColor-active,var(--color-action-list-item-default-active-bg,rgba(208,215,222,0.48)));}/*!sc*/
.hkJzmn[aria-expanded=true]{background-color:var(--control-transparent-bgColor-selected,var(--color-action-list-item-default-selected-bg,rgba(208,215,222,0.24)));}/*!sc*/
.hkJzmn[data-component="IconButton"][data-no-visuals]{color:var(--fgColor-muted,var(--color-fg-muted,#656d76));}/*!sc*/
.hkJzmn[data-no-visuals]{color:var(--fgColor-muted,var(--color-fg-muted,#656d76));height:32px;position:relative;}/*!sc*/
@media screen and (max-width:768px){.hkJzmn[data-no-visuals]{display:none;}}/*!sc*/
.hkJzmn:has([data-component="ButtonCounter"]){color:var(--button-default-fgColor-rest,var(--color-btn-text,#24292f));}/*!sc*/
.hkJzmn:disabled[data-no-visuals]{color:var(--fgColor-disabled,var(--color-primer-fg-disabled,#8c959f));}/*!sc*/
.hkJzmn:disabled[data-no-visuals] [data-component=ButtonCounter]{color:inherit;}/*!sc*/
.hILMMl{border-radius:6px;border:1px solid;border-color:var(--button-default-borderColor-rest,var(--button-default-borderColor-rest,var(--color-btn-border,rgba(31,35,40,0.15))));font-family:inherit;font-weight:500;font-size:14px;cursor:pointer;-webkit-appearance:none;-moz-appearance:none;appearance:none;-webkit-user-select:none;-moz-user-select:none;-ms-user-select:none;user-select:none;-webkit-text-decoration:none;text-decoration:none;text-align:center;display:-webkit-box;display:-webkit-flex;display:-ms-flexbox;display:flex;-webkit-align-items:center;-webkit-box-align:center;-ms-flex-align:center;align-items:center;-webkit-box-pack:justify;-webkit-justify-content:space-between;-ms-flex-pack:justify;justify-content:space-between;height:32px;padding:0 12px;gap:8px;min-width:-webkit-max-content;min-width:-moz-max-content;min-width:max-content;-webkit-transition:80ms cubic-bezier(0.65,0,0.35,1);transition:80ms cubic-bezier(0.65,0,0.35,1);-webkit-transition-property:color,fill,background-color,border-color;transition-property:color,fill,background-color,border-color;color:var(--button-default-fgColor-rest,var(--color-btn-text,#24292f));background-color:var(--button-default-bgColor-rest,var(--color-btn-bg,#f6f8fa));box-shadow:var(--button-default-shadow-resting,var(--color-btn-shadow,0 1px 0 rgba(31,35,40,0.04))),var(--button-default-shadow-inset,var(--color-btn-inset-shadow,inset 0 1px 0 rgba(255,255,255,0.25)));}/*!sc*/
.hILMMl:focus:not(:disabled){box-shadow:none;outline:2px solid var(--fgColor-accent,var(--color-accent-fg,#0969da));outline-offset:-2px;}/*!sc*/
.hILMMl:focus:not(:disabled):not(:focus-visible){outline:solid 1px transparent;}/*!sc*/
.hILMMl:focus-visible:not(:disabled){box-shadow:none;outline:2px solid var(--fgColor-accent,var(--color-accent-fg,#0969da));outline-offset:-2px;}/*!sc*/
.hILMMl[href]{display:-webkit-inline-box;display:-webkit-inline-flex;display:-ms-inline-flexbox;display:inline-flex;}/*!sc*/
.hILMMl[href]:hover{-webkit-text-decoration:none;text-decoration:none;}/*!sc*/
.hILMMl:hover{-webkit-transition-duration:80ms;transition-duration:80ms;}/*!sc*/
.hILMMl:active{-webkit-transition:none;transition:none;}/*!sc*/
.hILMMl[data-inactive]{cursor:auto;}/*!sc*/
.hILMMl:disabled{cursor:not-allowed;box-shadow:none;color:var(--fgColor-disabled,var(--color-primer-fg-disabled,#8c959f));border-color:var(--button-default-borderColor-disabled,var(--button-default-borderColor-rest,var(--color-btn-border,rgba(31,35,40,0.15))));background-color:var(--button-default-bgColor-disabled,var(--control-bgColor-disabled,var(--color-input-disabled-bg,rgba(175,184,193,0.2))));}/*!sc*/
.hILMMl:disabled [data-component=ButtonCounter]{color:inherit;}/*!sc*/
@media (forced-colors:active){.hILMMl:focus{outline:solid 1px transparent;}}/*!sc*/
.hILMMl [data-component=ButtonCounter]{font-size:12px;background-color:var(--buttonCounter-default-bgColor-rest,var(--color-btn-counter-bg,rgba(31,35,40,0.08)));}/*!sc*/
.hILMMl[data-component=IconButton]{display:inline-grid;padding:unset;place-content:center;width:32px;min-width:unset;}/*!sc*/
.hILMMl[data-size="small"]{padding:0 8px;height:28px;gap:4px;font-size:12px;}/*!sc*/
.hILMMl[data-size="small"] [data-component="text"]{line-height:calc(20 / 12);}/*!sc*/
.hILMMl[data-size="small"] [data-component=ButtonCounter]{font-size:12px;}/*!sc*/
.hILMMl[data-size="small"] [data-component="buttonContent"] > :not(:last-child){margin-right:4px;}/*!sc*/
.hILMMl[data-size="small"][data-component=IconButton]{width:28px;padding:unset;}/*!sc*/
.hILMMl[data-size="large"]{padding:0 16px;height:40px;gap:8px;}/*!sc*/
.hILMMl[data-size="large"] [data-component="buttonContent"] > :not(:last-child){margin-right:8px;}/*!sc*/
.hILMMl[data-size="large"][data-component=IconButton]{width:40px;padding:unset;}/*!sc*/
.hILMMl[data-block="block"]{width:100%;}/*!sc*/
.hILMMl[data-inactive]:not([disabled]){background-color:var(--button-inactive-bgColor,var(--button-inactive-bgColor-rest,var(--color-btn-inactive-bg,#eaeef2)));border-color:var(--button-inactive-bgColor,var(--button-inactive-bgColor-rest,var(--color-btn-inactive-bg,#eaeef2)));color:var(--button-inactive-fgColor,var(--button-inactive-fgColor-rest,var(--color-btn-inactive-text,#57606a)));}/*!sc*/
.hILMMl[data-inactive]:not([disabled]):focus-visible{box-shadow:none;}/*!sc*/
.hILMMl [data-component="leadingVisual"]{grid-area:leadingVisual;}/*!sc*/
.hILMMl [data-component="text"]{grid-area:text;line-height:calc(20/14);white-space:nowrap;}/*!sc*/
.hILMMl [data-component="trailingVisual"]{grid-area:trailingVisual;}/*!sc*/
.hILMMl [data-component="trailingAction"]{margin-right:-4px;}/*!sc*/
.hILMMl [data-component="buttonContent"]{-webkit-flex:1 0 auto;-ms-flex:1 0 auto;flex:1 0 auto;display:grid;grid-template-areas:"leadingVisual text trailingVisual";grid-template-columns:min-content minmax(0,auto) min-content;-webkit-align-items:center;-webkit-box-align:center;-ms-flex-align:center;align-items:center;-webkit-align-content:center;-ms-flex-line-pack:center;align-content:center;}/*!sc*/
.hILMMl [data-component="buttonContent"] > :not(:last-child){margin-right:8px;}/*!sc*/
.hILMMl:hover:not([disabled]):not([data-inactive]){background-color:var(--button-default-bgColor-hover,var(--color-btn-hover-bg,#f3f4f6));border-color:var(--button-default-borderColor-hover,var(--button-default-borderColor-hover,var(--color-btn-hover-border,rgba(31,35,40,0.15))));}/*!sc*/
.hILMMl:active:not([disabled]):not([data-inactive]){background-color:var(--button-default-bgColor-active,var(--color-btn-active-bg,hsla(220,14%,93%,1)));border-color:var(--button-default-borderColor-active,var(--button-default-borderColor-active,var(--color-btn-active-border,rgba(31,35,40,0.15))));}/*!sc*/
.hILMMl[aria-expanded=true]{background-color:var(--button-default-bgColor-active,var(--color-btn-active-bg,hsla(220,14%,93%,1)));border-color:var(--button-default-borderColor-active,var(--button-default-borderColor-active,var(--color-btn-active-border,rgba(31,35,40,0.15))));}/*!sc*/
.hILMMl [data-component="leadingVisual"],.hILMMl [data-component="trailingVisual"],.hILMMl [data-component="trailingAction"]{color:var(--button-color,var(--fgColor-muted,var(--color-fg-muted,#656d76)));}/*!sc*/
.hILMMl[data-component="IconButton"][data-no-visuals]{color:var(--fgColor-muted,var(--color-fg-muted,#656d76));}/*!sc*/
.hILMMl{display:-webkit-box;display:-webkit-flex;display:-ms-flexbox;display:flex;}/*!sc*/
.hILMMl svg{color:var(--fgColor-muted,var(--color-fg-muted,#656d76));}/*!sc*/
.hILMMl > span{width:inherit;}/*!sc*/
.ivbpoP{border-radius:6px;border:1px solid;border-color:transparent;font-family:inherit;font-weight:500;font-size:14px;cursor:pointer;-webkit-appearance:none;-moz-appearance:none;appearance:none;-webkit-user-select:none;-moz-user-select:none;-ms-user-select:none;user-select:none;-webkit-text-decoration:none;text-decoration:none;text-align:center;display:-webkit-box;display:-webkit-flex;display:-ms-flexbox;display:flex;-webkit-align-items:center;-webkit-box-align:center;-ms-flex-align:center;align-items:center;-webkit-box-pack:justify;-webkit-justify-content:space-between;-ms-flex-pack:justify;justify-content:space-between;height:32px;padding:0 12px;gap:8px;min-width:-webkit-max-content;min-width:-moz-max-content;min-width:max-content;-webkit-transition:80ms cubic-bezier(0.65,0,0.35,1);transition:80ms cubic-bezier(0.65,0,0.35,1);-webkit-transition-property:color,fill,background-color,border-color;transition-property:color,fill,background-color,border-color;color:var(--button-default-fgColor-rest,var(--color-btn-text,#24292f));background-color:transparent;box-shadow:none;}/*!sc*/
.ivbpoP:focus:not(:disabled){box-shadow:none;outline:2px solid var(--fgColor-accent,var(--color-accent-fg,#0969da));outline-offset:-2px;}/*!sc*/
.ivbpoP:focus:not(:disabled):not(:focus-visible){outline:solid 1px transparent;}/*!sc*/
.ivbpoP:focus-visible:not(:disabled){box-shadow:none;outline:2px solid var(--fgColor-accent,var(--color-accent-fg,#0969da));outline-offset:-2px;}/*!sc*/
.ivbpoP[href]{display:-webkit-inline-box;display:-webkit-inline-flex;display:-ms-inline-flexbox;display:inline-flex;}/*!sc*/
.ivbpoP[href]:hover{-webkit-text-decoration:none;text-decoration:none;}/*!sc*/
.ivbpoP:hover{-webkit-transition-duration:80ms;transition-duration:80ms;}/*!sc*/
.ivbpoP:active{-webkit-transition:none;transition:none;}/*!sc*/
.ivbpoP[data-inactive]{cursor:auto;}/*!sc*/
.ivbpoP:disabled{cursor:not-allowed;box-shadow:none;color:var(--fgColor-disabled,var(--color-primer-fg-disabled,#8c959f));}/*!sc*/
.ivbpoP:disabled [data-component=ButtonCounter],.ivbpoP:disabled [data-component="leadingVisual"],.ivbpoP:disabled [data-component="trailingAction"]{color:inherit;}/*!sc*/
@media (forced-colors:active){.ivbpoP:focus{outline:solid 1px transparent;}}/*!sc*/
.ivbpoP [data-component=ButtonCounter]{font-size:12px;}/*!sc*/
.ivbpoP[data-component=IconButton]{display:inline-grid;padding:unset;place-content:center;width:32px;min-width:unset;}/*!sc*/
.ivbpoP[data-size="small"]{padding:0 8px;height:28px;gap:4px;font-size:12px;}/*!sc*/
.ivbpoP[data-size="small"] [data-component="text"]{line-height:calc(20 / 12);}/*!sc*/
.ivbpoP[data-size="small"] [data-component=ButtonCounter]{font-size:12px;}/*!sc*/
.ivbpoP[data-size="small"] [data-component="buttonContent"] > :not(:last-child){margin-right:4px;}/*!sc*/
.ivbpoP[data-size="small"][data-component=IconButton]{width:28px;padding:unset;}/*!sc*/
.ivbpoP[data-size="large"]{padding:0 16px;height:40px;gap:8px;}/*!sc*/
.ivbpoP[data-size="large"] [data-component="buttonContent"] > :not(:last-child){margin-right:8px;}/*!sc*/
.ivbpoP[data-size="large"][data-component=IconButton]{width:40px;padding:unset;}/*!sc*/
.ivbpoP[data-block="block"]{width:100%;}/*!sc*/
.ivbpoP[data-inactive]:not([disabled]){background-color:var(--button-inactive-bgColor,var(--button-inactive-bgColor-rest,var(--color-btn-inactive-bg,#eaeef2)));border-color:var(--button-inactive-bgColor,var(--button-inactive-bgColor-rest,var(--color-btn-inactive-bg,#eaeef2)));color:var(--button-inactive-fgColor,var(--button-inactive-fgColor-rest,var(--color-btn-inactive-text,#57606a)));}/*!sc*/
.ivbpoP[data-inactive]:not([disabled]):focus-visible{box-shadow:none;}/*!sc*/
.ivbpoP [data-component="leadingVisual"]{grid-area:leadingVisual;color:var(--fgColor-muted,var(--color-fg-muted,#656d76));}/*!sc*/
.ivbpoP [data-component="text"]{grid-area:text;line-height:calc(20/14);white-space:nowrap;}/*!sc*/
.ivbpoP [data-component="trailingVisual"]{grid-area:trailingVisual;}/*!sc*/
.ivbpoP [data-component="trailingAction"]{margin-right:-4px;color:var(--fgColor-muted,var(--color-fg-muted,#656d76));}/*!sc*/
.ivbpoP [data-component="buttonContent"]{-webkit-flex:1 0 auto;-ms-flex:1 0 auto;flex:1 0 auto;display:grid;grid-template-areas:"leadingVisual text trailingVisual";grid-template-columns:min-content minmax(0,auto) min-content;-webkit-align-items:center;-webkit-box-align:center;-ms-flex-align:center;align-items:center;-webkit-align-content:center;-ms-flex-line-pack:center;align-content:center;}/*!sc*/
.ivbpoP [data-component="buttonContent"] > :not(:last-child){margin-right:8px;}/*!sc*/
.ivbpoP:hover:not([disabled]){background-color:var(--control-transparent-bgColor-hover,var(--color-action-list-item-default-hover-bg,rgba(208,215,222,0.32)));}/*!sc*/
.ivbpoP:active:not([disabled]){background-color:var(--control-transparent-bgColor-active,var(--color-action-list-item-default-active-bg,rgba(208,215,222,0.48)));}/*!sc*/
.ivbpoP[aria-expanded=true]{background-color:var(--control-transparent-bgColor-selected,var(--color-action-list-item-default-selected-bg,rgba(208,215,222,0.24)));}/*!sc*/
.ivbpoP[data-component="IconButton"][data-no-visuals]{color:var(--fgColor-muted,var(--color-fg-muted,#656d76));}/*!sc*/
.ivbpoP[data-no-visuals]{color:var(--fgColor-accent,var(--color-accent-fg,#0969da));}/*!sc*/
.ivbpoP:has([data-component="ButtonCounter"]){color:var(--button-default-fgColor-rest,var(--color-btn-text,#24292f));}/*!sc*/
.ivbpoP:disabled[data-no-visuals]{color:var(--fgColor-disabled,var(--color-primer-fg-disabled,#8c959f));}/*!sc*/
.ivbpoP:disabled[data-no-visuals] [data-component=ButtonCounter]{color:inherit;}/*!sc*/
.ivbpoP[data-size="small"][data-no-visuals]{margin-left:8px;}/*!sc*/
.hviaoI{border-radius:6px;border:1px solid;border-color:var(--button-default-borderColor-rest,var(--button-default-borderColor-rest,var(--color-btn-border,rgba(31,35,40,0.15))));font-family:inherit;font-weight:500;font-size:14px;cursor:pointer;-webkit-appearance:none;-moz-appearance:none;appearance:none;-webkit-user-select:none;-moz-user-select:none;-ms-user-select:none;user-select:none;-webkit-text-decoration:none;text-decoration:none;text-align:center;display:-webkit-box;display:-webkit-flex;display:-ms-flexbox;display:flex;-webkit-align-items:center;-webkit-box-align:center;-ms-flex-align:center;align-items:center;-webkit-box-pack:justify;-webkit-justify-content:space-between;-ms-flex-pack:justify;justify-content:space-between;height:32px;padding:0 12px;gap:8px;min-width:-webkit-max-content;min-width:-moz-max-content;min-width:max-content;-webkit-transition:80ms cubic-bezier(0.65,0,0.35,1);transition:80ms cubic-bezier(0.65,0,0.35,1);-webkit-transition-property:color,fill,background-color,border-color;transition-property:color,fill,background-color,border-color;color:var(--button-default-fgColor-rest,var(--color-btn-text,#24292f));background-color:var(--button-default-bgColor-rest,var(--color-btn-bg,#f6f8fa));box-shadow:var(--button-default-shadow-resting,var(--color-btn-shadow,0 1px 0 rgba(31,35,40,0.04))),var(--button-default-shadow-inset,var(--color-btn-inset-shadow,inset 0 1px 0 rgba(255,255,255,0.25)));}/*!sc*/
.hviaoI:focus:not(:disabled){box-shadow:none;outline:2px solid var(--fgColor-accent,var(--color-accent-fg,#0969da));outline-offset:-2px;}/*!sc*/
.hviaoI:focus:not(:disabled):not(:focus-visible){outline:solid 1px transparent;}/*!sc*/
.hviaoI:focus-visible:not(:disabled){box-shadow:none;outline:2px solid var(--fgColor-accent,var(--color-accent-fg,#0969da));outline-offset:-2px;}/*!sc*/
.hviaoI[href]{display:-webkit-inline-box;display:-webkit-inline-flex;display:-ms-inline-flexbox;display:inline-flex;}/*!sc*/
.hviaoI[href]:hover{-webkit-text-decoration:none;text-decoration:none;}/*!sc*/
.hviaoI:hover{-webkit-transition-duration:80ms;transition-duration:80ms;}/*!sc*/
.hviaoI:active{-webkit-transition:none;transition:none;}/*!sc*/
.hviaoI[data-inactive]{cursor:auto;}/*!sc*/
.hviaoI:disabled{cursor:not-allowed;box-shadow:none;color:var(--fgColor-disabled,var(--color-primer-fg-disabled,#8c959f));border-color:var(--button-default-borderColor-disabled,var(--button-default-borderColor-rest,var(--color-btn-border,rgba(31,35,40,0.15))));background-color:var(--button-default-bgColor-disabled,var(--control-bgColor-disabled,var(--color-input-disabled-bg,rgba(175,184,193,0.2))));}/*!sc*/
.hviaoI:disabled [data-component=ButtonCounter]{color:inherit;}/*!sc*/
@media (forced-colors:active){.hviaoI:focus{outline:solid 1px transparent;}}/*!sc*/
.hviaoI [data-component=ButtonCounter]{font-size:12px;background-color:var(--buttonCounter-default-bgColor-rest,var(--color-btn-counter-bg,rgba(31,35,40,0.08)));}/*!sc*/
.hviaoI[data-component=IconButton]{display:inline-grid;padding:unset;place-content:center;width:32px;min-width:unset;}/*!sc*/
.hviaoI[data-size="small"]{padding:0 8px;height:28px;gap:4px;font-size:12px;}/*!sc*/
.hviaoI[data-size="small"] [data-component="text"]{line-height:calc(20 / 12);}/*!sc*/
.hviaoI[data-size="small"] [data-component=ButtonCounter]{font-size:12px;}/*!sc*/
.hviaoI[data-size="small"] [data-component="buttonContent"] > :not(:last-child){margin-right:4px;}/*!sc*/
.hviaoI[data-size="small"][data-component=IconButton]{width:28px;padding:unset;}/*!sc*/
.hviaoI[data-size="large"]{padding:0 16px;height:40px;gap:8px;}/*!sc*/
.hviaoI[data-size="large"] [data-component="buttonContent"] > :not(:last-child){margin-right:8px;}/*!sc*/
.hviaoI[data-size="large"][data-component=IconButton]{width:40px;padding:unset;}/*!sc*/
.hviaoI[data-block="block"]{width:100%;}/*!sc*/
.hviaoI[data-inactive]:not([disabled]){background-color:var(--button-inactive-bgColor,var(--button-inactive-bgColor-rest,var(--color-btn-inactive-bg,#eaeef2)));border-color:var(--button-inactive-bgColor,var(--button-inactive-bgColor-rest,var(--color-btn-inactive-bg,#eaeef2)));color:var(--button-inactive-fgColor,var(--button-inactive-fgColor-rest,var(--color-btn-inactive-text,#57606a)));}/*!sc*/
.hviaoI[data-inactive]:not([disabled]):focus-visible{box-shadow:none;}/*!sc*/
.hviaoI [data-component="leadingVisual"]{grid-area:leadingVisual;}/*!sc*/
.hviaoI [data-component="text"]{grid-area:text;line-height:calc(20/14);white-space:nowrap;}/*!sc*/
.hviaoI [data-component="trailingVisual"]{grid-area:trailingVisual;}/*!sc*/
.hviaoI [data-component="trailingAction"]{margin-right:-4px;}/*!sc*/
.hviaoI [data-component="buttonContent"]{-webkit-flex:1 0 auto;-ms-flex:1 0 auto;flex:1 0 auto;display:grid;grid-template-areas:"leadingVisual text trailingVisual";grid-template-columns:min-content minmax(0,auto) min-content;-webkit-align-items:center;-webkit-box-align:center;-ms-flex-align:center;align-items:center;-webkit-align-content:center;-ms-flex-line-pack:center;align-content:center;}/*!sc*/
.hviaoI [data-component="buttonContent"] > :not(:last-child){margin-right:8px;}/*!sc*/
.hviaoI:hover:not([disabled]):not([data-inactive]){background-color:var(--button-default-bgColor-hover,var(--color-btn-hover-bg,#f3f4f6));border-color:var(--button-default-borderColor-hover,var(--button-default-borderColor-hover,var(--color-btn-hover-border,rgba(31,35,40,0.15))));}/*!sc*/
.hviaoI:active:not([disabled]):not([data-inactive]){background-color:var(--button-default-bgColor-active,var(--color-btn-active-bg,hsla(220,14%,93%,1)));border-color:var(--button-default-borderColor-active,var(--button-default-borderColor-active,var(--color-btn-active-border,rgba(31,35,40,0.15))));}/*!sc*/
.hviaoI[aria-expanded=true]{background-color:var(--button-default-bgColor-active,var(--color-btn-active-bg,hsla(220,14%,93%,1)));border-color:var(--button-default-borderColor-active,var(--button-default-borderColor-active,var(--color-btn-active-border,rgba(31,35,40,0.15))));}/*!sc*/
.hviaoI [data-component="leadingVisual"],.hviaoI [data-component="trailingVisual"],.hviaoI [data-component="trailingAction"]{color:var(--button-color,var(--fgColor-muted,var(--color-fg-muted,#656d76)));}/*!sc*/
.hviaoI[data-component="IconButton"][data-no-visuals]{color:var(--fgColor-muted,var(--color-fg-muted,#656d76));}/*!sc*/
.hviaoI[data-no-visuals]{border-top-left-radius:0;border-bottom-left-radius:0;display:none;}/*!sc*/
.jXTShb{border-radius:6px;border:1px solid;border-color:var(--button-default-borderColor-rest,var(--button-default-borderColor-rest,var(--color-btn-border,rgba(31,35,40,0.15))));font-family:inherit;font-weight:500;font-size:14px;cursor:pointer;-webkit-appearance:none;-moz-appearance:none;appearance:none;-webkit-user-select:none;-moz-user-select:none;-ms-user-select:none;user-select:none;-webkit-text-decoration:none;text-decoration:none;text-align:center;display:-webkit-box;display:-webkit-flex;display:-ms-flexbox;display:flex;-webkit-align-items:center;-webkit-box-align:center;-ms-flex-align:center;align-items:center;-webkit-box-pack:justify;-webkit-justify-content:space-between;-ms-flex-pack:justify;justify-content:space-between;height:32px;padding:0 12px;gap:8px;min-width:-webkit-max-content;min-width:-moz-max-content;min-width:max-content;-webkit-transition:80ms cubic-bezier(0.65,0,0.35,1);transition:80ms cubic-bezier(0.65,0,0.35,1);-webkit-transition-property:color,fill,background-color,border-color;transition-property:color,fill,background-color,border-color;color:var(--button-default-fgColor-rest,var(--color-btn-text,#24292f));background-color:var(--button-default-bgColor-rest,var(--color-btn-bg,#f6f8fa));box-shadow:var(--button-default-shadow-resting,var(--color-btn-shadow,0 1px 0 rgba(31,35,40,0.04))),var(--button-default-shadow-inset,var(--color-btn-inset-shadow,inset 0 1px 0 rgba(255,255,255,0.25)));}/*!sc*/
.jXTShb:focus:not(:disabled){box-shadow:none;outline:2px solid var(--fgColor-accent,var(--color-accent-fg,#0969da));outline-offset:-2px;}/*!sc*/
.jXTShb:focus:not(:disabled):not(:focus-visible){outline:solid 1px transparent;}/*!sc*/
.jXTShb:focus-visible:not(:disabled){box-shadow:none;outline:2px solid var(--fgColor-accent,var(--color-accent-fg,#0969da));outline-offset:-2px;}/*!sc*/
.jXTShb[href]{display:-webkit-inline-box;display:-webkit-inline-flex;display:-ms-inline-flexbox;display:inline-flex;}/*!sc*/
.jXTShb[href]:hover{-webkit-text-decoration:none;text-decoration:none;}/*!sc*/
.jXTShb:hover{-webkit-transition-duration:80ms;transition-duration:80ms;}/*!sc*/
.jXTShb:active{-webkit-transition:none;transition:none;}/*!sc*/
.jXTShb[data-inactive]{cursor:auto;}/*!sc*/
.jXTShb:disabled{cursor:not-allowed;box-shadow:none;color:var(--fgColor-disabled,var(--color-primer-fg-disabled,#8c959f));border-color:var(--button-default-borderColor-disabled,var(--button-default-borderColor-rest,var(--color-btn-border,rgba(31,35,40,0.15))));background-color:var(--button-default-bgColor-disabled,var(--control-bgColor-disabled,var(--color-input-disabled-bg,rgba(175,184,193,0.2))));}/*!sc*/
.jXTShb:disabled [data-component=ButtonCounter]{color:inherit;}/*!sc*/
@media (forced-colors:active){.jXTShb:focus{outline:solid 1px transparent;}}/*!sc*/
.jXTShb [data-component=ButtonCounter]{font-size:12px;background-color:var(--buttonCounter-default-bgColor-rest,var(--color-btn-counter-bg,rgba(31,35,40,0.08)));}/*!sc*/
.jXTShb[data-component=IconButton]{display:inline-grid;padding:unset;place-content:center;width:32px;min-width:unset;}/*!sc*/
.jXTShb[data-size="small"]{padding:0 8px;height:28px;gap:4px;font-size:12px;}/*!sc*/
.jXTShb[data-size="small"] [data-component="text"]{line-height:calc(20 / 12);}/*!sc*/
.jXTShb[data-size="small"] [data-component=ButtonCounter]{font-size:12px;}/*!sc*/
.jXTShb[data-size="small"] [data-component="buttonContent"] > :not(:last-child){margin-right:4px;}/*!sc*/
.jXTShb[data-size="small"][data-component=IconButton]{width:28px;padding:unset;}/*!sc*/
.jXTShb[data-size="large"]{padding:0 16px;height:40px;gap:8px;}/*!sc*/
.jXTShb[data-size="large"] [data-component="buttonContent"] > :not(:last-child){margin-right:8px;}/*!sc*/
.jXTShb[data-size="large"][data-component=IconButton]{width:40px;padding:unset;}/*!sc*/
.jXTShb[data-block="block"]{width:100%;}/*!sc*/
.jXTShb[data-inactive]:not([disabled]){background-color:var(--button-inactive-bgColor,var(--button-inactive-bgColor-rest,var(--color-btn-inactive-bg,#eaeef2)));border-color:var(--button-inactive-bgColor,var(--button-inactive-bgColor-rest,var(--color-btn-inactive-bg,#eaeef2)));color:var(--button-inactive-fgColor,var(--button-inactive-fgColor-rest,var(--color-btn-inactive-text,#57606a)));}/*!sc*/
.jXTShb[data-inactive]:not([disabled]):focus-visible{box-shadow:none;}/*!sc*/
.jXTShb [data-component="leadingVisual"]{grid-area:leadingVisual;}/*!sc*/
.jXTShb [data-component="text"]{grid-area:text;line-height:calc(20/14);white-space:nowrap;}/*!sc*/
.jXTShb [data-component="trailingVisual"]{grid-area:trailingVisual;}/*!sc*/
.jXTShb [data-component="trailingAction"]{margin-right:-4px;}/*!sc*/
.jXTShb [data-component="buttonContent"]{-webkit-flex:1 0 auto;-ms-flex:1 0 auto;flex:1 0 auto;display:grid;grid-template-areas:"leadingVisual text trailingVisual";grid-template-columns:min-content minmax(0,auto) min-content;-webkit-align-items:center;-webkit-box-align:center;-ms-flex-align:center;align-items:center;-webkit-align-content:center;-ms-flex-line-pack:center;align-content:center;}/*!sc*/
.jXTShb [data-component="buttonContent"] > :not(:last-child){margin-right:8px;}/*!sc*/
.jXTShb:hover:not([disabled]):not([data-inactive]){background-color:var(--button-default-bgColor-hover,var(--color-btn-hover-bg,#f3f4f6));border-color:var(--button-default-borderColor-hover,var(--button-default-borderColor-hover,var(--color-btn-hover-border,rgba(31,35,40,0.15))));}/*!sc*/
.jXTShb:active:not([disabled]):not([data-inactive]){background-color:var(--button-default-bgColor-active,var(--color-btn-active-bg,hsla(220,14%,93%,1)));border-color:var(--button-default-borderColor-active,var(--button-default-borderColor-active,var(--color-btn-active-border,rgba(31,35,40,0.15))));}/*!sc*/
.jXTShb[aria-expanded=true]{background-color:var(--button-default-bgColor-active,var(--color-btn-active-bg,hsla(220,14%,93%,1)));border-color:var(--button-default-borderColor-active,var(--button-default-borderColor-active,var(--color-btn-active-border,rgba(31,35,40,0.15))));}/*!sc*/
.jXTShb [data-component="leadingVisual"],.jXTShb [data-component="trailingVisual"],.jXTShb [data-component="trailingAction"]{color:var(--button-color,var(--fgColor-muted,var(--color-fg-muted,#656d76)));}/*!sc*/
.jXTShb[data-component="IconButton"][data-no-visuals]{color:var(--fgColor-muted,var(--color-fg-muted,#656d76));}/*!sc*/
.jXTShb[data-no-visuals]{color:var(--fgColor-muted,var(--color-fg-muted,#656d76));}/*!sc*/
.fAkXQN{border-radius:6px;border:1px solid;border-color:transparent;font-family:inherit;font-weight:500;font-size:14px;cursor:pointer;-webkit-appearance:none;-moz-appearance:none;appearance:none;-webkit-user-select:none;-moz-user-select:none;-ms-user-select:none;user-select:none;-webkit-text-decoration:none;text-decoration:none;text-align:center;display:-webkit-box;display:-webkit-flex;display:-ms-flexbox;display:flex;-webkit-align-items:center;-webkit-box-align:center;-ms-flex-align:center;align-items:center;-webkit-box-pack:justify;-webkit-justify-content:space-between;-ms-flex-pack:justify;justify-content:space-between;height:32px;padding:0 12px;gap:8px;min-width:-webkit-max-content;min-width:-moz-max-content;min-width:max-content;-webkit-transition:80ms cubic-bezier(0.65,0,0.35,1);transition:80ms cubic-bezier(0.65,0,0.35,1);-webkit-transition-property:color,fill,background-color,border-color;transition-property:color,fill,background-color,border-color;color:var(--fgColor-default,var(--color-fg-default,#1F2328));background-color:transparent;box-shadow:none;}/*!sc*/
.fAkXQN:focus:not(:disabled){box-shadow:none;outline:2px solid var(--fgColor-accent,var(--color-accent-fg,#0969da));outline-offset:-2px;}/*!sc*/
.fAkXQN:focus:not(:disabled):not(:focus-visible){outline:solid 1px transparent;}/*!sc*/
.fAkXQN:focus-visible:not(:disabled){box-shadow:none;outline:2px solid var(--fgColor-accent,var(--color-accent-fg,#0969da));outline-offset:-2px;}/*!sc*/
.fAkXQN[href]{display:-webkit-inline-box;display:-webkit-inline-flex;display:-ms-inline-flexbox;display:inline-flex;}/*!sc*/
.fAkXQN[href]:hover{-webkit-text-decoration:none;text-decoration:none;}/*!sc*/
.fAkXQN:hover{-webkit-transition-duration:80ms;transition-duration:80ms;}/*!sc*/
.fAkXQN:active{-webkit-transition:none;transition:none;}/*!sc*/
.fAkXQN[data-inactive]{cursor:auto;}/*!sc*/
.fAkXQN:disabled{cursor:not-allowed;box-shadow:none;color:var(--fgColor-disabled,var(--color-primer-fg-disabled,#8c959f));}/*!sc*/
.fAkXQN:disabled [data-component=ButtonCounter],.fAkXQN:disabled [data-component="leadingVisual"],.fAkXQN:disabled [data-component="trailingAction"]{color:inherit;}/*!sc*/
@media (forced-colors:active){.fAkXQN:focus{outline:solid 1px transparent;}}/*!sc*/
.fAkXQN [data-component=ButtonCounter]{font-size:12px;}/*!sc*/
.fAkXQN[data-component=IconButton]{display:inline-grid;padding:unset;place-content:center;width:32px;min-width:unset;}/*!sc*/
.fAkXQN[data-size="small"]{padding:0 8px;height:28px;gap:4px;font-size:12px;}/*!sc*/
.fAkXQN[data-size="small"] [data-component="text"]{line-height:calc(20 / 12);}/*!sc*/
.fAkXQN[data-size="small"] [data-component=ButtonCounter]{font-size:12px;}/*!sc*/
.fAkXQN[data-size="small"] [data-component="buttonContent"] > :not(:last-child){margin-right:4px;}/*!sc*/
.fAkXQN[data-size="small"][data-component=IconButton]{width:28px;padding:unset;}/*!sc*/
.fAkXQN[data-size="large"]{padding:0 16px;height:40px;gap:8px;}/*!sc*/
.fAkXQN[data-size="large"] [data-component="buttonContent"] > :not(:last-child){margin-right:8px;}/*!sc*/
.fAkXQN[data-size="large"][data-component=IconButton]{width:40px;padding:unset;}/*!sc*/
.fAkXQN[data-block="block"]{width:100%;}/*!sc*/
.fAkXQN[data-inactive]:not([disabled]){background-color:var(--button-inactive-bgColor,var(--button-inactive-bgColor-rest,var(--color-btn-inactive-bg,#eaeef2)));border-color:var(--button-inactive-bgColor,var(--button-inactive-bgColor-rest,var(--color-btn-inactive-bg,#eaeef2)));color:var(--button-inactive-fgColor,var(--button-inactive-fgColor-rest,var(--color-btn-inactive-text,#57606a)));}/*!sc*/
.fAkXQN[data-inactive]:not([disabled]):focus-visible{box-shadow:none;}/*!sc*/
.fAkXQN [data-component="leadingVisual"]{grid-area:leadingVisual;color:var(--fgColor-muted,var(--color-fg-muted,#656d76));}/*!sc*/
.fAkXQN [data-component="text"]{grid-area:text;line-height:calc(20/14);white-space:nowrap;}/*!sc*/
.fAkXQN [data-component="trailingVisual"]{grid-area:trailingVisual;}/*!sc*/
.fAkXQN [data-component="trailingAction"]{margin-right:-4px;color:var(--fgColor-muted,var(--color-fg-muted,#656d76));}/*!sc*/
.fAkXQN [data-component="buttonContent"]{-webkit-flex:1 0 auto;-ms-flex:1 0 auto;flex:1 0 auto;display:grid;grid-template-areas:"leadingVisual text trailingVisual";grid-template-columns:min-content minmax(0,auto) min-content;-webkit-align-items:center;-webkit-box-align:center;-ms-flex-align:center;align-items:center;-webkit-align-content:center;-ms-flex-line-pack:center;align-content:center;}/*!sc*/
.fAkXQN [data-component="buttonContent"] > :not(:last-child){margin-right:8px;}/*!sc*/
.fAkXQN:hover:not([disabled]){background-color:var(--control-transparent-bgColor-hover,var(--color-action-list-item-default-hover-bg,rgba(208,215,222,0.32)));-webkit-text-decoration:none;text-decoration:none;}/*!sc*/
.fAkXQN:active:not([disabled]){background-color:var(--control-transparent-bgColor-active,var(--color-action-list-item-default-active-bg,rgba(208,215,222,0.48)));-webkit-text-decoration:none;text-decoration:none;}/*!sc*/
.fAkXQN[aria-expanded=true]{background-color:var(--control-transparent-bgColor-selected,var(--color-action-list-item-default-selected-bg,rgba(208,215,222,0.24)));}/*!sc*/
.fAkXQN[data-component="IconButton"][data-no-visuals]{color:var(--fgColor-muted,var(--color-fg-muted,#656d76));}/*!sc*/
.fAkXQN[data-no-visuals]{color:var(--fgColor-accent,var(--color-accent-fg,#0969da));}/*!sc*/
.fAkXQN:has([data-component="ButtonCounter"]){color:var(--button-default-fgColor-rest,var(--color-btn-text,#24292f));}/*!sc*/
.fAkXQN:disabled[data-no-visuals]{color:var(--fgColor-disabled,var(--color-primer-fg-disabled,#8c959f));}/*!sc*/
.fAkXQN:disabled[data-no-visuals] [data-component=ButtonCounter]{color:inherit;}/*!sc*/
.fAkXQN:focus:not([disabled]){-webkit-text-decoration:none;text-decoration:none;}/*!sc*/
.gfKkfV{border-radius:6px;border:1px solid;border-color:transparent;font-family:inherit;font-weight:500;font-size:14px;cursor:pointer;-webkit-appearance:none;-moz-appearance:none;appearance:none;-webkit-user-select:none;-moz-user-select:none;-ms-user-select:none;user-select:none;-webkit-text-decoration:none;text-decoration:none;text-align:center;display:-webkit-box;display:-webkit-flex;display:-ms-flexbox;display:flex;-webkit-align-items:center;-webkit-box-align:center;-ms-flex-align:center;align-items:center;-webkit-box-pack:justify;-webkit-justify-content:space-between;-ms-flex-pack:justify;justify-content:space-between;height:32px;padding:0 12px;gap:8px;min-width:-webkit-max-content;min-width:-moz-max-content;min-width:max-content;-webkit-transition:80ms cubic-bezier(0.65,0,0.35,1);transition:80ms cubic-bezier(0.65,0,0.35,1);-webkit-transition-property:color,fill,background-color,border-color;transition-property:color,fill,background-color,border-color;color:var(--button-default-fgColor-rest,var(--color-btn-text,#24292f));background-color:transparent;box-shadow:none;}/*!sc*/
.gfKkfV:focus:not(:disabled){box-shadow:none;outline:2px solid var(--fgColor-accent,var(--color-accent-fg,#0969da));outline-offset:-2px;}/*!sc*/
.gfKkfV:focus:not(:disabled):not(:focus-visible){outline:solid 1px transparent;}/*!sc*/
.gfKkfV:focus-visible:not(:disabled){box-shadow:none;outline:2px solid var(--fgColor-accent,var(--color-accent-fg,#0969da));outline-offset:-2px;}/*!sc*/
.gfKkfV[href]{display:-webkit-inline-box;display:-webkit-inline-flex;display:-ms-inline-flexbox;display:inline-flex;}/*!sc*/
.gfKkfV[href]:hover{-webkit-text-decoration:none;text-decoration:none;}/*!sc*/
.gfKkfV:hover{-webkit-transition-duration:80ms;transition-duration:80ms;}/*!sc*/
.gfKkfV:active{-webkit-transition:none;transition:none;}/*!sc*/
.gfKkfV[data-inactive]{cursor:auto;}/*!sc*/
.gfKkfV:disabled{cursor:not-allowed;box-shadow:none;color:var(--fgColor-disabled,var(--color-primer-fg-disabled,#8c959f));}/*!sc*/
.gfKkfV:disabled [data-component=ButtonCounter],.gfKkfV:disabled [data-component="leadingVisual"],.gfKkfV:disabled [data-component="trailingAction"]{color:inherit;}/*!sc*/
@media (forced-colors:active){.gfKkfV:focus{outline:solid 1px transparent;}}/*!sc*/
.gfKkfV [data-component=ButtonCounter]{font-size:12px;}/*!sc*/
.gfKkfV[data-component=IconButton]{display:inline-grid;padding:unset;place-content:center;width:32px;min-width:unset;}/*!sc*/
.gfKkfV[data-size="small"]{padding:0 8px;height:28px;gap:4px;font-size:12px;color:var(--fgColor-default,var(--color-fg-default,#1F2328));margin-left:8px;}/*!sc*/
.gfKkfV[data-size="small"] [data-component="text"]{line-height:calc(20 / 12);}/*!sc*/
.gfKkfV[data-size="small"] [data-component=ButtonCounter]{font-size:12px;}/*!sc*/
.gfKkfV[data-size="small"] [data-component="buttonContent"] > :not(:last-child){margin-right:4px;}/*!sc*/
.gfKkfV[data-size="small"][data-component=IconButton]{width:28px;padding:unset;}/*!sc*/
.gfKkfV[data-size="large"]{padding:0 16px;height:40px;gap:8px;}/*!sc*/
.gfKkfV[data-size="large"] [data-component="buttonContent"] > :not(:last-child){margin-right:8px;}/*!sc*/
.gfKkfV[data-size="large"][data-component=IconButton]{width:40px;padding:unset;}/*!sc*/
.gfKkfV[data-block="block"]{width:100%;}/*!sc*/
.gfKkfV[data-inactive]:not([disabled]){background-color:var(--button-inactive-bgColor,var(--button-inactive-bgColor-rest,var(--color-btn-inactive-bg,#eaeef2)));border-color:var(--button-inactive-bgColor,var(--button-inactive-bgColor-rest,var(--color-btn-inactive-bg,#eaeef2)));color:var(--button-inactive-fgColor,var(--button-inactive-fgColor-rest,var(--color-btn-inactive-text,#57606a)));}/*!sc*/
.gfKkfV[data-inactive]:not([disabled]):focus-visible{box-shadow:none;}/*!sc*/
.gfKkfV [data-component="leadingVisual"]{grid-area:leadingVisual;color:var(--fgColor-muted,var(--color-fg-muted,#656d76));}/*!sc*/
.gfKkfV [data-component="text"]{grid-area:text;line-height:calc(20/14);white-space:nowrap;}/*!sc*/
.gfKkfV [data-component="trailingVisual"]{grid-area:trailingVisual;}/*!sc*/
.gfKkfV [data-component="trailingAction"]{margin-right:-4px;color:var(--fgColor-muted,var(--color-fg-muted,#656d76));}/*!sc*/
.gfKkfV [data-component="buttonContent"]{-webkit-flex:1 0 auto;-ms-flex:1 0 auto;flex:1 0 auto;display:grid;grid-template-areas:"leadingVisual text trailingVisual";grid-template-columns:min-content minmax(0,auto) min-content;-webkit-align-items:center;-webkit-box-align:center;-ms-flex-align:center;align-items:center;-webkit-align-content:center;-ms-flex-line-pack:center;align-content:center;}/*!sc*/
.gfKkfV [data-component="buttonContent"] > :not(:last-child){margin-right:8px;}/*!sc*/
.gfKkfV:hover:not([disabled]){background-color:var(--control-transparent-bgColor-hover,var(--color-action-list-item-default-hover-bg,rgba(208,215,222,0.32)));}/*!sc*/
.gfKkfV:active:not([disabled]){background-color:var(--control-transparent-bgColor-active,var(--color-action-list-item-default-active-bg,rgba(208,215,222,0.48)));}/*!sc*/
.gfKkfV[aria-expanded=true]{background-color:var(--control-transparent-bgColor-selected,var(--color-action-list-item-default-selected-bg,rgba(208,215,222,0.24)));}/*!sc*/
.gfKkfV[data-component="IconButton"][data-no-visuals]{color:var(--fgColor-muted,var(--color-fg-muted,#656d76));}/*!sc*/
.gfKkfV[data-no-visuals]{color:var(--fgColor-accent,var(--color-accent-fg,#0969da));}/*!sc*/
.gfKkfV:has([data-component="ButtonCounter"]){color:var(--button-default-fgColor-rest,var(--color-btn-text,#24292f));}/*!sc*/
.gfKkfV:disabled[data-no-visuals]{color:var(--fgColor-disabled,var(--color-primer-fg-disabled,#8c959f));}/*!sc*/
.gfKkfV:disabled[data-no-visuals] [data-component=ButtonCounter]{color:inherit;}/*!sc*/
.dTgfec{border-radius:6px;border:1px solid;border-color:var(--button-default-borderColor-rest,var(--button-default-borderColor-rest,var(--color-btn-border,rgba(31,35,40,0.15))));font-family:inherit;font-weight:500;font-size:14px;cursor:pointer;-webkit-appearance:none;-moz-appearance:none;appearance:none;-webkit-user-select:none;-moz-user-select:none;-ms-user-select:none;user-select:none;-webkit-text-decoration:none;text-decoration:none;text-align:center;display:-webkit-box;display:-webkit-flex;display:-ms-flexbox;display:flex;-webkit-align-items:center;-webkit-box-align:center;-ms-flex-align:center;align-items:center;-webkit-box-pack:justify;-webkit-justify-content:space-between;-ms-flex-pack:justify;justify-content:space-between;height:32px;padding:0 12px;gap:8px;min-width:-webkit-max-content;min-width:-moz-max-content;min-width:max-content;-webkit-transition:80ms cubic-bezier(0.65,0,0.35,1);transition:80ms cubic-bezier(0.65,0,0.35,1);-webkit-transition-property:color,fill,background-color,border-color;transition-property:color,fill,background-color,border-color;color:var(--button-default-fgColor-rest,var(--color-btn-text,#24292f));background-color:var(--button-default-bgColor-rest,var(--color-btn-bg,#f6f8fa));box-shadow:var(--button-default-shadow-resting,var(--color-btn-shadow,0 1px 0 rgba(31,35,40,0.04))),var(--button-default-shadow-inset,var(--color-btn-inset-shadow,inset 0 1px 0 rgba(255,255,255,0.25)));padding-left:8px;padding-right:8px;}/*!sc*/
.dTgfec:focus:not(:disabled){box-shadow:none;outline:2px solid var(--fgColor-accent,var(--color-accent-fg,#0969da));outline-offset:-2px;}/*!sc*/
.dTgfec:focus:not(:disabled):not(:focus-visible){outline:solid 1px transparent;}/*!sc*/
.dTgfec:focus-visible:not(:disabled){box-shadow:none;outline:2px solid var(--fgColor-accent,var(--color-accent-fg,#0969da));outline-offset:-2px;}/*!sc*/
.dTgfec[href]{display:-webkit-inline-box;display:-webkit-inline-flex;display:-ms-inline-flexbox;display:inline-flex;}/*!sc*/
.dTgfec[href]:hover{-webkit-text-decoration:none;text-decoration:none;}/*!sc*/
.dTgfec:hover{-webkit-transition-duration:80ms;transition-duration:80ms;}/*!sc*/
.dTgfec:active{-webkit-transition:none;transition:none;}/*!sc*/
.dTgfec[data-inactive]{cursor:auto;}/*!sc*/
.dTgfec:disabled{cursor:not-allowed;box-shadow:none;color:var(--fgColor-disabled,var(--color-primer-fg-disabled,#8c959f));border-color:var(--button-default-borderColor-disabled,var(--button-default-borderColor-rest,var(--color-btn-border,rgba(31,35,40,0.15))));background-color:var(--button-default-bgColor-disabled,var(--control-bgColor-disabled,var(--color-input-disabled-bg,rgba(175,184,193,0.2))));}/*!sc*/
.dTgfec:disabled [data-component=ButtonCounter]{color:inherit;}/*!sc*/
@media (forced-colors:active){.dTgfec:focus{outline:solid 1px transparent;}}/*!sc*/
.dTgfec [data-component=ButtonCounter]{font-size:12px;background-color:var(--buttonCounter-default-bgColor-rest,var(--color-btn-counter-bg,rgba(31,35,40,0.08)));}/*!sc*/
.dTgfec[data-component=IconButton]{display:inline-grid;padding:unset;place-content:center;width:32px;min-width:unset;}/*!sc*/
.dTgfec[data-size="small"]{padding:0 8px;height:28px;gap:4px;font-size:12px;}/*!sc*/
.dTgfec[data-size="small"] [data-component="text"]{line-height:calc(20 / 12);}/*!sc*/
.dTgfec[data-size="small"] [data-component=ButtonCounter]{font-size:12px;}/*!sc*/
.dTgfec[data-size="small"] [data-component="buttonContent"] > :not(:last-child){margin-right:4px;}/*!sc*/
.dTgfec[data-size="small"][data-component=IconButton]{width:28px;padding:unset;}/*!sc*/
.dTgfec[data-size="large"]{padding:0 16px;height:40px;gap:8px;}/*!sc*/
.dTgfec[data-size="large"] [data-component="buttonContent"] > :not(:last-child){margin-right:8px;}/*!sc*/
.dTgfec[data-size="large"][data-component=IconButton]{width:40px;padding:unset;}/*!sc*/
.dTgfec[data-block="block"]{width:100%;}/*!sc*/
.dTgfec[data-inactive]:not([disabled]){background-color:var(--button-inactive-bgColor,var(--button-inactive-bgColor-rest,var(--color-btn-inactive-bg,#eaeef2)));border-color:var(--button-inactive-bgColor,var(--button-inactive-bgColor-rest,var(--color-btn-inactive-bg,#eaeef2)));color:var(--button-inactive-fgColor,var(--button-inactive-fgColor-rest,var(--color-btn-inactive-text,#57606a)));}/*!sc*/
.dTgfec[data-inactive]:not([disabled]):focus-visible{box-shadow:none;}/*!sc*/
.dTgfec [data-component="leadingVisual"]{grid-area:leadingVisual;}/*!sc*/
.dTgfec [data-component="text"]{grid-area:text;line-height:calc(20/14);white-space:nowrap;}/*!sc*/
.dTgfec [data-component="trailingVisual"]{grid-area:trailingVisual;}/*!sc*/
.dTgfec [data-component="trailingAction"]{margin-right:-4px;}/*!sc*/
.dTgfec [data-component="buttonContent"]{-webkit-flex:1 0 auto;-ms-flex:1 0 auto;flex:1 0 auto;display:grid;grid-template-areas:"leadingVisual text trailingVisual";grid-template-columns:min-content minmax(0,auto) min-content;-webkit-align-items:center;-webkit-box-align:center;-ms-flex-align:center;align-items:center;-webkit-align-content:center;-ms-flex-line-pack:center;align-content:center;}/*!sc*/
.dTgfec [data-component="buttonContent"] > :not(:last-child){margin-right:8px;}/*!sc*/
.dTgfec:hover:not([disabled]):not([data-inactive]){background-color:var(--button-default-bgColor-hover,var(--color-btn-hover-bg,#f3f4f6));border-color:var(--button-default-borderColor-hover,var(--button-default-borderColor-hover,var(--color-btn-hover-border,rgba(31,35,40,0.15))));}/*!sc*/
.dTgfec:active:not([disabled]):not([data-inactive]){background-color:var(--button-default-bgColor-active,var(--color-btn-active-bg,hsla(220,14%,93%,1)));border-color:var(--button-default-borderColor-active,var(--button-default-borderColor-active,var(--color-btn-active-border,rgba(31,35,40,0.15))));}/*!sc*/
.dTgfec[aria-expanded=true]{background-color:var(--button-default-bgColor-active,var(--color-btn-active-bg,hsla(220,14%,93%,1)));border-color:var(--button-default-borderColor-active,var(--button-default-borderColor-active,var(--color-btn-active-border,rgba(31,35,40,0.15))));}/*!sc*/
.dTgfec [data-component="leadingVisual"],.dTgfec [data-component="trailingVisual"],.dTgfec [data-component="trailingAction"]{color:var(--button-color,var(--fgColor-muted,var(--color-fg-muted,#656d76)));}/*!sc*/
.dTgfec[data-component="IconButton"][data-no-visuals]{color:var(--fgColor-muted,var(--color-fg-muted,#656d76));}/*!sc*/
.dTgfec linkButtonSx:hover:not([disabled]){-webkit-text-decoration:none;text-decoration:none;}/*!sc*/
.dTgfec linkButtonSx:focus:not([disabled]){-webkit-text-decoration:none;text-decoration:none;}/*!sc*/
.dTgfec linkButtonSx:active:not([disabled]){-webkit-text-decoration:none;text-decoration:none;}/*!sc*/
.pyyxt{border-radius:6px;border:1px solid;border-color:var(--button-default-borderColor-rest,var(--button-default-borderColor-rest,var(--color-btn-border,rgba(31,35,40,0.15))));font-family:inherit;font-weight:500;font-size:14px;cursor:pointer;-webkit-appearance:none;-moz-appearance:none;appearance:none;-webkit-user-select:none;-moz-user-select:none;-ms-user-select:none;user-select:none;-webkit-text-decoration:none;text-decoration:none;text-align:center;display:-webkit-box;display:-webkit-flex;display:-ms-flexbox;display:flex;-webkit-align-items:center;-webkit-box-align:center;-ms-flex-align:center;align-items:center;-webkit-box-pack:justify;-webkit-justify-content:space-between;-ms-flex-pack:justify;justify-content:space-between;height:32px;padding:0 12px;gap:8px;min-width:-webkit-max-content;min-width:-moz-max-content;min-width:max-content;-webkit-transition:80ms cubic-bezier(0.65,0,0.35,1);transition:80ms cubic-bezier(0.65,0,0.35,1);-webkit-transition-property:color,fill,background-color,border-color;transition-property:color,fill,background-color,border-color;color:var(--button-default-fgColor-rest,var(--color-btn-text,#24292f));background-color:var(--button-default-bgColor-rest,var(--color-btn-bg,#f6f8fa));box-shadow:var(--button-default-shadow-resting,var(--color-btn-shadow,0 1px 0 rgba(31,35,40,0.04))),var(--button-default-shadow-inset,var(--color-btn-inset-shadow,inset 0 1px 0 rgba(255,255,255,0.25)));}/*!sc*/
.pyyxt:focus:not(:disabled){box-shadow:none;outline:2px solid var(--fgColor-accent,var(--color-accent-fg,#0969da));outline-offset:-2px;}/*!sc*/
.pyyxt:focus:not(:disabled):not(:focus-visible){outline:solid 1px transparent;}/*!sc*/
.pyyxt:focus-visible:not(:disabled){box-shadow:none;outline:2px solid var(--fgColor-accent,var(--color-accent-fg,#0969da));outline-offset:-2px;}/*!sc*/
.pyyxt[href]{display:-webkit-inline-box;display:-webkit-inline-flex;display:-ms-inline-flexbox;display:inline-flex;}/*!sc*/
.pyyxt[href]:hover{-webkit-text-decoration:none;text-decoration:none;}/*!sc*/
.pyyxt:hover{-webkit-transition-duration:80ms;transition-duration:80ms;}/*!sc*/
.pyyxt:active{-webkit-transition:none;transition:none;}/*!sc*/
.pyyxt[data-inactive]{cursor:auto;}/*!sc*/
.pyyxt:disabled{cursor:not-allowed;box-shadow:none;color:var(--fgColor-disabled,var(--color-primer-fg-disabled,#8c959f));border-color:var(--button-default-borderColor-disabled,var(--button-default-borderColor-rest,var(--color-btn-border,rgba(31,35,40,0.15))));background-color:var(--button-default-bgColor-disabled,var(--control-bgColor-disabled,var(--color-input-disabled-bg,rgba(175,184,193,0.2))));}/*!sc*/
.pyyxt:disabled [data-component=ButtonCounter]{color:inherit;}/*!sc*/
@media (forced-colors:active){.pyyxt:focus{outline:solid 1px transparent;}}/*!sc*/
.pyyxt [data-component=ButtonCounter]{font-size:12px;background-color:var(--buttonCounter-default-bgColor-rest,var(--color-btn-counter-bg,rgba(31,35,40,0.08)));}/*!sc*/
.pyyxt[data-component=IconButton]{display:inline-grid;padding:unset;place-content:center;width:32px;min-width:unset;}/*!sc*/
.pyyxt[data-size="small"]{padding:0 8px;height:28px;gap:4px;font-size:12px;}/*!sc*/
.pyyxt[data-size="small"] [data-component="text"]{line-height:calc(20 / 12);}/*!sc*/
.pyyxt[data-size="small"] [data-component=ButtonCounter]{font-size:12px;}/*!sc*/
.pyyxt[data-size="small"] [data-component="buttonContent"] > :not(:last-child){margin-right:4px;}/*!sc*/
.pyyxt[data-size="small"][data-component=IconButton]{width:28px;padding:unset;}/*!sc*/
.pyyxt[data-size="large"]{padding:0 16px;height:40px;gap:8px;}/*!sc*/
.pyyxt[data-size="large"] [data-component="buttonContent"] > :not(:last-child){margin-right:8px;}/*!sc*/
.pyyxt[data-size="large"][data-component=IconButton]{width:40px;padding:unset;}/*!sc*/
.pyyxt[data-block="block"]{width:100%;}/*!sc*/
.pyyxt[data-inactive]:not([disabled]){background-color:var(--button-inactive-bgColor,var(--button-inactive-bgColor-rest,var(--color-btn-inactive-bg,#eaeef2)));border-color:var(--button-inactive-bgColor,var(--button-inactive-bgColor-rest,var(--color-btn-inactive-bg,#eaeef2)));color:var(--button-inactive-fgColor,var(--button-inactive-fgColor-rest,var(--color-btn-inactive-text,#57606a)));}/*!sc*/
.pyyxt[data-inactive]:not([disabled]):focus-visible{box-shadow:none;}/*!sc*/
.pyyxt [data-component="leadingVisual"]{grid-area:leadingVisual;}/*!sc*/
.pyyxt [data-component="text"]{grid-area:text;line-height:calc(20/14);white-space:nowrap;}/*!sc*/
.pyyxt [data-component="trailingVisual"]{grid-area:trailingVisual;}/*!sc*/
.pyyxt [data-component="trailingAction"]{margin-right:-4px;}/*!sc*/
.pyyxt [data-component="buttonContent"]{-webkit-flex:1 0 auto;-ms-flex:1 0 auto;flex:1 0 auto;display:grid;grid-template-areas:"leadingVisual text trailingVisual";grid-template-columns:min-content minmax(0,auto) min-content;-webkit-align-items:center;-webkit-box-align:center;-ms-flex-align:center;align-items:center;-webkit-align-content:center;-ms-flex-line-pack:center;align-content:center;}/*!sc*/
.pyyxt [data-component="buttonContent"] > :not(:last-child){margin-right:8px;}/*!sc*/
.pyyxt:hover:not([disabled]):not([data-inactive]){background-color:var(--button-default-bgColor-hover,var(--color-btn-hover-bg,#f3f4f6));border-color:var(--button-default-borderColor-hover,var(--button-default-borderColor-hover,var(--color-btn-hover-border,rgba(31,35,40,0.15))));}/*!sc*/
.pyyxt:active:not([disabled]):not([data-inactive]){background-color:var(--button-default-bgColor-active,var(--color-btn-active-bg,hsla(220,14%,93%,1)));border-color:var(--button-default-borderColor-active,var(--button-default-borderColor-active,var(--color-btn-active-border,rgba(31,35,40,0.15))));}/*!sc*/
.pyyxt[aria-expanded=true]{background-color:var(--button-default-bgColor-active,var(--color-btn-active-bg,hsla(220,14%,93%,1)));border-color:var(--button-default-borderColor-active,var(--button-default-borderColor-active,var(--color-btn-active-border,rgba(31,35,40,0.15))));}/*!sc*/
.pyyxt [data-component="leadingVisual"],.pyyxt [data-component="trailingVisual"],.pyyxt [data-component="trailingAction"]{color:var(--button-color,var(--fgColor-muted,var(--color-fg-muted,#656d76)));}/*!sc*/
.pyyxt[data-component="IconButton"][data-no-visuals]{color:var(--fgColor-muted,var(--color-fg-muted,#656d76));}/*!sc*/
.fmvlPZ{border-radius:6px;border:1px solid;border-color:var(--button-default-borderColor-rest,var(--button-default-borderColor-rest,var(--color-btn-border,rgba(31,35,40,0.15))));font-family:inherit;font-weight:500;font-size:14px;cursor:pointer;-webkit-appearance:none;-moz-appearance:none;appearance:none;-webkit-user-select:none;-moz-user-select:none;-ms-user-select:none;user-select:none;-webkit-text-decoration:none;text-decoration:none;text-align:center;display:-webkit-box;display:-webkit-flex;display:-ms-flexbox;display:flex;-webkit-align-items:center;-webkit-box-align:center;-ms-flex-align:center;align-items:center;-webkit-box-pack:justify;-webkit-justify-content:space-between;-ms-flex-pack:justify;justify-content:space-between;height:32px;padding:0 12px;gap:8px;min-width:-webkit-max-content;min-width:-moz-max-content;min-width:max-content;-webkit-transition:80ms cubic-bezier(0.65,0,0.35,1);transition:80ms cubic-bezier(0.65,0,0.35,1);-webkit-transition-property:color,fill,background-color,border-color;transition-property:color,fill,background-color,border-color;color:var(--button-default-fgColor-rest,var(--color-btn-text,#24292f));background-color:var(--button-default-bgColor-rest,var(--color-btn-bg,#f6f8fa));box-shadow:var(--button-default-shadow-resting,var(--color-btn-shadow,0 1px 0 rgba(31,35,40,0.04))),var(--button-default-shadow-inset,var(--color-btn-inset-shadow,inset 0 1px 0 rgba(255,255,255,0.25)));}/*!sc*/
.fmvlPZ:focus:not(:disabled){box-shadow:none;outline:2px solid var(--fgColor-accent,var(--color-accent-fg,#0969da));outline-offset:-2px;}/*!sc*/
.fmvlPZ:focus:not(:disabled):not(:focus-visible){outline:solid 1px transparent;}/*!sc*/
.fmvlPZ:focus-visible:not(:disabled){box-shadow:none;outline:2px solid var(--fgColor-accent,var(--color-accent-fg,#0969da));outline-offset:-2px;}/*!sc*/
.fmvlPZ[href]{display:-webkit-inline-box;display:-webkit-inline-flex;display:-ms-inline-flexbox;display:inline-flex;}/*!sc*/
.fmvlPZ[href]:hover{-webkit-text-decoration:none;text-decoration:none;}/*!sc*/
.fmvlPZ:hover{-webkit-transition-duration:80ms;transition-duration:80ms;}/*!sc*/
.fmvlPZ:active{-webkit-transition:none;transition:none;}/*!sc*/
.fmvlPZ[data-inactive]{cursor:auto;}/*!sc*/
.fmvlPZ:disabled{cursor:not-allowed;box-shadow:none;color:var(--fgColor-disabled,var(--color-primer-fg-disabled,#8c959f));border-color:var(--button-default-borderColor-disabled,var(--button-default-borderColor-rest,var(--color-btn-border,rgba(31,35,40,0.15))));background-color:var(--button-default-bgColor-disabled,var(--control-bgColor-disabled,var(--color-input-disabled-bg,rgba(175,184,193,0.2))));}/*!sc*/
.fmvlPZ:disabled [data-component=ButtonCounter]{color:inherit;}/*!sc*/
@media (forced-colors:active){.fmvlPZ:focus{outline:solid 1px transparent;}}/*!sc*/
.fmvlPZ [data-component=ButtonCounter]{font-size:12px;background-color:var(--buttonCounter-default-bgColor-rest,var(--color-btn-counter-bg,rgba(31,35,40,0.08)));}/*!sc*/
.fmvlPZ[data-component=IconButton]{display:inline-grid;padding:unset;place-content:center;width:32px;min-width:unset;}/*!sc*/
.fmvlPZ[data-size="small"]{padding:0 8px;height:28px;gap:4px;font-size:12px;}/*!sc*/
.fmvlPZ[data-size="small"] [data-component="text"]{line-height:calc(20 / 12);}/*!sc*/
.fmvlPZ[data-size="small"] [data-component=ButtonCounter]{font-size:12px;}/*!sc*/
.fmvlPZ[data-size="small"] [data-component="buttonContent"] > :not(:last-child){margin-right:4px;}/*!sc*/
.fmvlPZ[data-size="small"][data-component=IconButton]{width:28px;padding:unset;}/*!sc*/
.fmvlPZ[data-size="large"]{padding:0 16px;height:40px;gap:8px;}/*!sc*/
.fmvlPZ[data-size="large"] [data-component="buttonContent"] > :not(:last-child){margin-right:8px;}/*!sc*/
.fmvlPZ[data-size="large"][data-component=IconButton]{width:40px;padding:unset;}/*!sc*/
.fmvlPZ[data-block="block"]{width:100%;}/*!sc*/
.fmvlPZ[data-inactive]:not([disabled]){background-color:var(--button-inactive-bgColor,var(--button-inactive-bgColor-rest,var(--color-btn-inactive-bg,#eaeef2)));border-color:var(--button-inactive-bgColor,var(--button-inactive-bgColor-rest,var(--color-btn-inactive-bg,#eaeef2)));color:var(--button-inactive-fgColor,var(--button-inactive-fgColor-rest,var(--color-btn-inactive-text,#57606a)));}/*!sc*/
.fmvlPZ[data-inactive]:not([disabled]):focus-visible{box-shadow:none;}/*!sc*/
.fmvlPZ [data-component="leadingVisual"]{grid-area:leadingVisual;}/*!sc*/
.fmvlPZ [data-component="text"]{grid-area:text;line-height:calc(20/14);white-space:nowrap;}/*!sc*/
.fmvlPZ [data-component="trailingVisual"]{grid-area:trailingVisual;}/*!sc*/
.fmvlPZ [data-component="trailingAction"]{margin-right:-4px;}/*!sc*/
.fmvlPZ [data-component="buttonContent"]{-webkit-flex:1 0 auto;-ms-flex:1 0 auto;flex:1 0 auto;display:grid;grid-template-areas:"leadingVisual text trailingVisual";grid-template-columns:min-content minmax(0,auto) min-content;-webkit-align-items:center;-webkit-box-align:center;-ms-flex-align:center;align-items:center;-webkit-align-content:center;-ms-flex-line-pack:center;align-content:center;}/*!sc*/
.fmvlPZ [data-component="buttonContent"] > :not(:last-child){margin-right:8px;}/*!sc*/
.fmvlPZ:hover:not([disabled]):not([data-inactive]){background-color:var(--button-default-bgColor-hover,var(--color-btn-hover-bg,#f3f4f6));border-color:var(--button-default-borderColor-hover,var(--button-default-borderColor-hover,var(--color-btn-hover-border,rgba(31,35,40,0.15))));}/*!sc*/
.fmvlPZ:active:not([disabled]):not([data-inactive]){background-color:var(--button-default-bgColor-active,var(--color-btn-active-bg,hsla(220,14%,93%,1)));border-color:var(--button-default-borderColor-active,var(--button-default-borderColor-active,var(--color-btn-active-border,rgba(31,35,40,0.15))));}/*!sc*/
.fmvlPZ[aria-expanded=true]{background-color:var(--button-default-bgColor-active,var(--color-btn-active-bg,hsla(220,14%,93%,1)));border-color:var(--button-default-borderColor-active,var(--button-default-borderColor-active,var(--color-btn-active-border,rgba(31,35,40,0.15))));}/*!sc*/
.fmvlPZ [data-component="leadingVisual"],.fmvlPZ [data-component="trailingVisual"],.fmvlPZ [data-component="trailingAction"]{color:var(--button-color,var(--fgColor-muted,var(--color-fg-muted,#656d76)));}/*!sc*/
.fmvlPZ[data-component="IconButton"][data-no-visuals]{color:var(--fgColor-muted,var(--color-fg-muted,#656d76));}/*!sc*/
.fmvlPZ[data-size="small"][data-no-visuals]{border-top-left-radius:0;border-bottom-left-radius:0;}/*!sc*/
.dGDIQc{border-radius:6px;border:1px solid;border-color:transparent;font-family:inherit;font-weight:500;font-size:14px;cursor:pointer;-webkit-appearance:none;-moz-appearance:none;appearance:none;-webkit-user-select:none;-moz-user-select:none;-ms-user-select:none;user-select:none;-webkit-text-decoration:none;text-decoration:none;text-align:center;display:-webkit-box;display:-webkit-flex;display:-ms-flexbox;display:flex;-webkit-align-items:center;-webkit-box-align:center;-ms-flex-align:center;align-items:center;-webkit-box-pack:justify;-webkit-justify-content:space-between;-ms-flex-pack:justify;justify-content:space-between;height:32px;padding:0 12px;gap:8px;min-width:-webkit-max-content;min-width:-moz-max-content;min-width:max-content;-webkit-transition:80ms cubic-bezier(0.65,0,0.35,1);transition:80ms cubic-bezier(0.65,0,0.35,1);-webkit-transition-property:color,fill,background-color,border-color;transition-property:color,fill,background-color,border-color;color:var(--button-default-fgColor-rest,var(--color-btn-text,#24292f));background-color:transparent;box-shadow:none;}/*!sc*/
.dGDIQc:focus:not(:disabled){box-shadow:none;outline:2px solid var(--fgColor-accent,var(--color-accent-fg,#0969da));outline-offset:-2px;}/*!sc*/
.dGDIQc:focus:not(:disabled):not(:focus-visible){outline:solid 1px transparent;}/*!sc*/
.dGDIQc:focus-visible:not(:disabled){box-shadow:none;outline:2px solid var(--fgColor-accent,var(--color-accent-fg,#0969da));outline-offset:-2px;}/*!sc*/
.dGDIQc[href]{display:-webkit-inline-box;display:-webkit-inline-flex;display:-ms-inline-flexbox;display:inline-flex;}/*!sc*/
.dGDIQc[href]:hover{-webkit-text-decoration:none;text-decoration:none;}/*!sc*/
.dGDIQc:hover{-webkit-transition-duration:80ms;transition-duration:80ms;}/*!sc*/
.dGDIQc:active{-webkit-transition:none;transition:none;}/*!sc*/
.dGDIQc[data-inactive]{cursor:auto;}/*!sc*/
.dGDIQc:disabled{cursor:not-allowed;box-shadow:none;color:var(--fgColor-disabled,var(--color-primer-fg-disabled,#8c959f));}/*!sc*/
.dGDIQc:disabled [data-component=ButtonCounter],.dGDIQc:disabled [data-component="leadingVisual"],.dGDIQc:disabled [data-component="trailingAction"]{color:inherit;}/*!sc*/
@media (forced-colors:active){.dGDIQc:focus{outline:solid 1px transparent;}}/*!sc*/
.dGDIQc [data-component=ButtonCounter]{font-size:12px;}/*!sc*/
.dGDIQc[data-component=IconButton]{display:inline-grid;padding:unset;place-content:center;width:32px;min-width:unset;}/*!sc*/
.dGDIQc[data-size="small"]{padding:0 8px;height:28px;gap:4px;font-size:12px;}/*!sc*/
.dGDIQc[data-size="small"] [data-component="text"]{line-height:calc(20 / 12);}/*!sc*/
.dGDIQc[data-size="small"] [data-component=ButtonCounter]{font-size:12px;}/*!sc*/
.dGDIQc[data-size="small"] [data-component="buttonContent"] > :not(:last-child){margin-right:4px;}/*!sc*/
.dGDIQc[data-size="small"][data-component=IconButton]{width:28px;padding:unset;}/*!sc*/
.dGDIQc[data-size="large"]{padding:0 16px;height:40px;gap:8px;}/*!sc*/
.dGDIQc[data-size="large"] [data-component="buttonContent"] > :not(:last-child){margin-right:8px;}/*!sc*/
.dGDIQc[data-size="large"][data-component=IconButton]{width:40px;padding:unset;}/*!sc*/
.dGDIQc[data-block="block"]{width:100%;}/*!sc*/
.dGDIQc[data-inactive]:not([disabled]){background-color:var(--button-inactive-bgColor,var(--button-inactive-bgColor-rest,var(--color-btn-inactive-bg,#eaeef2)));border-color:var(--button-inactive-bgColor,var(--button-inactive-bgColor-rest,var(--color-btn-inactive-bg,#eaeef2)));color:var(--button-inactive-fgColor,var(--button-inactive-fgColor-rest,var(--color-btn-inactive-text,#57606a)));}/*!sc*/
.dGDIQc[data-inactive]:not([disabled]):focus-visible{box-shadow:none;}/*!sc*/
.dGDIQc [data-component="leadingVisual"]{grid-area:leadingVisual;color:var(--fgColor-muted,var(--color-fg-muted,#656d76));}/*!sc*/
.dGDIQc [data-component="text"]{grid-area:text;line-height:calc(20/14);white-space:nowrap;}/*!sc*/
.dGDIQc [data-component="trailingVisual"]{grid-area:trailingVisual;}/*!sc*/
.dGDIQc [data-component="trailingAction"]{margin-right:-4px;color:var(--fgColor-muted,var(--color-fg-muted,#656d76));}/*!sc*/
.dGDIQc [data-component="buttonContent"]{-webkit-flex:1 0 auto;-ms-flex:1 0 auto;flex:1 0 auto;display:grid;grid-template-areas:"leadingVisual text trailingVisual";grid-template-columns:min-content minmax(0,auto) min-content;-webkit-align-items:center;-webkit-box-align:center;-ms-flex-align:center;align-items:center;-webkit-align-content:center;-ms-flex-line-pack:center;align-content:center;}/*!sc*/
.dGDIQc [data-component="buttonContent"] > :not(:last-child){margin-right:8px;}/*!sc*/
.dGDIQc:hover:not([disabled]){background-color:var(--control-transparent-bgColor-hover,var(--color-action-list-item-default-hover-bg,rgba(208,215,222,0.32)));}/*!sc*/
.dGDIQc:active:not([disabled]){background-color:var(--control-transparent-bgColor-active,var(--color-action-list-item-default-active-bg,rgba(208,215,222,0.48)));}/*!sc*/
.dGDIQc[aria-expanded=true]{background-color:var(--control-transparent-bgColor-selected,var(--color-action-list-item-default-selected-bg,rgba(208,215,222,0.24)));}/*!sc*/
.dGDIQc[data-component="IconButton"][data-no-visuals]{color:var(--fgColor-muted,var(--color-fg-muted,#656d76));}/*!sc*/
.dGDIQc[data-no-visuals]{color:var(--fgColor-accent,var(--color-accent-fg,#0969da));}/*!sc*/
.dGDIQc:has([data-component="ButtonCounter"]){color:var(--button-default-fgColor-rest,var(--color-btn-text,#24292f));}/*!sc*/
.dGDIQc:disabled[data-no-visuals]{color:var(--fgColor-disabled,var(--color-primer-fg-disabled,#8c959f));}/*!sc*/
.dGDIQc:disabled[data-no-visuals] [data-component=ButtonCounter]{color:inherit;}/*!sc*/
.dGDIQc[data-size="small"][data-no-visuals]{color:var(--fgColor-muted,var(--color-fg-muted,#656d76));}/*!sc*/
data-styled.g9[id="types__StyledButton-sc-ws60qy-0"]{content:"blmaBs,hkJzmn,hILMMl,ivbpoP,hviaoI,jXTShb,fAkXQN,gfKkfV,dTgfec,pyyxt,fmvlPZ,dGDIQc,"}/*!sc*/
.gNgnVl{position:relative;display:inline-block;}/*!sc*/
.gNgnVl::after{position:absolute;z-index:1000000;display:none;padding:0.5em 0.75em;font:normal normal 11px/1.5 -apple-system,BlinkMacSystemFont,"Segoe UI","Noto Sans",Helvetica,Arial,sans-serif,"Apple Color Emoji","Segoe UI Emoji";-webkit-font-smoothing:subpixel-antialiased;color:var(--fgColor-onEmphasis,var(--color-fg-on-emphasis,#ffffff));text-align:center;-webkit-text-decoration:none;text-decoration:none;text-shadow:none;text-transform:none;-webkit-letter-spacing:normal;-moz-letter-spacing:normal;-ms-letter-spacing:normal;letter-spacing:normal;word-wrap:break-word;white-space:pre;pointer-events:none;content:attr(aria-label);background:var(--bgColor-emphasis,var(--color-neutral-emphasis-plus,#24292f));border-radius:6px;opacity:0;}/*!sc*/
@-webkit-keyframes tooltip-appear{from{opacity:0;}to{opacity:1;}}/*!sc*/
@keyframes tooltip-appear{from{opacity:0;}to{opacity:1;}}/*!sc*/
.gNgnVl:hover::after,.gNgnVl:active::after,.gNgnVl:focus::after,.gNgnVl:focus-within::after{display:inline-block;-webkit-text-decoration:none;text-decoration:none;-webkit-animation-name:tooltip-appear;animation-name:tooltip-appear;-webkit-animation-duration:0.1s;animation-duration:0.1s;-webkit-animation-fill-mode:forwards;animation-fill-mode:forwards;-webkit-animation-timing-function:ease-in;animation-timing-function:ease-in;-webkit-animation-delay:0s;animation-delay:0s;}/*!sc*/
.gNgnVl.tooltipped-no-delay:hover::after,.gNgnVl.tooltipped-no-delay:active::after,.gNgnVl.tooltipped-no-delay:focus::after,.gNgnVl.tooltipped-no-delay:focus-within::after{-webkit-animation-delay:0s;animation-delay:0s;}/*!sc*/
.gNgnVl.tooltipped-multiline:hover::after,.gNgnVl.tooltipped-multiline:active::after,.gNgnVl.tooltipped-multiline:focus::after,.gNgnVl.tooltipped-multiline:focus-within::after{display:table-cell;}/*!sc*/
.gNgnVl.tooltipped-s::after,.gNgnVl.tooltipped-se::after,.gNgnVl.tooltipped-sw::after{top:100%;right:50%;margin-top:6px;}/*!sc*/
.gNgnVl.tooltipped-se::after{right:auto;left:50%;margin-left:-16px;}/*!sc*/
.gNgnVl.tooltipped-sw::after{margin-right:-16px;}/*!sc*/
.gNgnVl.tooltipped-n::after,.gNgnVl.tooltipped-ne::after,.gNgnVl.tooltipped-nw::after{right:50%;bottom:100%;margin-bottom:6px;}/*!sc*/
.gNgnVl.tooltipped-ne::after{right:auto;left:50%;margin-left:-16px;}/*!sc*/
.gNgnVl.tooltipped-nw::after{margin-right:-16px;}/*!sc*/
.gNgnVl.tooltipped-s::after,.gNgnVl.tooltipped-n::after{-webkit-transform:translateX(50%);-ms-transform:translateX(50%);transform:translateX(50%);}/*!sc*/
.gNgnVl.tooltipped-w::after{right:100%;bottom:50%;margin-right:6px;-webkit-transform:translateY(50%);-ms-transform:translateY(50%);transform:translateY(50%);}/*!sc*/
.gNgnVl.tooltipped-e::after{bottom:50%;left:100%;margin-left:6px;-webkit-transform:translateY(50%);-ms-transform:translateY(50%);transform:translateY(50%);}/*!sc*/
.gNgnVl.tooltipped-multiline::after{width:-webkit-max-content;width:-moz-max-content;width:max-content;max-width:250px;word-wrap:break-word;white-space:pre-line;border-collapse:separate;}/*!sc*/
.gNgnVl.tooltipped-multiline.tooltipped-s::after,.gNgnVl.tooltipped-multiline.tooltipped-n::after{right:auto;left:50%;-webkit-transform:translateX(-50%);-ms-transform:translateX(-50%);transform:translateX(-50%);}/*!sc*/
.gNgnVl.tooltipped-multiline.tooltipped-w::after,.gNgnVl.tooltipped-multiline.tooltipped-e::after{right:100%;}/*!sc*/
.gNgnVl.tooltipped-align-right-2::after{right:0;margin-right:0;}/*!sc*/
.gNgnVl.tooltipped-align-left-2::after{left:0;margin-left:0;}/*!sc*/
data-styled.g14[id="Tooltip__TooltipBase-sc-17tf59c-0"]{content:"gNgnVl,"}/*!sc*/
.fUpWeN{display:inline-block;overflow:hidden;text-overflow:ellipsis;vertical-align:top;white-space:nowrap;max-width:125px;max-width:100%;}/*!sc*/
data-styled.g16[id="Truncate__StyledTruncate-sc-23o1d2-0"]{content:"fUpWeN,"}/*!sc*/
.hPEVNM{-webkit-animation:rotate-keyframes 1s linear infinite;animation:rotate-keyframes 1s linear infinite;}/*!sc*/
@-webkit-keyframes rotate-keyframes{100%{-webkit-transform:rotate(360deg);-ms-transform:rotate(360deg);transform:rotate(360deg);}}/*!sc*/
@keyframes rotate-keyframes{100%{-webkit-transform:rotate(360deg);-ms-transform:rotate(360deg);transform:rotate(360deg);}}/*!sc*/
data-styled.g28[id="Spinner__StyledSpinner-sc-1knt686-0"]{content:"hPEVNM,"}/*!sc*/
.cXNreu{font-size:14px;line-height:20px;color:var(--fgColor-default,var(--color-fg-default,#1F2328));vertical-align:middle;background-color:var(--bgColor-default,var(--color-canvas-default,#ffffff));border:1px solid var(--control-borderColor-rest,var(--borderColor-default,var(--color-border-default,#d0d7de)));border-radius:6px;outline:none;box-shadow:var(--shadow-inset,var(--color-primer-shadow-inset,inset 0 1px 0 rgba(208,215,222,0.2)));display:-webkit-inline-box;display:-webkit-inline-flex;display:-ms-inline-flexbox;display:inline-flex;-webkit-align-items:stretch;-webkit-box-align:stretch;-ms-flex-align:stretch;align-items:stretch;min-height:32px;overflow:hidden;display:-webkit-box;display:-webkit-flex;display:-ms-flexbox;display:flex;min-width:160px;}/*!sc*/
.cXNreu input,.cXNreu textarea{cursor:text;}/*!sc*/
.cXNreu select{cursor:pointer;}/*!sc*/
.cXNreu input::-webkit-input-placeholder,.cXNreu textarea::-webkit-input-placeholder,.cXNreu select::-webkit-input-placeholder{color:var(---control-fgColor-placeholder,var(--fgColor-muted,var(--color-fg-muted,#656d76)));}/*!sc*/
.cXNreu input::-moz-placeholder,.cXNreu textarea::-moz-placeholder,.cXNreu select::-moz-placeholder{color:var(---control-fgColor-placeholder,var(--fgColor-muted,var(--color-fg-muted,#656d76)));}/*!sc*/
.cXNreu input:-ms-input-placeholder,.cXNreu textarea:-ms-input-placeholder,.cXNreu select:-ms-input-placeholder{color:var(---control-fgColor-placeholder,var(--fgColor-muted,var(--color-fg-muted,#656d76)));}/*!sc*/
.cXNreu input::placeholder,.cXNreu textarea::placeholder,.cXNreu select::placeholder{color:var(---control-fgColor-placeholder,var(--fgColor-muted,var(--color-fg-muted,#656d76)));}/*!sc*/
.cXNreu:focus-within{border-color:var(--fgColor-accent,var(--color-accent-fg,#0969da));outline:2px solid var(--fgColor-accent,var(--color-accent-fg,#0969da));outline-offset:-1px;}/*!sc*/
.cXNreu > textarea{padding:12px;}/*!sc*/
@media (min-width:768px){.cXNreu{font-size:14px;}}/*!sc*/
data-styled.g37[id="TextInputWrapper__TextInputBaseWrapper-sc-1mqhpbi-0"]{content:"cXNreu,"}/*!sc*/
.jbzqwE{background-repeat:no-repeat;background-position:right 8px center;padding-left:12px;padding-right:12px;display:-webkit-box;display:-webkit-flex;display:-ms-flexbox;display:flex;min-width:160px;}/*!sc*/
.jbzqwE > :not(:last-child){margin-right:8px;}/*!sc*/
.jbzqwE .TextInput-icon,.jbzqwE .TextInput-action{-webkit-align-self:center;-ms-flex-item-align:center;align-self:center;color:var(--fgColor-muted,var(--color-fg-muted,#656d76));-webkit-flex-shrink:0;-ms-flex-negative:0;flex-shrink:0;}/*!sc*/
.jbzqwE > input,.jbzqwE > select{padding-left:0;padding-right:0;}/*!sc*/
data-styled.g38[id="TextInputWrapper-sc-1mqhpbi-1"]{content:"jbzqwE,"}/*!sc*/
.cDLBls{border:0;font-size:inherit;font-family:inherit;background-color:transparent;-webkit-appearance:none;color:inherit;width:100%;}/*!sc*/
.cDLBls:focus{outline:0;}/*!sc*/
data-styled.g39[id="UnstyledTextInput-sc-14ypya-0"]{content:"cDLBls,"}/*!sc*/
.jEdVkE{--segmented-control-button-inner-padding:12px;--segmented-control-button-bg-inset:4px;--segmented-control-outer-radius:6px;background-color:transparent;border-color:transparent;border-radius:var(--segmented-control-outer-radius);border-width:0;color:currentColor;cursor:pointer;font-family:inherit;font-size:inherit;font-weight:600;padding:0;height:100%;width:100%;}/*!sc*/
.jEdVkE .segmentedControl-content{-webkit-align-items:center;-webkit-box-align:center;-ms-flex-align:center;align-items:center;background-color:var(--controlKnob-bgColor-rest,var(--color-segmented-control-button-bg,#ffffff));border-color:var(--controlKnob-borderColor-rest,var(--color-segmented-control-button-hover-active-selected-border,#8c959f));border-style:solid;border-width:1px;border-radius:var(--segmented-control-outer-radius);display:-webkit-box;display:-webkit-flex;display:-ms-flexbox;display:flex;height:100%;-webkit-box-pack:center;-webkit-justify-content:center;-ms-flex-pack:center;justify-content:center;padding-left:var(--segmented-control-button-inner-padding);padding-right:var(--segmented-control-button-inner-padding);}/*!sc*/
.jEdVkE svg{fill:var(--fgColor-muted,var(--color-fg-muted,#656d76));}/*!sc*/
.jEdVkE:focus:focus-visible:not(:last-child):after{width:0;}/*!sc*/
.jEdVkE .segmentedControl-text:after{content:"Preview";display:block;font-weight:600;height:0;overflow:hidden;pointer-events:none;-webkit-user-select:none;-moz-user-select:none;-ms-user-select:none;user-select:none;visibility:hidden;}/*!sc*/
@media (pointer:coarse){.jEdVkE:before{content:"";position:absolute;left:0;right:0;-webkit-transform:translateY(-50%);-ms-transform:translateY(-50%);transform:translateY(-50%);top:50%;min-height:44px;}}/*!sc*/
.TvbfG{--segmented-control-button-inner-padding:12px;--segmented-control-button-bg-inset:4px;--segmented-control-outer-radius:6px;background-color:transparent;border-color:transparent;border-radius:var(--segmented-control-outer-radius);border-width:0;color:currentColor;cursor:pointer;font-family:inherit;font-size:inherit;font-weight:400;padding:var(--segmented-control-button-bg-inset);height:100%;width:100%;}/*!sc*/
.TvbfG .segmentedControl-content{-webkit-align-items:center;-webkit-box-align:center;-ms-flex-align:center;align-items:center;background-color:transparent;border-color:transparent;border-style:solid;border-width:1px;border-radius:calc(var(--segmented-control-outer-radius) - var(--segmented-control-button-bg-inset) / 2);display:-webkit-box;display:-webkit-flex;display:-ms-flexbox;display:flex;height:100%;-webkit-box-pack:center;-webkit-justify-content:center;-ms-flex-pack:center;justify-content:center;padding-left:calc(var(--segmented-control-button-inner-padding) - var(--segmented-control-button-bg-inset));padding-right:calc(var(--segmented-control-button-inner-padding) - var(--segmented-control-button-bg-inset));}/*!sc*/
.TvbfG svg{fill:var(--fgColor-muted,var(--color-fg-muted,#656d76));}/*!sc*/
.TvbfG:hover .segmentedControl-content{background-color:var(--controlTrack-bgColor-hover,var(--color-segmented-control-button-hover-bg,rgba(175,184,193,0.2)));}/*!sc*/
.TvbfG:active .segmentedControl-content{background-color:var(--controlTrack-bgColor-active,var(--color-segmented-control-button-hover-active-bg,rgba(175,184,193,0.4)));}/*!sc*/
.TvbfG:focus:focus-visible:not(:last-child):after{width:0;}/*!sc*/
.TvbfG .segmentedControl-text:after{content:"Code";display:block;font-weight:600;height:0;overflow:hidden;pointer-events:none;-webkit-user-select:none;-moz-user-select:none;-ms-user-select:none;user-select:none;visibility:hidden;}/*!sc*/
@media (pointer:coarse){.TvbfG:before{content:"";position:absolute;left:0;right:0;-webkit-transform:translateY(-50%);-ms-transform:translateY(-50%);transform:translateY(-50%);top:50%;min-height:44px;}}/*!sc*/
.fIktcg{--segmented-control-button-inner-padding:12px;--segmented-control-button-bg-inset:4px;--segmented-control-outer-radius:6px;background-color:transparent;border-color:transparent;border-radius:var(--segmented-control-outer-radius);border-width:0;color:currentColor;cursor:pointer;font-family:inherit;font-size:inherit;font-weight:400;padding:var(--segmented-control-button-bg-inset);height:100%;width:100%;}/*!sc*/
.fIktcg .segmentedControl-content{-webkit-align-items:center;-webkit-box-align:center;-ms-flex-align:center;align-items:center;background-color:transparent;border-color:transparent;border-style:solid;border-width:1px;border-radius:calc(var(--segmented-control-outer-radius) - var(--segmented-control-button-bg-inset) / 2);display:-webkit-box;display:-webkit-flex;display:-ms-flexbox;display:flex;height:100%;-webkit-box-pack:center;-webkit-justify-content:center;-ms-flex-pack:center;justify-content:center;padding-left:calc(var(--segmented-control-button-inner-padding) - var(--segmented-control-button-bg-inset));padding-right:calc(var(--segmented-control-button-inner-padding) - var(--segmented-control-button-bg-inset));}/*!sc*/
.fIktcg svg{fill:var(--fgColor-muted,var(--color-fg-muted,#656d76));}/*!sc*/
.fIktcg:hover .segmentedControl-content{background-color:var(--controlTrack-bgColor-hover,var(--color-segmented-control-button-hover-bg,rgba(175,184,193,0.2)));}/*!sc*/
.fIktcg:active .segmentedControl-content{background-color:var(--controlTrack-bgColor-active,var(--color-segmented-control-button-hover-active-bg,rgba(175,184,193,0.4)));}/*!sc*/
.fIktcg:focus:focus-visible:not(:last-child):after{width:0;}/*!sc*/
.fIktcg .segmentedControl-text:after{content:"Blame";display:block;font-weight:600;height:0;overflow:hidden;pointer-events:none;-webkit-user-select:none;-moz-user-select:none;-ms-user-select:none;user-select:none;visibility:hidden;}/*!sc*/
@media (pointer:coarse){.fIktcg:before{content:"";position:absolute;left:0;right:0;-webkit-transform:translateY(-50%);-ms-transform:translateY(-50%);transform:translateY(-50%);top:50%;min-height:44px;}}/*!sc*/
data-styled.g69[id="SegmentedControlButton__SegmentedControlButtonStyled-sc-8lkgxl-0"]{content:"jEdVkE,TvbfG,fIktcg,"}/*!sc*/
.huxtnT{background-color:var(--controlTrack-bgColor-rest,var(--color-segmented-control-bg,#eaeef2));border-radius:6px;display:-webkit-inline-box;display:-webkit-inline-flex;display:-ms-inline-flexbox;display:inline-flex;font-size:14px;height:28px;margin:0;padding:0;}/*!sc*/
data-styled.g71[id="SegmentedControl__SegmentedControlList-sc-1rzig82-0"]{content:"huxtnT,"}/*!sc*/
.cjbBGq{display:-webkit-inline-box;display:-webkit-inline-flex;display:-ms-inline-flexbox;display:inline-flex;vertical-align:middle;isolation:isolate;}/*!sc*/
.cjbBGq.cjbBGq > *{margin-inline-end:-1px;position:relative;border-radius:0;}/*!sc*/
.cjbBGq.cjbBGq > *:first-child{border-top-left-radius:6px;border-bottom-left-radius:6px;}/*!sc*/
.cjbBGq.cjbBGq > *:last-child{border-top-right-radius:6px;border-bottom-right-radius:6px;}/*!sc*/
.cjbBGq.cjbBGq > *:focus,.cjbBGq.cjbBGq > *:active,.cjbBGq.cjbBGq > *:hover{z-index:1;}/*!sc*/
data-styled.g87[id="ButtonGroup-sc-1gxhls1-0"]{content:"cjbBGq,"}/*!sc*/
</style><meta data-hydrostats="publish"/> <!-- --> <!-- --> <!-- --> <button hidden="" data-testid="header-permalink-button" data-hotkey-scope="read-only-cursor-text-area"></button><button hidden=""></button><div><div style="--sticky-pane-height:100vh" class="Box-sc-g0xbh4-0 fSWWem"><div class="Box-sc-g0xbh4-0 kPPmzM"><div class="Box-sc-g0xbh4-0 cIAPDV"><div tabindex="0" class="Box-sc-g0xbh4-0 gvCnwW"><div class="Box-sc-g0xbh4-0 esrURn"><div class="Box-sc-g0xbh4-0 eUyHuk"></div><div style="--pane-width:320px" class="Box-sc-g0xbh4-0 gNdDUH"></div><div class="Box-sc-g0xbh4-0 hAeDYA"><div role="slider" aria-label="Draggable pane splitter" aria-valuemin="0" aria-valuemax="0" aria-valuenow="0" aria-valuetext="Pane width 0 pixels" tabindex="0" class="Box-sc-g0xbh4-0 fjdBNx"></div></div></div></div><div class="Box-sc-g0xbh4-0 emFMJu"><div class="Box-sc-g0xbh4-0"></div><div class="Box-sc-g0xbh4-0 hlUAHL"><div data-selector="repos-split-pane-content" tabindex="0" class="Box-sc-g0xbh4-0 iStsmI"><div class="Box-sc-g0xbh4-0 eIgvIk"><div class="Box-sc-g0xbh4-0 eVFfWF container"><div class="px-3 pt-3 pb-0" id="StickyHeader"><div class="Box-sc-g0xbh4-0 fywjmm"><div class="Box-sc-g0xbh4-0 dyczTK"><div class="Box-sc-g0xbh4-0 cpXcux react-code-view-header-wrap--narrow"><div class="Box-sc-g0xbh4-0 iPEkxH"><h2 class="Heading__StyledHeading-sc-1c1dgg0-0 jUriTl"><button style="--button-color:fg.muted" type="button" aria-label="Expand file tree" data-testid="expand-file-tree-button-mobile" class="types__StyledButton-sc-ws60qy-0 blmaBs"><span data-component="buttonContent" class="Box-sc-g0xbh4-0 kkrdEu"><span data-component="leadingVisual" class="Box-sc-g0xbh4-0 trpoQ"><svg aria-hidden="true" focusable="false" role="img" class="octicon octicon-arrow-left" viewBox="0 0 16 16" width="16" height="16" fill="currentColor" style="display:inline-block;user-select:none;vertical-align:text-bottom;overflow:visible"><path d="M7.78 12.53a.75.75 0 0 1-1.06 0L2.47 8.28a.75.75 0 0 1 0-1.06l4.25-4.25a.751.751 0 0 1 1.042.018.751.751 0 0 1 .018 1.042L4.81 7h7.44a.75.75 0 0 1 0 1.5H4.81l2.97 2.97a.75.75 0 0 1 0 1.06Z"></path></svg></span><span data-component="text">Files</span></span></button><span role="tooltip" aria-label="Expand file tree" id="expand-button-file-tree-button" class="Tooltip__TooltipBase-sc-17tf59c-0 gNgnVl tooltipped-se"><button data-component="IconButton" type="button" data-testid="expand-file-tree-button" aria-labelledby="expand-button-file-tree-button" aria-controls="repos-file-tree" class="types__StyledButton-sc-ws60qy-0 hkJzmn" data-no-visuals="true"><svg aria-hidden="true" focusable="false" role="img" class="octicon octicon-sidebar-collapse" viewBox="0 0 16 16" width="16" height="16" fill="currentColor" style="display:inline-block;user-select:none;vertical-align:text-bottom;overflow:visible"><path d="M6.823 7.823a.25.25 0 0 1 0 .354l-2.396 2.396A.25.25 0 0 1 4 10.396V5.604a.25.25 0 0 1 .427-.177Z"></path><path d="M1.75 0h12.5C15.216 0 16 .784 16 1.75v12.5A1.75 1.75 0 0 1 14.25 16H1.75A1.75 1.75 0 0 1 0 14.25V1.75C0 .784.784 0 1.75 0ZM1.5 1.75v12.5c0 .138.112.25.25.25H9.5v-13H1.75a.25.25 0 0 0-.25.25ZM11 14.5h3.25a.25.25 0 0 0 .25-.25V1.75a.25.25 0 0 0-.25-.25H11Z"></path></svg></button></span><button hidden="" data-testid="" data-hotkey-scope="read-only-cursor-text-area"></button></h2></div><div class="react-code-view-header-mb--narrow mr-2"><button type="button" id="branch-picker-repos-header-ref-selector-wide" aria-haspopup="true" tabindex="0" aria-label="main branch" data-testid="anchor-button" class="types__StyledButton-sc-ws60qy-0 hILMMl ref-selector-class"><span data-component="buttonContent" class="Box-sc-g0xbh4-0 kkrdEu"><span data-component="text"><div class="Box-sc-g0xbh4-0 bKgizp"><div class="Box-sc-g0xbh4-0 iPGYsi"><svg aria-hidden="true" focusable="false" role="img" class="octicon octicon-git-branch" viewBox="0 0 16 16" width="16" height="16" fill="currentColor" style="display:inline-block;user-select:none;vertical-align:text-bottom;overflow:visible"><path d="M9.5 3.25a2.25 2.25 0 1 1 3 2.122V6A2.5 2.5 0 0 1 10 8.5H6a1 1 0 0 0-1 1v1.128a2.251 2.251 0 1 1-1.5 0V5.372a2.25 2.25 0 1 1 1.5 0v1.836A2.493 2.493 0 0 1 6 7h4a1 1 0 0 0 1-1v-.628A2.25 2.25 0 0 1 9.5 3.25Zm-6 0a.75.75 0 1 0 1.5 0 .75.75 0 0 0-1.5 0Zm8.25-.75a.75.75 0 1 0 0 1.5.75.75 0 0 0 0-1.5ZM4.25 12a.75.75 0 1 0 0 1.5.75.75 0 0 0 0-1.5Z"></path></svg></div><div class="Box-sc-g0xbh4-0 dKmYfk ref-selector-button-text-container"><span class="Text-sc-17v1xeu-0 bOMzPg"> <!-- -->main</span></div></div></span><span data-component="trailingVisual" class="Box-sc-g0xbh4-0 trpoQ"><svg aria-hidden="true" focusable="false" role="img" class="octicon octicon-triangle-down" viewBox="0 0 16 16" width="16" height="16" fill="currentColor" style="display:inline-block;user-select:none;vertical-align:text-bottom;overflow:visible"><path d="m4.427 7.427 3.396 3.396a.25.25 0 0 0 .354 0l3.396-3.396A.25.25 0 0 0 11.396 7H4.604a.25.25 0 0 0-.177.427Z"></path></svg></span></span></button><button hidden="" data-hotkey-scope="read-only-cursor-text-area"></button></div><div class="Box-sc-g0xbh4-0 ehCeGn react-code-view-header-mb--narrow"><div class="Box-sc-g0xbh4-0 eTvGbF"><nav data-testid="breadcrumbs" aria-labelledby="repos-header-breadcrumb-heading" id="repos-header-breadcrumb" class="Box-sc-g0xbh4-0 kzRgrI"><h2 class="Heading__StyledHeading-sc-1c1dgg0-0 cgQnMS sr-only" data-testid="screen-reader-heading" id="repos-header-breadcrumb-heading">Breadcrumbs</h2><ol class="Box-sc-g0xbh4-0 cmAPIB"><li class="Box-sc-g0xbh4-0 jwXCBK"><a sx="[object Object]" data-testid="breadcrumbs-repo-link" class="Link__StyledLink-sc-14289xe-0 ipyMWB" href="/Arijit1080/Licence-Plate-Detection-using-YOLO-V8/tree/main">Licence-Plate-Detection-using-YOLO-V8</a></li></ol></nav><div data-testid="breadcrumbs-filename" class="Box-sc-g0xbh4-0 jwXCBK"><span aria-hidden="true" class="Text-sc-17v1xeu-0 fIsVJr">/</span><h1 tabindex="-1" id="file-name-id" class="Heading__StyledHeading-sc-1c1dgg0-0 diwsLq">Licence_Plate_Detection_YOLO_V8.ipynb</h1></div><button data-component="IconButton" type="button" aria-label="Copy path" data-testid="breadcrumb-copy-path-button" data-size="small" data-no-visuals="true" class="types__StyledButton-sc-ws60qy-0 ivbpoP"><svg aria-hidden="true" focusable="false" role="img" class="octicon octicon-copy" viewBox="0 0 16 16" width="16" height="16" fill="currentColor" style="display:inline-block;user-select:none;vertical-align:text-bottom;overflow:visible"><path d="M0 6.75C0 5.784.784 5 1.75 5h1.5a.75.75 0 0 1 0 1.5h-1.5a.25.25 0 0 0-.25.25v7.5c0 .138.112.25.25.25h7.5a.25.25 0 0 0 .25-.25v-1.5a.75.75 0 0 1 1.5 0v1.5A1.75 1.75 0 0 1 9.25 16h-7.5A1.75 1.75 0 0 1 0 14.25Z"></path><path d="M5 1.75C5 .784 5.784 0 6.75 0h7.5C15.216 0 16 .784 16 1.75v7.5A1.75 1.75 0 0 1 14.25 11h-7.5A1.75 1.75 0 0 1 5 9.25Zm1.75-.25a.25.25 0 0 0-.25.25v7.5c0 .138.112.25.25.25h7.5a.25.25 0 0 0 .25-.25v-7.5a.25.25 0 0 0-.25-.25Z"></path></svg></button></div></div></div><div class="react-code-view-header-element--wide"><div class="Box-sc-g0xbh4-0 gtBUEp"><div class="d-flex gap-2"> <div><div class="Box-sc-g0xbh4-0 kfYOBR"><span class="TextInputWrapper__TextInputBaseWrapper-sc-1mqhpbi-0 TextInputWrapper-sc-1mqhpbi-1 cXNreu jbzqwE TextInput-wrapper" aria-busy="false"><span class="TextInput-icon"><svg aria-hidden="true" focusable="false" role="img" class="octicon octicon-search" viewBox="0 0 16 16" width="16" height="16" fill="currentColor" style="display:inline-block;user-select:none;vertical-align:text-bottom;overflow:visible"><path d="M10.68 11.74a6 6 0 0 1-7.922-8.982 6 6 0 0 1 8.982 7.922l3.04 3.04a.749.749 0 0 1-.326 1.275.749.749 0 0 1-.734-.215ZM11.5 7a4.499 4.499 0 1 0-8.997 0A4.499 4.499 0 0 0 11.5 7Z"></path></svg></span><input type="text" aria-label="Go to file" role="combobox" aria-controls="file-results-list" aria-expanded="false" aria-haspopup="dialog" autoCorrect="off" spellcheck="false" placeholder="Go to file" data-component="input" class="UnstyledTextInput-sc-14ypya-0 cDLBls" value=""/><span class="TextInput-icon"></span></span></div><button hidden="" data-testid="" data-hotkey-scope="read-only-cursor-text-area"></button><button hidden=""></button></div><button type="button" data-no-visuals="true" class="types__StyledButton-sc-ws60qy-0 hviaoI"><span data-component="buttonContent" class="Box-sc-g0xbh4-0 kkrdEu"><span data-component="text">Blame</span></span></button><button hidden="" data-testid="" data-hotkey-scope="read-only-cursor-text-area"></button><button data-component="IconButton" type="button" aria-label="More file actions" class="types__StyledButton-sc-ws60qy-0 jXTShb js-blob-dropdown-click" title="More file actions" data-testid="more-file-actions-button-nav-menu-wide" id=":R156d9laeb:" aria-haspopup="true" tabindex="0" data-no-visuals="true"><svg aria-hidden="true" focusable="false" role="img" class="octicon octicon-kebab-horizontal" viewBox="0 0 16 16" width="16" height="16" fill="currentColor" style="display:inline-block;user-select:none;vertical-align:text-bottom;overflow:visible"><path d="M8 9a1.5 1.5 0 1 0 0-3 1.5 1.5 0 0 0 0 3ZM1.5 9a1.5 1.5 0 1 0 0-3 1.5 1.5 0 0 0 0 3Zm13 0a1.5 1.5 0 1 0 0-3 1.5 1.5 0 0 0 0 3Z"></path></svg></button> </div></div></div><div class="react-code-view-header-element--narrow"><div class="Box-sc-g0xbh4-0 gtBUEp"><div class="d-flex gap-2"> <button type="button" data-no-visuals="true" class="types__StyledButton-sc-ws60qy-0 hviaoI"><span data-component="buttonContent" class="Box-sc-g0xbh4-0 kkrdEu"><span data-component="text">Blame</span></span></button><button hidden="" data-testid="" data-hotkey-scope="read-only-cursor-text-area"></button><button data-component="IconButton" type="button" aria-label="More file actions" class="types__StyledButton-sc-ws60qy-0 jXTShb js-blob-dropdown-click" title="More file actions" data-testid="more-file-actions-button-nav-menu-narrow" id=":R157d9laeb:" aria-haspopup="true" tabindex="0" data-no-visuals="true"><svg aria-hidden="true" focusable="false" role="img" class="octicon octicon-kebab-horizontal" viewBox="0 0 16 16" width="16" height="16" fill="currentColor" style="display:inline-block;user-select:none;vertical-align:text-bottom;overflow:visible"><path d="M8 9a1.5 1.5 0 1 0 0-3 1.5 1.5 0 0 0 0 3ZM1.5 9a1.5 1.5 0 1 0 0-3 1.5 1.5 0 0 0 0 3Zm13 0a1.5 1.5 0 1 0 0-3 1.5 1.5 0 0 0 0 3Z"></path></svg></button> </div></div></div></div></div></div></div></div><div class="Box-sc-g0xbh4-0 hVZtwF react-code-view-bottom-padding"> <div class="Box-sc-g0xbh4-0 cMYnca"></div> <!-- --> <!-- --> </div><div class="Box-sc-g0xbh4-0 hVZtwF"> <!-- --> <!-- --> <div class="d-flex flex-column border rounded-2 mb-3 pl-1"><div class="Box-sc-g0xbh4-0 brJRqk"><h2 class="Heading__StyledHeading-sc-1c1dgg0-0 cgQnMS sr-only" data-testid="screen-reader-heading">Latest commit</h2><div style="width:120px" class="Skeleton Skeleton--text" data-testid="loading"> </div><div class="d-flex gap-2"><div data-testid="latest-commit-details" class="d-none d-sm-flex flex-items-center"></div><div class="d-flex gap-2"><h2 class="Heading__StyledHeading-sc-1c1dgg0-0 cgQnMS sr-only" data-testid="screen-reader-heading">History</h2><a aria-label="Commit history" class="types__StyledButton-sc-ws60qy-0 fAkXQN d-none d-lg-flex" href="/Arijit1080/Licence-Plate-Detection-using-YOLO-V8/commits/main/Licence_Plate_Detection_YOLO_V8.ipynb" data-size="small"><span data-component="buttonContent" class="Box-sc-g0xbh4-0 kkrdEu"><span data-component="leadingVisual" class="Box-sc-g0xbh4-0 trpoQ"><svg aria-hidden="true" focusable="false" role="img" class="octicon octicon-history" viewBox="0 0 16 16" width="16" height="16" fill="currentColor" style="display:inline-block;user-select:none;vertical-align:text-bottom;overflow:visible"><path d="m.427 1.927 1.215 1.215a8.002 8.002 0 1 1-1.6 5.685.75.75 0 1 1 1.493-.154 6.5 6.5 0 1 0 1.18-4.458l1.358 1.358A.25.25 0 0 1 3.896 6H.25A.25.25 0 0 1 0 5.75V2.104a.25.25 0 0 1 .427-.177ZM7.75 4a.75.75 0 0 1 .75.75v2.992l2.028.812a.75.75 0 0 1-.557 1.392l-2.5-1A.751.751 0 0 1 7 8.25v-3.5A.75.75 0 0 1 7.75 4Z"></path></svg></span><span data-component="text"><span class="Text-sc-17v1xeu-0 gPDEWA fgColor-default">History</span></span></span></a><div class="Box-sc-g0xbh4-0 bqgLjk"></div><div class="d-flex d-lg-none"><span role="tooltip" aria-label="History" id="history-icon-button-tooltip" class="Tooltip__TooltipBase-sc-17tf59c-0 gNgnVl tooltipped-n"><a aria-label="Commit history" aria-describedby="history-icon-button-tooltip" class="types__StyledButton-sc-ws60qy-0 fAkXQN" href="/Arijit1080/Licence-Plate-Detection-using-YOLO-V8/commits/main/Licence_Plate_Detection_YOLO_V8.ipynb" data-size="small"><span data-component="buttonContent" class="Box-sc-g0xbh4-0 kkrdEu"><span data-component="leadingVisual" class="Box-sc-g0xbh4-0 trpoQ"><svg aria-hidden="true" focusable="false" role="img" class="octicon octicon-history" viewBox="0 0 16 16" width="16" height="16" fill="currentColor" style="display:inline-block;user-select:none;vertical-align:text-bottom;overflow:visible"><path d="m.427 1.927 1.215 1.215a8.002 8.002 0 1 1-1.6 5.685.75.75 0 1 1 1.493-.154 6.5 6.5 0 1 0 1.18-4.458l1.358 1.358A.25.25 0 0 1 3.896 6H.25A.25.25 0 0 1 0 5.75V2.104a.25.25 0 0 1 .427-.177ZM7.75 4a.75.75 0 0 1 .75.75v2.992l2.028.812a.75.75 0 0 1-.557 1.392l-2.5-1A.751.751 0 0 1 7 8.25v-3.5A.75.75 0 0 1 7.75 4Z"></path></svg></span></span></a></span></div></div></div></div></div><div class="Box-sc-g0xbh4-0 iJmJly"><div class="Box-sc-g0xbh4-0 jACbi container"><div class="Box-sc-g0xbh4-0 gIJuDf react-code-size-details-banner"><div class="Box-sc-g0xbh4-0 fleZSW react-code-size-details-banner"><div class="Box-sc-g0xbh4-0 BnySK text-mono"><div title="158 KB" data-testid="blob-size" class="Truncate__StyledTruncate-sc-23o1d2-0 fUpWeN"><span class="Text-sc-17v1xeu-0 gPDEWA">1544 lines (1544 loc) · 158 KB</span></div></div></div></div><div class="Box-sc-g0xbh4-0 VHzRk react-blob-view-header-sticky" id="repos-sticky-header"><div class="Box-sc-g0xbh4-0 ePiodO"><div class="Box-sc-g0xbh4-0 react-blob-sticky-header"><div class="Box-sc-g0xbh4-0 kQJlnf"><div class="Box-sc-g0xbh4-0 nSWSp"><div class="Box-sc-g0xbh4-0 lhFvfi"><div class="Box-sc-g0xbh4-0 doiYd"><button type="button" id="branch-picker-repos-header-ref-selector" aria-haspopup="true" tabindex="0" aria-label="main branch" data-testid="anchor-button" class="types__StyledButton-sc-ws60qy-0 hILMMl ref-selector-class"><span data-component="buttonContent" class="Box-sc-g0xbh4-0 kkrdEu"><span data-component="text"><div class="Box-sc-g0xbh4-0 bKgizp"><div class="Box-sc-g0xbh4-0 iPGYsi"><svg aria-hidden="true" focusable="false" role="img" class="octicon octicon-git-branch" viewBox="0 0 16 16" width="16" height="16" fill="currentColor" style="display:inline-block;user-select:none;vertical-align:text-bottom;overflow:visible"><path d="M9.5 3.25a2.25 2.25 0 1 1 3 2.122V6A2.5 2.5 0 0 1 10 8.5H6a1 1 0 0 0-1 1v1.128a2.251 2.251 0 1 1-1.5 0V5.372a2.25 2.25 0 1 1 1.5 0v1.836A2.493 2.493 0 0 1 6 7h4a1 1 0 0 0 1-1v-.628A2.25 2.25 0 0 1 9.5 3.25Zm-6 0a.75.75 0 1 0 1.5 0 .75.75 0 0 0-1.5 0Zm8.25-.75a.75.75 0 1 0 0 1.5.75.75 0 0 0 0-1.5ZM4.25 12a.75.75 0 1 0 0 1.5.75.75 0 0 0 0-1.5Z"></path></svg></div><div class="Box-sc-g0xbh4-0 dKmYfk ref-selector-button-text-container"><span class="Text-sc-17v1xeu-0 bOMzPg"> <!-- -->main</span></div></div></span><span data-component="trailingVisual" class="Box-sc-g0xbh4-0 trpoQ"><svg aria-hidden="true" focusable="false" role="img" class="octicon octicon-triangle-down" viewBox="0 0 16 16" width="16" height="16" fill="currentColor" style="display:inline-block;user-select:none;vertical-align:text-bottom;overflow:visible"><path d="m4.427 7.427 3.396 3.396a.25.25 0 0 0 .354 0l3.396-3.396A.25.25 0 0 0 11.396 7H4.604a.25.25 0 0 0-.177.427Z"></path></svg></span></span></button><button hidden="" data-hotkey-scope="read-only-cursor-text-area"></button></div><div class="Box-sc-g0xbh4-0 jKPiSV"><div class="Box-sc-g0xbh4-0 iZJewz"><nav data-testid="breadcrumbs" aria-labelledby="sticky-breadcrumb-heading" id="sticky-breadcrumb" class="Box-sc-g0xbh4-0 kzRgrI"><h2 class="Heading__StyledHeading-sc-1c1dgg0-0 cgQnMS sr-only" data-testid="screen-reader-heading" id="sticky-breadcrumb-heading">Breadcrumbs</h2><ol class="Box-sc-g0xbh4-0 cmAPIB"><li class="Box-sc-g0xbh4-0 jwXCBK"><a sx="[object Object]" data-testid="breadcrumbs-repo-link" class="Link__StyledLink-sc-14289xe-0 ipyMWB" href="/Arijit1080/Licence-Plate-Detection-using-YOLO-V8/tree/main">Licence-Plate-Detection-using-YOLO-V8</a></li></ol></nav><div data-testid="breadcrumbs-filename" class="Box-sc-g0xbh4-0 jwXCBK"><span aria-hidden="true" class="Text-sc-17v1xeu-0 cYjMDB">/</span><h1 tabindex="-1" id="sticky-file-name-id" class="Heading__StyledHeading-sc-1c1dgg0-0 jAEDJk">Licence_Plate_Detection_YOLO_V8.ipynb</h1></div></div></div></div><button style="--button-color:fg.default" type="button" data-size="small" class="types__StyledButton-sc-ws60qy-0 gfKkfV"><span data-component="buttonContent" class="Box-sc-g0xbh4-0 kkrdEu"><span data-component="leadingVisual" class="Box-sc-g0xbh4-0 trpoQ"><svg aria-hidden="true" focusable="false" role="img" class="octicon octicon-arrow-up" viewBox="0 0 16 16" width="16" height="16" fill="currentColor" style="display:inline-block;user-select:none;vertical-align:text-bottom;overflow:visible"><path d="M3.47 7.78a.75.75 0 0 1 0-1.06l4.25-4.25a.75.75 0 0 1 1.06 0l4.25 4.25a.751.751 0 0 1-.018 1.042.751.751 0 0 1-1.042.018L9 4.81v7.44a.75.75 0 0 1-1.5 0V4.81L4.53 7.78a.75.75 0 0 1-1.06 0Z"></path></svg></span><span data-component="text">Top</span></span></button></div></div></div><div class="Box-sc-g0xbh4-0 jfjHXm"><h2 class="Heading__StyledHeading-sc-1c1dgg0-0 cgQnMS sr-only" data-testid="screen-reader-heading">File metadata and controls</h2><div class="Box-sc-g0xbh4-0 bfkNRF"><ul aria-label="File view" class="SegmentedControl__SegmentedControlList-sc-1rzig82-0 huxtnT"><li class="Box-sc-g0xbh4-0 fXBLEV"><button aria-current="true" class="SegmentedControlButton__SegmentedControlButtonStyled-sc-8lkgxl-0 jEdVkE"><span class="segmentedControl-content"><div class="Box-sc-g0xbh4-0 segmentedControl-text">Preview</div></span></button></li><li class="Box-sc-g0xbh4-0 gMPsNT"><button aria-current="false" class="SegmentedControlButton__SegmentedControlButtonStyled-sc-8lkgxl-0 TvbfG"><span class="segmentedControl-content"><div class="Box-sc-g0xbh4-0 segmentedControl-text">Code</div></span></button></li><li class="Box-sc-g0xbh4-0 gMPsNT"><button aria-current="false" class="SegmentedControlButton__SegmentedControlButtonStyled-sc-8lkgxl-0 fIktcg"><span class="segmentedControl-content"><div class="Box-sc-g0xbh4-0 segmentedControl-text">Blame</div></span></button></li></ul><button hidden="" data-testid="" data-hotkey-scope="read-only-cursor-text-area"></button><button hidden="" data-testid="" data-hotkey-scope="read-only-cursor-text-area"></button><button hidden="" data-testid="" data-hotkey-scope="read-only-cursor-text-area"></button><div class="Box-sc-g0xbh4-0 fleZSW react-code-size-details-in-header"><div class="Box-sc-g0xbh4-0 BnySK text-mono"><div title="158 KB" data-testid="blob-size" class="Truncate__StyledTruncate-sc-23o1d2-0 fUpWeN"><span class="Text-sc-17v1xeu-0 gPDEWA">1544 lines (1544 loc) · 158 KB</span></div></div></div></div><div class="Box-sc-g0xbh4-0 iBylDf"><div class="Box-sc-g0xbh4-0 kSGBPx react-blob-header-edit-and-raw-actions"><div class="ButtonGroup-sc-1gxhls1-0 cjbBGq"><a href="https://github.com/Arijit1080/Licence-Plate-Detection-using-YOLO-V8/raw/main/Licence_Plate_Detection_YOLO_V8.ipynb" data-testid="raw-button" data-size="small" data-no-visuals="true" class="types__StyledButton-sc-ws60qy-0 dTgfec"><span data-component="buttonContent" class="Box-sc-g0xbh4-0 kkrdEu"><span data-component="text">Raw</span></span></a><button data-component="IconButton" type="button" aria-label="Copy raw content" data-testid="copy-raw-button" data-size="small" data-no-visuals="true" class="types__StyledButton-sc-ws60qy-0 pyyxt"><svg aria-hidden="true" focusable="false" role="img" class="octicon octicon-copy" viewBox="0 0 16 16" width="16" height="16" fill="currentColor" style="display:inline-block;user-select:none;vertical-align:text-bottom;overflow:visible"><path d="M0 6.75C0 5.784.784 5 1.75 5h1.5a.75.75 0 0 1 0 1.5h-1.5a.25.25 0 0 0-.25.25v7.5c0 .138.112.25.25.25h7.5a.25.25 0 0 0 .25-.25v-1.5a.75.75 0 0 1 1.5 0v1.5A1.75 1.75 0 0 1 9.25 16h-7.5A1.75 1.75 0 0 1 0 14.25Z"></path><path d="M5 1.75C5 .784 5.784 0 6.75 0h7.5C15.216 0 16 .784 16 1.75v7.5A1.75 1.75 0 0 1 14.25 11h-7.5A1.75 1.75 0 0 1 5 9.25Zm1.75-.25a.25.25 0 0 0-.25.25v7.5c0 .138.112.25.25.25h7.5a.25.25 0 0 0 .25-.25v-7.5a.25.25 0 0 0-.25-.25Z"></path></svg></button><span role="tooltip" aria-label="Download raw file" id=":Rdcsptal9laeb:" class="Tooltip__TooltipBase-sc-17tf59c-0 gNgnVl tooltipped-n"><button data-component="IconButton" type="button" aria-label="Download raw content" data-testid="download-raw-button" data-size="small" data-no-visuals="true" class="types__StyledButton-sc-ws60qy-0 fmvlPZ"><svg aria-hidden="true" focusable="false" role="img" class="octicon octicon-download" viewBox="0 0 16 16" width="16" height="16" fill="currentColor" style="display:inline-block;user-select:none;vertical-align:text-bottom;overflow:visible"><path d="M2.75 14A1.75 1.75 0 0 1 1 12.25v-2.5a.75.75 0 0 1 1.5 0v2.5c0 .138.112.25.25.25h10.5a.25.25 0 0 0 .25-.25v-2.5a.75.75 0 0 1 1.5 0v2.5A1.75 1.75 0 0 1 13.25 14Z"></path><path d="M7.25 7.689V2a.75.75 0 0 1 1.5 0v5.689l1.97-1.969a.749.749 0 1 1 1.06 1.06l-3.25 3.25a.749.749 0 0 1-1.06 0L4.22 6.78a.749.749 0 1 1 1.06-1.06l1.97 1.969Z"></path></svg></button></span></div><button hidden="" data-testid="raw-button-shortcut" data-hotkey-scope="read-only-cursor-text-area"></button><button hidden="" data-testid="copy-raw-button-shortcut" data-hotkey-scope="read-only-cursor-text-area"></button><button hidden="" data-testid="download-raw-button-shortcut" data-hotkey-scope="read-only-cursor-text-area"></button></div><div class="Box-sc-g0xbh4-0 react-blob-header-edit-and-raw-actions-combined"><button data-component="IconButton" type="button" aria-label="Edit and raw actions" class="types__StyledButton-sc-ws60qy-0 dGDIQc js-blob-dropdown-click" title="More file actions" data-testid="more-file-actions-button" id=":Rnsptal9laeb:" aria-haspopup="true" tabindex="0" data-size="small" data-no-visuals="true"><svg aria-hidden="true" focusable="false" role="img" class="octicon octicon-kebab-horizontal" viewBox="0 0 16 16" width="16" height="16" fill="currentColor" style="display:inline-block;user-select:none;vertical-align:text-bottom;overflow:visible"><path d="M8 9a1.5 1.5 0 1 0 0-3 1.5 1.5 0 0 0 0 3ZM1.5 9a1.5 1.5 0 1 0 0-3 1.5 1.5 0 0 0 0 3Zm13 0a1.5 1.5 0 1 0 0-3 1.5 1.5 0 0 0 0 3Z"></path></svg></button></div></div></div></div><div></div></div><div class="Box-sc-g0xbh4-0 ytOJl"><section aria-labelledby="file-name-id-wide file-name-id-mobile" class="Box-sc-g0xbh4-0 eJsjkT"><!--$!--><template></template><div data-testid="suspense-spinner" class="Box-sc-g0xbh4-0 bAzdCq"><svg height="32px" width="32px" viewBox="0 0 16 16" fill="none" aria-label="Loading" class="Spinner__StyledSpinner-sc-1knt686-0 hPEVNM"><circle cx="8" cy="8" r="7" stroke="currentColor" stroke-opacity="0.25" stroke-width="2" vector-effect="non-scaling-stroke"></circle><path d="M15 8a7.002 7.002 0 00-7-7" stroke="currentColor" stroke-width="2" stroke-linecap="round" vector-effect="non-scaling-stroke"></path></svg></div><!--/$--></section></div></div></div> <!-- --> <!-- --> </div></div></div><div class="Box-sc-g0xbh4-0"></div></div></div></div></div><div id="find-result-marks-container" class="Box-sc-g0xbh4-0 aZrVR"></div><button hidden="" data-testid="" data-hotkey-scope="read-only-cursor-text-area"></button><button hidden=""></button></div> <!-- --> <!-- --> <!-- --> <script type="application/json" id="__PRIMER_DATA_:R0:__">{"resolvedServerColorMode":"day"}</script></div>
</react-app>
</turbo-frame>



  </div>

</turbo-frame>

    </main>
  </div>

  </div>

          <footer class="footer pt-8 pb-6 f6 color-fg-muted p-responsive" role="contentinfo" >
  <h2 class='sr-only'>Footer</h2>

  


  <div class="d-flex flex-justify-center flex-items-center flex-column-reverse flex-lg-row flex-wrap flex-lg-nowrap">
    <div class="d-flex flex-items-center flex-shrink-0 mx-2">
      <a aria-label="Homepage" title="GitHub" class="footer-octicon mr-2" href="https://github.com">
        <svg aria-hidden="true" height="24" viewBox="0 0 16 16" version="1.1" width="24" data-view-component="true" class="octicon octicon-mark-github">
    <path d="M8 0c4.42 0 8 3.58 8 8a8.013 8.013 0 0 1-5.45 7.59c-.4.08-.55-.17-.55-.38 0-.27.01-1.13.01-2.2 0-.75-.25-1.23-.54-1.48 1.78-.2 3.65-.88 3.65-3.95 0-.88-.31-1.59-.82-2.15.08-.2.36-1.02-.08-2.12 0 0-.67-.22-2.2.82-.64-.18-1.32-.27-2-.27-.68 0-1.36.09-2 .27-1.53-1.03-2.2-.82-2.2-.82-.44 1.1-.16 1.92-.08 2.12-.51.56-.82 1.28-.82 2.15 0 3.06 1.86 3.75 3.64 3.95-.23.2-.44.55-.51 1.07-.46.21-1.61.55-2.33-.66-.15-.24-.6-.83-1.23-.82-.67.01-.27.38.01.53.34.19.73.9.82 1.13.16.45.68 1.31 2.69.94 0 .67.01 1.3.01 1.49 0 .21-.15.45-.55.38A7.995 7.995 0 0 1 0 8c0-4.42 3.58-8 8-8Z"></path>
</svg>
</a>
      <span>
        &copy; 2024 GitHub,&nbsp;Inc.
      </span>
    </div>

    <nav aria-label="Footer">
      <h3 class="sr-only" id="sr-footer-heading">Footer navigation</h3>

      <ul class="list-style-none d-flex flex-justify-center flex-wrap mb-2 mb-lg-0" aria-labelledby="sr-footer-heading">

          <li class="mx-2">
            <a data-analytics-event="{&quot;category&quot;:&quot;Footer&quot;,&quot;action&quot;:&quot;go to Terms&quot;,&quot;label&quot;:&quot;text:terms&quot;}" href="https://docs.github.com/site-policy/github-terms/github-terms-of-service" data-view-component="true" class="Link--secondary Link">Terms</a>
          </li>

          <li class="mx-2">
            <a data-analytics-event="{&quot;category&quot;:&quot;Footer&quot;,&quot;action&quot;:&quot;go to privacy&quot;,&quot;label&quot;:&quot;text:privacy&quot;}" href="https://docs.github.com/site-policy/privacy-policies/github-privacy-statement" data-view-component="true" class="Link--secondary Link">Privacy</a>
          </li>

          <li class="mx-2">
            <a data-analytics-event="{&quot;category&quot;:&quot;Footer&quot;,&quot;action&quot;:&quot;go to security&quot;,&quot;label&quot;:&quot;text:security&quot;}" href="https://github.com/security" data-view-component="true" class="Link--secondary Link">Security</a>
          </li>

          <li class="mx-2">
            <a data-analytics-event="{&quot;category&quot;:&quot;Footer&quot;,&quot;action&quot;:&quot;go to status&quot;,&quot;label&quot;:&quot;text:status&quot;}" href="https://www.githubstatus.com/" data-view-component="true" class="Link--secondary Link">Status</a>
          </li>

          <li class="mx-2">
            <a data-analytics-event="{&quot;category&quot;:&quot;Footer&quot;,&quot;action&quot;:&quot;go to docs&quot;,&quot;label&quot;:&quot;text:docs&quot;}" href="https://docs.github.com/" data-view-component="true" class="Link--secondary Link">Docs</a>
          </li>

          <li class="mx-2">
            <a data-analytics-event="{&quot;category&quot;:&quot;Footer&quot;,&quot;action&quot;:&quot;go to contact&quot;,&quot;label&quot;:&quot;text:contact&quot;}" href="https://support.github.com?tags=dotcom-footer" data-view-component="true" class="Link--secondary Link">Contact</a>
          </li>

          <li class="mr-3" >
  <cookie-consent-link>
    <button type="button" class="Link--secondary underline-on-hover border-0 p-0 color-bg-transparent" data-action="click:cookie-consent-link#showConsentManagement">
      Manage cookies
    </button>
  </cookie-consent-link>
</li>

<li class="mr-3">
  <cookie-consent-link>
    <button type="button" class="Link--secondary underline-on-hover border-0 p-0 color-bg-transparent" data-action="click:cookie-consent-link#showConsentManagement">
      Do not share my personal information
    </button>
  </cookie-consent-link>
</li>

      </ul>
    </nav>
  </div>
</footer>




    <ghcc-consent id="ghcc" class="position-fixed bottom-0 left-0" style="z-index: 999999" data-initial-cookie-consent-allowed="" data-cookie-consent-required="false"></ghcc-consent>


  <div id="ajax-error-message" class="ajax-error-message flash flash-error" hidden>
    <svg aria-hidden="true" height="16" viewBox="0 0 16 16" version="1.1" width="16" data-view-component="true" class="octicon octicon-alert">
    <path d="M6.457 1.047c.659-1.234 2.427-1.234 3.086 0l6.082 11.378A1.75 1.75 0 0 1 14.082 15H1.918a1.75 1.75 0 0 1-1.543-2.575Zm1.763.707a.25.25 0 0 0-.44 0L1.698 13.132a.25.25 0 0 0 .22.368h12.164a.25.25 0 0 0 .22-.368Zm.53 3.996v2.5a.75.75 0 0 1-1.5 0v-2.5a.75.75 0 0 1 1.5 0ZM9 11a1 1 0 1 1-2 0 1 1 0 0 1 2 0Z"></path>
</svg>
    <button type="button" class="flash-close js-ajax-error-dismiss" aria-label="Dismiss error">
      <svg aria-hidden="true" height="16" viewBox="0 0 16 16" version="1.1" width="16" data-view-component="true" class="octicon octicon-x">
    <path d="M3.72 3.72a.75.75 0 0 1 1.06 0L8 6.94l3.22-3.22a.749.749 0 0 1 1.275.326.749.749 0 0 1-.215.734L9.06 8l3.22 3.22a.749.749 0 0 1-.326 1.275.749.749 0 0 1-.734-.215L8 9.06l-3.22 3.22a.751.751 0 0 1-1.042-.018.751.751 0 0 1-.018-1.042L6.94 8 3.72 4.78a.75.75 0 0 1 0-1.06Z"></path>
</svg>
    </button>
    You can’t perform that action at this time.
  </div>

    <template id="site-details-dialog">
  <details class="details-reset details-overlay details-overlay-dark lh-default color-fg-default hx_rsm" open>
    <summary role="button" aria-label="Close dialog"></summary>
    <details-dialog class="Box Box--overlay d-flex flex-column anim-fade-in fast hx_rsm-dialog hx_rsm-modal">
      <button class="Box-btn-octicon m-0 btn-octicon position-absolute right-0 top-0" type="button" aria-label="Close dialog" data-close-dialog>
        <svg aria-hidden="true" height="16" viewBox="0 0 16 16" version="1.1" width="16" data-view-component="true" class="octicon octicon-x">
    <path d="M3.72 3.72a.75.75 0 0 1 1.06 0L8 6.94l3.22-3.22a.749.749 0 0 1 1.275.326.749.749 0 0 1-.215.734L9.06 8l3.22 3.22a.749.749 0 0 1-.326 1.275.749.749 0 0 1-.734-.215L8 9.06l-3.22 3.22a.751.751 0 0 1-1.042-.018.751.751 0 0 1-.018-1.042L6.94 8 3.72 4.78a.75.75 0 0 1 0-1.06Z"></path>
</svg>
      </button>
      <div class="octocat-spinner my-6 js-details-dialog-spinner"></div>
    </details-dialog>
  </details>
</template>

    <div class="Popover js-hovercard-content position-absolute" style="display: none; outline: none;" tabindex="0">
  <div class="Popover-message Popover-message--bottom-left Popover-message--large Box color-shadow-large" style="width:360px;">
  </div>
</div>

    <template id="snippet-clipboard-copy-button">
  <div class="zeroclipboard-container position-absolute right-0 top-0">
    <clipboard-copy aria-label="Copy" class="ClipboardButton btn js-clipboard-copy m-2 p-0 tooltipped-no-delay" data-copy-feedback="Copied!" data-tooltip-direction="w">
      <svg aria-hidden="true" height="16" viewBox="0 0 16 16" version="1.1" width="16" data-view-component="true" class="octicon octicon-copy js-clipboard-copy-icon m-2">
    <path d="M0 6.75C0 5.784.784 5 1.75 5h1.5a.75.75 0 0 1 0 1.5h-1.5a.25.25 0 0 0-.25.25v7.5c0 .138.112.25.25.25h7.5a.25.25 0 0 0 .25-.25v-1.5a.75.75 0 0 1 1.5 0v1.5A1.75 1.75 0 0 1 9.25 16h-7.5A1.75 1.75 0 0 1 0 14.25Z"></path><path d="M5 1.75C5 .784 5.784 0 6.75 0h7.5C15.216 0 16 .784 16 1.75v7.5A1.75 1.75 0 0 1 14.25 11h-7.5A1.75 1.75 0 0 1 5 9.25Zm1.75-.25a.25.25 0 0 0-.25.25v7.5c0 .138.112.25.25.25h7.5a.25.25 0 0 0 .25-.25v-7.5a.25.25 0 0 0-.25-.25Z"></path>
</svg>
      <svg aria-hidden="true" height="16" viewBox="0 0 16 16" version="1.1" width="16" data-view-component="true" class="octicon octicon-check js-clipboard-check-icon color-fg-success d-none m-2">
    <path d="M13.78 4.22a.75.75 0 0 1 0 1.06l-7.25 7.25a.75.75 0 0 1-1.06 0L2.22 9.28a.751.751 0 0 1 .018-1.042.751.751 0 0 1 1.042-.018L6 10.94l6.72-6.72a.75.75 0 0 1 1.06 0Z"></path>
</svg>
    </clipboard-copy>
  </div>
</template>
<template id="snippet-clipboard-copy-button-unpositioned">
  <div class="zeroclipboard-container">
    <clipboard-copy aria-label="Copy" class="ClipboardButton btn btn-invisible js-clipboard-copy m-2 p-0 tooltipped-no-delay d-flex flex-justify-center flex-items-center" data-copy-feedback="Copied!" data-tooltip-direction="w">
      <svg aria-hidden="true" height="16" viewBox="0 0 16 16" version="1.1" width="16" data-view-component="true" class="octicon octicon-copy js-clipboard-copy-icon">
    <path d="M0 6.75C0 5.784.784 5 1.75 5h1.5a.75.75 0 0 1 0 1.5h-1.5a.25.25 0 0 0-.25.25v7.5c0 .138.112.25.25.25h7.5a.25.25 0 0 0 .25-.25v-1.5a.75.75 0 0 1 1.5 0v1.5A1.75 1.75 0 0 1 9.25 16h-7.5A1.75 1.75 0 0 1 0 14.25Z"></path><path d="M5 1.75C5 .784 5.784 0 6.75 0h7.5C15.216 0 16 .784 16 1.75v7.5A1.75 1.75 0 0 1 14.25 11h-7.5A1.75 1.75 0 0 1 5 9.25Zm1.75-.25a.25.25 0 0 0-.25.25v7.5c0 .138.112.25.25.25h7.5a.25.25 0 0 0 .25-.25v-7.5a.25.25 0 0 0-.25-.25Z"></path>
</svg>
      <svg aria-hidden="true" height="16" viewBox="0 0 16 16" version="1.1" width="16" data-view-component="true" class="octicon octicon-check js-clipboard-check-icon color-fg-success d-none">
    <path d="M13.78 4.22a.75.75 0 0 1 0 1.06l-7.25 7.25a.75.75 0 0 1-1.06 0L2.22 9.28a.751.751 0 0 1 .018-1.042.751.751 0 0 1 1.042-.018L6 10.94l6.72-6.72a.75.75 0 0 1 1.06 0Z"></path>
</svg>
    </clipboard-copy>
  </div>
</template>




    </div>

    <div id="js-global-screen-reader-notice" class="sr-only" aria-live="polite" aria-atomic="true" ></div>
    <div id="js-global-screen-reader-notice-assertive" class="sr-only" aria-live="assertive" aria-atomic="true"></div>
  </body>
</html>

